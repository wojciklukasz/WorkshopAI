{
 "cells": [
  {
   "cell_type": "code",
   "execution_count": 51,
   "metadata": {
    "collapsed": true
   },
   "outputs": [],
   "source": [
    "import pandas as pd\n",
    "from sklearn.model_selection import train_test_split\n",
    "from sklearn.ensemble import RandomForestRegressor\n",
    "from sklearn.metrics import mean_squared_error, mean_absolute_error, r2_score"
   ]
  },
  {
   "cell_type": "code",
   "execution_count": 52,
   "outputs": [],
   "source": [
    "def get_score(true_values, predicted_values):\n",
    "    mae_ = mean_absolute_error(true_values, predicted_values)\n",
    "    mse_ = mean_squared_error(true_values, predicted_values)\n",
    "    r2_ = r2_score(true_values, predicted_values)\n",
    "\n",
    "    return mae_, mse_, r2_"
   ],
   "metadata": {
    "collapsed": false
   }
  },
  {
   "cell_type": "markdown",
   "source": [
    "# Loading data"
   ],
   "metadata": {
    "collapsed": false
   }
  },
  {
   "cell_type": "markdown",
   "source": [
    "### All values (positive, negative, neutral)"
   ],
   "metadata": {
    "collapsed": false
   }
  },
  {
   "cell_type": "code",
   "execution_count": 53,
   "outputs": [],
   "source": [
    "dataset = pd.read_csv('dataset.csv')"
   ],
   "metadata": {
    "collapsed": false
   }
  },
  {
   "cell_type": "code",
   "execution_count": 54,
   "outputs": [],
   "source": [
    "data = dataset.iloc[:, :-2]\n",
    "labels = dataset.iloc[:, -2:]\n",
    "\n",
    "data['COND'].replace(['-', '0', '+'], [-1, 0, 1], inplace=True)"
   ],
   "metadata": {
    "collapsed": false
   }
  },
  {
   "cell_type": "code",
   "execution_count": 55,
   "outputs": [],
   "source": [
    "data_train_full, data_test, labels_train_full, labels_test = train_test_split(data, labels, test_size=0.2, random_state=123)\n",
    "\n",
    "data_train, data_validation, labels_train, labels_validation = train_test_split(data_train_full, labels_train_full, test_size=0.2, random_state=123)\n",
    "\n",
    "data_train = data_train.loc[labels_train['ANS_AROUSAL'] != 1]\n",
    "data_train = data_train.loc[labels_train['ANS_AROUSAL'] != 5]\n",
    "data_train = data_train.loc[labels_train['ANS_AROUSAL'] != 9]\n",
    "labels_train = labels_train.loc[labels_train['ANS_AROUSAL'] != 1]\n",
    "labels_train = labels_train.loc[labels_train['ANS_AROUSAL'] != 5]\n",
    "labels_train = labels_train.loc[labels_train['ANS_AROUSAL'] != 9]\n",
    "\n",
    "data_train = data_train.loc[labels_train['ANS_VALENCE'] != 1]\n",
    "data_train = data_train.loc[labels_train['ANS_VALENCE'] != 5]\n",
    "data_train = data_train.loc[labels_train['ANS_VALENCE'] != 9]\n",
    "labels_train = labels_train.loc[labels_train['ANS_VALENCE'] != 1]\n",
    "labels_train = labels_train.loc[labels_train['ANS_VALENCE'] != 5]\n",
    "labels_train = labels_train.loc[labels_train['ANS_VALENCE'] != 9]"
   ],
   "metadata": {
    "collapsed": false
   }
  },
  {
   "cell_type": "markdown",
   "source": [
    "### Values without neutral"
   ],
   "metadata": {
    "collapsed": false
   }
  },
  {
   "cell_type": "code",
   "execution_count": 56,
   "outputs": [],
   "source": [
    "dataset_nn = dataset.loc[dataset['COND'] != '0']\n",
    "\n",
    "data_nn = dataset_nn.iloc[:, :-2]\n",
    "labels_nn = dataset_nn.iloc[:, -2:]\n",
    "\n",
    "data_nn['COND'].replace(['-', '0', '+'], [-1, 0, 1], inplace=True)"
   ],
   "metadata": {
    "collapsed": false
   }
  },
  {
   "cell_type": "code",
   "execution_count": 57,
   "outputs": [],
   "source": [
    "data_train_full_nn, data_test_nn, labels_train_full_nn, labels_test_nn = train_test_split(data_nn, labels_nn, test_size=0.2, random_state=123)\n",
    "\n",
    "data_train_nn, data_validation_nn, labels_train_nn, labels_validation_nn = train_test_split(data_train_full_nn, labels_train_full_nn, test_size=0.2, random_state=123)\n",
    "\n",
    "data_train_nn = data_train_nn.loc[labels_train_nn['ANS_AROUSAL'] != 1]\n",
    "data_train_nn = data_train_nn.loc[labels_train_nn['ANS_AROUSAL'] != 5]\n",
    "data_train_nn = data_train_nn.loc[labels_train_nn['ANS_AROUSAL'] != 9]\n",
    "labels_train_nn = labels_train_nn.loc[labels_train_nn['ANS_AROUSAL'] != 1]\n",
    "labels_train_nn = labels_train_nn.loc[labels_train_nn['ANS_AROUSAL'] != 5]\n",
    "labels_train_nn = labels_train_nn.loc[labels_train_nn['ANS_AROUSAL'] != 9]\n",
    "\n",
    "data_train_nn = data_train_nn.loc[labels_train_nn['ANS_VALENCE'] != 1]\n",
    "data_train_nn = data_train_nn.loc[labels_train_nn['ANS_VALENCE'] != 5]\n",
    "data_train_nn = data_train_nn.loc[labels_train_nn['ANS_VALENCE'] != 9]\n",
    "labels_train_nn = labels_train_nn.loc[labels_train_nn['ANS_VALENCE'] != 1]\n",
    "labels_train_nn = labels_train_nn.loc[labels_train_nn['ANS_VALENCE'] != 5]\n",
    "labels_train_nn = labels_train_nn.loc[labels_train_nn['ANS_VALENCE'] != 9]"
   ],
   "metadata": {
    "collapsed": false
   }
  },
  {
   "cell_type": "markdown",
   "source": [
    "# ANS_AROUSAL FaceAPI only"
   ],
   "metadata": {
    "collapsed": false
   }
  },
  {
   "cell_type": "code",
   "execution_count": 58,
   "outputs": [
    {
     "data": {
      "text/plain": "       ANGER  CONTEMPT  DISGUST  FEAR  HAPPINESS  NEUTRAL  SADNESS  SURPRISE\n44330    0.0       0.0      0.0   0.0        0.0    0.982    0.017     0.000\n62965    0.0       0.0      0.0   0.0        0.0    0.998    0.001     0.000\n28189    0.0       0.0      0.0   0.0        0.0    0.998    0.000     0.002\n36095    0.0       0.0      0.0   0.0        0.0    0.929    0.071     0.000\n31155    0.0       0.0      0.0   0.0        0.0    1.000    0.000     0.000",
      "text/html": "<div>\n<style scoped>\n    .dataframe tbody tr th:only-of-type {\n        vertical-align: middle;\n    }\n\n    .dataframe tbody tr th {\n        vertical-align: top;\n    }\n\n    .dataframe thead th {\n        text-align: right;\n    }\n</style>\n<table border=\"1\" class=\"dataframe\">\n  <thead>\n    <tr style=\"text-align: right;\">\n      <th></th>\n      <th>ANGER</th>\n      <th>CONTEMPT</th>\n      <th>DISGUST</th>\n      <th>FEAR</th>\n      <th>HAPPINESS</th>\n      <th>NEUTRAL</th>\n      <th>SADNESS</th>\n      <th>SURPRISE</th>\n    </tr>\n  </thead>\n  <tbody>\n    <tr>\n      <th>44330</th>\n      <td>0.0</td>\n      <td>0.0</td>\n      <td>0.0</td>\n      <td>0.0</td>\n      <td>0.0</td>\n      <td>0.982</td>\n      <td>0.017</td>\n      <td>0.000</td>\n    </tr>\n    <tr>\n      <th>62965</th>\n      <td>0.0</td>\n      <td>0.0</td>\n      <td>0.0</td>\n      <td>0.0</td>\n      <td>0.0</td>\n      <td>0.998</td>\n      <td>0.001</td>\n      <td>0.000</td>\n    </tr>\n    <tr>\n      <th>28189</th>\n      <td>0.0</td>\n      <td>0.0</td>\n      <td>0.0</td>\n      <td>0.0</td>\n      <td>0.0</td>\n      <td>0.998</td>\n      <td>0.000</td>\n      <td>0.002</td>\n    </tr>\n    <tr>\n      <th>36095</th>\n      <td>0.0</td>\n      <td>0.0</td>\n      <td>0.0</td>\n      <td>0.0</td>\n      <td>0.0</td>\n      <td>0.929</td>\n      <td>0.071</td>\n      <td>0.000</td>\n    </tr>\n    <tr>\n      <th>31155</th>\n      <td>0.0</td>\n      <td>0.0</td>\n      <td>0.0</td>\n      <td>0.0</td>\n      <td>0.0</td>\n      <td>1.000</td>\n      <td>0.000</td>\n      <td>0.000</td>\n    </tr>\n  </tbody>\n</table>\n</div>"
     },
     "execution_count": 58,
     "metadata": {},
     "output_type": "execute_result"
    }
   ],
   "source": [
    "data_train.iloc[:, :8].head()"
   ],
   "metadata": {
    "collapsed": false
   }
  },
  {
   "cell_type": "code",
   "execution_count": 59,
   "outputs": [
    {
     "name": "stdout",
     "output_type": "stream",
     "text": [
      "Training finished\n"
     ]
    }
   ],
   "source": [
    "rfr = RandomForestRegressor(random_state=0)\n",
    "\n",
    "rfr.fit(data_train.iloc[:, :8], labels_train.iloc[:, 1])\n",
    "print('Training finished')"
   ],
   "metadata": {
    "collapsed": false
   }
  },
  {
   "cell_type": "code",
   "execution_count": 60,
   "outputs": [
    {
     "name": "stdout",
     "output_type": "stream",
     "text": [
      "Values for validation set:\n",
      "MAE: 1.7163781625831083\n",
      "MSE: 4.652008127780545\n",
      "RMSE: 2.1568514385048743\n",
      "R2:  -0.0818242475048283\n"
     ]
    }
   ],
   "source": [
    "predictions = rfr.predict(data_validation.iloc[:, :8])\n",
    "\n",
    "mae, mse, r2 = get_score(labels_validation.iloc[:, 1], predictions)\n",
    "print(f'''Values for validation set:\\nMAE: {mae}\\nMSE: {mse}\\nRMSE: {mse**.5}\\nR2:  {r2}''')"
   ],
   "metadata": {
    "collapsed": false
   }
  },
  {
   "cell_type": "markdown",
   "source": [
    "# ANS_AROUSAL FaceAPI only no neutral values"
   ],
   "metadata": {
    "collapsed": false
   }
  },
  {
   "cell_type": "code",
   "execution_count": 61,
   "outputs": [
    {
     "name": "stdout",
     "output_type": "stream",
     "text": [
      "Training finished\n"
     ]
    }
   ],
   "source": [
    "rfr_nn = RandomForestRegressor(random_state=0)\n",
    "\n",
    "rfr_nn.fit(data_train_nn.iloc[:, :8], labels_train_nn.iloc[:, 1])\n",
    "print('Training finished')"
   ],
   "metadata": {
    "collapsed": false
   }
  },
  {
   "cell_type": "code",
   "execution_count": 62,
   "outputs": [
    {
     "name": "stdout",
     "output_type": "stream",
     "text": [
      "Values for validation set:\n",
      "MAE: 1.6567921005346171\n",
      "MSE: 4.3473772459589135\n",
      "RMSE: 2.0850365095026304\n",
      "R2:  -0.09282751036062264\n"
     ]
    }
   ],
   "source": [
    "predictions_nn = rfr_nn.predict(data_validation_nn.iloc[:, :8])\n",
    "\n",
    "mae_nn, mse_nn, r2_nn = get_score(labels_validation_nn.iloc[:, 1], predictions_nn)\n",
    "print(f'''Values for validation set:\\nMAE: {mae_nn}\\nMSE: {mse_nn}\\nRMSE: {mse_nn**.5}\\nR2:  {r2_nn}''')"
   ],
   "metadata": {
    "collapsed": false
   }
  },
  {
   "cell_type": "markdown",
   "source": [
    "# ANS_AROUSAL FaceAPI + Personality"
   ],
   "metadata": {
    "collapsed": false
   }
  },
  {
   "cell_type": "code",
   "execution_count": 63,
   "outputs": [
    {
     "data": {
      "text/plain": "       ANGER  CONTEMPT  DISGUST  FEAR  HAPPINESS  NEUTRAL  SADNESS  SURPRISE  \\\n44330    0.0       0.0      0.0   0.0        0.0    0.982    0.017     0.000   \n62965    0.0       0.0      0.0   0.0        0.0    0.998    0.001     0.000   \n28189    0.0       0.0      0.0   0.0        0.0    0.998    0.000     0.002   \n36095    0.0       0.0      0.0   0.0        0.0    0.929    0.071     0.000   \n31155    0.0       0.0      0.0   0.0        0.0    1.000    0.000     0.000   \n\n       OPENNESS  CONSCIENTIOUSNESS  NEUROTICISM  AGREEABLENESS  EXTRAVERSION  \n44330       3.0                6.0          4.0            7.0           7.0  \n62965       7.0                5.0          3.0            6.0           5.0  \n28189       3.0               10.0          5.0            7.0           7.0  \n36095       7.0               10.0          5.0            4.0           7.0  \n31155       6.0                4.0          7.0            8.0           5.0  ",
      "text/html": "<div>\n<style scoped>\n    .dataframe tbody tr th:only-of-type {\n        vertical-align: middle;\n    }\n\n    .dataframe tbody tr th {\n        vertical-align: top;\n    }\n\n    .dataframe thead th {\n        text-align: right;\n    }\n</style>\n<table border=\"1\" class=\"dataframe\">\n  <thead>\n    <tr style=\"text-align: right;\">\n      <th></th>\n      <th>ANGER</th>\n      <th>CONTEMPT</th>\n      <th>DISGUST</th>\n      <th>FEAR</th>\n      <th>HAPPINESS</th>\n      <th>NEUTRAL</th>\n      <th>SADNESS</th>\n      <th>SURPRISE</th>\n      <th>OPENNESS</th>\n      <th>CONSCIENTIOUSNESS</th>\n      <th>NEUROTICISM</th>\n      <th>AGREEABLENESS</th>\n      <th>EXTRAVERSION</th>\n    </tr>\n  </thead>\n  <tbody>\n    <tr>\n      <th>44330</th>\n      <td>0.0</td>\n      <td>0.0</td>\n      <td>0.0</td>\n      <td>0.0</td>\n      <td>0.0</td>\n      <td>0.982</td>\n      <td>0.017</td>\n      <td>0.000</td>\n      <td>3.0</td>\n      <td>6.0</td>\n      <td>4.0</td>\n      <td>7.0</td>\n      <td>7.0</td>\n    </tr>\n    <tr>\n      <th>62965</th>\n      <td>0.0</td>\n      <td>0.0</td>\n      <td>0.0</td>\n      <td>0.0</td>\n      <td>0.0</td>\n      <td>0.998</td>\n      <td>0.001</td>\n      <td>0.000</td>\n      <td>7.0</td>\n      <td>5.0</td>\n      <td>3.0</td>\n      <td>6.0</td>\n      <td>5.0</td>\n    </tr>\n    <tr>\n      <th>28189</th>\n      <td>0.0</td>\n      <td>0.0</td>\n      <td>0.0</td>\n      <td>0.0</td>\n      <td>0.0</td>\n      <td>0.998</td>\n      <td>0.000</td>\n      <td>0.002</td>\n      <td>3.0</td>\n      <td>10.0</td>\n      <td>5.0</td>\n      <td>7.0</td>\n      <td>7.0</td>\n    </tr>\n    <tr>\n      <th>36095</th>\n      <td>0.0</td>\n      <td>0.0</td>\n      <td>0.0</td>\n      <td>0.0</td>\n      <td>0.0</td>\n      <td>0.929</td>\n      <td>0.071</td>\n      <td>0.000</td>\n      <td>7.0</td>\n      <td>10.0</td>\n      <td>5.0</td>\n      <td>4.0</td>\n      <td>7.0</td>\n    </tr>\n    <tr>\n      <th>31155</th>\n      <td>0.0</td>\n      <td>0.0</td>\n      <td>0.0</td>\n      <td>0.0</td>\n      <td>0.0</td>\n      <td>1.000</td>\n      <td>0.000</td>\n      <td>0.000</td>\n      <td>6.0</td>\n      <td>4.0</td>\n      <td>7.0</td>\n      <td>8.0</td>\n      <td>5.0</td>\n    </tr>\n  </tbody>\n</table>\n</div>"
     },
     "execution_count": 63,
     "metadata": {},
     "output_type": "execute_result"
    }
   ],
   "source": [
    "data_train.iloc[:, :-1].head()"
   ],
   "metadata": {
    "collapsed": false
   }
  },
  {
   "cell_type": "code",
   "execution_count": 64,
   "outputs": [
    {
     "name": "stdout",
     "output_type": "stream",
     "text": [
      "Training finished\n"
     ]
    }
   ],
   "source": [
    "rfr_pers = RandomForestRegressor(random_state=0)\n",
    "\n",
    "rfr_pers.fit(data_train.iloc[:, :-1], labels_train.iloc[:, 1])\n",
    "print('Training finished')"
   ],
   "metadata": {
    "collapsed": false
   }
  },
  {
   "cell_type": "code",
   "execution_count": 65,
   "outputs": [
    {
     "name": "stdout",
     "output_type": "stream",
     "text": [
      "Values for validation set:\n",
      "MAE: 2.449599635355488\n",
      "MSE: 8.553965762014426\n",
      "RMSE: 2.9247163558222917\n",
      "R2:  -0.26400718318493266\n"
     ]
    }
   ],
   "source": [
    "predictions_pers = rfr_pers.predict(data_validation.iloc[:, :-1])\n",
    "\n",
    "mae_pers, mse_pers, r2_pers = get_score(labels_validation.iloc[:, :-1], predictions_pers)\n",
    "print(f'''Values for validation set:\\nMAE: {mae_pers}\\nMSE: {mse_pers}\\nRMSE: {mse_pers**.5}\\nR2:  {r2_pers}''')"
   ],
   "metadata": {
    "collapsed": false
   }
  },
  {
   "cell_type": "markdown",
   "source": [
    "# Both ANS FaceAPI only"
   ],
   "metadata": {
    "collapsed": false
   }
  },
  {
   "cell_type": "code",
   "execution_count": 66,
   "outputs": [
    {
     "name": "stdout",
     "output_type": "stream",
     "text": [
      "Training finished\n"
     ]
    }
   ],
   "source": [
    "rfr_both = RandomForestRegressor(random_state=0)\n",
    "\n",
    "rfr_both.fit(data_train.iloc[:, :8], labels_train)\n",
    "print('Training finished')"
   ],
   "metadata": {
    "collapsed": false
   }
  },
  {
   "cell_type": "code",
   "execution_count": 67,
   "outputs": [
    {
     "name": "stdout",
     "output_type": "stream",
     "text": [
      "Values for validation set:\n",
      "MAE: 1.9940882821772499\n",
      "MSE: 5.948592111735042\n",
      "RMSE: 2.4389735774983383\n",
      "R2:  -0.07581322668626733\n"
     ]
    }
   ],
   "source": [
    "predictions_both = rfr_both.predict(data_validation.iloc[:, :8])\n",
    "\n",
    "mae_both, mse_both, r2_both = get_score(labels_validation, predictions_both)\n",
    "print(f'''Values for validation set:\\nMAE: {mae_both}\\nMSE: {mse_both}\\nRMSE: {mse_both**.5}\\nR2:  {r2_both}''')"
   ],
   "metadata": {
    "collapsed": false
   }
  },
  {
   "cell_type": "markdown",
   "source": [
    "# Both ANS FaceAPI only no neutral values"
   ],
   "metadata": {
    "collapsed": false
   }
  },
  {
   "cell_type": "code",
   "execution_count": 68,
   "outputs": [
    {
     "name": "stdout",
     "output_type": "stream",
     "text": [
      "Training finished\n"
     ]
    }
   ],
   "source": [
    "rfr_nn_both = RandomForestRegressor(random_state=0)\n",
    "\n",
    "rfr_nn_both.fit(data_train_nn.iloc[:, :8], labels_train_nn)\n",
    "print('Training finished')"
   ],
   "metadata": {
    "collapsed": false
   }
  },
  {
   "cell_type": "code",
   "execution_count": 69,
   "outputs": [
    {
     "name": "stdout",
     "output_type": "stream",
     "text": [
      "Values for validation set:\n",
      "MAE: 2.0572041108162797\n",
      "MSE: 6.236241848074122\n",
      "RMSE: 2.4972468536518613\n",
      "R2:  -0.09234677571275218\n"
     ]
    }
   ],
   "source": [
    "predictions_nn_both = rfr_nn_both.predict(data_validation_nn.iloc[:, :8])\n",
    "\n",
    "mae_nn_both, mse_nn_both, r2_nn_both = get_score(labels_validation_nn, predictions_nn_both)\n",
    "print(f'''Values for validation set:\\nMAE: {mae_nn_both}\\nMSE: {mse_nn_both}\\nRMSE: {mse_nn_both**.5}\\nR2:  {r2_nn_both}''')"
   ],
   "metadata": {
    "collapsed": false
   }
  },
  {
   "cell_type": "markdown",
   "source": [
    "# Both ANS FaceAPI + Personality"
   ],
   "metadata": {
    "collapsed": false
   }
  },
  {
   "cell_type": "code",
   "execution_count": 70,
   "outputs": [
    {
     "name": "stdout",
     "output_type": "stream",
     "text": [
      "Training finished\n"
     ]
    }
   ],
   "source": [
    "rfr_pers_both = RandomForestRegressor(random_state=0)\n",
    "\n",
    "rfr_pers_both.fit(data_train.iloc[:, :-1], labels_train)\n",
    "print('Training finished')"
   ],
   "metadata": {
    "collapsed": false
   }
  },
  {
   "cell_type": "code",
   "execution_count": 71,
   "outputs": [
    {
     "name": "stdout",
     "output_type": "stream",
     "text": [
      "Values for validation set:\n",
      "MAE: 1.9804207840623045\n",
      "MSE: 6.1589296623328575\n",
      "RMSE: 2.481719094162927\n",
      "R2:  -0.11008669070903598\n"
     ]
    }
   ],
   "source": [
    "predictions_pers_both = rfr_pers_both.predict(data_validation.iloc[:, :-1])\n",
    "\n",
    "mae_pers_both, mse_pers_both, r2_pers_both = get_score(labels_validation, predictions_pers_both)\n",
    "print(f'''Values for validation set:\\nMAE: {mae_pers_both}\\nMSE: {mse_pers_both}\\nRMSE: {mse_pers_both**.5}\\nR2:  {r2_pers_both}''')"
   ],
   "metadata": {
    "collapsed": false
   }
  },
  {
   "cell_type": "markdown",
   "source": [
    "# Both ANS FaceAPI + Personality no neutral"
   ],
   "metadata": {
    "collapsed": false
   }
  },
  {
   "cell_type": "code",
   "execution_count": 72,
   "outputs": [
    {
     "name": "stdout",
     "output_type": "stream",
     "text": [
      "Training finished\n"
     ]
    }
   ],
   "source": [
    "rfr_pers_nn_both = RandomForestRegressor(random_state=0)\n",
    "\n",
    "rfr_pers_nn_both.fit(data_train_nn.iloc[:, :-1], labels_train_nn)\n",
    "print('Training finished')"
   ],
   "metadata": {
    "collapsed": false
   }
  },
  {
   "cell_type": "code",
   "execution_count": 73,
   "outputs": [
    {
     "name": "stdout",
     "output_type": "stream",
     "text": [
      "Values for validation set:\n",
      "MAE: 2.0572041108162797\n",
      "MSE: 6.236241848074122\n",
      "RMSE: 2.4972468536518613\n",
      "R2:  -0.09234677571275218\n"
     ]
    }
   ],
   "source": [
    "predictions_pers_nn_both = rfr_pers_nn_both.predict(data_validation_nn.iloc[:, :-1])\n",
    "\n",
    "mae_pers_nn_both, mse_pers_nn_both, r2_pers_nn_both = get_score(labels_validation_nn, predictions_nn_both)\n",
    "print(f'''Values for validation set:\\nMAE: {mae_pers_nn_both}\\nMSE: {mse_pers_nn_both}\\nRMSE: {mse_pers_nn_both**.5}\\nR2:  {r2_pers_nn_both}''')"
   ],
   "metadata": {
    "collapsed": false
   }
  },
  {
   "cell_type": "code",
   "execution_count": 73,
   "outputs": [],
   "source": [],
   "metadata": {
    "collapsed": false
   }
  }
 ],
 "metadata": {
  "kernelspec": {
   "display_name": "Python 3",
   "language": "python",
   "name": "python3"
  },
  "language_info": {
   "codemirror_mode": {
    "name": "ipython",
    "version": 2
   },
   "file_extension": ".py",
   "mimetype": "text/x-python",
   "name": "python",
   "nbconvert_exporter": "python",
   "pygments_lexer": "ipython2",
   "version": "2.7.6"
  }
 },
 "nbformat": 4,
 "nbformat_minor": 0
}
