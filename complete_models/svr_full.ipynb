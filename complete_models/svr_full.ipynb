{
 "cells": [
  {
   "cell_type": "code",
   "execution_count": 28,
   "metadata": {
    "collapsed": true
   },
   "outputs": [],
   "source": [
    "import pandas as pd\n",
    "from sklearn.model_selection import train_test_split\n",
    "from sklearn.svm import SVR\n",
    "from sklearn.metrics import mean_squared_error, mean_absolute_error, r2_score\n",
    "from sklearn.preprocessing import QuantileTransformer, MinMaxScaler"
   ]
  },
  {
   "cell_type": "code",
   "execution_count": 29,
   "outputs": [],
   "source": [
    "def get_score(true_values, predicted_values):\n",
    "    mae_ = mean_absolute_error(true_values, predicted_values)\n",
    "    mse_ = mean_squared_error(true_values, predicted_values)\n",
    "    r2_ = r2_score(true_values, predicted_values)\n",
    "\n",
    "    return mae_, mse_, r2_"
   ],
   "metadata": {
    "collapsed": false
   }
  },
  {
   "cell_type": "markdown",
   "source": [
    "# Loading data\n",
    "\n",
    "### Using only values for FaceAPI without neutral gave the best result"
   ],
   "metadata": {
    "collapsed": false
   }
  },
  {
   "cell_type": "code",
   "execution_count": 30,
   "outputs": [],
   "source": [
    "dataset = pd.read_csv('dataset.csv')"
   ],
   "metadata": {
    "collapsed": false
   }
  },
  {
   "cell_type": "code",
   "execution_count": 31,
   "outputs": [],
   "source": [
    "dataset = dataset.loc[dataset['COND'] != '0']\n",
    "\n",
    "data = dataset.iloc[:, :-3]\n",
    "labels = dataset.iloc[:, -2:]"
   ],
   "metadata": {
    "collapsed": false
   }
  },
  {
   "cell_type": "code",
   "execution_count": 32,
   "outputs": [],
   "source": [
    "data_train_full, data_test, labels_train_full, labels_test = train_test_split(data, labels, test_size=0.2, random_state=123)\n",
    "\n",
    "data_train, data_validation, labels_train, labels_validation = train_test_split(data_train_full, labels_train_full, test_size=0.2, random_state=123)\n",
    "\n",
    "data_train = data_train.loc[labels_train['ANS_AROUSAL'] != 1]\n",
    "data_train = data_train.loc[labels_train['ANS_AROUSAL'] != 5]\n",
    "data_train = data_train.loc[labels_train['ANS_AROUSAL'] != 9]\n",
    "labels_train = labels_train.loc[labels_train['ANS_AROUSAL'] != 1]\n",
    "labels_train = labels_train.loc[labels_train['ANS_AROUSAL'] != 5]\n",
    "labels_train = labels_train.loc[labels_train['ANS_AROUSAL'] != 9]\n",
    "\n",
    "data_train = data_train.loc[labels_train['ANS_VALENCE'] != 1]\n",
    "data_train = data_train.loc[labels_train['ANS_VALENCE'] != 5]\n",
    "data_train = data_train.loc[labels_train['ANS_VALENCE'] != 9]\n",
    "labels_train = labels_train.loc[labels_train['ANS_VALENCE'] != 1]\n",
    "labels_train = labels_train.loc[labels_train['ANS_VALENCE'] != 5]\n",
    "labels_train = labels_train.loc[labels_train['ANS_VALENCE'] != 9]"
   ],
   "metadata": {
    "collapsed": false
   }
  },
  {
   "cell_type": "markdown",
   "source": [
    "# Scaling personality values to range 0 - 1"
   ],
   "metadata": {
    "collapsed": false
   }
  },
  {
   "cell_type": "code",
   "execution_count": 33,
   "outputs": [],
   "source": [
    "mms = MinMaxScaler()\n",
    "\n",
    "data_train_mms = mms.fit_transform(data_train)\n",
    "data_train_mms = pd.DataFrame(data_train_mms, columns=data_train.columns)\n",
    "data_validation_mms = mms.fit_transform(data_validation)\n",
    "data_validation_mms = pd.DataFrame(data_validation_mms, columns=data_validation.columns)"
   ],
   "metadata": {
    "collapsed": false
   }
  },
  {
   "cell_type": "markdown",
   "source": [
    "# Scaling input values to Gaussian distributions"
   ],
   "metadata": {
    "collapsed": false
   }
  },
  {
   "cell_type": "code",
   "execution_count": 34,
   "outputs": [],
   "source": [
    "quantile_transformer = QuantileTransformer(output_distribution='normal', random_state=0)\n",
    "data_train_qt = quantile_transformer.fit_transform(data_train_mms)\n",
    "data_train_qt = pd.DataFrame(data_train_qt, columns=data_train_mms.columns)\n",
    "data_validation_qt = quantile_transformer.fit_transform(data_validation_mms)\n",
    "data_validation_qt = pd.DataFrame(data_validation_qt, columns=data_validation_mms.columns)"
   ],
   "metadata": {
    "collapsed": false
   }
  },
  {
   "cell_type": "markdown",
   "source": [
    "# Training"
   ],
   "metadata": {
    "collapsed": false
   }
  },
  {
   "cell_type": "code",
   "execution_count": 35,
   "outputs": [
    {
     "name": "stdout",
     "output_type": "stream",
     "text": [
      "Training finished\n"
     ]
    }
   ],
   "source": [
    "svr = SVR(kernel='rbf')\n",
    "\n",
    "svr.fit(data_train_qt, labels_train.iloc[:, 1])\n",
    "print('Training finished')"
   ],
   "metadata": {
    "collapsed": false
   }
  },
  {
   "cell_type": "code",
   "execution_count": 36,
   "outputs": [
    {
     "name": "stdout",
     "output_type": "stream",
     "text": [
      "Values for validation set:\n",
      "MAE: 1.5398652188517372\n",
      "MSE: 3.847019718954885\n",
      "RMSE: 1.9613820940741977\n",
      "R2:  0.032950502355961864\n"
     ]
    }
   ],
   "source": [
    "predictions = svr.predict(data_validation_qt)\n",
    "\n",
    "mae, mse, r2 = get_score(labels_validation.iloc[:, 1], predictions)\n",
    "print(f'''Values for validation set:\\nMAE: {mae}\\nMSE: {mse}\\nRMSE: {mse**.5}\\nR2:  {r2}''')"
   ],
   "metadata": {
    "collapsed": false
   }
  },
  {
   "cell_type": "markdown",
   "source": [
    "# Using full dataset"
   ],
   "metadata": {
    "collapsed": false
   }
  },
  {
   "cell_type": "code",
   "execution_count": 37,
   "outputs": [],
   "source": [
    "dataset = pd.read_csv('dataset_full.csv')\n",
    "dataset = dataset.loc[dataset['COND'] != '0']\n",
    "\n",
    "data = dataset.iloc[:, :-3]\n",
    "labels = dataset.iloc[:, -2:]\n",
    "data_train_full, data_test, labels_train_full, labels_test = train_test_split(data, labels, test_size=0.2,\n",
    "                                                                              random_state=123)\n",
    "\n",
    "data_train, data_validation, labels_train, labels_validation = train_test_split(data_train_full, labels_train_full,\n",
    "                                                                                test_size=0.2, random_state=123)\n",
    "\n",
    "data_train = data_train.loc[labels_train['ANS_AROUSAL'] != 1]\n",
    "data_train = data_train.loc[labels_train['ANS_AROUSAL'] != 5]\n",
    "data_train = data_train.loc[labels_train['ANS_AROUSAL'] != 9]\n",
    "labels_train = labels_train.loc[labels_train['ANS_AROUSAL'] != 1]\n",
    "labels_train = labels_train.loc[labels_train['ANS_AROUSAL'] != 5]\n",
    "labels_train = labels_train.loc[labels_train['ANS_AROUSAL'] != 9]\n",
    "\n",
    "data_train = data_train.loc[labels_train['ANS_VALENCE'] != 1]\n",
    "data_train = data_train.loc[labels_train['ANS_VALENCE'] != 5]\n",
    "data_train = data_train.loc[labels_train['ANS_VALENCE'] != 9]\n",
    "labels_train = labels_train.loc[labels_train['ANS_VALENCE'] != 1]\n",
    "labels_train = labels_train.loc[labels_train['ANS_VALENCE'] != 5]\n",
    "labels_train = labels_train.loc[labels_train['ANS_VALENCE'] != 9]"
   ],
   "metadata": {
    "collapsed": false
   }
  },
  {
   "cell_type": "code",
   "execution_count": 38,
   "outputs": [],
   "source": [
    "mms = MinMaxScaler()\n",
    "\n",
    "data_train_mms = mms.fit_transform(data_train)\n",
    "data_train_mms = pd.DataFrame(data_train_mms, columns=data_train.columns)\n",
    "data_validation_mms = mms.fit_transform(data_validation)\n",
    "data_validation_mms = pd.DataFrame(data_validation_mms, columns=data_validation.columns)"
   ],
   "metadata": {
    "collapsed": false
   }
  },
  {
   "cell_type": "code",
   "execution_count": 39,
   "outputs": [],
   "source": [
    "quantile_transformer = QuantileTransformer(output_distribution='normal', random_state=0)\n",
    "data_train_qt = quantile_transformer.fit_transform(data_train_mms)\n",
    "data_train_qt = pd.DataFrame(data_train_qt, columns=data_train_mms.columns)\n",
    "data_validation_qt = quantile_transformer.fit_transform(data_validation_mms)\n",
    "data_validation_qt = pd.DataFrame(data_validation_qt, columns=data_validation_mms.columns)"
   ],
   "metadata": {
    "collapsed": false
   }
  },
  {
   "cell_type": "code",
   "execution_count": 40,
   "outputs": [
    {
     "name": "stdout",
     "output_type": "stream",
     "text": [
      "Training finished\n"
     ]
    }
   ],
   "source": [
    "svr = SVR(kernel='rbf')\n",
    "\n",
    "svr.fit(data_train_qt, labels_train.iloc[:, 1])\n",
    "print('Training finished')"
   ],
   "metadata": {
    "collapsed": false
   }
  },
  {
   "cell_type": "code",
   "execution_count": 41,
   "outputs": [
    {
     "name": "stdout",
     "output_type": "stream",
     "text": [
      "Values for validation set:\n",
      "MAE: 1.5443494190562952\n",
      "MSE: 3.8856973584735766\n",
      "RMSE: 1.9712172276219526\n",
      "R2:  0.045344096622913166\n"
     ]
    }
   ],
   "source": [
    "predictions = svr.predict(data_validation_qt)\n",
    "\n",
    "mae, mse, r2 = get_score(labels_validation.iloc[:, 1], predictions)\n",
    "print(f'''Values for validation set:\\nMAE: {mae}\\nMSE: {mse}\\nRMSE: {mse**.5}\\nR2:  {r2}''')"
   ],
   "metadata": {
    "collapsed": false
   }
  },
  {
   "cell_type": "code",
   "execution_count": 41,
   "outputs": [],
   "source": [],
   "metadata": {
    "collapsed": false
   }
  }
 ],
 "metadata": {
  "kernelspec": {
   "display_name": "Python 3",
   "language": "python",
   "name": "python3"
  },
  "language_info": {
   "codemirror_mode": {
    "name": "ipython",
    "version": 2
   },
   "file_extension": ".py",
   "mimetype": "text/x-python",
   "name": "python",
   "nbconvert_exporter": "python",
   "pygments_lexer": "ipython2",
   "version": "2.7.6"
  }
 },
 "nbformat": 4,
 "nbformat_minor": 0
}
