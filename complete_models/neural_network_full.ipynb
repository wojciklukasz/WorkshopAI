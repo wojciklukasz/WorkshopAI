{
 "cells": [
  {
   "cell_type": "code",
   "execution_count": 32,
   "metadata": {
    "collapsed": true
   },
   "outputs": [],
   "source": [
    "import pandas as pd\n",
    "from sklearn.model_selection import train_test_split\n",
    "from sklearn.metrics import mean_squared_error, mean_absolute_error, r2_score\n",
    "from sklearn.preprocessing import QuantileTransformer, MinMaxScaler\n",
    "import tensorflow as tf\n",
    "from pathlib import Path\n",
    "from time import strftime"
   ]
  },
  {
   "cell_type": "code",
   "execution_count": 33,
   "outputs": [
    {
     "name": "stdout",
     "output_type": "stream",
     "text": [
      "The tensorboard extension is already loaded. To reload it, use:\n",
      "  %reload_ext tensorboard\n"
     ]
    },
    {
     "data": {
      "text/plain": "Launching TensorBoard..."
     },
     "metadata": {},
     "output_type": "display_data"
    },
    {
     "data": {
      "text/plain": "<IPython.core.display.HTML object>",
      "text/html": "\n      <iframe id=\"tensorboard-frame-309433635373a3b2\" width=\"100%\" height=\"800\" frameborder=\"0\">\n      </iframe>\n      <script>\n        (function() {\n          const frame = document.getElementById(\"tensorboard-frame-309433635373a3b2\");\n          const url = new URL(\"/\", window.location);\n          const port = 6006;\n          if (port) {\n            url.port = port;\n          }\n          frame.src = url;\n        })();\n      </script>\n    "
     },
     "metadata": {},
     "output_type": "display_data"
    },
    {
     "name": "stdout",
     "output_type": "stream",
     "text": [
      "Tensorboard launched at localhost:6006\n"
     ]
    }
   ],
   "source": [
    "%load_ext tensorboard\n",
    "%tensorboard --logdir=./my_logs\n",
    "print('Tensorboard launched at localhost:6006')"
   ],
   "metadata": {
    "collapsed": false
   }
  },
  {
   "cell_type": "code",
   "execution_count": 34,
   "outputs": [
    {
     "name": "stdout",
     "output_type": "stream",
     "text": [
      "Num GPUs Available:  1\n"
     ]
    }
   ],
   "source": [
    "print(\"Num GPUs Available: \", len(tf.config.list_physical_devices('GPU')))"
   ],
   "metadata": {
    "collapsed": false
   }
  },
  {
   "cell_type": "code",
   "execution_count": 35,
   "outputs": [],
   "source": [
    "def get_run_dir(root='my_logs'):\n",
    "    return Path(root) / strftime('run_%Y_%m_%d_%H_%M_%S')"
   ],
   "metadata": {
    "collapsed": false
   }
  },
  {
   "cell_type": "code",
   "execution_count": 36,
   "outputs": [],
   "source": [
    "def get_score(true_values, predicted_values):\n",
    "    mae_ = mean_absolute_error(true_values, predicted_values)\n",
    "    mse_ = mean_squared_error(true_values, predicted_values)\n",
    "    r2_ = r2_score(true_values, predicted_values)\n",
    "\n",
    "    return mae_, mse_, r2_"
   ],
   "metadata": {
    "collapsed": false
   }
  },
  {
   "cell_type": "markdown",
   "source": [
    "# Loading data"
   ],
   "metadata": {
    "collapsed": false
   }
  },
  {
   "cell_type": "code",
   "execution_count": 37,
   "outputs": [],
   "source": [
    "dataset = pd.read_csv('dataset.csv')"
   ],
   "metadata": {
    "collapsed": false
   }
  },
  {
   "cell_type": "code",
   "execution_count": 38,
   "outputs": [],
   "source": [
    "dataset = dataset.loc[dataset['COND'] != '0']\n",
    "\n",
    "data = dataset.iloc[:, :-3]\n",
    "labels = dataset.iloc[:, -2:]"
   ],
   "metadata": {
    "collapsed": false
   }
  },
  {
   "cell_type": "code",
   "execution_count": 39,
   "outputs": [],
   "source": [
    "data_train_full, data_test, labels_train_full, labels_test = train_test_split(data, labels, test_size=0.2, random_state=123)\n",
    "\n",
    "data_train, data_validation, labels_train, labels_validation = train_test_split(data_train_full, labels_train_full, test_size=0.2, random_state=123)\n",
    "\n",
    "data_train = data_train.loc[labels_train['ANS_AROUSAL'] != 1]\n",
    "data_train = data_train.loc[labels_train['ANS_AROUSAL'] != 5]\n",
    "data_train = data_train.loc[labels_train['ANS_AROUSAL'] != 9]\n",
    "labels_train = labels_train.loc[labels_train['ANS_AROUSAL'] != 1]\n",
    "labels_train = labels_train.loc[labels_train['ANS_AROUSAL'] != 5]\n",
    "labels_train = labels_train.loc[labels_train['ANS_AROUSAL'] != 9]\n",
    "\n",
    "data_train = data_train.loc[labels_train['ANS_VALENCE'] != 1]\n",
    "data_train = data_train.loc[labels_train['ANS_VALENCE'] != 5]\n",
    "data_train = data_train.loc[labels_train['ANS_VALENCE'] != 9]\n",
    "labels_train = labels_train.loc[labels_train['ANS_VALENCE'] != 1]\n",
    "labels_train = labels_train.loc[labels_train['ANS_VALENCE'] != 5]\n",
    "labels_train = labels_train.loc[labels_train['ANS_VALENCE'] != 9]"
   ],
   "metadata": {
    "collapsed": false
   }
  },
  {
   "cell_type": "markdown",
   "source": [
    "# Scaling personality values to range 0 - 1"
   ],
   "metadata": {
    "collapsed": false
   }
  },
  {
   "cell_type": "code",
   "execution_count": 40,
   "outputs": [],
   "source": [
    "mms = MinMaxScaler()\n",
    "\n",
    "data_train_mms = mms.fit_transform(data_train)\n",
    "data_train_mms = pd.DataFrame(data_train_mms, columns=data_train.columns)\n",
    "data_validation_mms = mms.fit_transform(data_validation)\n",
    "data_validation_mms = pd.DataFrame(data_validation_mms, columns=data_validation.columns)"
   ],
   "metadata": {
    "collapsed": false
   }
  },
  {
   "cell_type": "markdown",
   "source": [
    "# Scaling input values to Gaussian distributions"
   ],
   "metadata": {
    "collapsed": false
   }
  },
  {
   "cell_type": "code",
   "execution_count": 41,
   "outputs": [],
   "source": [
    "quantile_transformer = QuantileTransformer(output_distribution='normal', random_state=0)\n",
    "data_train_qt = quantile_transformer.fit_transform(data_train_mms)\n",
    "data_train_qt = pd.DataFrame(data_train_qt, columns=data_train_mms.columns)\n",
    "data_validation_qt = quantile_transformer.fit_transform(data_validation_mms)\n",
    "data_validation_qt = pd.DataFrame(data_validation_qt, columns=data_validation_mms.columns)"
   ],
   "metadata": {
    "collapsed": false
   }
  },
  {
   "cell_type": "markdown",
   "source": [
    "# Training"
   ],
   "metadata": {
    "collapsed": false
   }
  },
  {
   "cell_type": "code",
   "execution_count": 42,
   "outputs": [
    {
     "name": "stdout",
     "output_type": "stream",
     "text": [
      "Model: \"model_4\"\n",
      "_________________________________________________________________\n",
      " Layer (type)                Output Shape              Param #   \n",
      "=================================================================\n",
      " input_5 (InputLayer)        [(None, 13)]              0         \n",
      "                                                                 \n",
      " normalization_4 (Normalizat  (None, 13)               27        \n",
      " ion)                                                            \n",
      "                                                                 \n",
      " dense_10 (Dense)            (None, 64)                896       \n",
      "                                                                 \n",
      " dense_11 (Dense)            (None, 128)               8320      \n",
      "                                                                 \n",
      " dense_12 (Dense)            (None, 64)                8256      \n",
      "                                                                 \n",
      " dense_13 (Dense)            (None, 1)                 65        \n",
      "                                                                 \n",
      "=================================================================\n",
      "Total params: 17,564\n",
      "Trainable params: 17,537\n",
      "Non-trainable params: 27\n",
      "_________________________________________________________________\n"
     ]
    }
   ],
   "source": [
    "tf.random.set_seed(123)\n",
    "\n",
    "norm_layer = tf.keras.layers.Normalization()\n",
    "\n",
    "input_ = tf.keras.layers.Input(shape=data_train_qt.shape[1:])\n",
    "normalized = norm_layer(input_)\n",
    "hidden1 = tf.keras.layers.Dense(64, activation='relu')(normalized)\n",
    "hidden2 = tf.keras.layers.Dense(128, activation='relu')(hidden1)\n",
    "hidden3 = tf.keras.layers.Dense(64, activation='relu')(hidden2)\n",
    "output = tf.keras.layers.Dense(1)(hidden3)\n",
    "\n",
    "model = tf.keras.Model(inputs=[input_], outputs=[output])\n",
    "\n",
    "model.summary()"
   ],
   "metadata": {
    "collapsed": false
   }
  },
  {
   "cell_type": "code",
   "execution_count": 43,
   "outputs": [],
   "source": [
    "model.compile(loss='mse',\n",
    "              optimizer=tf.keras.optimizers.SGD(learning_rate=0.001),\n",
    "              metrics=['mae'])"
   ],
   "metadata": {
    "collapsed": false
   }
  },
  {
   "cell_type": "code",
   "execution_count": 44,
   "outputs": [],
   "source": [
    "norm_layer.adapt(data_train_qt)"
   ],
   "metadata": {
    "collapsed": false
   }
  },
  {
   "cell_type": "code",
   "execution_count": 45,
   "outputs": [
    {
     "name": "stdout",
     "output_type": "stream",
     "text": [
      "Epoch 1/100\n",
      "570/570 [==============================] - 3s 4ms/step - loss: 5.9985 - mae: 2.0375 - val_loss: 6.8276 - val_mae: 2.1228\n",
      "Epoch 2/100\n",
      "570/570 [==============================] - 2s 3ms/step - loss: 4.4992 - mae: 1.8099 - val_loss: 6.6276 - val_mae: 2.0985\n",
      "Epoch 3/100\n",
      "570/570 [==============================] - 2s 4ms/step - loss: 4.4112 - mae: 1.7900 - val_loss: 6.5176 - val_mae: 2.0856\n",
      "Epoch 4/100\n",
      "570/570 [==============================] - 3s 5ms/step - loss: 4.3825 - mae: 1.7826 - val_loss: 6.6022 - val_mae: 2.0927\n",
      "Epoch 5/100\n",
      "570/570 [==============================] - 4s 6ms/step - loss: 4.3674 - mae: 1.7780 - val_loss: 6.5228 - val_mae: 2.0848\n",
      "Epoch 6/100\n",
      "570/570 [==============================] - 3s 5ms/step - loss: 4.3571 - mae: 1.7750 - val_loss: 6.3713 - val_mae: 2.0731\n",
      "Epoch 7/100\n",
      "570/570 [==============================] - 2s 4ms/step - loss: 4.3500 - mae: 1.7725 - val_loss: 6.4282 - val_mae: 2.0765\n",
      "Epoch 8/100\n",
      "570/570 [==============================] - 2s 4ms/step - loss: 4.3443 - mae: 1.7710 - val_loss: 6.3548 - val_mae: 2.0713\n",
      "Epoch 9/100\n",
      "570/570 [==============================] - 2s 4ms/step - loss: 4.3383 - mae: 1.7698 - val_loss: 6.2929 - val_mae: 2.0682\n",
      "Epoch 10/100\n",
      "570/570 [==============================] - 2s 4ms/step - loss: 4.3342 - mae: 1.7686 - val_loss: 6.2520 - val_mae: 2.0681\n",
      "Epoch 11/100\n",
      "570/570 [==============================] - 2s 4ms/step - loss: 4.3317 - mae: 1.7685 - val_loss: 6.3682 - val_mae: 2.0721\n",
      "Epoch 12/100\n",
      "570/570 [==============================] - 2s 4ms/step - loss: 4.3267 - mae: 1.7662 - val_loss: 6.2443 - val_mae: 2.0663\n",
      "Epoch 13/100\n",
      "570/570 [==============================] - 2s 4ms/step - loss: 4.3260 - mae: 1.7663 - val_loss: 6.3537 - val_mae: 2.0707\n",
      "Epoch 14/100\n",
      "570/570 [==============================] - 3s 5ms/step - loss: 4.3222 - mae: 1.7656 - val_loss: 6.3993 - val_mae: 2.0733\n",
      "Epoch 15/100\n",
      "570/570 [==============================] - 6s 11ms/step - loss: 4.3190 - mae: 1.7644 - val_loss: 6.2745 - val_mae: 2.0672\n",
      "Epoch 16/100\n",
      "570/570 [==============================] - 3s 5ms/step - loss: 4.3156 - mae: 1.7634 - val_loss: 6.4672 - val_mae: 2.0776\n",
      "Epoch 17/100\n",
      "570/570 [==============================] - 3s 6ms/step - loss: 4.3132 - mae: 1.7625 - val_loss: 6.4112 - val_mae: 2.0733\n",
      "Epoch 18/100\n",
      "570/570 [==============================] - 2s 4ms/step - loss: 4.3105 - mae: 1.7627 - val_loss: 6.3760 - val_mae: 2.0710\n",
      "Epoch 19/100\n",
      "570/570 [==============================] - 3s 5ms/step - loss: 4.3104 - mae: 1.7620 - val_loss: 6.3720 - val_mae: 2.0711\n",
      "Epoch 20/100\n",
      "570/570 [==============================] - 2s 4ms/step - loss: 4.3073 - mae: 1.7614 - val_loss: 6.4542 - val_mae: 2.0768\n",
      "Epoch 21/100\n",
      "570/570 [==============================] - 3s 5ms/step - loss: 4.3051 - mae: 1.7605 - val_loss: 6.3556 - val_mae: 2.0703\n",
      "Epoch 22/100\n",
      "570/570 [==============================] - 2s 4ms/step - loss: 4.3039 - mae: 1.7602 - val_loss: 6.3119 - val_mae: 2.0681\n",
      "Epoch 23/100\n",
      "570/570 [==============================] - 2s 4ms/step - loss: 4.3007 - mae: 1.7596 - val_loss: 6.2714 - val_mae: 2.0674\n",
      "Epoch 24/100\n",
      "570/570 [==============================] - 2s 4ms/step - loss: 4.3002 - mae: 1.7593 - val_loss: 6.3648 - val_mae: 2.0706\n",
      "Epoch 25/100\n",
      "570/570 [==============================] - 3s 5ms/step - loss: 4.2992 - mae: 1.7587 - val_loss: 6.2506 - val_mae: 2.0669\n",
      "Epoch 26/100\n",
      "570/570 [==============================] - 3s 4ms/step - loss: 4.2973 - mae: 1.7589 - val_loss: 6.2383 - val_mae: 2.0659\n",
      "Epoch 27/100\n",
      "570/570 [==============================] - 3s 4ms/step - loss: 4.2954 - mae: 1.7572 - val_loss: 6.2768 - val_mae: 2.0672\n",
      "Epoch 28/100\n",
      "570/570 [==============================] - 2s 4ms/step - loss: 4.2949 - mae: 1.7580 - val_loss: 6.2272 - val_mae: 2.0666\n",
      "Epoch 29/100\n",
      "570/570 [==============================] - 2s 4ms/step - loss: 4.2924 - mae: 1.7571 - val_loss: 6.2982 - val_mae: 2.0672\n",
      "Epoch 30/100\n",
      "570/570 [==============================] - 3s 4ms/step - loss: 4.2912 - mae: 1.7565 - val_loss: 6.3822 - val_mae: 2.0723\n",
      "Epoch 31/100\n",
      "570/570 [==============================] - 2s 4ms/step - loss: 4.2896 - mae: 1.7567 - val_loss: 6.4163 - val_mae: 2.0746\n",
      "Epoch 32/100\n",
      "570/570 [==============================] - 3s 4ms/step - loss: 4.2879 - mae: 1.7555 - val_loss: 6.4102 - val_mae: 2.0730\n",
      "Epoch 33/100\n",
      "570/570 [==============================] - 2s 4ms/step - loss: 4.2872 - mae: 1.7555 - val_loss: 6.2360 - val_mae: 2.0648\n",
      "Epoch 34/100\n",
      "570/570 [==============================] - 2s 4ms/step - loss: 4.2840 - mae: 1.7553 - val_loss: 6.3207 - val_mae: 2.0681\n",
      "Epoch 35/100\n",
      "570/570 [==============================] - 3s 4ms/step - loss: 4.2853 - mae: 1.7550 - val_loss: 6.3042 - val_mae: 2.0671\n",
      "Epoch 36/100\n",
      "570/570 [==============================] - 2s 4ms/step - loss: 4.2820 - mae: 1.7536 - val_loss: 6.2735 - val_mae: 2.0675\n",
      "Epoch 37/100\n",
      "570/570 [==============================] - 2s 4ms/step - loss: 4.2823 - mae: 1.7540 - val_loss: 6.2573 - val_mae: 2.0664\n",
      "Epoch 38/100\n",
      "570/570 [==============================] - 2s 4ms/step - loss: 4.2814 - mae: 1.7543 - val_loss: 6.4628 - val_mae: 2.0774\n",
      "Epoch 39/100\n",
      "570/570 [==============================] - 2s 4ms/step - loss: 4.2806 - mae: 1.7541 - val_loss: 6.4619 - val_mae: 2.0771\n",
      "Epoch 40/100\n",
      "570/570 [==============================] - 2s 4ms/step - loss: 4.2790 - mae: 1.7533 - val_loss: 6.2449 - val_mae: 2.0673\n",
      "Epoch 41/100\n",
      "570/570 [==============================] - 2s 4ms/step - loss: 4.2788 - mae: 1.7531 - val_loss: 6.3514 - val_mae: 2.0689\n",
      "Epoch 42/100\n",
      "570/570 [==============================] - 2s 4ms/step - loss: 4.2775 - mae: 1.7529 - val_loss: 6.2554 - val_mae: 2.0652\n",
      "Epoch 43/100\n",
      "570/570 [==============================] - 3s 5ms/step - loss: 4.2757 - mae: 1.7521 - val_loss: 6.3250 - val_mae: 2.0683\n",
      "Epoch 44/100\n",
      "570/570 [==============================] - 2s 4ms/step - loss: 4.2753 - mae: 1.7526 - val_loss: 6.2886 - val_mae: 2.0670\n",
      "Epoch 45/100\n",
      "570/570 [==============================] - 2s 4ms/step - loss: 4.2731 - mae: 1.7524 - val_loss: 6.5296 - val_mae: 2.0822\n",
      "Epoch 46/100\n",
      "570/570 [==============================] - 2s 4ms/step - loss: 4.2746 - mae: 1.7521 - val_loss: 6.4313 - val_mae: 2.0743\n",
      "Epoch 47/100\n",
      "570/570 [==============================] - 3s 4ms/step - loss: 4.2716 - mae: 1.7514 - val_loss: 6.4245 - val_mae: 2.0733\n",
      "Epoch 48/100\n",
      "570/570 [==============================] - 3s 5ms/step - loss: 4.2717 - mae: 1.7514 - val_loss: 6.3591 - val_mae: 2.0693\n",
      "Epoch 49/100\n",
      "570/570 [==============================] - 3s 5ms/step - loss: 4.2692 - mae: 1.7511 - val_loss: 6.2407 - val_mae: 2.0664\n",
      "Epoch 50/100\n",
      "570/570 [==============================] - 3s 5ms/step - loss: 4.2698 - mae: 1.7508 - val_loss: 6.2332 - val_mae: 2.0688\n",
      "Epoch 51/100\n",
      "570/570 [==============================] - 3s 5ms/step - loss: 4.2681 - mae: 1.7500 - val_loss: 6.2874 - val_mae: 2.0689\n",
      "Epoch 52/100\n",
      "570/570 [==============================] - 3s 5ms/step - loss: 4.2684 - mae: 1.7510 - val_loss: 6.3137 - val_mae: 2.0668\n",
      "Epoch 53/100\n",
      "570/570 [==============================] - 3s 5ms/step - loss: 4.2649 - mae: 1.7500 - val_loss: 6.2481 - val_mae: 2.0670\n",
      "Epoch 54/100\n",
      "570/570 [==============================] - 3s 5ms/step - loss: 4.2665 - mae: 1.7500 - val_loss: 6.2754 - val_mae: 2.0665\n",
      "Epoch 55/100\n",
      "570/570 [==============================] - 3s 5ms/step - loss: 4.2652 - mae: 1.7500 - val_loss: 6.2360 - val_mae: 2.0659\n",
      "Epoch 56/100\n",
      "570/570 [==============================] - 2s 4ms/step - loss: 4.2649 - mae: 1.7494 - val_loss: 6.2187 - val_mae: 2.0707\n",
      "Epoch 57/100\n",
      "570/570 [==============================] - 3s 4ms/step - loss: 4.2622 - mae: 1.7490 - val_loss: 6.2538 - val_mae: 2.0655\n",
      "Epoch 58/100\n",
      "570/570 [==============================] - 2s 4ms/step - loss: 4.2614 - mae: 1.7489 - val_loss: 6.3340 - val_mae: 2.0697\n",
      "Epoch 59/100\n",
      "570/570 [==============================] - 3s 5ms/step - loss: 4.2625 - mae: 1.7490 - val_loss: 6.2937 - val_mae: 2.0659\n",
      "Epoch 60/100\n",
      "570/570 [==============================] - 3s 5ms/step - loss: 4.2611 - mae: 1.7485 - val_loss: 6.5867 - val_mae: 2.0885\n",
      "Epoch 61/100\n",
      "570/570 [==============================] - 3s 5ms/step - loss: 4.2609 - mae: 1.7483 - val_loss: 6.6045 - val_mae: 2.0898\n",
      "Epoch 62/100\n",
      "570/570 [==============================] - 3s 5ms/step - loss: 4.2582 - mae: 1.7468 - val_loss: 6.2609 - val_mae: 2.0675\n",
      "Epoch 63/100\n",
      "570/570 [==============================] - 2s 4ms/step - loss: 4.2570 - mae: 1.7470 - val_loss: 6.2026 - val_mae: 2.0766\n",
      "Epoch 64/100\n",
      "570/570 [==============================] - 2s 4ms/step - loss: 4.2581 - mae: 1.7479 - val_loss: 6.2586 - val_mae: 2.0661\n",
      "Epoch 65/100\n",
      "570/570 [==============================] - 2s 4ms/step - loss: 4.2564 - mae: 1.7469 - val_loss: 6.2970 - val_mae: 2.0681\n",
      "Epoch 66/100\n",
      "570/570 [==============================] - 2s 4ms/step - loss: 4.2563 - mae: 1.7472 - val_loss: 6.4203 - val_mae: 2.0738\n",
      "Epoch 67/100\n",
      "570/570 [==============================] - 2s 4ms/step - loss: 4.2543 - mae: 1.7469 - val_loss: 6.2176 - val_mae: 2.0696\n",
      "Epoch 68/100\n",
      "570/570 [==============================] - 3s 5ms/step - loss: 4.2543 - mae: 1.7462 - val_loss: 6.2427 - val_mae: 2.0777\n",
      "Epoch 69/100\n",
      "570/570 [==============================] - 3s 4ms/step - loss: 4.2541 - mae: 1.7469 - val_loss: 6.3801 - val_mae: 2.0728\n",
      "Epoch 70/100\n",
      "570/570 [==============================] - 3s 6ms/step - loss: 4.2534 - mae: 1.7460 - val_loss: 6.2357 - val_mae: 2.0693\n",
      "Epoch 71/100\n",
      "570/570 [==============================] - 2s 4ms/step - loss: 4.2514 - mae: 1.7457 - val_loss: 6.3791 - val_mae: 2.0714\n",
      "Epoch 72/100\n",
      "570/570 [==============================] - 2s 4ms/step - loss: 4.2490 - mae: 1.7448 - val_loss: 6.2159 - val_mae: 2.0737\n",
      "Epoch 73/100\n",
      "570/570 [==============================] - 2s 4ms/step - loss: 4.2517 - mae: 1.7462 - val_loss: 6.2592 - val_mae: 2.0724\n",
      "Epoch 74/100\n",
      "570/570 [==============================] - 3s 4ms/step - loss: 4.2485 - mae: 1.7446 - val_loss: 6.2998 - val_mae: 2.0733\n",
      "Epoch 75/100\n",
      "570/570 [==============================] - 2s 4ms/step - loss: 4.2504 - mae: 1.7449 - val_loss: 6.2532 - val_mae: 2.0699\n",
      "Epoch 76/100\n",
      "570/570 [==============================] - 2s 4ms/step - loss: 4.2470 - mae: 1.7445 - val_loss: 6.2189 - val_mae: 2.0755\n",
      "Epoch 77/100\n",
      "570/570 [==============================] - 2s 4ms/step - loss: 4.2458 - mae: 1.7445 - val_loss: 6.3222 - val_mae: 2.0720\n",
      "Epoch 78/100\n",
      "570/570 [==============================] - 2s 4ms/step - loss: 4.2474 - mae: 1.7447 - val_loss: 6.2594 - val_mae: 2.0730\n",
      "Epoch 79/100\n",
      "570/570 [==============================] - 2s 4ms/step - loss: 4.2467 - mae: 1.7442 - val_loss: 6.4120 - val_mae: 2.0743\n",
      "Epoch 80/100\n",
      "570/570 [==============================] - 2s 4ms/step - loss: 4.2454 - mae: 1.7446 - val_loss: 6.4792 - val_mae: 2.0810\n",
      "Epoch 81/100\n",
      "570/570 [==============================] - 2s 4ms/step - loss: 4.2459 - mae: 1.7441 - val_loss: 6.2846 - val_mae: 2.0729\n",
      "Epoch 82/100\n",
      "570/570 [==============================] - 2s 4ms/step - loss: 4.2439 - mae: 1.7435 - val_loss: 6.3116 - val_mae: 2.0714\n",
      "Epoch 83/100\n",
      "570/570 [==============================] - 3s 5ms/step - loss: 4.2429 - mae: 1.7431 - val_loss: 6.2800 - val_mae: 2.0725\n",
      "Epoch 84/100\n",
      "570/570 [==============================] - 4s 6ms/step - loss: 4.2429 - mae: 1.7440 - val_loss: 6.2551 - val_mae: 2.0901\n",
      "Epoch 85/100\n",
      "570/570 [==============================] - 3s 5ms/step - loss: 4.2410 - mae: 1.7435 - val_loss: 6.4231 - val_mae: 2.0784\n",
      "Epoch 86/100\n",
      "570/570 [==============================] - 3s 6ms/step - loss: 4.2433 - mae: 1.7429 - val_loss: 6.3225 - val_mae: 2.0744\n",
      "Epoch 87/100\n",
      "570/570 [==============================] - 2s 4ms/step - loss: 4.2424 - mae: 1.7434 - val_loss: 6.3930 - val_mae: 2.0756\n",
      "Epoch 88/100\n",
      "570/570 [==============================] - 2s 4ms/step - loss: 4.2405 - mae: 1.7427 - val_loss: 6.2655 - val_mae: 2.0767\n",
      "Epoch 89/100\n",
      "570/570 [==============================] - 2s 4ms/step - loss: 4.2402 - mae: 1.7425 - val_loss: 6.2658 - val_mae: 2.0745\n",
      "Epoch 90/100\n",
      "570/570 [==============================] - 2s 4ms/step - loss: 4.2378 - mae: 1.7415 - val_loss: 6.2734 - val_mae: 2.0744\n",
      "Epoch 91/100\n",
      "570/570 [==============================] - 3s 5ms/step - loss: 4.2395 - mae: 1.7421 - val_loss: 6.2668 - val_mae: 2.0866\n",
      "Epoch 92/100\n",
      "570/570 [==============================] - 3s 6ms/step - loss: 4.2389 - mae: 1.7425 - val_loss: 6.3333 - val_mae: 2.0750\n",
      "Epoch 93/100\n",
      "570/570 [==============================] - 3s 5ms/step - loss: 4.2367 - mae: 1.7418 - val_loss: 6.3084 - val_mae: 2.0766\n",
      "Epoch 94/100\n",
      "570/570 [==============================] - 3s 4ms/step - loss: 4.2364 - mae: 1.7415 - val_loss: 6.2907 - val_mae: 2.0843\n",
      "Epoch 95/100\n",
      "570/570 [==============================] - 2s 4ms/step - loss: 4.2343 - mae: 1.7414 - val_loss: 6.3549 - val_mae: 2.0748\n",
      "Epoch 96/100\n",
      "570/570 [==============================] - 2s 4ms/step - loss: 4.2347 - mae: 1.7400 - val_loss: 6.2749 - val_mae: 2.0917\n",
      "Epoch 97/100\n",
      "570/570 [==============================] - 3s 5ms/step - loss: 4.2339 - mae: 1.7414 - val_loss: 6.3316 - val_mae: 2.0790\n",
      "Epoch 98/100\n",
      "570/570 [==============================] - 2s 4ms/step - loss: 4.2345 - mae: 1.7404 - val_loss: 6.2942 - val_mae: 2.0796\n",
      "Epoch 99/100\n",
      "570/570 [==============================] - 2s 4ms/step - loss: 4.2334 - mae: 1.7408 - val_loss: 6.2874 - val_mae: 2.0765\n",
      "Epoch 100/100\n",
      "570/570 [==============================] - 3s 4ms/step - loss: 4.2334 - mae: 1.7401 - val_loss: 6.2707 - val_mae: 2.0816\n"
     ]
    }
   ],
   "source": [
    "n_epochs = 100\n",
    "\n",
    "run_dir = get_run_dir()\n",
    "tensorboard_cb = tf.keras.callbacks.TensorBoard(run_dir, profile_batch=(0, n_epochs))\n",
    "\n",
    "history = model.fit(data_train_qt, labels_train, epochs=n_epochs, validation_data=(data_validation, labels_validation), callbacks=[tensorboard_cb])"
   ],
   "metadata": {
    "collapsed": false
   }
  },
  {
   "cell_type": "code",
   "execution_count": 46,
   "outputs": [
    {
     "name": "stdout",
     "output_type": "stream",
     "text": [
      "215/215 [==============================] - 1s 2ms/step\n",
      "\n",
      "Values for validation set:\n",
      "MAE: 1.6815580405980222\n",
      "MSE: 4.345557510751711\n",
      "RMSE: 2.0846000841292582\n",
      "R2:  -0.09237007209762127\n"
     ]
    }
   ],
   "source": [
    "predictions = model.predict(data_validation_qt)\n",
    "\n",
    "mae, mse, r2 = get_score(labels_validation.iloc[:, 1], predictions)\n",
    "print(f'''\\nValues for validation set:\\nMAE: {mae}\\nMSE: {mse}\\nRMSE: {mse**.5}\\nR2:  {r2}''')"
   ],
   "metadata": {
    "collapsed": false
   }
  },
  {
   "cell_type": "markdown",
   "source": [
    "# Overfitting?"
   ],
   "metadata": {
    "collapsed": false
   }
  },
  {
   "cell_type": "code",
   "execution_count": 47,
   "outputs": [
    {
     "name": "stdout",
     "output_type": "stream",
     "text": [
      "Model: \"model_5\"\n",
      "_________________________________________________________________\n",
      " Layer (type)                Output Shape              Param #   \n",
      "=================================================================\n",
      " input_6 (InputLayer)        [(None, 13)]              0         \n",
      "                                                                 \n",
      " normalization_5 (Normalizat  (None, 13)               27        \n",
      " ion)                                                            \n",
      "                                                                 \n",
      " dense_14 (Dense)            (None, 1)                 14        \n",
      "                                                                 \n",
      "=================================================================\n",
      "Total params: 41\n",
      "Trainable params: 14\n",
      "Non-trainable params: 27\n",
      "_________________________________________________________________\n"
     ]
    }
   ],
   "source": [
    "tf.random.set_seed(123)\n",
    "\n",
    "norm_layer = tf.keras.layers.Normalization()\n",
    "\n",
    "input_ = tf.keras.layers.Input(shape=data_train_qt.shape[1:])\n",
    "normalized = norm_layer(input_)\n",
    "output = tf.keras.layers.Dense(1)(normalized)\n",
    "\n",
    "model = tf.keras.Model(inputs=[input_], outputs=[output])\n",
    "\n",
    "model.summary()"
   ],
   "metadata": {
    "collapsed": false
   }
  },
  {
   "cell_type": "code",
   "execution_count": 48,
   "outputs": [],
   "source": [
    "model.compile(loss='mse',\n",
    "              optimizer=tf.keras.optimizers.Adam(learning_rate=0.001),\n",
    "              metrics=['mae'])"
   ],
   "metadata": {
    "collapsed": false
   }
  },
  {
   "cell_type": "code",
   "execution_count": 49,
   "outputs": [],
   "source": [
    "norm_layer.adapt(data_train_qt)"
   ],
   "metadata": {
    "collapsed": false
   }
  },
  {
   "cell_type": "code",
   "execution_count": 50,
   "outputs": [
    {
     "name": "stdout",
     "output_type": "stream",
     "text": [
      "Epoch 1/50\n",
      "570/570 [==============================] - 3s 4ms/step - loss: 30.2238 - mae: 5.0168 - val_loss: 51.8970 - val_mae: 6.7401\n",
      "Epoch 2/50\n",
      "570/570 [==============================] - 2s 4ms/step - loss: 24.6044 - mae: 4.4740 - val_loss: 31.2139 - val_mae: 4.9989\n",
      "Epoch 3/50\n",
      "570/570 [==============================] - 2s 4ms/step - loss: 20.1203 - mae: 3.9672 - val_loss: 22.5924 - val_mae: 4.0990\n",
      "Epoch 4/50\n",
      "570/570 [==============================] - 2s 4ms/step - loss: 16.4173 - mae: 3.5159 - val_loss: 16.6600 - val_mae: 3.4828\n",
      "Epoch 5/50\n",
      "570/570 [==============================] - 2s 4ms/step - loss: 13.3575 - mae: 3.1311 - val_loss: 13.0246 - val_mae: 3.0779\n",
      "Epoch 6/50\n",
      "570/570 [==============================] - 2s 4ms/step - loss: 10.8619 - mae: 2.8080 - val_loss: 10.8820 - val_mae: 2.8240\n",
      "Epoch 7/50\n",
      "570/570 [==============================] - 2s 4ms/step - loss: 8.8696 - mae: 2.5412 - val_loss: 8.9322 - val_mae: 2.5722\n",
      "Epoch 8/50\n",
      "570/570 [==============================] - 2s 4ms/step - loss: 7.3283 - mae: 2.3244 - val_loss: 7.6572 - val_mae: 2.3872\n",
      "Epoch 9/50\n",
      "570/570 [==============================] - 2s 4ms/step - loss: 6.1873 - mae: 2.1522 - val_loss: 7.0430 - val_mae: 2.2880\n",
      "Epoch 10/50\n",
      "570/570 [==============================] - 2s 4ms/step - loss: 5.3936 - mae: 2.0227 - val_loss: 6.4952 - val_mae: 2.1836\n",
      "Epoch 11/50\n",
      "570/570 [==============================] - 2s 4ms/step - loss: 4.8851 - mae: 1.9310 - val_loss: 6.1636 - val_mae: 2.0942\n",
      "Epoch 12/50\n",
      "570/570 [==============================] - 2s 4ms/step - loss: 4.5965 - mae: 1.8690 - val_loss: 6.1166 - val_mae: 2.0786\n",
      "Epoch 13/50\n",
      "570/570 [==============================] - 2s 4ms/step - loss: 4.4585 - mae: 1.8283 - val_loss: 6.0944 - val_mae: 2.0591\n",
      "Epoch 14/50\n",
      "570/570 [==============================] - 2s 4ms/step - loss: 4.4053 - mae: 1.8051 - val_loss: 6.1115 - val_mae: 2.0547\n",
      "Epoch 15/50\n",
      "570/570 [==============================] - 2s 4ms/step - loss: 4.3910 - mae: 1.7915 - val_loss: 6.1320 - val_mae: 2.0537\n",
      "Epoch 16/50\n",
      "570/570 [==============================] - 2s 4ms/step - loss: 4.3880 - mae: 1.7874 - val_loss: 6.2148 - val_mae: 2.0548\n",
      "Epoch 17/50\n",
      "570/570 [==============================] - 2s 4ms/step - loss: 4.3881 - mae: 1.7852 - val_loss: 6.1441 - val_mae: 2.0534\n",
      "Epoch 18/50\n",
      "570/570 [==============================] - 2s 4ms/step - loss: 4.3880 - mae: 1.7855 - val_loss: 6.1066 - val_mae: 2.0563\n",
      "Epoch 19/50\n",
      "570/570 [==============================] - 3s 5ms/step - loss: 4.3880 - mae: 1.7850 - val_loss: 6.1329 - val_mae: 2.0535\n",
      "Epoch 20/50\n",
      "570/570 [==============================] - 2s 4ms/step - loss: 4.3879 - mae: 1.7846 - val_loss: 6.0951 - val_mae: 2.0590\n",
      "Epoch 21/50\n",
      "570/570 [==============================] - 2s 4ms/step - loss: 4.3877 - mae: 1.7846 - val_loss: 6.1446 - val_mae: 2.0543\n",
      "Epoch 22/50\n",
      "570/570 [==============================] - 2s 4ms/step - loss: 4.3879 - mae: 1.7839 - val_loss: 6.1950 - val_mae: 2.0539\n",
      "Epoch 23/50\n",
      "570/570 [==============================] - 2s 4ms/step - loss: 4.3879 - mae: 1.7860 - val_loss: 6.1371 - val_mae: 2.0540\n",
      "Epoch 24/50\n",
      "570/570 [==============================] - 2s 4ms/step - loss: 4.3881 - mae: 1.7839 - val_loss: 6.2062 - val_mae: 2.0546\n",
      "Epoch 25/50\n",
      "570/570 [==============================] - 2s 4ms/step - loss: 4.3882 - mae: 1.7848 - val_loss: 6.1155 - val_mae: 2.0552\n",
      "Epoch 26/50\n",
      "570/570 [==============================] - 3s 5ms/step - loss: 4.3877 - mae: 1.7850 - val_loss: 6.1434 - val_mae: 2.0537\n",
      "Epoch 27/50\n",
      "570/570 [==============================] - 3s 5ms/step - loss: 4.3877 - mae: 1.7844 - val_loss: 6.1277 - val_mae: 2.0538\n",
      "Epoch 28/50\n",
      "570/570 [==============================] - 2s 3ms/step - loss: 4.3878 - mae: 1.7840 - val_loss: 6.0917 - val_mae: 2.0603\n",
      "Epoch 29/50\n",
      "570/570 [==============================] - 2s 3ms/step - loss: 4.3880 - mae: 1.7849 - val_loss: 6.1561 - val_mae: 2.0535\n",
      "Epoch 30/50\n",
      "570/570 [==============================] - 2s 3ms/step - loss: 4.3881 - mae: 1.7849 - val_loss: 6.1921 - val_mae: 2.0539\n",
      "Epoch 31/50\n",
      "570/570 [==============================] - 2s 3ms/step - loss: 4.3877 - mae: 1.7849 - val_loss: 6.1519 - val_mae: 2.0533\n",
      "Epoch 32/50\n",
      "570/570 [==============================] - 2s 3ms/step - loss: 4.3881 - mae: 1.7849 - val_loss: 6.1512 - val_mae: 2.0538\n",
      "Epoch 33/50\n",
      "570/570 [==============================] - 2s 4ms/step - loss: 4.3881 - mae: 1.7844 - val_loss: 6.1138 - val_mae: 2.0557\n",
      "Epoch 34/50\n",
      "570/570 [==============================] - 3s 5ms/step - loss: 4.3878 - mae: 1.7849 - val_loss: 6.1043 - val_mae: 2.0567\n",
      "Epoch 35/50\n",
      "570/570 [==============================] - 3s 4ms/step - loss: 4.3884 - mae: 1.7850 - val_loss: 6.1389 - val_mae: 2.0535\n",
      "Epoch 36/50\n",
      "570/570 [==============================] - 3s 6ms/step - loss: 4.3877 - mae: 1.7847 - val_loss: 6.1608 - val_mae: 2.0532\n",
      "Epoch 37/50\n",
      "570/570 [==============================] - 3s 4ms/step - loss: 4.3882 - mae: 1.7848 - val_loss: 6.1520 - val_mae: 2.0537\n",
      "Epoch 38/50\n",
      "570/570 [==============================] - 2s 4ms/step - loss: 4.3880 - mae: 1.7852 - val_loss: 6.2061 - val_mae: 2.0545\n",
      "Epoch 39/50\n",
      "570/570 [==============================] - 2s 4ms/step - loss: 4.3875 - mae: 1.7843 - val_loss: 6.2109 - val_mae: 2.0545\n",
      "Epoch 40/50\n",
      "570/570 [==============================] - 2s 3ms/step - loss: 4.3877 - mae: 1.7852 - val_loss: 6.2569 - val_mae: 2.0565\n",
      "Epoch 41/50\n",
      "570/570 [==============================] - 2s 3ms/step - loss: 4.3879 - mae: 1.7836 - val_loss: 6.1106 - val_mae: 2.0550\n",
      "Epoch 42/50\n",
      "570/570 [==============================] - 2s 3ms/step - loss: 4.3885 - mae: 1.7851 - val_loss: 6.1408 - val_mae: 2.0538\n",
      "Epoch 43/50\n",
      "570/570 [==============================] - 3s 5ms/step - loss: 4.3879 - mae: 1.7838 - val_loss: 6.1476 - val_mae: 2.0533\n",
      "Epoch 44/50\n",
      "570/570 [==============================] - 2s 4ms/step - loss: 4.3884 - mae: 1.7851 - val_loss: 6.1370 - val_mae: 2.0538\n",
      "Epoch 45/50\n",
      "570/570 [==============================] - 2s 3ms/step - loss: 4.3876 - mae: 1.7847 - val_loss: 6.1915 - val_mae: 2.0539\n",
      "Epoch 46/50\n",
      "570/570 [==============================] - 2s 3ms/step - loss: 4.3877 - mae: 1.7850 - val_loss: 6.1474 - val_mae: 2.0536\n",
      "Epoch 47/50\n",
      "570/570 [==============================] - 2s 3ms/step - loss: 4.3879 - mae: 1.7838 - val_loss: 6.2191 - val_mae: 2.0552\n",
      "Epoch 48/50\n",
      "570/570 [==============================] - 2s 3ms/step - loss: 4.3880 - mae: 1.7850 - val_loss: 6.1259 - val_mae: 2.0542\n",
      "Epoch 49/50\n",
      "570/570 [==============================] - 2s 3ms/step - loss: 4.3880 - mae: 1.7848 - val_loss: 6.1388 - val_mae: 2.0536\n",
      "Epoch 50/50\n",
      "570/570 [==============================] - 2s 3ms/step - loss: 4.3882 - mae: 1.7845 - val_loss: 6.1261 - val_mae: 2.0544\n"
     ]
    },
    {
     "data": {
      "text/plain": "<keras.callbacks.History at 0x7fb3f7c97070>"
     },
     "execution_count": 50,
     "metadata": {},
     "output_type": "execute_result"
    }
   ],
   "source": [
    "n_epochs = 50\n",
    "\n",
    "# run_dir = get_run_dir()\n",
    "# tensorboard_cb = tf.keras.callbacks.TensorBoard(run_dir, profile_batch=(0, n_epochs))\n",
    "\n",
    "model.fit(data_train_qt, labels_train, epochs=n_epochs, validation_data=(data_validation, labels_validation))"
   ],
   "metadata": {
    "collapsed": false
   }
  },
  {
   "cell_type": "code",
   "execution_count": 51,
   "outputs": [
    {
     "name": "stdout",
     "output_type": "stream",
     "text": [
      "215/215 [==============================] - 1s 2ms/step\n",
      "\n",
      "Values for validation set:\n",
      "MAE: 1.6824115542544424\n",
      "MSE: 4.349000936893388\n",
      "RMSE: 2.085425840660221\n",
      "R2:  -0.093235667744058\n"
     ]
    }
   ],
   "source": [
    "predictions = model.predict(data_validation_qt)\n",
    "\n",
    "mae, mse, r2 = get_score(labels_validation.iloc[:, 1], predictions)\n",
    "print(f'''\\nValues for validation set:\\nMAE: {mae}\\nMSE: {mse}\\nRMSE: {mse**.5}\\nR2:  {r2}''')"
   ],
   "metadata": {
    "collapsed": false
   }
  },
  {
   "cell_type": "markdown",
   "source": [
    "# Check if data from all subjects works better"
   ],
   "metadata": {
    "collapsed": false
   }
  },
  {
   "cell_type": "code",
   "execution_count": 52,
   "outputs": [],
   "source": [
    "dataset = pd.read_csv('dataset_full.csv')\n",
    "dataset = dataset.loc[dataset['COND'] != '0']\n",
    "\n",
    "data = dataset.iloc[:, :-3]\n",
    "labels = dataset.iloc[:, -2:]\n",
    "data_train_full, data_test, labels_train_full, labels_test = train_test_split(data, labels, test_size=0.2,\n",
    "                                                                              random_state=123)\n",
    "\n",
    "data_train, data_validation, labels_train, labels_validation = train_test_split(data_train_full, labels_train_full,\n",
    "                                                                                test_size=0.2, random_state=123)\n",
    "\n",
    "data_train = data_train.loc[labels_train['ANS_AROUSAL'] != 1]\n",
    "data_train = data_train.loc[labels_train['ANS_AROUSAL'] != 5]\n",
    "data_train = data_train.loc[labels_train['ANS_AROUSAL'] != 9]\n",
    "labels_train = labels_train.loc[labels_train['ANS_AROUSAL'] != 1]\n",
    "labels_train = labels_train.loc[labels_train['ANS_AROUSAL'] != 5]\n",
    "labels_train = labels_train.loc[labels_train['ANS_AROUSAL'] != 9]\n",
    "\n",
    "data_train = data_train.loc[labels_train['ANS_VALENCE'] != 1]\n",
    "data_train = data_train.loc[labels_train['ANS_VALENCE'] != 5]\n",
    "data_train = data_train.loc[labels_train['ANS_VALENCE'] != 9]\n",
    "labels_train = labels_train.loc[labels_train['ANS_VALENCE'] != 1]\n",
    "labels_train = labels_train.loc[labels_train['ANS_VALENCE'] != 5]\n",
    "labels_train = labels_train.loc[labels_train['ANS_VALENCE'] != 9]"
   ],
   "metadata": {
    "collapsed": false
   }
  },
  {
   "cell_type": "code",
   "execution_count": 53,
   "outputs": [],
   "source": [
    "mms = MinMaxScaler()\n",
    "\n",
    "data_train_mms = mms.fit_transform(data_train)\n",
    "data_train_mms = pd.DataFrame(data_train_mms, columns=data_train.columns)\n",
    "data_validation_mms = mms.fit_transform(data_validation)\n",
    "data_validation_mms = pd.DataFrame(data_validation_mms, columns=data_validation.columns)"
   ],
   "metadata": {
    "collapsed": false
   }
  },
  {
   "cell_type": "code",
   "execution_count": 54,
   "outputs": [],
   "source": [
    "quantile_transformer = QuantileTransformer(output_distribution='normal', random_state=0)\n",
    "data_train_qt = quantile_transformer.fit_transform(data_train_mms)\n",
    "data_train_qt = pd.DataFrame(data_train_qt, columns=data_train_mms.columns)\n",
    "data_validation_qt = quantile_transformer.fit_transform(data_validation_mms)\n",
    "data_validation_qt = pd.DataFrame(data_validation_qt, columns=data_validation_mms.columns)"
   ],
   "metadata": {
    "collapsed": false
   }
  },
  {
   "cell_type": "code",
   "execution_count": 55,
   "outputs": [
    {
     "name": "stdout",
     "output_type": "stream",
     "text": [
      "Model: \"model_6\"\n",
      "_________________________________________________________________\n",
      " Layer (type)                Output Shape              Param #   \n",
      "=================================================================\n",
      " input_7 (InputLayer)        [(None, 13)]              0         \n",
      "                                                                 \n",
      " normalization_6 (Normalizat  (None, 13)               27        \n",
      " ion)                                                            \n",
      "                                                                 \n",
      " dense_15 (Dense)            (None, 1)                 14        \n",
      "                                                                 \n",
      "=================================================================\n",
      "Total params: 41\n",
      "Trainable params: 14\n",
      "Non-trainable params: 27\n",
      "_________________________________________________________________\n"
     ]
    }
   ],
   "source": [
    "tf.random.set_seed(123)\n",
    "\n",
    "norm_layer = tf.keras.layers.Normalization()\n",
    "\n",
    "input_ = tf.keras.layers.Input(shape=data_train_qt.shape[1:])\n",
    "normalized = norm_layer(input_)\n",
    "output = tf.keras.layers.Dense(1)(normalized)\n",
    "\n",
    "model = tf.keras.Model(inputs=[input_], outputs=[output])\n",
    "\n",
    "model.summary()"
   ],
   "metadata": {
    "collapsed": false
   }
  },
  {
   "cell_type": "code",
   "execution_count": 56,
   "outputs": [],
   "source": [
    "model.compile(loss='mse',\n",
    "              optimizer=tf.keras.optimizers.Adam(learning_rate=0.001),\n",
    "              metrics=['mae'])"
   ],
   "metadata": {
    "collapsed": false
   }
  },
  {
   "cell_type": "code",
   "execution_count": 57,
   "outputs": [],
   "source": [
    "norm_layer.adapt(data_train_qt)"
   ],
   "metadata": {
    "collapsed": false
   }
  },
  {
   "cell_type": "code",
   "execution_count": 58,
   "outputs": [
    {
     "name": "stdout",
     "output_type": "stream",
     "text": [
      "Epoch 1/50\n",
      "2394/2394 [==============================] - 7s 3ms/step - loss: 22.4080 - mae: 4.1942 - val_loss: 15.7213 - val_mae: 3.3813\n",
      "Epoch 2/50\n",
      "2394/2394 [==============================] - 8s 3ms/step - loss: 9.5326 - mae: 2.6213 - val_loss: 7.3244 - val_mae: 2.3336\n",
      "Epoch 3/50\n",
      "2394/2394 [==============================] - 7s 3ms/step - loss: 5.0254 - mae: 1.9477 - val_loss: 6.2214 - val_mae: 2.0966\n",
      "Epoch 4/50\n",
      "2394/2394 [==============================] - 8s 3ms/step - loss: 4.3868 - mae: 1.7931 - val_loss: 6.1987 - val_mae: 2.0759\n",
      "Epoch 5/50\n",
      "2394/2394 [==============================] - 8s 3ms/step - loss: 4.3777 - mae: 1.7825 - val_loss: 6.2055 - val_mae: 2.0744\n",
      "Epoch 6/50\n",
      "2394/2394 [==============================] - 10s 4ms/step - loss: 4.3779 - mae: 1.7831 - val_loss: 6.2063 - val_mae: 2.0749\n",
      "Epoch 7/50\n",
      "2394/2394 [==============================] - 10s 4ms/step - loss: 4.3772 - mae: 1.7823 - val_loss: 6.2410 - val_mae: 2.0723\n",
      "Epoch 8/50\n",
      "2394/2394 [==============================] - 11s 5ms/step - loss: 4.3777 - mae: 1.7830 - val_loss: 6.2116 - val_mae: 2.0732\n",
      "Epoch 9/50\n",
      "2394/2394 [==============================] - 9s 4ms/step - loss: 4.3777 - mae: 1.7829 - val_loss: 6.3043 - val_mae: 2.0745\n",
      "Epoch 10/50\n",
      "2394/2394 [==============================] - 9s 4ms/step - loss: 4.3778 - mae: 1.7830 - val_loss: 6.4253 - val_mae: 2.0814\n",
      "Epoch 11/50\n",
      "2394/2394 [==============================] - 9s 4ms/step - loss: 4.3774 - mae: 1.7825 - val_loss: 6.1976 - val_mae: 2.0761\n",
      "Epoch 12/50\n",
      "2394/2394 [==============================] - 9s 4ms/step - loss: 4.3775 - mae: 1.7832 - val_loss: 6.2401 - val_mae: 2.0733\n",
      "Epoch 13/50\n",
      "2394/2394 [==============================] - 11s 5ms/step - loss: 4.3779 - mae: 1.7826 - val_loss: 6.2376 - val_mae: 2.0728\n",
      "Epoch 14/50\n",
      "2394/2394 [==============================] - 7s 3ms/step - loss: 4.3774 - mae: 1.7828 - val_loss: 6.1980 - val_mae: 2.0765\n",
      "Epoch 15/50\n",
      "2394/2394 [==============================] - 7s 3ms/step - loss: 4.3778 - mae: 1.7829 - val_loss: 6.2504 - val_mae: 2.0727\n",
      "Epoch 16/50\n",
      "2394/2394 [==============================] - 7s 3ms/step - loss: 4.3778 - mae: 1.7829 - val_loss: 6.2476 - val_mae: 2.0729\n",
      "Epoch 17/50\n",
      "2394/2394 [==============================] - 7s 3ms/step - loss: 4.3775 - mae: 1.7827 - val_loss: 6.2628 - val_mae: 2.0725\n",
      "Epoch 18/50\n",
      "2394/2394 [==============================] - 7s 3ms/step - loss: 4.3778 - mae: 1.7830 - val_loss: 6.2565 - val_mae: 2.0730\n",
      "Epoch 19/50\n",
      "2394/2394 [==============================] - 7s 3ms/step - loss: 4.3775 - mae: 1.7826 - val_loss: 6.2362 - val_mae: 2.0730\n",
      "Epoch 20/50\n",
      "2394/2394 [==============================] - 8s 3ms/step - loss: 4.3778 - mae: 1.7830 - val_loss: 6.2057 - val_mae: 2.0741\n",
      "Epoch 21/50\n",
      "2394/2394 [==============================] - 9s 4ms/step - loss: 4.3771 - mae: 1.7827 - val_loss: 6.4852 - val_mae: 2.0867\n",
      "Epoch 22/50\n",
      "2394/2394 [==============================] - 8s 3ms/step - loss: 4.3780 - mae: 1.7826 - val_loss: 6.2253 - val_mae: 2.0732\n",
      "Epoch 23/50\n",
      "2394/2394 [==============================] - 8s 3ms/step - loss: 4.3776 - mae: 1.7828 - val_loss: 6.3103 - val_mae: 2.0740\n",
      "Epoch 24/50\n",
      "2394/2394 [==============================] - 7s 3ms/step - loss: 4.3777 - mae: 1.7829 - val_loss: 6.2689 - val_mae: 2.0732\n",
      "Epoch 25/50\n",
      "2394/2394 [==============================] - 7s 3ms/step - loss: 4.3777 - mae: 1.7828 - val_loss: 6.3257 - val_mae: 2.0758\n",
      "Epoch 26/50\n",
      "2394/2394 [==============================] - 10s 4ms/step - loss: 4.3774 - mae: 1.7828 - val_loss: 6.2332 - val_mae: 2.0730\n",
      "Epoch 27/50\n",
      "2394/2394 [==============================] - 10s 4ms/step - loss: 4.3779 - mae: 1.7828 - val_loss: 6.2406 - val_mae: 2.0735\n",
      "Epoch 28/50\n",
      "2394/2394 [==============================] - 9s 4ms/step - loss: 4.3776 - mae: 1.7828 - val_loss: 6.2517 - val_mae: 2.0726\n",
      "Epoch 29/50\n",
      "2394/2394 [==============================] - 8s 4ms/step - loss: 4.3778 - mae: 1.7829 - val_loss: 6.2237 - val_mae: 2.0730\n",
      "Epoch 30/50\n",
      "2394/2394 [==============================] - 7s 3ms/step - loss: 4.3779 - mae: 1.7829 - val_loss: 6.1954 - val_mae: 2.0754\n",
      "Epoch 31/50\n",
      "2394/2394 [==============================] - 7s 3ms/step - loss: 4.3775 - mae: 1.7829 - val_loss: 6.2334 - val_mae: 2.0729\n",
      "Epoch 32/50\n",
      "2394/2394 [==============================] - 10s 4ms/step - loss: 4.3776 - mae: 1.7828 - val_loss: 6.2354 - val_mae: 2.0729\n",
      "Epoch 33/50\n",
      "2394/2394 [==============================] - 7s 3ms/step - loss: 4.3777 - mae: 1.7827 - val_loss: 6.2493 - val_mae: 2.0727\n",
      "Epoch 34/50\n",
      "2394/2394 [==============================] - 7s 3ms/step - loss: 4.3772 - mae: 1.7829 - val_loss: 6.2425 - val_mae: 2.0727\n",
      "Epoch 35/50\n",
      "2394/2394 [==============================] - 7s 3ms/step - loss: 4.3778 - mae: 1.7829 - val_loss: 6.2225 - val_mae: 2.0724\n",
      "Epoch 36/50\n",
      "2394/2394 [==============================] - 7s 3ms/step - loss: 4.3778 - mae: 1.7826 - val_loss: 6.1939 - val_mae: 2.0766\n",
      "Epoch 37/50\n",
      "2394/2394 [==============================] - 7s 3ms/step - loss: 4.3776 - mae: 1.7827 - val_loss: 6.1882 - val_mae: 2.0813\n",
      "Epoch 38/50\n",
      "2394/2394 [==============================] - 7s 3ms/step - loss: 4.3776 - mae: 1.7831 - val_loss: 6.2210 - val_mae: 2.0726\n",
      "Epoch 39/50\n",
      "2394/2394 [==============================] - 7s 3ms/step - loss: 4.3779 - mae: 1.7826 - val_loss: 6.2722 - val_mae: 2.0733\n",
      "Epoch 40/50\n",
      "2394/2394 [==============================] - 7s 3ms/step - loss: 4.3775 - mae: 1.7825 - val_loss: 6.1945 - val_mae: 2.0784\n",
      "Epoch 41/50\n",
      "2394/2394 [==============================] - 7s 3ms/step - loss: 4.3777 - mae: 1.7833 - val_loss: 6.2955 - val_mae: 2.0736\n",
      "Epoch 42/50\n",
      "2394/2394 [==============================] - 7s 3ms/step - loss: 4.3776 - mae: 1.7827 - val_loss: 6.2468 - val_mae: 2.0737\n",
      "Epoch 43/50\n",
      "2394/2394 [==============================] - 7s 3ms/step - loss: 4.3775 - mae: 1.7829 - val_loss: 6.2970 - val_mae: 2.0743\n",
      "Epoch 44/50\n",
      "2394/2394 [==============================] - 7s 3ms/step - loss: 4.3778 - mae: 1.7828 - val_loss: 6.2909 - val_mae: 2.0739\n",
      "Epoch 45/50\n",
      "2394/2394 [==============================] - 7s 3ms/step - loss: 4.3777 - mae: 1.7827 - val_loss: 6.2549 - val_mae: 2.0730\n",
      "Epoch 46/50\n",
      "2394/2394 [==============================] - 7s 3ms/step - loss: 4.3777 - mae: 1.7829 - val_loss: 6.2742 - val_mae: 2.0729\n",
      "Epoch 47/50\n",
      "2394/2394 [==============================] - 7s 3ms/step - loss: 4.3780 - mae: 1.7829 - val_loss: 6.2693 - val_mae: 2.0727\n",
      "Epoch 48/50\n",
      "2394/2394 [==============================] - 8s 3ms/step - loss: 4.3776 - mae: 1.7825 - val_loss: 6.3714 - val_mae: 2.0780\n",
      "Epoch 49/50\n",
      "2394/2394 [==============================] - 7s 3ms/step - loss: 4.3775 - mae: 1.7828 - val_loss: 6.3177 - val_mae: 2.0751\n",
      "Epoch 50/50\n",
      "2394/2394 [==============================] - 8s 4ms/step - loss: 4.3778 - mae: 1.7829 - val_loss: 6.2729 - val_mae: 2.0733\n"
     ]
    },
    {
     "data": {
      "text/plain": "<keras.callbacks.History at 0x7fb3f7d2b340>"
     },
     "execution_count": 58,
     "metadata": {},
     "output_type": "execute_result"
    }
   ],
   "source": [
    "n_epochs = 50\n",
    "\n",
    "model.fit(data_train_qt, labels_train, epochs=n_epochs, validation_data=(data_validation, labels_validation))"
   ],
   "metadata": {
    "collapsed": false
   }
  },
  {
   "cell_type": "code",
   "execution_count": 59,
   "outputs": [
    {
     "name": "stdout",
     "output_type": "stream",
     "text": [
      "895/895 [==============================] - 1s 2ms/step\n",
      "\n",
      "Values for validation set:\n",
      "MAE: 1.7037912217032545\n",
      "MSE: 4.461603027688486\n",
      "RMSE: 2.112250701902709\n",
      "R2:  -0.0961470428518092\n"
     ]
    }
   ],
   "source": [
    "predictions = model.predict(data_validation_qt)\n",
    "\n",
    "mae, mse, r2 = get_score(labels_validation.iloc[:, 1], predictions)\n",
    "print(f'''\\nValues for validation set:\\nMAE: {mae}\\nMSE: {mse}\\nRMSE: {mse**.5}\\nR2:  {r2}''')"
   ],
   "metadata": {
    "collapsed": false
   }
  },
  {
   "cell_type": "markdown",
   "source": [
    "Trying big model again"
   ],
   "metadata": {
    "collapsed": false
   }
  },
  {
   "cell_type": "code",
   "execution_count": 60,
   "outputs": [
    {
     "name": "stdout",
     "output_type": "stream",
     "text": [
      "Model: \"model_7\"\n",
      "_________________________________________________________________\n",
      " Layer (type)                Output Shape              Param #   \n",
      "=================================================================\n",
      " input_8 (InputLayer)        [(None, 13)]              0         \n",
      "                                                                 \n",
      " normalization_7 (Normalizat  (None, 13)               27        \n",
      " ion)                                                            \n",
      "                                                                 \n",
      " dense_16 (Dense)            (None, 64)                896       \n",
      "                                                                 \n",
      " dense_17 (Dense)            (None, 128)               8320      \n",
      "                                                                 \n",
      " dense_18 (Dense)            (None, 64)                8256      \n",
      "                                                                 \n",
      " dense_19 (Dense)            (None, 1)                 65        \n",
      "                                                                 \n",
      "=================================================================\n",
      "Total params: 17,564\n",
      "Trainable params: 17,537\n",
      "Non-trainable params: 27\n",
      "_________________________________________________________________\n"
     ]
    }
   ],
   "source": [
    "tf.random.set_seed(123)\n",
    "\n",
    "norm_layer = tf.keras.layers.Normalization()\n",
    "\n",
    "input_ = tf.keras.layers.Input(shape=data_train_qt.shape[1:])\n",
    "normalized = norm_layer(input_)\n",
    "hidden1 = tf.keras.layers.Dense(64, activation='relu')(normalized)\n",
    "hidden2 = tf.keras.layers.Dense(128, activation='relu')(hidden1)\n",
    "hidden3 = tf.keras.layers.Dense(64, activation='relu')(hidden2)\n",
    "output = tf.keras.layers.Dense(1)(hidden3)\n",
    "\n",
    "model = tf.keras.Model(inputs=[input_], outputs=[output])\n",
    "\n",
    "model.summary()"
   ],
   "metadata": {
    "collapsed": false
   }
  },
  {
   "cell_type": "code",
   "execution_count": 61,
   "outputs": [],
   "source": [
    "model.compile(loss='mse',\n",
    "              optimizer=tf.keras.optimizers.Adam(learning_rate=0.001),\n",
    "              metrics=['mae'])\n",
    "norm_layer.adapt(data_train_qt)"
   ],
   "metadata": {
    "collapsed": false
   }
  },
  {
   "cell_type": "code",
   "execution_count": 62,
   "outputs": [
    {
     "name": "stdout",
     "output_type": "stream",
     "text": [
      "Epoch 1/25\n",
      "2394/2394 [==============================] - 14s 6ms/step - loss: 4.5915 - mae: 1.8098 - val_loss: 6.4162 - val_mae: 2.1450\n",
      "Epoch 2/25\n",
      "2394/2394 [==============================] - 8s 4ms/step - loss: 4.3485 - mae: 1.7673 - val_loss: 6.9066 - val_mae: 2.2557\n",
      "Epoch 3/25\n",
      "2394/2394 [==============================] - 9s 4ms/step - loss: 4.3270 - mae: 1.7618 - val_loss: 7.6310 - val_mae: 2.3755\n",
      "Epoch 4/25\n",
      "2394/2394 [==============================] - 8s 3ms/step - loss: 4.3184 - mae: 1.7594 - val_loss: 6.9558 - val_mae: 2.2637\n",
      "Epoch 5/25\n",
      "2394/2394 [==============================] - 8s 3ms/step - loss: 4.3048 - mae: 1.7563 - val_loss: 8.7220 - val_mae: 2.5412\n",
      "Epoch 6/25\n",
      "2394/2394 [==============================] - 8s 3ms/step - loss: 4.2981 - mae: 1.7547 - val_loss: 10.1886 - val_mae: 2.7359\n",
      "Epoch 7/25\n",
      "2394/2394 [==============================] - 9s 4ms/step - loss: 4.2902 - mae: 1.7529 - val_loss: 9.2388 - val_mae: 2.6119\n",
      "Epoch 8/25\n",
      "2394/2394 [==============================] - 8s 3ms/step - loss: 4.2814 - mae: 1.7505 - val_loss: 8.2981 - val_mae: 2.4801\n",
      "Epoch 9/25\n",
      "2394/2394 [==============================] - 8s 3ms/step - loss: 4.2765 - mae: 1.7495 - val_loss: 7.3807 - val_mae: 2.3344\n",
      "Epoch 10/25\n",
      "2394/2394 [==============================] - 8s 3ms/step - loss: 4.2688 - mae: 1.7479 - val_loss: 6.7502 - val_mae: 2.2214\n",
      "Epoch 11/25\n",
      "2394/2394 [==============================] - 9s 4ms/step - loss: 4.2616 - mae: 1.7464 - val_loss: 7.2768 - val_mae: 2.3228\n",
      "Epoch 12/25\n",
      "2394/2394 [==============================] - 9s 4ms/step - loss: 4.2555 - mae: 1.7444 - val_loss: 6.3831 - val_mae: 2.1343\n",
      "Epoch 13/25\n",
      "2394/2394 [==============================] - 8s 3ms/step - loss: 4.2531 - mae: 1.7440 - val_loss: 6.5248 - val_mae: 2.1603\n",
      "Epoch 14/25\n",
      "2394/2394 [==============================] - 8s 3ms/step - loss: 4.2472 - mae: 1.7428 - val_loss: 6.8731 - val_mae: 2.2443\n",
      "Epoch 15/25\n",
      "2394/2394 [==============================] - 8s 3ms/step - loss: 4.2463 - mae: 1.7423 - val_loss: 6.4878 - val_mae: 2.1583\n",
      "Epoch 16/25\n",
      "2394/2394 [==============================] - 8s 4ms/step - loss: 4.2415 - mae: 1.7412 - val_loss: 6.5585 - val_mae: 2.1223\n",
      "Epoch 17/25\n",
      "2394/2394 [==============================] - 8s 3ms/step - loss: 4.2387 - mae: 1.7401 - val_loss: 6.7280 - val_mae: 2.1330\n",
      "Epoch 18/25\n",
      "2394/2394 [==============================] - 8s 3ms/step - loss: 4.2374 - mae: 1.7403 - val_loss: 6.4120 - val_mae: 2.1141\n",
      "Epoch 19/25\n",
      "2394/2394 [==============================] - 8s 3ms/step - loss: 4.2300 - mae: 1.7384 - val_loss: 6.4636 - val_mae: 2.1555\n",
      "Epoch 20/25\n",
      "2394/2394 [==============================] - 8s 3ms/step - loss: 4.2297 - mae: 1.7379 - val_loss: 6.3740 - val_mae: 2.1276\n",
      "Epoch 21/25\n",
      "2394/2394 [==============================] - 8s 3ms/step - loss: 4.2245 - mae: 1.7365 - val_loss: 6.3815 - val_mae: 2.1021\n",
      "Epoch 22/25\n",
      "2394/2394 [==============================] - 8s 3ms/step - loss: 4.2236 - mae: 1.7361 - val_loss: 6.3400 - val_mae: 2.1171\n",
      "Epoch 23/25\n",
      "2394/2394 [==============================] - 8s 3ms/step - loss: 4.2214 - mae: 1.7359 - val_loss: 6.2736 - val_mae: 2.0853\n",
      "Epoch 24/25\n",
      "2394/2394 [==============================] - 9s 4ms/step - loss: 4.2184 - mae: 1.7349 - val_loss: 6.3456 - val_mae: 2.0931\n",
      "Epoch 25/25\n",
      "2394/2394 [==============================] - 9s 4ms/step - loss: 4.2171 - mae: 1.7346 - val_loss: 6.5253 - val_mae: 2.0973\n"
     ]
    },
    {
     "data": {
      "text/plain": "<keras.callbacks.History at 0x7fb3f7b6fc40>"
     },
     "execution_count": 62,
     "metadata": {},
     "output_type": "execute_result"
    }
   ],
   "source": [
    "n_epochs = 25\n",
    "\n",
    "model.fit(data_train_qt, labels_train, epochs=n_epochs, validation_data=(data_validation, labels_validation))"
   ],
   "metadata": {
    "collapsed": false
   }
  },
  {
   "cell_type": "code",
   "execution_count": 63,
   "outputs": [
    {
     "name": "stdout",
     "output_type": "stream",
     "text": [
      "895/895 [==============================] - 2s 2ms/step\n",
      "\n",
      "Values for validation set:\n",
      "MAE: 1.6253704886307228\n",
      "MSE: 4.150014941293899\n",
      "RMSE: 2.037158545939392\n",
      "R2:  -0.019594656328476567\n"
     ]
    }
   ],
   "source": [
    "predictions = model.predict(data_validation_qt)\n",
    "\n",
    "mae, mse, r2 = get_score(labels_validation.iloc[:, 1], predictions)\n",
    "print(f'''\\nValues for validation set:\\nMAE: {mae}\\nMSE: {mse}\\nRMSE: {mse**.5}\\nR2:  {r2}''')"
   ],
   "metadata": {
    "collapsed": false
   }
  },
  {
   "cell_type": "code",
   "execution_count": 63,
   "outputs": [],
   "source": [],
   "metadata": {
    "collapsed": false
   }
  }
 ],
 "metadata": {
  "kernelspec": {
   "display_name": "Python 3",
   "language": "python",
   "name": "python3"
  },
  "language_info": {
   "codemirror_mode": {
    "name": "ipython",
    "version": 2
   },
   "file_extension": ".py",
   "mimetype": "text/x-python",
   "name": "python",
   "nbconvert_exporter": "python",
   "pygments_lexer": "ipython2",
   "version": "2.7.6"
  }
 },
 "nbformat": 4,
 "nbformat_minor": 0
}
