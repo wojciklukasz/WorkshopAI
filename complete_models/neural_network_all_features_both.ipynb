{
 "cells": [
  {
   "cell_type": "code",
   "execution_count": 56,
   "metadata": {
    "collapsed": true
   },
   "outputs": [],
   "source": [
    "import numpy as np\n",
    "import pandas as pd\n",
    "from sklearn.model_selection import train_test_split\n",
    "from sklearn.metrics import mean_squared_error, mean_absolute_error, r2_score\n",
    "from sklearn.preprocessing import QuantileTransformer, MinMaxScaler\n",
    "import tensorflow as tf\n",
    "from pathlib import Path\n",
    "from time import strftime"
   ]
  },
  {
   "cell_type": "code",
   "execution_count": 2,
   "outputs": [
    {
     "data": {
      "text/plain": "Launching TensorBoard..."
     },
     "metadata": {},
     "output_type": "display_data"
    },
    {
     "data": {
      "text/plain": "<IPython.core.display.HTML object>",
      "text/html": "\n      <iframe id=\"tensorboard-frame-ecbe199ed714468\" width=\"100%\" height=\"800\" frameborder=\"0\">\n      </iframe>\n      <script>\n        (function() {\n          const frame = document.getElementById(\"tensorboard-frame-ecbe199ed714468\");\n          const url = new URL(\"/\", window.location);\n          const port = 6006;\n          if (port) {\n            url.port = port;\n          }\n          frame.src = url;\n        })();\n      </script>\n    "
     },
     "metadata": {},
     "output_type": "display_data"
    },
    {
     "name": "stdout",
     "output_type": "stream",
     "text": [
      "Tensorboard launched at localhost:6006\n"
     ]
    }
   ],
   "source": [
    "%load_ext tensorboard\n",
    "%tensorboard --logdir=./my_logs\n",
    "print('Tensorboard launched at localhost:6006')"
   ],
   "metadata": {
    "collapsed": false
   }
  },
  {
   "cell_type": "code",
   "execution_count": 3,
   "outputs": [
    {
     "name": "stdout",
     "output_type": "stream",
     "text": [
      "Num GPUs Available:  1\n"
     ]
    }
   ],
   "source": [
    "print(\"Num GPUs Available: \", len(tf.config.list_physical_devices('GPU')))"
   ],
   "metadata": {
    "collapsed": false
   }
  },
  {
   "cell_type": "code",
   "execution_count": 27,
   "outputs": [],
   "source": [
    "def get_run_dir(root='my_logs'):\n",
    "    return Path(root) / strftime('run_%Y_%m_%d_%H_%M_%S')"
   ],
   "metadata": {
    "collapsed": false
   }
  },
  {
   "cell_type": "code",
   "execution_count": 28,
   "outputs": [],
   "source": [
    "def get_score(true_values, predicted_values):\n",
    "    mae_ = mean_absolute_error(true_values, predicted_values)\n",
    "    mse_ = mean_squared_error(true_values, predicted_values)\n",
    "    r2_ = r2_score(true_values, predicted_values)\n",
    "\n",
    "    return mae_, mse_, r2_"
   ],
   "metadata": {
    "collapsed": false
   }
  },
  {
   "cell_type": "markdown",
   "source": [
    "# Loading data"
   ],
   "metadata": {
    "collapsed": false
   }
  },
  {
   "cell_type": "code",
   "execution_count": 29,
   "outputs": [],
   "source": [
    "dataset = pd.read_csv('dataset_all_features.csv')"
   ],
   "metadata": {
    "collapsed": false
   }
  },
  {
   "cell_type": "code",
   "execution_count": 30,
   "outputs": [],
   "source": [
    "dataset = dataset.loc[dataset['COND'] != '0']\n",
    "\n",
    "data = dataset.iloc[:, :-3]\n",
    "labels = dataset.iloc[:, -2:]"
   ],
   "metadata": {
    "collapsed": false
   }
  },
  {
   "cell_type": "markdown",
   "source": [
    "# Deleting categorical features"
   ],
   "metadata": {
    "collapsed": false
   }
  },
  {
   "cell_type": "code",
   "execution_count": 31,
   "outputs": [],
   "source": [
    "data.drop(columns=['FACEATTRIBUTES-BLUR-BLURLEVEL', 'FACEATTRIBUTES-EXPOSURE-EXPOSURELEVEL', 'FACEATTRIBUTES-GENDER',\n",
    "                   'FACEATTRIBUTES-GLASSES', 'FACEATTRIBUTES-HAIR-INVISIBLE', 'FACEATTRIBUTES-MAKEUP-EYEMAKEUP',\n",
    "                   'FACEATTRIBUTES-MAKEUP-LIPMAKEUP', 'FACEATTRIBUTES-NOISE-NOISELEVEL',\n",
    "                   'FACEATTRIBUTES-ACCESSORIES', 'FACEID'],\n",
    "          inplace=True)"
   ],
   "metadata": {
    "collapsed": false
   }
  },
  {
   "cell_type": "markdown",
   "source": [
    "# Splitting data"
   ],
   "metadata": {
    "collapsed": false
   }
  },
  {
   "cell_type": "code",
   "execution_count": 32,
   "outputs": [],
   "source": [
    "data_train_full, data_test, labels_train_full, labels_test = train_test_split(data, labels, test_size=0.2, random_state=123)\n",
    "\n",
    "data_train, data_validation, labels_train, labels_validation = train_test_split(data_train_full, labels_train_full, test_size=0.2, random_state=123)\n",
    "\n",
    "data_train = data_train.loc[labels_train['ANS_AROUSAL'] != 1]\n",
    "data_train = data_train.loc[labels_train['ANS_AROUSAL'] != 5]\n",
    "data_train = data_train.loc[labels_train['ANS_AROUSAL'] != 9]\n",
    "labels_train = labels_train.loc[labels_train['ANS_AROUSAL'] != 1]\n",
    "labels_train = labels_train.loc[labels_train['ANS_AROUSAL'] != 5]\n",
    "labels_train = labels_train.loc[labels_train['ANS_AROUSAL'] != 9]\n",
    "\n",
    "data_train = data_train.loc[labels_train['ANS_VALENCE'] != 1]\n",
    "data_train = data_train.loc[labels_train['ANS_VALENCE'] != 5]\n",
    "data_train = data_train.loc[labels_train['ANS_VALENCE'] != 9]\n",
    "labels_train = labels_train.loc[labels_train['ANS_VALENCE'] != 1]\n",
    "labels_train = labels_train.loc[labels_train['ANS_VALENCE'] != 5]\n",
    "labels_train = labels_train.loc[labels_train['ANS_VALENCE'] != 9]"
   ],
   "metadata": {
    "collapsed": false
   }
  },
  {
   "cell_type": "markdown",
   "source": [
    "# Scaling values to range 0 - 1"
   ],
   "metadata": {
    "collapsed": false
   }
  },
  {
   "cell_type": "code",
   "execution_count": 33,
   "outputs": [],
   "source": [
    "mms = MinMaxScaler()\n",
    "\n",
    "data_train_mms = mms.fit_transform(data_train)\n",
    "data_train_mms = pd.DataFrame(data_train_mms, columns=data_train.columns)\n",
    "data_validation_mms = mms.fit_transform(data_validation)\n",
    "data_validation_mms = pd.DataFrame(data_validation_mms, columns=data_validation.columns)\n",
    "data_test_mms = mms.fit_transform(data_test)\n",
    "data_test_mms = pd.DataFrame(data_test_mms, columns=data_test.columns)"
   ],
   "metadata": {
    "collapsed": false
   }
  },
  {
   "cell_type": "markdown",
   "source": [
    "# Scaling input values to Gaussian distributions"
   ],
   "metadata": {
    "collapsed": false
   }
  },
  {
   "cell_type": "code",
   "execution_count": 34,
   "outputs": [],
   "source": [
    "quantile_transformer = QuantileTransformer(output_distribution='normal', random_state=0)\n",
    "\n",
    "data_train_qt = quantile_transformer.fit_transform(data_train_mms)\n",
    "data_train_qt = pd.DataFrame(data_train_qt, columns=data_train_mms.columns)\n",
    "data_validation_qt = quantile_transformer.fit_transform(data_validation_mms)\n",
    "data_validation_qt = pd.DataFrame(data_validation_qt, columns=data_validation_mms.columns)\n",
    "data_test_qt = quantile_transformer.fit_transform(data_test_mms)\n",
    "data_test_qt = pd.DataFrame(data_test_qt, columns=data_test_mms.columns)"
   ],
   "metadata": {
    "collapsed": false
   }
  },
  {
   "cell_type": "markdown",
   "source": [
    "# Training"
   ],
   "metadata": {
    "collapsed": false
   }
  },
  {
   "cell_type": "code",
   "execution_count": 110,
   "outputs": [
    {
     "name": "stdout",
     "output_type": "stream",
     "text": [
      "Model: \"sequential_13\"\n",
      "_________________________________________________________________\n",
      " Layer (type)                Output Shape              Param #   \n",
      "=================================================================\n",
      " dense_48 (Dense)            (None, 89)                8010      \n",
      "                                                                 \n",
      " dense_49 (Dense)            (None, 89)                8010      \n",
      "                                                                 \n",
      " dense_50 (Dense)            (None, 2)                 180       \n",
      "                                                                 \n",
      "=================================================================\n",
      "Total params: 16,200\n",
      "Trainable params: 16,200\n",
      "Non-trainable params: 0\n",
      "_________________________________________________________________\n"
     ]
    }
   ],
   "source": [
    "tf.random.set_seed(123)\n",
    "\n",
    "n_inputs = data_train_qt.shape[1]\n",
    "\n",
    "def relu_max(x):\n",
    "    return tf.keras.activations.relu(x, max_value=9)\n",
    "\n",
    "model = tf.keras.Sequential(\n",
    "    [\n",
    "        tf.keras.layers.Input(shape=n_inputs),\n",
    "        tf.keras.layers.Dense(n_inputs, activation='relu'),\n",
    "        tf.keras.layers.Dense(n_inputs, activation='relu'),\n",
    "        tf.keras.layers.Dense(2, activation=relu_max)\n",
    "    ]\n",
    ")\n",
    "\n",
    "model.summary()"
   ],
   "metadata": {
    "collapsed": false
   }
  },
  {
   "cell_type": "code",
   "execution_count": 111,
   "outputs": [],
   "source": [
    "model.compile(loss=tf.keras.losses.MeanSquaredError(),\n",
    "              optimizer=tf.keras.optimizers.Adam(learning_rate=0.001),\n",
    "              metrics=[tf.keras.metrics.MeanAbsoluteError()])"
   ],
   "metadata": {
    "collapsed": false
   }
  },
  {
   "cell_type": "code",
   "execution_count": 112,
   "outputs": [
    {
     "name": "stdout",
     "output_type": "stream",
     "text": [
      "Epoch 1/50\n",
      "365/365 [==============================] - 2s 4ms/step - loss: 5.0175 - mean_absolute_error: 1.8420 - val_loss: 5.8573 - val_mean_absolute_error: 2.0096\n",
      "Epoch 2/50\n",
      "365/365 [==============================] - 1s 4ms/step - loss: 4.0693 - mean_absolute_error: 1.6848 - val_loss: 5.7005 - val_mean_absolute_error: 1.9845\n",
      "Epoch 3/50\n",
      "365/365 [==============================] - 1s 4ms/step - loss: 4.0057 - mean_absolute_error: 1.6703 - val_loss: 5.7103 - val_mean_absolute_error: 1.9791\n",
      "Epoch 4/50\n",
      "365/365 [==============================] - 1s 3ms/step - loss: 3.9679 - mean_absolute_error: 1.6594 - val_loss: 5.8263 - val_mean_absolute_error: 2.0077\n",
      "Epoch 5/50\n",
      "365/365 [==============================] - 1s 3ms/step - loss: 3.9168 - mean_absolute_error: 1.6471 - val_loss: 5.6935 - val_mean_absolute_error: 1.9705\n",
      "Epoch 6/50\n",
      "365/365 [==============================] - 3s 7ms/step - loss: 3.8869 - mean_absolute_error: 1.6397 - val_loss: 5.7071 - val_mean_absolute_error: 1.9746\n",
      "Epoch 7/50\n",
      "365/365 [==============================] - 2s 5ms/step - loss: 3.8651 - mean_absolute_error: 1.6355 - val_loss: 5.7344 - val_mean_absolute_error: 1.9702\n",
      "Epoch 8/50\n",
      "365/365 [==============================] - 2s 4ms/step - loss: 3.8280 - mean_absolute_error: 1.6241 - val_loss: 5.6559 - val_mean_absolute_error: 1.9609\n",
      "Epoch 9/50\n",
      "365/365 [==============================] - 2s 6ms/step - loss: 3.7974 - mean_absolute_error: 1.6153 - val_loss: 5.6770 - val_mean_absolute_error: 1.9687\n",
      "Epoch 10/50\n",
      "365/365 [==============================] - 3s 9ms/step - loss: 3.7659 - mean_absolute_error: 1.6070 - val_loss: 5.6567 - val_mean_absolute_error: 1.9563\n",
      "Epoch 11/50\n",
      "365/365 [==============================] - 3s 8ms/step - loss: 3.7453 - mean_absolute_error: 1.6020 - val_loss: 5.7077 - val_mean_absolute_error: 1.9616\n",
      "Epoch 12/50\n",
      "365/365 [==============================] - 2s 6ms/step - loss: 3.7090 - mean_absolute_error: 1.5927 - val_loss: 5.6846 - val_mean_absolute_error: 1.9622\n",
      "Epoch 13/50\n",
      "365/365 [==============================] - 1s 3ms/step - loss: 3.6846 - mean_absolute_error: 1.5859 - val_loss: 5.7878 - val_mean_absolute_error: 1.9718\n",
      "Epoch 14/50\n",
      "365/365 [==============================] - 1s 3ms/step - loss: 3.6556 - mean_absolute_error: 1.5776 - val_loss: 5.7474 - val_mean_absolute_error: 1.9561\n",
      "Epoch 15/50\n",
      "365/365 [==============================] - 1s 3ms/step - loss: 3.6263 - mean_absolute_error: 1.5688 - val_loss: 5.6916 - val_mean_absolute_error: 1.9590\n",
      "Epoch 16/50\n",
      "365/365 [==============================] - 1s 3ms/step - loss: 3.5930 - mean_absolute_error: 1.5595 - val_loss: 5.7022 - val_mean_absolute_error: 1.9572\n",
      "Epoch 17/50\n",
      "365/365 [==============================] - 1s 3ms/step - loss: 3.5667 - mean_absolute_error: 1.5534 - val_loss: 5.7363 - val_mean_absolute_error: 1.9572\n",
      "Epoch 18/50\n",
      "365/365 [==============================] - 1s 3ms/step - loss: 3.5403 - mean_absolute_error: 1.5460 - val_loss: 5.8272 - val_mean_absolute_error: 1.9721\n",
      "Epoch 19/50\n",
      "365/365 [==============================] - 2s 4ms/step - loss: 3.5238 - mean_absolute_error: 1.5388 - val_loss: 5.7229 - val_mean_absolute_error: 1.9523\n",
      "Epoch 20/50\n",
      "365/365 [==============================] - 1s 3ms/step - loss: 3.4985 - mean_absolute_error: 1.5336 - val_loss: 5.8467 - val_mean_absolute_error: 1.9648\n",
      "Epoch 21/50\n",
      "365/365 [==============================] - 1s 3ms/step - loss: 3.4687 - mean_absolute_error: 1.5254 - val_loss: 5.7295 - val_mean_absolute_error: 1.9478\n",
      "Epoch 22/50\n",
      "365/365 [==============================] - 1s 4ms/step - loss: 3.4397 - mean_absolute_error: 1.5167 - val_loss: 5.8083 - val_mean_absolute_error: 1.9665\n",
      "Epoch 23/50\n",
      "365/365 [==============================] - 1s 4ms/step - loss: 3.4259 - mean_absolute_error: 1.5114 - val_loss: 5.7825 - val_mean_absolute_error: 1.9518\n",
      "Epoch 24/50\n",
      "365/365 [==============================] - 1s 4ms/step - loss: 3.4099 - mean_absolute_error: 1.5074 - val_loss: 5.8184 - val_mean_absolute_error: 1.9569\n",
      "Epoch 25/50\n",
      "365/365 [==============================] - 1s 3ms/step - loss: 3.3922 - mean_absolute_error: 1.5011 - val_loss: 5.7413 - val_mean_absolute_error: 1.9523\n",
      "Epoch 26/50\n",
      "365/365 [==============================] - 1s 3ms/step - loss: 3.3666 - mean_absolute_error: 1.4955 - val_loss: 5.7927 - val_mean_absolute_error: 1.9516\n",
      "Epoch 27/50\n",
      "365/365 [==============================] - 1s 3ms/step - loss: 3.3330 - mean_absolute_error: 1.4866 - val_loss: 5.8337 - val_mean_absolute_error: 1.9612\n",
      "Epoch 28/50\n",
      "365/365 [==============================] - 1s 3ms/step - loss: 3.3346 - mean_absolute_error: 1.4871 - val_loss: 5.8722 - val_mean_absolute_error: 1.9605\n",
      "Epoch 29/50\n",
      "365/365 [==============================] - 1s 3ms/step - loss: 3.3102 - mean_absolute_error: 1.4789 - val_loss: 5.8523 - val_mean_absolute_error: 1.9635\n",
      "Epoch 30/50\n",
      "365/365 [==============================] - 1s 3ms/step - loss: 3.2864 - mean_absolute_error: 1.4749 - val_loss: 5.8158 - val_mean_absolute_error: 1.9470\n",
      "Epoch 31/50\n",
      "365/365 [==============================] - 2s 4ms/step - loss: 3.2737 - mean_absolute_error: 1.4689 - val_loss: 5.8431 - val_mean_absolute_error: 1.9582\n",
      "Epoch 32/50\n",
      "365/365 [==============================] - 1s 3ms/step - loss: 3.2503 - mean_absolute_error: 1.4648 - val_loss: 5.8763 - val_mean_absolute_error: 1.9561\n",
      "Epoch 33/50\n",
      "365/365 [==============================] - 1s 3ms/step - loss: 3.2340 - mean_absolute_error: 1.4591 - val_loss: 5.9182 - val_mean_absolute_error: 1.9606\n",
      "Epoch 34/50\n",
      "365/365 [==============================] - 1s 3ms/step - loss: 3.2170 - mean_absolute_error: 1.4528 - val_loss: 5.8822 - val_mean_absolute_error: 1.9530\n",
      "Epoch 35/50\n",
      "365/365 [==============================] - 1s 3ms/step - loss: 3.2135 - mean_absolute_error: 1.4554 - val_loss: 6.0274 - val_mean_absolute_error: 1.9774\n",
      "Epoch 36/50\n",
      "365/365 [==============================] - 1s 3ms/step - loss: 3.1886 - mean_absolute_error: 1.4427 - val_loss: 5.9219 - val_mean_absolute_error: 1.9646\n",
      "Epoch 37/50\n",
      "365/365 [==============================] - 1s 3ms/step - loss: 3.1627 - mean_absolute_error: 1.4372 - val_loss: 5.9187 - val_mean_absolute_error: 1.9552\n",
      "Epoch 38/50\n",
      "365/365 [==============================] - 1s 3ms/step - loss: 3.1534 - mean_absolute_error: 1.4340 - val_loss: 6.0443 - val_mean_absolute_error: 1.9704\n",
      "Epoch 39/50\n",
      "365/365 [==============================] - 1s 3ms/step - loss: 3.1329 - mean_absolute_error: 1.4293 - val_loss: 6.1591 - val_mean_absolute_error: 1.9901\n",
      "Epoch 40/50\n",
      "365/365 [==============================] - 1s 3ms/step - loss: 3.1277 - mean_absolute_error: 1.4287 - val_loss: 6.0188 - val_mean_absolute_error: 1.9694\n",
      "Epoch 41/50\n",
      "365/365 [==============================] - 1s 3ms/step - loss: 3.1125 - mean_absolute_error: 1.4224 - val_loss: 6.0373 - val_mean_absolute_error: 1.9659\n",
      "Epoch 42/50\n",
      "365/365 [==============================] - 1s 3ms/step - loss: 3.1088 - mean_absolute_error: 1.4196 - val_loss: 6.0119 - val_mean_absolute_error: 1.9728\n",
      "Epoch 43/50\n",
      "365/365 [==============================] - 1s 3ms/step - loss: 3.0964 - mean_absolute_error: 1.4183 - val_loss: 5.9358 - val_mean_absolute_error: 1.9454\n",
      "Epoch 44/50\n",
      "365/365 [==============================] - 1s 3ms/step - loss: 3.0796 - mean_absolute_error: 1.4126 - val_loss: 6.0576 - val_mean_absolute_error: 1.9704\n",
      "Epoch 45/50\n",
      "365/365 [==============================] - 1s 3ms/step - loss: 3.0639 - mean_absolute_error: 1.4090 - val_loss: 5.9796 - val_mean_absolute_error: 1.9569\n",
      "Epoch 46/50\n",
      "365/365 [==============================] - 1s 3ms/step - loss: 3.0444 - mean_absolute_error: 1.4037 - val_loss: 6.0589 - val_mean_absolute_error: 1.9652\n",
      "Epoch 47/50\n",
      "365/365 [==============================] - 1s 3ms/step - loss: 3.0382 - mean_absolute_error: 1.4020 - val_loss: 5.9043 - val_mean_absolute_error: 1.9440\n",
      "Epoch 48/50\n",
      "365/365 [==============================] - 1s 3ms/step - loss: 3.0224 - mean_absolute_error: 1.3958 - val_loss: 6.0303 - val_mean_absolute_error: 1.9640\n",
      "Epoch 49/50\n",
      "365/365 [==============================] - 1s 3ms/step - loss: 3.0077 - mean_absolute_error: 1.3926 - val_loss: 6.0287 - val_mean_absolute_error: 1.9533\n",
      "Epoch 50/50\n",
      "365/365 [==============================] - 1s 3ms/step - loss: 3.0035 - mean_absolute_error: 1.3919 - val_loss: 6.0559 - val_mean_absolute_error: 1.9566\n"
     ]
    }
   ],
   "source": [
    "n_epochs = 50\n",
    "\n",
    "run_dir = get_run_dir()\n",
    "tensorboard_cb = tf.keras.callbacks.TensorBoard(run_dir, profile_batch=(0, n_epochs))\n",
    "\n",
    "history = model.fit(data_train_qt, labels_train, epochs=n_epochs, batch_size= 50,\n",
    "                    validation_data=(data_validation_qt, labels_validation), callbacks=[tensorboard_cb])"
   ],
   "metadata": {
    "collapsed": false
   }
  },
  {
   "cell_type": "code",
   "execution_count": 113,
   "outputs": [
    {
     "name": "stdout",
     "output_type": "stream",
     "text": [
      "268/268 [==============================] - 0s 1ms/step\n",
      "\n",
      "Values for validation set:\n",
      "MAE: 1.9643370734574488\n",
      "MSE: 6.0689975445280435\n",
      "RMSE: 2.4635335484884395\n",
      "R2:  -0.03127502821219097\n"
     ]
    }
   ],
   "source": [
    "predictions = model.predict(data_test_qt)\n",
    "\n",
    "mae, mse, r2 = get_score(labels_test, predictions)\n",
    "print(f'''\\nValues for validation set:\\nMAE: {mae}\\nMSE: {mse}\\nRMSE: {mse**.5}\\nR2:  {r2}''')"
   ],
   "metadata": {
    "collapsed": false
   }
  },
  {
   "cell_type": "markdown",
   "source": [
    "# Overfitting?"
   ],
   "metadata": {
    "collapsed": false
   }
  },
  {
   "cell_type": "code",
   "execution_count": 19,
   "outputs": [
    {
     "name": "stdout",
     "output_type": "stream",
     "text": [
      "Model: \"model_1\"\n",
      "_________________________________________________________________\n",
      " Layer (type)                Output Shape              Param #   \n",
      "=================================================================\n",
      " input_3 (InputLayer)        [(None, 89)]              0         \n",
      "                                                                 \n",
      " normalization_2 (Normalizat  (None, 89)               179       \n",
      " ion)                                                            \n",
      "                                                                 \n",
      " dense_5 (Dense)             (None, 2)                 180       \n",
      "                                                                 \n",
      "=================================================================\n",
      "Total params: 359\n",
      "Trainable params: 180\n",
      "Non-trainable params: 179\n",
      "_________________________________________________________________\n"
     ]
    }
   ],
   "source": [
    "tf.random.set_seed(123)\n",
    "\n",
    "norm_layer = tf.keras.layers.Normalization()\n",
    "\n",
    "input_ = tf.keras.layers.Input(shape=n_inputs)\n",
    "normalized = norm_layer(input_)\n",
    "output = tf.keras.layers.Dense(2)(normalized)\n",
    "\n",
    "model = tf.keras.Model(inputs=[input_], outputs=[output])\n",
    "\n",
    "model.summary()"
   ],
   "metadata": {
    "collapsed": false
   }
  },
  {
   "cell_type": "code",
   "execution_count": 20,
   "outputs": [],
   "source": [
    "model.compile(loss='mse',\n",
    "              optimizer=tf.keras.optimizers.Adam(learning_rate=0.001),\n",
    "              metrics=['mae'])"
   ],
   "metadata": {
    "collapsed": false
   }
  },
  {
   "cell_type": "code",
   "execution_count": 21,
   "outputs": [],
   "source": [
    "norm_layer.adapt(data_train_qt)"
   ],
   "metadata": {
    "collapsed": false
   }
  },
  {
   "cell_type": "code",
   "execution_count": 22,
   "outputs": [
    {
     "name": "stdout",
     "output_type": "stream",
     "text": [
      "Epoch 1/50\n",
      "570/570 [==============================] - 3s 5ms/step - loss: 29.8727 - mae: 5.0167 - val_loss: 22200.0625 - val_mae: 147.6092\n",
      "Epoch 2/50\n",
      "570/570 [==============================] - 3s 5ms/step - loss: 24.4953 - mae: 4.4760 - val_loss: 5629.7378 - val_mae: 67.2040\n",
      "Epoch 3/50\n",
      "570/570 [==============================] - 2s 4ms/step - loss: 20.0869 - mae: 3.9724 - val_loss: 1477.4966 - val_mae: 36.1353\n",
      "Epoch 4/50\n",
      "570/570 [==============================] - 3s 4ms/step - loss: 16.4026 - mae: 3.5202 - val_loss: 2506.2991 - val_mae: 46.1507\n",
      "Epoch 5/50\n",
      "570/570 [==============================] - 2s 4ms/step - loss: 13.3421 - mae: 3.1322 - val_loss: 11326.8760 - val_mae: 105.5095\n",
      "Epoch 6/50\n",
      "570/570 [==============================] - 2s 4ms/step - loss: 10.8422 - mae: 2.8044 - val_loss: 5465.4497 - val_mae: 70.4654\n",
      "Epoch 7/50\n",
      "570/570 [==============================] - 2s 4ms/step - loss: 8.8383 - mae: 2.5298 - val_loss: 7358.6997 - val_mae: 72.2214\n",
      "Epoch 8/50\n",
      "570/570 [==============================] - 3s 5ms/step - loss: 7.2752 - mae: 2.3043 - val_loss: 12846.5127 - val_mae: 103.5023\n",
      "Epoch 9/50\n",
      "570/570 [==============================] - 3s 4ms/step - loss: 6.1134 - mae: 2.1251 - val_loss: 26425.9277 - val_mae: 158.5727\n",
      "Epoch 10/50\n",
      "570/570 [==============================] - 3s 5ms/step - loss: 5.2867 - mae: 1.9859 - val_loss: 5376.9180 - val_mae: 63.3244\n",
      "Epoch 11/50\n",
      "570/570 [==============================] - 3s 4ms/step - loss: 4.7413 - mae: 1.8827 - val_loss: 9089.8652 - val_mae: 73.4625\n",
      "Epoch 12/50\n",
      "570/570 [==============================] - 3s 5ms/step - loss: 4.4104 - mae: 1.8074 - val_loss: 3964.3291 - val_mae: 49.8275\n",
      "Epoch 13/50\n",
      "570/570 [==============================] - 2s 4ms/step - loss: 4.2319 - mae: 1.7558 - val_loss: 23770.4902 - val_mae: 153.4988\n",
      "Epoch 14/50\n",
      "570/570 [==============================] - 2s 4ms/step - loss: 4.1513 - mae: 1.7257 - val_loss: 14533.1943 - val_mae: 114.4833\n",
      "Epoch 15/50\n",
      "570/570 [==============================] - 2s 3ms/step - loss: 4.1213 - mae: 1.7103 - val_loss: 12398.6953 - val_mae: 109.0408\n",
      "Epoch 16/50\n",
      "570/570 [==============================] - 2s 3ms/step - loss: 4.1119 - mae: 1.7030 - val_loss: 4171.7930 - val_mae: 61.3817\n",
      "Epoch 17/50\n",
      "570/570 [==============================] - 2s 3ms/step - loss: 4.1110 - mae: 1.7005 - val_loss: 12162.0723 - val_mae: 103.4587\n",
      "Epoch 18/50\n",
      "570/570 [==============================] - 1s 3ms/step - loss: 4.1081 - mae: 1.6992 - val_loss: 7092.8096 - val_mae: 74.1044\n",
      "Epoch 19/50\n",
      "570/570 [==============================] - 1s 3ms/step - loss: 4.1081 - mae: 1.6985 - val_loss: 1290.1575 - val_mae: 34.4405\n",
      "Epoch 20/50\n",
      "570/570 [==============================] - 2s 3ms/step - loss: 4.1042 - mae: 1.6985 - val_loss: 15207.7334 - val_mae: 122.2706\n",
      "Epoch 21/50\n",
      "570/570 [==============================] - 1s 3ms/step - loss: 4.1047 - mae: 1.6980 - val_loss: 9968.4355 - val_mae: 99.3271\n",
      "Epoch 22/50\n",
      "570/570 [==============================] - 2s 3ms/step - loss: 4.1048 - mae: 1.6980 - val_loss: 6626.2871 - val_mae: 79.0466\n",
      "Epoch 23/50\n",
      "570/570 [==============================] - 1s 3ms/step - loss: 4.1031 - mae: 1.6979 - val_loss: 31561.4648 - val_mae: 171.0315\n",
      "Epoch 24/50\n",
      "570/570 [==============================] - 1s 3ms/step - loss: 4.1073 - mae: 1.6985 - val_loss: 8522.2275 - val_mae: 83.1177\n",
      "Epoch 25/50\n",
      "570/570 [==============================] - 1s 3ms/step - loss: 4.1047 - mae: 1.6978 - val_loss: 7239.5581 - val_mae: 84.5027\n",
      "Epoch 26/50\n",
      "570/570 [==============================] - 2s 3ms/step - loss: 4.1055 - mae: 1.6991 - val_loss: 3798.1580 - val_mae: 60.9741\n",
      "Epoch 27/50\n",
      "570/570 [==============================] - 2s 3ms/step - loss: 4.1002 - mae: 1.6976 - val_loss: 4021.6858 - val_mae: 57.9511\n",
      "Epoch 28/50\n",
      "570/570 [==============================] - 2s 3ms/step - loss: 4.1048 - mae: 1.6977 - val_loss: 8057.7563 - val_mae: 79.5702\n",
      "Epoch 29/50\n",
      "570/570 [==============================] - 2s 4ms/step - loss: 4.1023 - mae: 1.6972 - val_loss: 4558.9121 - val_mae: 66.9110\n",
      "Epoch 30/50\n",
      "570/570 [==============================] - 2s 4ms/step - loss: 4.0990 - mae: 1.6979 - val_loss: 8107.8809 - val_mae: 82.6550\n",
      "Epoch 31/50\n",
      "570/570 [==============================] - 3s 5ms/step - loss: 4.1005 - mae: 1.6969 - val_loss: 7812.3418 - val_mae: 75.9989\n",
      "Epoch 32/50\n",
      "570/570 [==============================] - 2s 3ms/step - loss: 4.1000 - mae: 1.6979 - val_loss: 2816.0149 - val_mae: 51.0833\n",
      "Epoch 33/50\n",
      "570/570 [==============================] - 2s 3ms/step - loss: 4.1016 - mae: 1.6971 - val_loss: 34051.1992 - val_mae: 175.7127\n",
      "Epoch 34/50\n",
      "570/570 [==============================] - 2s 4ms/step - loss: 4.0992 - mae: 1.6983 - val_loss: 19418.7930 - val_mae: 132.0864\n",
      "Epoch 35/50\n",
      "570/570 [==============================] - 2s 3ms/step - loss: 4.0996 - mae: 1.6974 - val_loss: 17664.4297 - val_mae: 127.1875\n",
      "Epoch 36/50\n",
      "570/570 [==============================] - 2s 3ms/step - loss: 4.0983 - mae: 1.6967 - val_loss: 6329.3354 - val_mae: 65.6545\n",
      "Epoch 37/50\n",
      "570/570 [==============================] - 1s 3ms/step - loss: 4.0985 - mae: 1.6967 - val_loss: 17260.3516 - val_mae: 106.9765\n",
      "Epoch 38/50\n",
      "570/570 [==============================] - 1s 2ms/step - loss: 4.1004 - mae: 1.6976 - val_loss: 18629.3262 - val_mae: 113.6141\n",
      "Epoch 39/50\n",
      "570/570 [==============================] - 2s 4ms/step - loss: 4.0957 - mae: 1.6957 - val_loss: 4698.9233 - val_mae: 61.8058\n",
      "Epoch 40/50\n",
      "570/570 [==============================] - 2s 3ms/step - loss: 4.0994 - mae: 1.6977 - val_loss: 10430.1182 - val_mae: 95.3945\n",
      "Epoch 41/50\n",
      "570/570 [==============================] - 1s 3ms/step - loss: 4.0967 - mae: 1.6963 - val_loss: 9088.4531 - val_mae: 73.0956\n",
      "Epoch 42/50\n",
      "570/570 [==============================] - 3s 5ms/step - loss: 4.0992 - mae: 1.6974 - val_loss: 7533.9707 - val_mae: 67.0935\n",
      "Epoch 43/50\n",
      "570/570 [==============================] - 2s 3ms/step - loss: 4.0991 - mae: 1.6964 - val_loss: 19327.6309 - val_mae: 100.7766\n",
      "Epoch 44/50\n",
      "570/570 [==============================] - 2s 4ms/step - loss: 4.0998 - mae: 1.6970 - val_loss: 23371.7324 - val_mae: 150.6897\n",
      "Epoch 45/50\n",
      "570/570 [==============================] - 2s 4ms/step - loss: 4.0981 - mae: 1.6969 - val_loss: 20944.4180 - val_mae: 128.4661\n",
      "Epoch 46/50\n",
      "570/570 [==============================] - 2s 3ms/step - loss: 4.0965 - mae: 1.6966 - val_loss: 33427.8242 - val_mae: 157.3758\n",
      "Epoch 47/50\n",
      "570/570 [==============================] - 1s 3ms/step - loss: 4.0961 - mae: 1.6965 - val_loss: 8101.1675 - val_mae: 84.8677\n",
      "Epoch 48/50\n",
      "570/570 [==============================] - 2s 3ms/step - loss: 4.0966 - mae: 1.6969 - val_loss: 5820.8613 - val_mae: 75.5270\n",
      "Epoch 49/50\n",
      "570/570 [==============================] - 1s 3ms/step - loss: 4.0954 - mae: 1.6965 - val_loss: 12104.2148 - val_mae: 109.3506\n",
      "Epoch 50/50\n",
      "570/570 [==============================] - 1s 3ms/step - loss: 4.0960 - mae: 1.6961 - val_loss: 22857.4004 - val_mae: 149.9613\n"
     ]
    },
    {
     "data": {
      "text/plain": "<keras.callbacks.History at 0x7f66f478cb20>"
     },
     "execution_count": 22,
     "metadata": {},
     "output_type": "execute_result"
    }
   ],
   "source": [
    "n_epochs = 50\n",
    "\n",
    "# run_dir = get_run_dir()\n",
    "# tensorboard_cb = tf.keras.callbacks.TensorBoard(run_dir, profile_batch=(0, n_epochs))\n",
    "\n",
    "model.fit(data_train_qt, labels_train, epochs=n_epochs, validation_data=(data_validation_qt, labels_validation))"
   ],
   "metadata": {
    "collapsed": false
   }
  },
  {
   "cell_type": "code",
   "execution_count": 23,
   "outputs": [
    {
     "name": "stdout",
     "output_type": "stream",
     "text": [
      "215/215 [==============================] - 0s 2ms/step\n",
      "\n",
      "Values for validation set:\n",
      "MAE: 1.9900330094556329\n",
      "MSE: 5.703879559937679\n",
      "RMSE: 2.388279623481656\n",
      "R2:  0.0006626172185835166\n"
     ]
    }
   ],
   "source": [
    "predictions = model.predict(data_validation_qt)\n",
    "\n",
    "mae, mse, r2 = get_score(labels_validation, predictions)\n",
    "print(f'''\\nValues for validation set:\\nMAE: {mae}\\nMSE: {mse}\\nRMSE: {mse**.5}\\nR2:  {r2}''')"
   ],
   "metadata": {
    "collapsed": false
   }
  },
  {
   "cell_type": "code",
   "execution_count": null,
   "outputs": [],
   "source": [],
   "metadata": {
    "collapsed": false
   }
  }
 ],
 "metadata": {
  "kernelspec": {
   "display_name": "Python 3",
   "language": "python",
   "name": "python3"
  },
  "language_info": {
   "codemirror_mode": {
    "name": "ipython",
    "version": 2
   },
   "file_extension": ".py",
   "mimetype": "text/x-python",
   "name": "python",
   "nbconvert_exporter": "python",
   "pygments_lexer": "ipython2",
   "version": "2.7.6"
  }
 },
 "nbformat": 4,
 "nbformat_minor": 0
}
