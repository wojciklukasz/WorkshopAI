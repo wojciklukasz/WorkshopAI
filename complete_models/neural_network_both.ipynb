{
 "cells": [
  {
   "cell_type": "code",
   "execution_count": 1,
   "metadata": {
    "collapsed": true
   },
   "outputs": [],
   "source": [
    "import pandas as pd\n",
    "from sklearn.model_selection import train_test_split\n",
    "from sklearn.metrics import mean_squared_error, mean_absolute_error, r2_score\n",
    "from sklearn.preprocessing import QuantileTransformer\n",
    "import tensorflow as tf\n",
    "from pathlib import Path\n",
    "from time import strftime"
   ]
  },
  {
   "cell_type": "code",
   "execution_count": 2,
   "outputs": [
    {
     "data": {
      "text/plain": "Launching TensorBoard..."
     },
     "metadata": {},
     "output_type": "display_data"
    },
    {
     "name": "stdout",
     "output_type": "stream",
     "text": [
      "Tensorboard launched at localhost:6006\n"
     ]
    }
   ],
   "source": [
    "%load_ext tensorboard\n",
    "%tensorboard --logdir=./my_logs\n",
    "print('Tensorboard launched at localhost:6006')"
   ],
   "metadata": {
    "collapsed": false
   }
  },
  {
   "cell_type": "code",
   "execution_count": 3,
   "outputs": [
    {
     "name": "stdout",
     "output_type": "stream",
     "text": [
      "Num GPUs Available:  1\n"
     ]
    }
   ],
   "source": [
    "print(\"Num GPUs Available: \", len(tf.config.list_physical_devices('GPU')))"
   ],
   "metadata": {
    "collapsed": false
   }
  },
  {
   "cell_type": "code",
   "execution_count": 4,
   "outputs": [],
   "source": [
    "def get_run_dir(root='my_logs'):\n",
    "    return Path(root) / strftime('run_%Y_%m_%d_%H_%M_%S')"
   ],
   "metadata": {
    "collapsed": false
   }
  },
  {
   "cell_type": "code",
   "execution_count": 5,
   "outputs": [],
   "source": [
    "def get_score(true_values, predicted_values):\n",
    "    mae_ = mean_absolute_error(true_values, predicted_values)\n",
    "    mse_ = mean_squared_error(true_values, predicted_values)\n",
    "    r2_ = r2_score(true_values, predicted_values)\n",
    "\n",
    "    return mae_, mse_, r2_"
   ],
   "metadata": {
    "collapsed": false
   }
  },
  {
   "cell_type": "markdown",
   "source": [
    "# Loading data"
   ],
   "metadata": {
    "collapsed": false
   }
  },
  {
   "cell_type": "code",
   "execution_count": 6,
   "outputs": [],
   "source": [
    "dataset = pd.read_csv('dataset.csv')"
   ],
   "metadata": {
    "collapsed": false
   }
  },
  {
   "cell_type": "code",
   "execution_count": 7,
   "outputs": [],
   "source": [
    "dataset = dataset.loc[dataset['COND'] != '0']\n",
    "\n",
    "data = dataset.iloc[:, :8]\n",
    "labels = dataset.iloc[:, -2:]"
   ],
   "metadata": {
    "collapsed": false
   }
  },
  {
   "cell_type": "code",
   "execution_count": 8,
   "outputs": [],
   "source": [
    "data_train_full, data_test, labels_train_full, labels_test = train_test_split(data, labels, test_size=0.2, random_state=123)\n",
    "\n",
    "data_train, data_validation, labels_train, labels_validation = train_test_split(data_train_full, labels_train_full, test_size=0.2, random_state=123)\n",
    "\n",
    "data_train = data_train.loc[labels_train['ANS_AROUSAL'] != 1]\n",
    "data_train = data_train.loc[labels_train['ANS_AROUSAL'] != 5]\n",
    "data_train = data_train.loc[labels_train['ANS_AROUSAL'] != 9]\n",
    "labels_train = labels_train.loc[labels_train['ANS_AROUSAL'] != 1]\n",
    "labels_train = labels_train.loc[labels_train['ANS_AROUSAL'] != 5]\n",
    "labels_train = labels_train.loc[labels_train['ANS_AROUSAL'] != 9]\n",
    "\n",
    "data_train = data_train.loc[labels_train['ANS_VALENCE'] != 1]\n",
    "data_train = data_train.loc[labels_train['ANS_VALENCE'] != 5]\n",
    "data_train = data_train.loc[labels_train['ANS_VALENCE'] != 9]\n",
    "labels_train = labels_train.loc[labels_train['ANS_VALENCE'] != 1]\n",
    "labels_train = labels_train.loc[labels_train['ANS_VALENCE'] != 5]\n",
    "labels_train = labels_train.loc[labels_train['ANS_VALENCE'] != 9]"
   ],
   "metadata": {
    "collapsed": false
   }
  },
  {
   "cell_type": "markdown",
   "source": [
    "# Scaling input values to Gaussian distributions"
   ],
   "metadata": {
    "collapsed": false
   }
  },
  {
   "cell_type": "code",
   "execution_count": 9,
   "outputs": [],
   "source": [
    "quantile_transformer = QuantileTransformer(output_distribution='normal', random_state=0)\n",
    "data_train_qt = quantile_transformer.fit_transform(data_train)\n",
    "data_train_qt = pd.DataFrame(data_train_qt, columns=data_train.columns)\n",
    "data_validation_qt = quantile_transformer.fit_transform(data_validation)\n",
    "data_validation_qt = pd.DataFrame(data_validation_qt, columns=data_validation.columns)"
   ],
   "metadata": {
    "collapsed": false
   }
  },
  {
   "cell_type": "markdown",
   "source": [
    "# Training"
   ],
   "metadata": {
    "collapsed": false
   }
  },
  {
   "cell_type": "code",
   "execution_count": 10,
   "outputs": [
    {
     "name": "stdout",
     "output_type": "stream",
     "text": [
      "Model: \"model\"\n",
      "_________________________________________________________________\n",
      " Layer (type)                Output Shape              Param #   \n",
      "=================================================================\n",
      " input_1 (InputLayer)        [(None, 8)]               0         \n",
      "                                                                 \n"
     ]
    },
    {
     "name": "stderr",
     "output_type": "stream",
     "text": [
      "2022-11-20 18:26:07.416985: I tensorflow/core/platform/cpu_feature_guard.cc:193] This TensorFlow binary is optimized with oneAPI Deep Neural Network Library (oneDNN) to use the following CPU instructions in performance-critical operations:  AVX2 FMA\n",
      "To enable them in other operations, rebuild TensorFlow with the appropriate compiler flags.\n",
      "2022-11-20 18:26:08.344134: I tensorflow/core/common_runtime/gpu/gpu_device.cc:1532] Created device /job:localhost/replica:0/task:0/device:GPU:0 with 3368 MB memory:  -> device: 0, name: NVIDIA GeForce GTX 1050, pci bus id: 0000:01:00.0, compute capability: 6.1\n"
     ]
    },
    {
     "name": "stdout",
     "output_type": "stream",
     "text": [
      " normalization (Normalizatio  (None, 8)                17        \n",
      " n)                                                              \n",
      "                                                                 \n",
      " dense (Dense)               (None, 64)                576       \n",
      "                                                                 \n",
      " dense_1 (Dense)             (None, 128)               8320      \n",
      "                                                                 \n",
      " dense_2 (Dense)             (None, 64)                8256      \n",
      "                                                                 \n",
      " dense_3 (Dense)             (None, 2)                 130       \n",
      "                                                                 \n",
      "=================================================================\n",
      "Total params: 17,299\n",
      "Trainable params: 17,282\n",
      "Non-trainable params: 17\n",
      "_________________________________________________________________\n"
     ]
    }
   ],
   "source": [
    "tf.random.set_seed(123)\n",
    "\n",
    "norm_layer = tf.keras.layers.Normalization()\n",
    "\n",
    "input_ = tf.keras.layers.Input(shape=data_train_qt.shape[1:])\n",
    "normalized = norm_layer(input_)\n",
    "hidden1 = tf.keras.layers.Dense(64, activation='relu')(normalized)\n",
    "hidden2 = tf.keras.layers.Dense(128, activation='relu')(hidden1)\n",
    "hidden3 = tf.keras.layers.Dense(64, activation='relu')(hidden2)\n",
    "output = tf.keras.layers.Dense(2)(hidden3)\n",
    "\n",
    "model = tf.keras.Model(inputs=[input_], outputs=[output])\n",
    "\n",
    "model.summary()"
   ],
   "metadata": {
    "collapsed": false
   }
  },
  {
   "cell_type": "code",
   "execution_count": 11,
   "outputs": [],
   "source": [
    "model.compile(loss='mse',\n",
    "              optimizer=tf.keras.optimizers.SGD(learning_rate=0.001),\n",
    "              metrics=['mae'])"
   ],
   "metadata": {
    "collapsed": false
   }
  },
  {
   "cell_type": "code",
   "execution_count": 12,
   "outputs": [],
   "source": [
    "norm_layer.adapt(data_train_qt)"
   ],
   "metadata": {
    "collapsed": false
   }
  },
  {
   "cell_type": "code",
   "execution_count": 13,
   "outputs": [
    {
     "name": "stdout",
     "output_type": "stream",
     "text": [
      "Epoch 1/100\n",
      "570/570 [==============================] - 5s 6ms/step - loss: 6.9048 - mae: 2.1143 - val_loss: 7.6595 - val_mae: 2.3628\n",
      "Epoch 2/100\n",
      "570/570 [==============================] - 4s 7ms/step - loss: 4.2243 - mae: 1.7254 - val_loss: 7.2135 - val_mae: 2.2940\n",
      "Epoch 3/100\n",
      "570/570 [==============================] - 4s 7ms/step - loss: 4.1761 - mae: 1.7139 - val_loss: 6.7926 - val_mae: 2.2230\n",
      "Epoch 4/100\n",
      "570/570 [==============================] - 3s 5ms/step - loss: 4.1636 - mae: 1.7101 - val_loss: 6.6666 - val_mae: 2.2030\n",
      "Epoch 5/100\n",
      "570/570 [==============================] - 3s 5ms/step - loss: 4.1576 - mae: 1.7090 - val_loss: 6.6843 - val_mae: 2.2068\n",
      "Epoch 6/100\n",
      "570/570 [==============================] - 4s 7ms/step - loss: 4.1548 - mae: 1.7080 - val_loss: 6.7028 - val_mae: 2.2023\n",
      "Epoch 7/100\n",
      "570/570 [==============================] - 3s 5ms/step - loss: 4.1522 - mae: 1.7080 - val_loss: 6.4286 - val_mae: 2.1501\n",
      "Epoch 8/100\n",
      "570/570 [==============================] - 4s 7ms/step - loss: 4.1502 - mae: 1.7067 - val_loss: 6.5757 - val_mae: 2.1769\n",
      "Epoch 9/100\n",
      "570/570 [==============================] - 3s 5ms/step - loss: 4.1478 - mae: 1.7063 - val_loss: 6.4836 - val_mae: 2.1614\n",
      "Epoch 10/100\n",
      "570/570 [==============================] - 3s 5ms/step - loss: 4.1461 - mae: 1.7063 - val_loss: 6.7524 - val_mae: 2.1998\n",
      "Epoch 11/100\n",
      "570/570 [==============================] - 3s 5ms/step - loss: 4.1464 - mae: 1.7060 - val_loss: 6.4829 - val_mae: 2.1607\n",
      "Epoch 12/100\n",
      "570/570 [==============================] - 3s 5ms/step - loss: 4.1443 - mae: 1.7059 - val_loss: 6.5646 - val_mae: 2.1739\n",
      "Epoch 13/100\n",
      "570/570 [==============================] - 4s 7ms/step - loss: 4.1445 - mae: 1.7056 - val_loss: 6.4783 - val_mae: 2.1668\n",
      "Epoch 14/100\n",
      "570/570 [==============================] - 3s 5ms/step - loss: 4.1432 - mae: 1.7057 - val_loss: 6.3896 - val_mae: 2.1422\n",
      "Epoch 15/100\n",
      "570/570 [==============================] - 3s 5ms/step - loss: 4.1417 - mae: 1.7050 - val_loss: 6.5976 - val_mae: 2.1827\n",
      "Epoch 16/100\n",
      "570/570 [==============================] - 2s 4ms/step - loss: 4.1410 - mae: 1.7047 - val_loss: 6.2328 - val_mae: 2.1104\n",
      "Epoch 17/100\n",
      "570/570 [==============================] - 2s 4ms/step - loss: 4.1398 - mae: 1.7044 - val_loss: 6.3437 - val_mae: 2.1353\n",
      "Epoch 18/100\n",
      "570/570 [==============================] - 2s 4ms/step - loss: 4.1399 - mae: 1.7047 - val_loss: 6.4202 - val_mae: 2.1441\n",
      "Epoch 19/100\n",
      "570/570 [==============================] - 3s 5ms/step - loss: 4.1393 - mae: 1.7045 - val_loss: 6.4896 - val_mae: 2.1597\n",
      "Epoch 20/100\n",
      "570/570 [==============================] - 3s 4ms/step - loss: 4.1388 - mae: 1.7045 - val_loss: 6.2566 - val_mae: 2.1113\n",
      "Epoch 21/100\n",
      "570/570 [==============================] - 3s 5ms/step - loss: 4.1374 - mae: 1.7042 - val_loss: 6.3728 - val_mae: 2.1357\n",
      "Epoch 22/100\n",
      "570/570 [==============================] - 3s 5ms/step - loss: 4.1375 - mae: 1.7041 - val_loss: 6.5034 - val_mae: 2.1638\n",
      "Epoch 23/100\n",
      "570/570 [==============================] - 2s 4ms/step - loss: 4.1364 - mae: 1.7040 - val_loss: 6.4977 - val_mae: 2.1631\n",
      "Epoch 24/100\n",
      "570/570 [==============================] - 2s 4ms/step - loss: 4.1366 - mae: 1.7040 - val_loss: 6.2727 - val_mae: 2.1078\n",
      "Epoch 25/100\n",
      "570/570 [==============================] - 3s 5ms/step - loss: 4.1359 - mae: 1.7033 - val_loss: 6.5827 - val_mae: 2.1770\n",
      "Epoch 26/100\n",
      "570/570 [==============================] - 3s 5ms/step - loss: 4.1349 - mae: 1.7038 - val_loss: 6.4930 - val_mae: 2.1482\n",
      "Epoch 27/100\n",
      "570/570 [==============================] - 3s 5ms/step - loss: 4.1346 - mae: 1.7031 - val_loss: 6.4985 - val_mae: 2.1571\n",
      "Epoch 28/100\n",
      "570/570 [==============================] - 3s 6ms/step - loss: 4.1348 - mae: 1.7033 - val_loss: 6.6469 - val_mae: 2.1812\n",
      "Epoch 29/100\n",
      "570/570 [==============================] - 3s 5ms/step - loss: 4.1343 - mae: 1.7033 - val_loss: 6.4048 - val_mae: 2.1392\n",
      "Epoch 30/100\n",
      "570/570 [==============================] - 3s 5ms/step - loss: 4.1336 - mae: 1.7031 - val_loss: 6.3209 - val_mae: 2.1232\n",
      "Epoch 31/100\n",
      "570/570 [==============================] - 3s 5ms/step - loss: 4.1332 - mae: 1.7033 - val_loss: 6.3760 - val_mae: 2.1306\n",
      "Epoch 32/100\n",
      "570/570 [==============================] - 3s 5ms/step - loss: 4.1329 - mae: 1.7030 - val_loss: 6.1802 - val_mae: 2.0942\n",
      "Epoch 33/100\n",
      "570/570 [==============================] - 3s 5ms/step - loss: 4.1321 - mae: 1.7026 - val_loss: 6.3870 - val_mae: 2.1402\n",
      "Epoch 34/100\n",
      "570/570 [==============================] - 3s 5ms/step - loss: 4.1310 - mae: 1.7030 - val_loss: 6.3962 - val_mae: 2.1323\n",
      "Epoch 35/100\n",
      "570/570 [==============================] - 3s 6ms/step - loss: 4.1320 - mae: 1.7026 - val_loss: 6.2689 - val_mae: 2.1135\n",
      "Epoch 36/100\n",
      "570/570 [==============================] - 4s 6ms/step - loss: 4.1311 - mae: 1.7025 - val_loss: 6.4157 - val_mae: 2.1349\n",
      "Epoch 37/100\n",
      "570/570 [==============================] - 3s 5ms/step - loss: 4.1300 - mae: 1.7022 - val_loss: 6.4096 - val_mae: 2.1417\n",
      "Epoch 38/100\n",
      "570/570 [==============================] - 2s 4ms/step - loss: 4.1297 - mae: 1.7021 - val_loss: 6.1302 - val_mae: 2.0907\n",
      "Epoch 39/100\n",
      "570/570 [==============================] - 3s 5ms/step - loss: 4.1300 - mae: 1.7023 - val_loss: 6.1887 - val_mae: 2.0998\n",
      "Epoch 40/100\n",
      "570/570 [==============================] - 3s 5ms/step - loss: 4.1306 - mae: 1.7023 - val_loss: 6.3903 - val_mae: 2.1351\n",
      "Epoch 41/100\n",
      "570/570 [==============================] - 2s 4ms/step - loss: 4.1303 - mae: 1.7027 - val_loss: 6.2394 - val_mae: 2.0996\n",
      "Epoch 42/100\n",
      "570/570 [==============================] - 4s 7ms/step - loss: 4.1298 - mae: 1.7024 - val_loss: 6.2538 - val_mae: 2.1005\n",
      "Epoch 43/100\n",
      "570/570 [==============================] - 3s 5ms/step - loss: 4.1291 - mae: 1.7020 - val_loss: 6.3458 - val_mae: 2.1179\n",
      "Epoch 44/100\n",
      "570/570 [==============================] - 3s 4ms/step - loss: 4.1294 - mae: 1.7024 - val_loss: 6.3036 - val_mae: 2.1152\n",
      "Epoch 45/100\n",
      "570/570 [==============================] - 2s 4ms/step - loss: 4.1281 - mae: 1.7019 - val_loss: 6.1585 - val_mae: 2.0907\n",
      "Epoch 46/100\n",
      "570/570 [==============================] - 3s 4ms/step - loss: 4.1288 - mae: 1.7015 - val_loss: 6.1118 - val_mae: 2.0830\n",
      "Epoch 47/100\n",
      "570/570 [==============================] - 3s 5ms/step - loss: 4.1280 - mae: 1.7021 - val_loss: 5.9954 - val_mae: 2.0592\n",
      "Epoch 48/100\n",
      "570/570 [==============================] - 3s 5ms/step - loss: 4.1286 - mae: 1.7019 - val_loss: 6.1552 - val_mae: 2.0881\n",
      "Epoch 49/100\n",
      "570/570 [==============================] - 4s 6ms/step - loss: 4.1272 - mae: 1.7016 - val_loss: 6.3314 - val_mae: 2.1138\n",
      "Epoch 50/100\n",
      "570/570 [==============================] - 3s 4ms/step - loss: 4.1279 - mae: 1.7018 - val_loss: 6.2954 - val_mae: 2.1067\n",
      "Epoch 51/100\n",
      "570/570 [==============================] - 3s 5ms/step - loss: 4.1266 - mae: 1.7016 - val_loss: 6.3853 - val_mae: 2.1252\n",
      "Epoch 52/100\n",
      "570/570 [==============================] - 2s 4ms/step - loss: 4.1278 - mae: 1.7018 - val_loss: 6.1712 - val_mae: 2.0919\n",
      "Epoch 53/100\n",
      "570/570 [==============================] - 2s 4ms/step - loss: 4.1250 - mae: 1.7014 - val_loss: 6.3113 - val_mae: 2.1072\n",
      "Epoch 54/100\n",
      "570/570 [==============================] - 3s 4ms/step - loss: 4.1270 - mae: 1.7016 - val_loss: 6.2846 - val_mae: 2.1052\n",
      "Epoch 55/100\n",
      "570/570 [==============================] - 3s 5ms/step - loss: 4.1260 - mae: 1.7014 - val_loss: 6.2929 - val_mae: 2.1068\n",
      "Epoch 56/100\n",
      "570/570 [==============================] - 2s 4ms/step - loss: 4.1262 - mae: 1.7017 - val_loss: 6.2977 - val_mae: 2.1001\n",
      "Epoch 57/100\n",
      "570/570 [==============================] - 2s 4ms/step - loss: 4.1255 - mae: 1.7010 - val_loss: 6.0838 - val_mae: 2.0726\n",
      "Epoch 58/100\n",
      "570/570 [==============================] - 2s 4ms/step - loss: 4.1245 - mae: 1.7011 - val_loss: 6.1539 - val_mae: 2.0814\n",
      "Epoch 59/100\n",
      "570/570 [==============================] - 2s 4ms/step - loss: 4.1257 - mae: 1.7013 - val_loss: 6.0871 - val_mae: 2.0691\n",
      "Epoch 60/100\n",
      "570/570 [==============================] - 3s 5ms/step - loss: 4.1253 - mae: 1.7011 - val_loss: 6.0199 - val_mae: 2.0641\n",
      "Epoch 61/100\n",
      "570/570 [==============================] - 3s 5ms/step - loss: 4.1252 - mae: 1.7011 - val_loss: 5.9842 - val_mae: 2.0589\n",
      "Epoch 62/100\n",
      "570/570 [==============================] - 3s 6ms/step - loss: 4.1244 - mae: 1.7006 - val_loss: 6.2408 - val_mae: 2.0995\n",
      "Epoch 63/100\n",
      "570/570 [==============================] - 4s 6ms/step - loss: 4.1244 - mae: 1.7012 - val_loss: 6.4692 - val_mae: 2.1370\n",
      "Epoch 64/100\n",
      "570/570 [==============================] - 3s 5ms/step - loss: 4.1245 - mae: 1.7008 - val_loss: 6.1717 - val_mae: 2.0921\n",
      "Epoch 65/100\n",
      "570/570 [==============================] - 3s 6ms/step - loss: 4.1248 - mae: 1.7009 - val_loss: 6.2580 - val_mae: 2.1033\n",
      "Epoch 66/100\n",
      "570/570 [==============================] - 3s 5ms/step - loss: 4.1245 - mae: 1.7008 - val_loss: 6.0462 - val_mae: 2.0654\n",
      "Epoch 67/100\n",
      "570/570 [==============================] - 4s 7ms/step - loss: 4.1245 - mae: 1.7007 - val_loss: 6.1740 - val_mae: 2.0902\n",
      "Epoch 68/100\n",
      "570/570 [==============================] - 4s 7ms/step - loss: 4.1242 - mae: 1.7008 - val_loss: 6.3951 - val_mae: 2.1177\n",
      "Epoch 69/100\n",
      "570/570 [==============================] - 3s 6ms/step - loss: 4.1242 - mae: 1.7010 - val_loss: 6.0302 - val_mae: 2.0682\n",
      "Epoch 70/100\n",
      "570/570 [==============================] - 3s 5ms/step - loss: 4.1235 - mae: 1.7011 - val_loss: 6.2355 - val_mae: 2.1028\n",
      "Epoch 71/100\n",
      "570/570 [==============================] - 3s 5ms/step - loss: 4.1238 - mae: 1.7010 - val_loss: 6.1414 - val_mae: 2.0816\n",
      "Epoch 72/100\n",
      "570/570 [==============================] - 3s 5ms/step - loss: 4.1220 - mae: 1.7002 - val_loss: 6.1198 - val_mae: 2.0796\n",
      "Epoch 73/100\n",
      "570/570 [==============================] - 3s 5ms/step - loss: 4.1237 - mae: 1.7008 - val_loss: 6.2509 - val_mae: 2.1024\n",
      "Epoch 74/100\n",
      "570/570 [==============================] - 3s 5ms/step - loss: 4.1227 - mae: 1.7004 - val_loss: 6.2325 - val_mae: 2.0995\n",
      "Epoch 75/100\n",
      "570/570 [==============================] - 3s 6ms/step - loss: 4.1235 - mae: 1.7006 - val_loss: 6.1696 - val_mae: 2.0851\n",
      "Epoch 76/100\n",
      "570/570 [==============================] - 3s 5ms/step - loss: 4.1215 - mae: 1.7003 - val_loss: 6.2538 - val_mae: 2.0956\n",
      "Epoch 77/100\n",
      "570/570 [==============================] - 3s 5ms/step - loss: 4.1215 - mae: 1.7002 - val_loss: 6.1808 - val_mae: 2.0882\n",
      "Epoch 78/100\n",
      "570/570 [==============================] - 3s 6ms/step - loss: 4.1226 - mae: 1.7003 - val_loss: 6.1559 - val_mae: 2.0872\n",
      "Epoch 79/100\n",
      "570/570 [==============================] - 4s 7ms/step - loss: 4.1227 - mae: 1.7005 - val_loss: 6.0247 - val_mae: 2.0600\n",
      "Epoch 80/100\n",
      "570/570 [==============================] - 3s 5ms/step - loss: 4.1226 - mae: 1.7008 - val_loss: 6.0940 - val_mae: 2.0752\n",
      "Epoch 81/100\n",
      "570/570 [==============================] - 3s 5ms/step - loss: 4.1228 - mae: 1.7006 - val_loss: 6.2938 - val_mae: 2.1143\n",
      "Epoch 82/100\n",
      "570/570 [==============================] - 3s 5ms/step - loss: 4.1221 - mae: 1.7006 - val_loss: 6.1255 - val_mae: 2.0771\n",
      "Epoch 83/100\n",
      "570/570 [==============================] - 3s 5ms/step - loss: 4.1221 - mae: 1.7007 - val_loss: 6.1259 - val_mae: 2.0814\n",
      "Epoch 84/100\n",
      "570/570 [==============================] - 3s 6ms/step - loss: 4.1219 - mae: 1.7007 - val_loss: 6.2789 - val_mae: 2.1079\n",
      "Epoch 85/100\n",
      "570/570 [==============================] - 3s 5ms/step - loss: 4.1226 - mae: 1.7008 - val_loss: 6.0290 - val_mae: 2.0658\n",
      "Epoch 86/100\n",
      "570/570 [==============================] - 3s 6ms/step - loss: 4.1215 - mae: 1.7005 - val_loss: 6.1530 - val_mae: 2.0810\n",
      "Epoch 87/100\n",
      "570/570 [==============================] - 4s 7ms/step - loss: 4.1223 - mae: 1.7006 - val_loss: 6.0308 - val_mae: 2.0630\n",
      "Epoch 88/100\n",
      "570/570 [==============================] - 5s 9ms/step - loss: 4.1213 - mae: 1.7000 - val_loss: 6.0513 - val_mae: 2.0668\n",
      "Epoch 89/100\n",
      "570/570 [==============================] - 4s 8ms/step - loss: 4.1211 - mae: 1.7001 - val_loss: 6.0339 - val_mae: 2.0679\n",
      "Epoch 90/100\n",
      "570/570 [==============================] - 3s 6ms/step - loss: 4.1201 - mae: 1.7000 - val_loss: 6.0995 - val_mae: 2.0818\n",
      "Epoch 91/100\n",
      "570/570 [==============================] - 3s 6ms/step - loss: 4.1214 - mae: 1.7003 - val_loss: 6.2512 - val_mae: 2.0997\n",
      "Epoch 92/100\n",
      "570/570 [==============================] - 3s 6ms/step - loss: 4.1216 - mae: 1.7007 - val_loss: 5.9845 - val_mae: 2.0539\n",
      "Epoch 93/100\n",
      "570/570 [==============================] - 3s 5ms/step - loss: 4.1201 - mae: 1.6998 - val_loss: 6.2312 - val_mae: 2.0949\n",
      "Epoch 94/100\n",
      "570/570 [==============================] - 4s 6ms/step - loss: 4.1197 - mae: 1.7003 - val_loss: 6.0303 - val_mae: 2.0600\n",
      "Epoch 95/100\n",
      "570/570 [==============================] - 3s 6ms/step - loss: 4.1194 - mae: 1.6997 - val_loss: 6.0206 - val_mae: 2.0613\n",
      "Epoch 96/100\n",
      "570/570 [==============================] - 3s 5ms/step - loss: 4.1198 - mae: 1.7000 - val_loss: 6.1780 - val_mae: 2.0855\n",
      "Epoch 97/100\n",
      "570/570 [==============================] - 4s 6ms/step - loss: 4.1198 - mae: 1.6998 - val_loss: 6.1052 - val_mae: 2.0764\n",
      "Epoch 98/100\n",
      "570/570 [==============================] - 3s 5ms/step - loss: 4.1199 - mae: 1.7001 - val_loss: 6.0697 - val_mae: 2.0687\n",
      "Epoch 99/100\n",
      "570/570 [==============================] - 3s 5ms/step - loss: 4.1194 - mae: 1.7001 - val_loss: 6.1377 - val_mae: 2.0820\n",
      "Epoch 100/100\n",
      "570/570 [==============================] - 3s 5ms/step - loss: 4.1204 - mae: 1.7001 - val_loss: 6.1303 - val_mae: 2.0848\n"
     ]
    }
   ],
   "source": [
    "n_epochs = 100\n",
    "\n",
    "run_dir = get_run_dir()\n",
    "tensorboard_cb = tf.keras.callbacks.TensorBoard(run_dir, profile_batch=(0, n_epochs))\n",
    "\n",
    "history = model.fit(data_train_qt, labels_train, epochs=n_epochs, validation_data=(data_validation, labels_validation), callbacks=[tensorboard_cb])"
   ],
   "metadata": {
    "collapsed": false
   }
  },
  {
   "cell_type": "code",
   "execution_count": 14,
   "outputs": [
    {
     "name": "stdout",
     "output_type": "stream",
     "text": [
      "215/215 [==============================] - 1s 2ms/step\n",
      "\n",
      "Values for validation set:\n",
      "MAE: 1.9959957686295784\n",
      "MSE: 5.718140916685246\n",
      "RMSE: 2.391263456143059\n",
      "R2:  -0.0025440649049588426\n"
     ]
    }
   ],
   "source": [
    "predictions = model.predict(data_validation_qt)\n",
    "\n",
    "mae, mse, r2 = get_score(labels_validation, predictions)\n",
    "print(f'''\\nValues for validation set:\\nMAE: {mae}\\nMSE: {mse}\\nRMSE: {mse**.5}\\nR2:  {r2}''')"
   ],
   "metadata": {
    "collapsed": false
   }
  },
  {
   "cell_type": "markdown",
   "source": [
    "# Overfitting?"
   ],
   "metadata": {
    "collapsed": false
   }
  },
  {
   "cell_type": "code",
   "execution_count": 15,
   "outputs": [
    {
     "name": "stdout",
     "output_type": "stream",
     "text": [
      "Model: \"model_1\"\n",
      "_________________________________________________________________\n",
      " Layer (type)                Output Shape              Param #   \n",
      "=================================================================\n",
      " input_2 (InputLayer)        [(None, 8)]               0         \n",
      "                                                                 \n",
      " normalization_1 (Normalizat  (None, 8)                17        \n",
      " ion)                                                            \n",
      "                                                                 \n",
      " dense_4 (Dense)             (None, 2)                 18        \n",
      "                                                                 \n",
      "=================================================================\n",
      "Total params: 35\n",
      "Trainable params: 18\n",
      "Non-trainable params: 17\n",
      "_________________________________________________________________\n"
     ]
    }
   ],
   "source": [
    "tf.random.set_seed(123)\n",
    "\n",
    "norm_layer = tf.keras.layers.Normalization()\n",
    "\n",
    "input_ = tf.keras.layers.Input(shape=data_train_qt.shape[1:])\n",
    "normalized = norm_layer(input_)\n",
    "output = tf.keras.layers.Dense(2)(normalized)\n",
    "\n",
    "model = tf.keras.Model(inputs=[input_], outputs=[output])\n",
    "\n",
    "model.summary()"
   ],
   "metadata": {
    "collapsed": false
   }
  },
  {
   "cell_type": "code",
   "execution_count": 16,
   "outputs": [],
   "source": [
    "model.compile(loss='mse',\n",
    "              optimizer=tf.keras.optimizers.Adam(learning_rate=0.001),\n",
    "              metrics=['mae'])"
   ],
   "metadata": {
    "collapsed": false
   }
  },
  {
   "cell_type": "code",
   "execution_count": 17,
   "outputs": [],
   "source": [
    "norm_layer.adapt(data_train_qt)"
   ],
   "metadata": {
    "collapsed": false
   }
  },
  {
   "cell_type": "code",
   "execution_count": 18,
   "outputs": [
    {
     "name": "stdout",
     "output_type": "stream",
     "text": [
      "Epoch 1/50\n",
      "570/570 [==============================] - 3s 4ms/step - loss: 30.0698 - mae: 5.0194 - val_loss: 31.9420 - val_mae: 5.0728\n",
      "Epoch 2/50\n",
      "570/570 [==============================] - 2s 4ms/step - loss: 24.5946 - mae: 4.4764 - val_loss: 26.9238 - val_mae: 4.5637\n",
      "Epoch 3/50\n",
      "570/570 [==============================] - 2s 4ms/step - loss: 20.1367 - mae: 3.9702 - val_loss: 23.3622 - val_mae: 4.1753\n",
      "Epoch 4/50\n",
      "570/570 [==============================] - 2s 4ms/step - loss: 16.4379 - mae: 3.5189 - val_loss: 18.6946 - val_mae: 3.6982\n",
      "Epoch 5/50\n",
      "570/570 [==============================] - 2s 4ms/step - loss: 13.3759 - mae: 3.1330 - val_loss: 15.1614 - val_mae: 3.3217\n",
      "Epoch 6/50\n",
      "570/570 [==============================] - 2s 4ms/step - loss: 10.8725 - mae: 2.8067 - val_loss: 12.6602 - val_mae: 3.0349\n",
      "Epoch 7/50\n",
      "570/570 [==============================] - 3s 5ms/step - loss: 8.8680 - mae: 2.5349 - val_loss: 10.4132 - val_mae: 2.7704\n",
      "Epoch 8/50\n",
      "570/570 [==============================] - 3s 6ms/step - loss: 7.3097 - mae: 2.3124 - val_loss: 8.7588 - val_mae: 2.5465\n",
      "Epoch 9/50\n",
      "570/570 [==============================] - 3s 5ms/step - loss: 6.1456 - mae: 2.1338 - val_loss: 7.7843 - val_mae: 2.4026\n",
      "Epoch 10/50\n",
      "570/570 [==============================] - 2s 4ms/step - loss: 5.3217 - mae: 1.9963 - val_loss: 6.9542 - val_mae: 2.2664\n",
      "Epoch 11/50\n",
      "570/570 [==============================] - 2s 4ms/step - loss: 4.7771 - mae: 1.8946 - val_loss: 6.3546 - val_mae: 2.1496\n",
      "Epoch 12/50\n",
      "570/570 [==============================] - 2s 4ms/step - loss: 4.4483 - mae: 1.8193 - val_loss: 6.1268 - val_mae: 2.0942\n",
      "Epoch 13/50\n",
      "570/570 [==============================] - 2s 4ms/step - loss: 4.2724 - mae: 1.7661 - val_loss: 5.9503 - val_mae: 2.0559\n",
      "Epoch 14/50\n",
      "570/570 [==============================] - 2s 4ms/step - loss: 4.1906 - mae: 1.7340 - val_loss: 5.8346 - val_mae: 2.0289\n",
      "Epoch 15/50\n",
      "570/570 [==============================] - 2s 4ms/step - loss: 4.1602 - mae: 1.7181 - val_loss: 5.8011 - val_mae: 2.0178\n",
      "Epoch 16/50\n",
      "570/570 [==============================] - 2s 4ms/step - loss: 4.1513 - mae: 1.7112 - val_loss: 5.7703 - val_mae: 2.0059\n",
      "Epoch 17/50\n",
      "570/570 [==============================] - 2s 4ms/step - loss: 4.1496 - mae: 1.7082 - val_loss: 5.7626 - val_mae: 2.0073\n",
      "Epoch 18/50\n",
      "570/570 [==============================] - 2s 4ms/step - loss: 4.1495 - mae: 1.7075 - val_loss: 5.7395 - val_mae: 2.0032\n",
      "Epoch 19/50\n",
      "570/570 [==============================] - 2s 4ms/step - loss: 4.1494 - mae: 1.7071 - val_loss: 5.7371 - val_mae: 2.0023\n",
      "Epoch 20/50\n",
      "570/570 [==============================] - 2s 4ms/step - loss: 4.1492 - mae: 1.7070 - val_loss: 5.7202 - val_mae: 1.9990\n",
      "Epoch 21/50\n",
      "570/570 [==============================] - 2s 4ms/step - loss: 4.1492 - mae: 1.7071 - val_loss: 5.7549 - val_mae: 2.0031\n",
      "Epoch 22/50\n",
      "570/570 [==============================] - 2s 4ms/step - loss: 4.1494 - mae: 1.7069 - val_loss: 5.7559 - val_mae: 2.0057\n",
      "Epoch 23/50\n",
      "570/570 [==============================] - 2s 4ms/step - loss: 4.1494 - mae: 1.7074 - val_loss: 5.7818 - val_mae: 2.0084\n",
      "Epoch 24/50\n",
      "570/570 [==============================] - 2s 4ms/step - loss: 4.1494 - mae: 1.7068 - val_loss: 5.7235 - val_mae: 1.9973\n",
      "Epoch 25/50\n",
      "570/570 [==============================] - 3s 5ms/step - loss: 4.1494 - mae: 1.7068 - val_loss: 5.7202 - val_mae: 1.9985\n",
      "Epoch 26/50\n",
      "570/570 [==============================] - 3s 4ms/step - loss: 4.1493 - mae: 1.7081 - val_loss: 5.7445 - val_mae: 2.0027\n",
      "Epoch 27/50\n",
      "570/570 [==============================] - 2s 4ms/step - loss: 4.1492 - mae: 1.7071 - val_loss: 5.7813 - val_mae: 2.0133\n",
      "Epoch 28/50\n",
      "570/570 [==============================] - 3s 5ms/step - loss: 4.1494 - mae: 1.7067 - val_loss: 5.7479 - val_mae: 2.0066\n",
      "Epoch 29/50\n",
      "570/570 [==============================] - 2s 4ms/step - loss: 4.1494 - mae: 1.7068 - val_loss: 5.7595 - val_mae: 2.0060\n",
      "Epoch 30/50\n",
      "570/570 [==============================] - 2s 4ms/step - loss: 4.1491 - mae: 1.7070 - val_loss: 5.7558 - val_mae: 2.0035\n",
      "Epoch 31/50\n",
      "570/570 [==============================] - 2s 4ms/step - loss: 4.1494 - mae: 1.7070 - val_loss: 5.7464 - val_mae: 2.0048\n",
      "Epoch 32/50\n",
      "570/570 [==============================] - 2s 4ms/step - loss: 4.1496 - mae: 1.7073 - val_loss: 5.7525 - val_mae: 2.0049\n",
      "Epoch 33/50\n",
      "570/570 [==============================] - 3s 4ms/step - loss: 4.1494 - mae: 1.7066 - val_loss: 5.7506 - val_mae: 2.0061\n",
      "Epoch 34/50\n",
      "570/570 [==============================] - 2s 4ms/step - loss: 4.1494 - mae: 1.7076 - val_loss: 5.7773 - val_mae: 2.0124\n",
      "Epoch 35/50\n",
      "570/570 [==============================] - 3s 6ms/step - loss: 4.1496 - mae: 1.7071 - val_loss: 5.7546 - val_mae: 2.0059\n",
      "Epoch 36/50\n",
      "570/570 [==============================] - 3s 5ms/step - loss: 4.1494 - mae: 1.7073 - val_loss: 5.7592 - val_mae: 2.0068\n",
      "Epoch 37/50\n",
      "570/570 [==============================] - 3s 5ms/step - loss: 4.1494 - mae: 1.7069 - val_loss: 5.8014 - val_mae: 2.0143\n",
      "Epoch 38/50\n",
      "570/570 [==============================] - 3s 6ms/step - loss: 4.1496 - mae: 1.7070 - val_loss: 5.7704 - val_mae: 2.0060\n",
      "Epoch 39/50\n",
      "570/570 [==============================] - 3s 6ms/step - loss: 4.1492 - mae: 1.7069 - val_loss: 5.7349 - val_mae: 1.9992\n",
      "Epoch 40/50\n",
      "570/570 [==============================] - 3s 6ms/step - loss: 4.1494 - mae: 1.7075 - val_loss: 5.7241 - val_mae: 1.9972\n",
      "Epoch 41/50\n",
      "570/570 [==============================] - 3s 6ms/step - loss: 4.1497 - mae: 1.7072 - val_loss: 5.7504 - val_mae: 2.0076\n",
      "Epoch 42/50\n",
      "570/570 [==============================] - 3s 6ms/step - loss: 4.1495 - mae: 1.7075 - val_loss: 5.7550 - val_mae: 2.0063\n",
      "Epoch 43/50\n",
      "570/570 [==============================] - 3s 6ms/step - loss: 4.1495 - mae: 1.7067 - val_loss: 5.7365 - val_mae: 2.0030\n",
      "Epoch 44/50\n",
      "570/570 [==============================] - 3s 6ms/step - loss: 4.1495 - mae: 1.7072 - val_loss: 5.7785 - val_mae: 2.0120\n",
      "Epoch 45/50\n",
      "570/570 [==============================] - 4s 7ms/step - loss: 4.1491 - mae: 1.7070 - val_loss: 5.7858 - val_mae: 2.0085\n",
      "Epoch 46/50\n",
      "570/570 [==============================] - 3s 6ms/step - loss: 4.1490 - mae: 1.7070 - val_loss: 5.7258 - val_mae: 1.9988\n",
      "Epoch 47/50\n",
      "570/570 [==============================] - 3s 6ms/step - loss: 4.1495 - mae: 1.7069 - val_loss: 5.7356 - val_mae: 1.9982\n",
      "Epoch 48/50\n",
      "570/570 [==============================] - 3s 6ms/step - loss: 4.1493 - mae: 1.7073 - val_loss: 5.7720 - val_mae: 2.0097\n",
      "Epoch 49/50\n",
      "570/570 [==============================] - 3s 6ms/step - loss: 4.1494 - mae: 1.7074 - val_loss: 5.7616 - val_mae: 2.0078\n",
      "Epoch 50/50\n",
      "570/570 [==============================] - 3s 6ms/step - loss: 4.1496 - mae: 1.7069 - val_loss: 5.7493 - val_mae: 2.0053\n"
     ]
    },
    {
     "data": {
      "text/plain": "<keras.callbacks.History at 0x7fc0d822f880>"
     },
     "execution_count": 18,
     "metadata": {},
     "output_type": "execute_result"
    }
   ],
   "source": [
    "n_epochs = 50\n",
    "\n",
    "# run_dir = get_run_dir()\n",
    "# tensorboard_cb = tf.keras.callbacks.TensorBoard(run_dir, profile_batch=(0, n_epochs))\n",
    "\n",
    "model.fit(data_train_qt, labels_train, epochs=n_epochs, validation_data=(data_validation, labels_validation))"
   ],
   "metadata": {
    "collapsed": false
   }
  },
  {
   "cell_type": "code",
   "execution_count": 19,
   "outputs": [
    {
     "name": "stdout",
     "output_type": "stream",
     "text": [
      "215/215 [==============================] - 1s 3ms/step\n",
      "\n",
      "Values for validation set:\n",
      "MAE: 1.9943977370435366\n",
      "MSE: 5.713294992537849\n",
      "RMSE: 2.3902499853650974\n",
      "R2:  -0.0015593588224424026\n"
     ]
    }
   ],
   "source": [
    "predictions = model.predict(data_validation_qt)\n",
    "\n",
    "mae, mse, r2 = get_score(labels_validation, predictions)\n",
    "print(f'''\\nValues for validation set:\\nMAE: {mae}\\nMSE: {mse}\\nRMSE: {mse**.5}\\nR2:  {r2}''')"
   ],
   "metadata": {
    "collapsed": false
   }
  },
  {
   "cell_type": "markdown",
   "source": [
    "# Check if data from all subjects works better"
   ],
   "metadata": {
    "collapsed": false
   }
  },
  {
   "cell_type": "code",
   "execution_count": 20,
   "outputs": [],
   "source": [
    "dataset = pd.read_csv('dataset_full.csv')\n",
    "dataset = dataset.loc[dataset['COND'] != '0']\n",
    "\n",
    "data = dataset.iloc[:, :8]\n",
    "labels = dataset.iloc[:, -2:]\n",
    "data_train_full, data_test, labels_train_full, labels_test = train_test_split(data, labels, test_size=0.2,\n",
    "                                                                              random_state=123)\n",
    "\n",
    "data_train, data_validation, labels_train, labels_validation = train_test_split(data_train_full, labels_train_full,\n",
    "                                                                                test_size=0.2, random_state=123)\n",
    "\n",
    "data_train = data_train.loc[labels_train['ANS_AROUSAL'] != 1]\n",
    "data_train = data_train.loc[labels_train['ANS_AROUSAL'] != 5]\n",
    "data_train = data_train.loc[labels_train['ANS_AROUSAL'] != 9]\n",
    "labels_train = labels_train.loc[labels_train['ANS_AROUSAL'] != 1]\n",
    "labels_train = labels_train.loc[labels_train['ANS_AROUSAL'] != 5]\n",
    "labels_train = labels_train.loc[labels_train['ANS_AROUSAL'] != 9]\n",
    "\n",
    "data_train = data_train.loc[labels_train['ANS_VALENCE'] != 1]\n",
    "data_train = data_train.loc[labels_train['ANS_VALENCE'] != 5]\n",
    "data_train = data_train.loc[labels_train['ANS_VALENCE'] != 9]\n",
    "labels_train = labels_train.loc[labels_train['ANS_VALENCE'] != 1]\n",
    "labels_train = labels_train.loc[labels_train['ANS_VALENCE'] != 5]\n",
    "labels_train = labels_train.loc[labels_train['ANS_VALENCE'] != 9]"
   ],
   "metadata": {
    "collapsed": false
   }
  },
  {
   "cell_type": "code",
   "execution_count": 21,
   "outputs": [],
   "source": [
    "quantile_transformer = QuantileTransformer(output_distribution='normal', random_state=0)\n",
    "data_train_qt = quantile_transformer.fit_transform(data_train)\n",
    "data_train_qt = pd.DataFrame(data_train_qt, columns=data_train.columns)\n",
    "data_validation_qt = quantile_transformer.fit_transform(data_validation)\n",
    "data_validation_qt = pd.DataFrame(data_validation_qt, columns=data_validation.columns)"
   ],
   "metadata": {
    "collapsed": false
   }
  },
  {
   "cell_type": "code",
   "execution_count": 22,
   "outputs": [
    {
     "name": "stdout",
     "output_type": "stream",
     "text": [
      "Model: \"model_2\"\n",
      "_________________________________________________________________\n",
      " Layer (type)                Output Shape              Param #   \n",
      "=================================================================\n",
      " input_3 (InputLayer)        [(None, 8)]               0         \n",
      "                                                                 \n",
      " normalization_2 (Normalizat  (None, 8)                17        \n",
      " ion)                                                            \n",
      "                                                                 \n",
      " dense_5 (Dense)             (None, 2)                 18        \n",
      "                                                                 \n",
      "=================================================================\n",
      "Total params: 35\n",
      "Trainable params: 18\n",
      "Non-trainable params: 17\n",
      "_________________________________________________________________\n"
     ]
    }
   ],
   "source": [
    "tf.random.set_seed(123)\n",
    "\n",
    "norm_layer = tf.keras.layers.Normalization()\n",
    "\n",
    "input_ = tf.keras.layers.Input(shape=data_train_qt.shape[1:])\n",
    "normalized = norm_layer(input_)\n",
    "output = tf.keras.layers.Dense(2)(normalized)\n",
    "\n",
    "model = tf.keras.Model(inputs=[input_], outputs=[output])\n",
    "\n",
    "model.summary()"
   ],
   "metadata": {
    "collapsed": false
   }
  },
  {
   "cell_type": "code",
   "execution_count": 23,
   "outputs": [],
   "source": [
    "model.compile(loss='mse',\n",
    "              optimizer=tf.keras.optimizers.Adam(learning_rate=0.001),\n",
    "              metrics=['mae'])"
   ],
   "metadata": {
    "collapsed": false
   }
  },
  {
   "cell_type": "code",
   "execution_count": 24,
   "outputs": [],
   "source": [
    "norm_layer.adapt(data_train_qt)"
   ],
   "metadata": {
    "collapsed": false
   }
  },
  {
   "cell_type": "code",
   "execution_count": 25,
   "outputs": [
    {
     "name": "stdout",
     "output_type": "stream",
     "text": [
      "Epoch 1/50\n",
      "2394/2394 [==============================] - 11s 5ms/step - loss: 22.3662 - mae: 4.1975 - val_loss: 17.6610 - val_mae: 3.5948\n",
      "Epoch 2/50\n",
      "2394/2394 [==============================] - 11s 5ms/step - loss: 9.5268 - mae: 2.6151 - val_loss: 8.6398 - val_mae: 2.5366\n",
      "Epoch 3/50\n",
      "2394/2394 [==============================] - 10s 4ms/step - loss: 4.9175 - mae: 1.9100 - val_loss: 6.2073 - val_mae: 2.1030\n",
      "Epoch 4/50\n",
      "2394/2394 [==============================] - 9s 4ms/step - loss: 4.1670 - mae: 1.7220 - val_loss: 5.8833 - val_mae: 2.0292\n",
      "Epoch 5/50\n",
      "2394/2394 [==============================] - 9s 4ms/step - loss: 4.1467 - mae: 1.7076 - val_loss: 5.8972 - val_mae: 2.0339\n",
      "Epoch 6/50\n",
      "2394/2394 [==============================] - 7s 3ms/step - loss: 4.1469 - mae: 1.7079 - val_loss: 5.8545 - val_mae: 2.0243\n",
      "Epoch 7/50\n",
      "2394/2394 [==============================] - 10s 4ms/step - loss: 4.1466 - mae: 1.7077 - val_loss: 5.8543 - val_mae: 2.0246\n",
      "Epoch 8/50\n",
      "2394/2394 [==============================] - 10s 4ms/step - loss: 4.1466 - mae: 1.7077 - val_loss: 5.8710 - val_mae: 2.0305\n",
      "Epoch 9/50\n",
      "2394/2394 [==============================] - 8s 3ms/step - loss: 4.1467 - mae: 1.7077 - val_loss: 5.8659 - val_mae: 2.0235\n",
      "Epoch 10/50\n",
      "2394/2394 [==============================] - 8s 3ms/step - loss: 4.1468 - mae: 1.7077 - val_loss: 5.8951 - val_mae: 2.0278\n",
      "Epoch 11/50\n",
      "2394/2394 [==============================] - 8s 3ms/step - loss: 4.1461 - mae: 1.7075 - val_loss: 5.9150 - val_mae: 2.0410\n",
      "Epoch 12/50\n",
      "2394/2394 [==============================] - 10s 4ms/step - loss: 4.1463 - mae: 1.7080 - val_loss: 5.8279 - val_mae: 2.0164\n",
      "Epoch 13/50\n",
      "2394/2394 [==============================] - 8s 3ms/step - loss: 4.1469 - mae: 1.7077 - val_loss: 5.9594 - val_mae: 2.0478\n",
      "Epoch 14/50\n",
      "2394/2394 [==============================] - 8s 3ms/step - loss: 4.1466 - mae: 1.7077 - val_loss: 5.8600 - val_mae: 2.0275\n",
      "Epoch 15/50\n",
      "2394/2394 [==============================] - 8s 3ms/step - loss: 4.1468 - mae: 1.7078 - val_loss: 5.9089 - val_mae: 2.0342\n",
      "Epoch 16/50\n",
      "2394/2394 [==============================] - 7s 3ms/step - loss: 4.1467 - mae: 1.7079 - val_loss: 5.8650 - val_mae: 2.0257\n",
      "Epoch 17/50\n",
      "2394/2394 [==============================] - 8s 3ms/step - loss: 4.1467 - mae: 1.7078 - val_loss: 5.8498 - val_mae: 2.0249\n",
      "Epoch 18/50\n",
      "2394/2394 [==============================] - 9s 4ms/step - loss: 4.1468 - mae: 1.7076 - val_loss: 5.9052 - val_mae: 2.0316\n",
      "Epoch 19/50\n",
      "2394/2394 [==============================] - 8s 3ms/step - loss: 4.1463 - mae: 1.7075 - val_loss: 5.8732 - val_mae: 2.0261\n",
      "Epoch 20/50\n",
      "2394/2394 [==============================] - 8s 3ms/step - loss: 4.1469 - mae: 1.7078 - val_loss: 5.8564 - val_mae: 2.0268\n",
      "Epoch 21/50\n",
      "2394/2394 [==============================] - 8s 3ms/step - loss: 4.1464 - mae: 1.7078 - val_loss: 5.8701 - val_mae: 2.0176\n",
      "Epoch 22/50\n",
      "2394/2394 [==============================] - 10s 4ms/step - loss: 4.1463 - mae: 1.7074 - val_loss: 5.8209 - val_mae: 2.0170\n",
      "Epoch 23/50\n",
      "2394/2394 [==============================] - 8s 3ms/step - loss: 4.1468 - mae: 1.7078 - val_loss: 5.8610 - val_mae: 2.0262\n",
      "Epoch 24/50\n",
      "2394/2394 [==============================] - 8s 3ms/step - loss: 4.1464 - mae: 1.7079 - val_loss: 5.8748 - val_mae: 2.0229\n",
      "Epoch 25/50\n",
      "2394/2394 [==============================] - 5s 2ms/step - loss: 4.1467 - mae: 1.7077 - val_loss: 5.8604 - val_mae: 2.0205\n",
      "Epoch 26/50\n",
      "2394/2394 [==============================] - 6s 2ms/step - loss: 4.1466 - mae: 1.7075 - val_loss: 5.8902 - val_mae: 2.0259\n",
      "Epoch 27/50\n",
      "2394/2394 [==============================] - 15s 6ms/step - loss: 4.1467 - mae: 1.7078 - val_loss: 5.8747 - val_mae: 2.0235\n",
      "Epoch 28/50\n",
      "2394/2394 [==============================] - 8s 3ms/step - loss: 4.1465 - mae: 1.7078 - val_loss: 5.8574 - val_mae: 2.0267\n",
      "Epoch 29/50\n",
      "2394/2394 [==============================] - 7s 3ms/step - loss: 4.1465 - mae: 1.7076 - val_loss: 5.8949 - val_mae: 2.0328\n",
      "Epoch 30/50\n",
      "2394/2394 [==============================] - 8s 3ms/step - loss: 4.1468 - mae: 1.7079 - val_loss: 5.8840 - val_mae: 2.0328\n",
      "Epoch 31/50\n",
      "2394/2394 [==============================] - 6s 3ms/step - loss: 4.1463 - mae: 1.7077 - val_loss: 5.8381 - val_mae: 2.0209\n",
      "Epoch 32/50\n",
      "2394/2394 [==============================] - 7s 3ms/step - loss: 4.1465 - mae: 1.7076 - val_loss: 5.8016 - val_mae: 2.0120\n",
      "Epoch 33/50\n",
      "2394/2394 [==============================] - 7s 3ms/step - loss: 4.1464 - mae: 1.7078 - val_loss: 5.9854 - val_mae: 2.0457\n",
      "Epoch 34/50\n",
      "2394/2394 [==============================] - 7s 3ms/step - loss: 4.1463 - mae: 1.7074 - val_loss: 5.8991 - val_mae: 2.0338\n",
      "Epoch 35/50\n",
      "2394/2394 [==============================] - 6s 2ms/step - loss: 4.1466 - mae: 1.7079 - val_loss: 5.8752 - val_mae: 2.0300\n",
      "Epoch 36/50\n",
      "2394/2394 [==============================] - 6s 2ms/step - loss: 4.1466 - mae: 1.7078 - val_loss: 5.9120 - val_mae: 2.0365\n",
      "Epoch 37/50\n",
      "2394/2394 [==============================] - 6s 3ms/step - loss: 4.1465 - mae: 1.7075 - val_loss: 5.8702 - val_mae: 2.0293\n",
      "Epoch 38/50\n",
      "2394/2394 [==============================] - 6s 3ms/step - loss: 4.1466 - mae: 1.7078 - val_loss: 5.8348 - val_mae: 2.0214\n",
      "Epoch 39/50\n",
      "2394/2394 [==============================] - 6s 3ms/step - loss: 4.1466 - mae: 1.7076 - val_loss: 5.8533 - val_mae: 2.0228\n",
      "Epoch 40/50\n",
      "2394/2394 [==============================] - 6s 2ms/step - loss: 4.1466 - mae: 1.7079 - val_loss: 5.8819 - val_mae: 2.0319\n",
      "Epoch 41/50\n",
      "2394/2394 [==============================] - 7s 3ms/step - loss: 4.1464 - mae: 1.7077 - val_loss: 5.8878 - val_mae: 2.0304\n",
      "Epoch 42/50\n",
      "2394/2394 [==============================] - 7s 3ms/step - loss: 4.1466 - mae: 1.7078 - val_loss: 5.9147 - val_mae: 2.0387\n",
      "Epoch 43/50\n",
      "2394/2394 [==============================] - 9s 4ms/step - loss: 4.1466 - mae: 1.7078 - val_loss: 5.8945 - val_mae: 2.0326\n",
      "Epoch 44/50\n",
      "2394/2394 [==============================] - 9s 4ms/step - loss: 4.1465 - mae: 1.7075 - val_loss: 5.8584 - val_mae: 2.0221\n",
      "Epoch 45/50\n",
      "2394/2394 [==============================] - 10s 4ms/step - loss: 4.1466 - mae: 1.7076 - val_loss: 5.8327 - val_mae: 2.0187\n",
      "Epoch 46/50\n",
      "2394/2394 [==============================] - 9s 4ms/step - loss: 4.1468 - mae: 1.7079 - val_loss: 5.8303 - val_mae: 2.0191\n",
      "Epoch 47/50\n",
      "2394/2394 [==============================] - 9s 4ms/step - loss: 4.1469 - mae: 1.7078 - val_loss: 5.8679 - val_mae: 2.0278\n",
      "Epoch 48/50\n",
      "2394/2394 [==============================] - 19s 8ms/step - loss: 4.1467 - mae: 1.7078 - val_loss: 5.9021 - val_mae: 2.0276\n",
      "Epoch 49/50\n",
      "2394/2394 [==============================] - 20s 8ms/step - loss: 4.1465 - mae: 1.7075 - val_loss: 5.8327 - val_mae: 2.0185\n",
      "Epoch 50/50\n",
      "2394/2394 [==============================] - 18s 8ms/step - loss: 4.1466 - mae: 1.7077 - val_loss: 5.8911 - val_mae: 2.0273\n"
     ]
    },
    {
     "data": {
      "text/plain": "<keras.callbacks.History at 0x7fc0d80f7910>"
     },
     "execution_count": 25,
     "metadata": {},
     "output_type": "execute_result"
    }
   ],
   "source": [
    "n_epochs = 50\n",
    "\n",
    "model.fit(data_train_qt, labels_train, epochs=n_epochs, validation_data=(data_validation, labels_validation))"
   ],
   "metadata": {
    "collapsed": false
   }
  },
  {
   "cell_type": "code",
   "execution_count": 26,
   "outputs": [
    {
     "name": "stdout",
     "output_type": "stream",
     "text": [
      "895/895 [==============================] - 4s 4ms/step\n",
      "\n",
      "Values for validation set:\n",
      "MAE: 2.010639204864571\n",
      "MSE: 5.795552315376139\n",
      "RMSE: 2.4073953384054185\n",
      "R2:  -0.0004854048916076992\n"
     ]
    }
   ],
   "source": [
    "predictions = model.predict(data_validation_qt)\n",
    "\n",
    "mae, mse, r2 = get_score(labels_validation, predictions)\n",
    "print(f'''\\nValues for validation set:\\nMAE: {mae}\\nMSE: {mse}\\nRMSE: {mse**.5}\\nR2:  {r2}''')"
   ],
   "metadata": {
    "collapsed": false
   }
  },
  {
   "cell_type": "markdown",
   "source": [
    "Trying big model again"
   ],
   "metadata": {
    "collapsed": false
   }
  },
  {
   "cell_type": "code",
   "execution_count": 27,
   "outputs": [
    {
     "name": "stdout",
     "output_type": "stream",
     "text": [
      "Model: \"model_3\"\n",
      "_________________________________________________________________\n",
      " Layer (type)                Output Shape              Param #   \n",
      "=================================================================\n",
      " input_4 (InputLayer)        [(None, 8)]               0         \n",
      "                                                                 \n",
      " normalization_3 (Normalizat  (None, 8)                17        \n",
      " ion)                                                            \n",
      "                                                                 \n",
      " dense_6 (Dense)             (None, 64)                576       \n",
      "                                                                 \n",
      " dense_7 (Dense)             (None, 128)               8320      \n",
      "                                                                 \n",
      " dense_8 (Dense)             (None, 64)                8256      \n",
      "                                                                 \n",
      " dense_9 (Dense)             (None, 2)                 130       \n",
      "                                                                 \n",
      "=================================================================\n",
      "Total params: 17,299\n",
      "Trainable params: 17,282\n",
      "Non-trainable params: 17\n",
      "_________________________________________________________________\n"
     ]
    }
   ],
   "source": [
    "tf.random.set_seed(123)\n",
    "\n",
    "norm_layer = tf.keras.layers.Normalization()\n",
    "\n",
    "input_ = tf.keras.layers.Input(shape=data_train_qt.shape[1:])\n",
    "normalized = norm_layer(input_)\n",
    "hidden1 = tf.keras.layers.Dense(64, activation='relu')(normalized)\n",
    "hidden2 = tf.keras.layers.Dense(128, activation='relu')(hidden1)\n",
    "hidden3 = tf.keras.layers.Dense(64, activation='relu')(hidden2)\n",
    "output = tf.keras.layers.Dense(2)(hidden3)\n",
    "\n",
    "model = tf.keras.Model(inputs=[input_], outputs=[output])\n",
    "\n",
    "model.summary()"
   ],
   "metadata": {
    "collapsed": false
   }
  },
  {
   "cell_type": "code",
   "execution_count": 28,
   "outputs": [],
   "source": [
    "model.compile(loss='mse',\n",
    "              optimizer=tf.keras.optimizers.Adam(learning_rate=0.001),\n",
    "              metrics=['mae'])\n",
    "norm_layer.adapt(data_train_qt)"
   ],
   "metadata": {
    "collapsed": false
   }
  },
  {
   "cell_type": "code",
   "execution_count": 29,
   "outputs": [
    {
     "name": "stdout",
     "output_type": "stream",
     "text": [
      "Epoch 1/25\n",
      "2394/2394 [==============================] - 23s 9ms/step - loss: 4.4340 - mae: 1.7525 - val_loss: 6.8912 - val_mae: 2.2445\n",
      "Epoch 2/25\n",
      "2394/2394 [==============================] - 22s 9ms/step - loss: 4.1782 - mae: 1.7140 - val_loss: 6.5386 - val_mae: 2.1814\n",
      "Epoch 3/25\n",
      "2394/2394 [==============================] - 22s 9ms/step - loss: 4.1673 - mae: 1.7116 - val_loss: 6.8210 - val_mae: 2.2431\n",
      "Epoch 4/25\n",
      "2394/2394 [==============================] - 21s 9ms/step - loss: 4.1631 - mae: 1.7106 - val_loss: 6.5667 - val_mae: 2.1858\n",
      "Epoch 5/25\n",
      "2394/2394 [==============================] - 20s 8ms/step - loss: 4.1582 - mae: 1.7099 - val_loss: 7.3545 - val_mae: 2.3278\n",
      "Epoch 6/25\n",
      "2394/2394 [==============================] - 20s 8ms/step - loss: 4.1558 - mae: 1.7091 - val_loss: 6.6870 - val_mae: 2.2156\n",
      "Epoch 7/25\n",
      "2394/2394 [==============================] - 20s 8ms/step - loss: 4.1500 - mae: 1.7081 - val_loss: 6.7798 - val_mae: 2.2267\n",
      "Epoch 8/25\n",
      "2394/2394 [==============================] - 20s 8ms/step - loss: 4.1489 - mae: 1.7073 - val_loss: 6.3640 - val_mae: 2.1434\n",
      "Epoch 9/25\n",
      "2394/2394 [==============================] - 20s 8ms/step - loss: 4.1459 - mae: 1.7069 - val_loss: 6.1848 - val_mae: 2.0994\n",
      "Epoch 10/25\n",
      "2394/2394 [==============================] - 18s 8ms/step - loss: 4.1422 - mae: 1.7064 - val_loss: 6.1306 - val_mae: 2.0840\n",
      "Epoch 11/25\n",
      "2394/2394 [==============================] - 19s 8ms/step - loss: 4.1389 - mae: 1.7054 - val_loss: 6.2103 - val_mae: 2.1043\n",
      "Epoch 12/25\n",
      "2394/2394 [==============================] - 18s 8ms/step - loss: 4.1377 - mae: 1.7051 - val_loss: 6.0222 - val_mae: 2.0549\n",
      "Epoch 13/25\n",
      "2394/2394 [==============================] - 20s 8ms/step - loss: 4.1371 - mae: 1.7054 - val_loss: 6.1092 - val_mae: 2.0832\n",
      "Epoch 14/25\n",
      "2394/2394 [==============================] - 20s 9ms/step - loss: 4.1336 - mae: 1.7046 - val_loss: 6.2633 - val_mae: 2.1174\n",
      "Epoch 15/25\n",
      "2394/2394 [==============================] - 21s 9ms/step - loss: 4.1330 - mae: 1.7041 - val_loss: 5.9341 - val_mae: 2.0335\n",
      "Epoch 16/25\n",
      "2394/2394 [==============================] - 19s 8ms/step - loss: 4.1304 - mae: 1.7040 - val_loss: 6.0091 - val_mae: 2.0624\n",
      "Epoch 17/25\n",
      "2394/2394 [==============================] - 24s 10ms/step - loss: 4.1307 - mae: 1.7038 - val_loss: 5.9779 - val_mae: 2.0560\n",
      "Epoch 18/25\n",
      "2394/2394 [==============================] - 18s 8ms/step - loss: 4.1303 - mae: 1.7036 - val_loss: 5.9405 - val_mae: 2.0372\n",
      "Epoch 19/25\n",
      "2394/2394 [==============================] - 11s 5ms/step - loss: 4.1258 - mae: 1.7025 - val_loss: 5.8833 - val_mae: 2.0297\n",
      "Epoch 20/25\n",
      "2394/2394 [==============================] - 10s 4ms/step - loss: 4.1267 - mae: 1.7026 - val_loss: 5.9786 - val_mae: 2.0483\n",
      "Epoch 21/25\n",
      "2394/2394 [==============================] - 14s 6ms/step - loss: 4.1242 - mae: 1.7016 - val_loss: 5.9807 - val_mae: 2.0417\n",
      "Epoch 22/25\n",
      "2394/2394 [==============================] - 11s 5ms/step - loss: 4.1251 - mae: 1.7019 - val_loss: 5.9785 - val_mae: 2.0512\n",
      "Epoch 23/25\n",
      "2394/2394 [==============================] - 13s 5ms/step - loss: 4.1249 - mae: 1.7021 - val_loss: 6.0437 - val_mae: 2.0646\n",
      "Epoch 24/25\n",
      "2394/2394 [==============================] - 12s 5ms/step - loss: 4.1209 - mae: 1.7014 - val_loss: 5.8980 - val_mae: 2.0216\n",
      "Epoch 25/25\n",
      "2394/2394 [==============================] - 17s 7ms/step - loss: 4.1234 - mae: 1.7014 - val_loss: 6.0918 - val_mae: 2.0456\n"
     ]
    },
    {
     "data": {
      "text/plain": "<keras.callbacks.History at 0x7fc0c9e0f880>"
     },
     "execution_count": 29,
     "metadata": {},
     "output_type": "execute_result"
    }
   ],
   "source": [
    "n_epochs = 25\n",
    "\n",
    "model.fit(data_train_qt, labels_train, epochs=n_epochs, validation_data=(data_validation, labels_validation))"
   ],
   "metadata": {
    "collapsed": false
   }
  },
  {
   "cell_type": "code",
   "execution_count": 30,
   "outputs": [
    {
     "name": "stdout",
     "output_type": "stream",
     "text": [
      "895/895 [==============================] - 2s 2ms/step\n",
      "\n",
      "Values for validation set:\n",
      "MAE: 2.0060391341058175\n",
      "MSE: 5.83354493798229\n",
      "RMSE: 2.4152732636251097\n",
      "R2:  -0.0033273456713504568\n"
     ]
    }
   ],
   "source": [
    "predictions = model.predict(data_validation_qt)\n",
    "\n",
    "mae, mse, r2 = get_score(labels_validation, predictions)\n",
    "print(f'''\\nValues for validation set:\\nMAE: {mae}\\nMSE: {mse}\\nRMSE: {mse**.5}\\nR2:  {r2}''')"
   ],
   "metadata": {
    "collapsed": false
   }
  },
  {
   "cell_type": "code",
   "execution_count": 30,
   "outputs": [],
   "source": [],
   "metadata": {
    "collapsed": false
   }
  }
 ],
 "metadata": {
  "kernelspec": {
   "display_name": "Python 3",
   "language": "python",
   "name": "python3"
  },
  "language_info": {
   "codemirror_mode": {
    "name": "ipython",
    "version": 2
   },
   "file_extension": ".py",
   "mimetype": "text/x-python",
   "name": "python",
   "nbconvert_exporter": "python",
   "pygments_lexer": "ipython2",
   "version": "2.7.6"
  }
 },
 "nbformat": 4,
 "nbformat_minor": 0
}
