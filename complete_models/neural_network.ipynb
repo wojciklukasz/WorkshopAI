{
 "cells": [
  {
   "cell_type": "code",
   "execution_count": 1,
   "metadata": {
    "collapsed": true
   },
   "outputs": [],
   "source": [
    "import pandas as pd\n",
    "from sklearn.model_selection import train_test_split\n",
    "from sklearn.metrics import mean_squared_error, mean_absolute_error, r2_score\n",
    "from sklearn.preprocessing import QuantileTransformer\n",
    "import tensorflow as tf\n",
    "from pathlib import Path\n",
    "from time import strftime"
   ]
  },
  {
   "cell_type": "code",
   "execution_count": 2,
   "outputs": [
    {
     "data": {
      "text/plain": "Launching TensorBoard..."
     },
     "metadata": {},
     "output_type": "display_data"
    },
    {
     "name": "stdout",
     "output_type": "stream",
     "text": [
      "Tensorboard launched at localhost:6006\n"
     ]
    }
   ],
   "source": [
    "%load_ext tensorboard\n",
    "%tensorboard --logdir=./my_logs\n",
    "print('Tensorboard launched at localhost:6006')"
   ],
   "metadata": {
    "collapsed": false
   }
  },
  {
   "cell_type": "code",
   "execution_count": 3,
   "outputs": [
    {
     "name": "stdout",
     "output_type": "stream",
     "text": [
      "Num GPUs Available:  1\n"
     ]
    }
   ],
   "source": [
    "print(\"Num GPUs Available: \", len(tf.config.list_physical_devices('GPU')))"
   ],
   "metadata": {
    "collapsed": false
   }
  },
  {
   "cell_type": "code",
   "execution_count": 4,
   "outputs": [],
   "source": [
    "def get_run_dir(root='my_logs'):\n",
    "    return Path(root) / strftime('run_%Y_%m_%d_%H_%M_%S')"
   ],
   "metadata": {
    "collapsed": false
   }
  },
  {
   "cell_type": "code",
   "execution_count": 5,
   "outputs": [],
   "source": [
    "def get_score(true_values, predicted_values):\n",
    "    mae_ = mean_absolute_error(true_values, predicted_values)\n",
    "    mse_ = mean_squared_error(true_values, predicted_values)\n",
    "    r2_ = r2_score(true_values, predicted_values)\n",
    "\n",
    "    return mae_, mse_, r2_"
   ],
   "metadata": {
    "collapsed": false
   }
  },
  {
   "cell_type": "markdown",
   "source": [
    "# Loading data"
   ],
   "metadata": {
    "collapsed": false
   }
  },
  {
   "cell_type": "code",
   "execution_count": 6,
   "outputs": [],
   "source": [
    "dataset = pd.read_csv('dataset.csv')"
   ],
   "metadata": {
    "collapsed": false
   }
  },
  {
   "cell_type": "code",
   "execution_count": 7,
   "outputs": [],
   "source": [
    "dataset = dataset.loc[dataset['COND'] != '0']\n",
    "\n",
    "data = dataset.iloc[:, :8]\n",
    "labels = dataset.iloc[:, -2:]"
   ],
   "metadata": {
    "collapsed": false
   }
  },
  {
   "cell_type": "code",
   "execution_count": 8,
   "outputs": [],
   "source": [
    "data_train_full, data_test, labels_train_full, labels_test = train_test_split(data, labels, test_size=0.2, random_state=123)\n",
    "\n",
    "data_train, data_validation, labels_train, labels_validation = train_test_split(data_train_full, labels_train_full, test_size=0.2, random_state=123)\n",
    "\n",
    "data_train = data_train.loc[labels_train['ANS_AROUSAL'] != 1]\n",
    "data_train = data_train.loc[labels_train['ANS_AROUSAL'] != 5]\n",
    "data_train = data_train.loc[labels_train['ANS_AROUSAL'] != 9]\n",
    "labels_train = labels_train.loc[labels_train['ANS_AROUSAL'] != 1]\n",
    "labels_train = labels_train.loc[labels_train['ANS_AROUSAL'] != 5]\n",
    "labels_train = labels_train.loc[labels_train['ANS_AROUSAL'] != 9]\n",
    "\n",
    "data_train = data_train.loc[labels_train['ANS_VALENCE'] != 1]\n",
    "data_train = data_train.loc[labels_train['ANS_VALENCE'] != 5]\n",
    "data_train = data_train.loc[labels_train['ANS_VALENCE'] != 9]\n",
    "labels_train = labels_train.loc[labels_train['ANS_VALENCE'] != 1]\n",
    "labels_train = labels_train.loc[labels_train['ANS_VALENCE'] != 5]\n",
    "labels_train = labels_train.loc[labels_train['ANS_VALENCE'] != 9]"
   ],
   "metadata": {
    "collapsed": false
   }
  },
  {
   "cell_type": "markdown",
   "source": [
    "# Scaling input values to Gaussian distributions"
   ],
   "metadata": {
    "collapsed": false
   }
  },
  {
   "cell_type": "code",
   "execution_count": 9,
   "outputs": [],
   "source": [
    "quantile_transformer = QuantileTransformer(output_distribution='normal', random_state=0)\n",
    "data_train_qt = quantile_transformer.fit_transform(data_train)\n",
    "data_train_qt = pd.DataFrame(data_train_qt, columns=data_train.columns)\n",
    "data_validation_qt = quantile_transformer.fit_transform(data_validation)\n",
    "data_validation_qt = pd.DataFrame(data_validation_qt, columns=data_validation.columns)"
   ],
   "metadata": {
    "collapsed": false
   }
  },
  {
   "cell_type": "markdown",
   "source": [
    "# Training"
   ],
   "metadata": {
    "collapsed": false
   }
  },
  {
   "cell_type": "code",
   "execution_count": 10,
   "outputs": [
    {
     "name": "stdout",
     "output_type": "stream",
     "text": [
      "Model: \"model\"\n",
      "_________________________________________________________________\n",
      " Layer (type)                Output Shape              Param #   \n",
      "=================================================================\n",
      " input_1 (InputLayer)        [(None, 8)]               0         \n",
      "                                                                 \n",
      " normalization (Normalizatio  (None, 8)                17        \n",
      " n)                                                              \n",
      "                                                                 \n",
      " dense (Dense)               (None, 64)                576       \n",
      "                                                                 \n",
      " dense_1 (Dense)             (None, 128)               8320      \n",
      "                                                                 \n",
      " dense_2 (Dense)             (None, 64)                8256      \n",
      "                                                                 \n",
      " dense_3 (Dense)             (None, 1)                 65        \n",
      "                                                                 \n",
      "=================================================================\n",
      "Total params: 17,234\n",
      "Trainable params: 17,217\n",
      "Non-trainable params: 17\n",
      "_________________________________________________________________\n"
     ]
    },
    {
     "name": "stderr",
     "output_type": "stream",
     "text": [
      "2022-11-18 22:07:04.306449: I tensorflow/core/platform/cpu_feature_guard.cc:193] This TensorFlow binary is optimized with oneAPI Deep Neural Network Library (oneDNN) to use the following CPU instructions in performance-critical operations:  AVX2 FMA\n",
      "To enable them in other operations, rebuild TensorFlow with the appropriate compiler flags.\n",
      "2022-11-18 22:07:04.919614: I tensorflow/core/common_runtime/gpu/gpu_device.cc:1532] Created device /job:localhost/replica:0/task:0/device:GPU:0 with 34 MB memory:  -> device: 0, name: NVIDIA GeForce GTX 1050, pci bus id: 0000:01:00.0, compute capability: 6.1\n"
     ]
    }
   ],
   "source": [
    "tf.random.set_seed(123)\n",
    "\n",
    "norm_layer = tf.keras.layers.Normalization()\n",
    "\n",
    "input_ = tf.keras.layers.Input(shape=data_train_qt.shape[1:])\n",
    "normalized = norm_layer(input_)\n",
    "hidden1 = tf.keras.layers.Dense(64, activation='relu')(normalized)\n",
    "hidden2 = tf.keras.layers.Dense(128, activation='relu')(hidden1)\n",
    "hidden3 = tf.keras.layers.Dense(64, activation='relu')(hidden2)\n",
    "output = tf.keras.layers.Dense(1)(hidden3)\n",
    "\n",
    "model = tf.keras.Model(inputs=[input_], outputs=[output])\n",
    "\n",
    "model.summary()"
   ],
   "metadata": {
    "collapsed": false
   }
  },
  {
   "cell_type": "code",
   "execution_count": 11,
   "outputs": [],
   "source": [
    "model.compile(loss='mse',\n",
    "              optimizer=tf.keras.optimizers.SGD(learning_rate=0.001),\n",
    "              metrics=['mae'])"
   ],
   "metadata": {
    "collapsed": false
   }
  },
  {
   "cell_type": "code",
   "execution_count": 12,
   "outputs": [],
   "source": [
    "norm_layer.adapt(data_train_qt)"
   ],
   "metadata": {
    "collapsed": false
   }
  },
  {
   "cell_type": "code",
   "execution_count": 13,
   "outputs": [
    {
     "name": "stdout",
     "output_type": "stream",
     "text": [
      "Epoch 1/100\n",
      "570/570 [==============================] - 3s 4ms/step - loss: 5.9282 - mae: 2.0104 - val_loss: 7.5130 - val_mae: 2.3646\n",
      "Epoch 2/100\n",
      "570/570 [==============================] - 2s 4ms/step - loss: 4.4219 - mae: 1.7918 - val_loss: 7.2038 - val_mae: 2.3148\n",
      "Epoch 3/100\n",
      "570/570 [==============================] - 2s 4ms/step - loss: 4.3993 - mae: 1.7868 - val_loss: 6.9233 - val_mae: 2.2666\n",
      "Epoch 4/100\n",
      "570/570 [==============================] - 2s 4ms/step - loss: 4.3943 - mae: 1.7862 - val_loss: 6.6696 - val_mae: 2.2194\n",
      "Epoch 5/100\n",
      "570/570 [==============================] - 2s 4ms/step - loss: 4.3913 - mae: 1.7853 - val_loss: 6.8644 - val_mae: 2.2560\n",
      "Epoch 6/100\n",
      "570/570 [==============================] - 2s 4ms/step - loss: 4.3897 - mae: 1.7847 - val_loss: 7.0523 - val_mae: 2.2892\n",
      "Epoch 7/100\n",
      "570/570 [==============================] - 2s 4ms/step - loss: 4.3881 - mae: 1.7845 - val_loss: 6.7013 - val_mae: 2.2255\n",
      "Epoch 8/100\n",
      "570/570 [==============================] - 2s 4ms/step - loss: 4.3871 - mae: 1.7841 - val_loss: 6.7974 - val_mae: 2.2437\n",
      "Epoch 9/100\n",
      "570/570 [==============================] - 2s 4ms/step - loss: 4.3850 - mae: 1.7837 - val_loss: 6.7314 - val_mae: 2.2313\n",
      "Epoch 10/100\n",
      "570/570 [==============================] - 2s 4ms/step - loss: 4.3843 - mae: 1.7837 - val_loss: 7.2183 - val_mae: 2.3172\n",
      "Epoch 11/100\n",
      "570/570 [==============================] - 2s 4ms/step - loss: 4.3851 - mae: 1.7842 - val_loss: 6.7716 - val_mae: 2.2389\n",
      "Epoch 12/100\n",
      "570/570 [==============================] - 2s 3ms/step - loss: 4.3827 - mae: 1.7835 - val_loss: 6.7408 - val_mae: 2.2331\n",
      "Epoch 13/100\n",
      "570/570 [==============================] - 2s 4ms/step - loss: 4.3834 - mae: 1.7835 - val_loss: 6.6121 - val_mae: 2.2079\n",
      "Epoch 14/100\n",
      "570/570 [==============================] - 2s 3ms/step - loss: 4.3822 - mae: 1.7834 - val_loss: 6.6026 - val_mae: 2.2060\n",
      "Epoch 15/100\n",
      "570/570 [==============================] - 2s 3ms/step - loss: 4.3813 - mae: 1.7826 - val_loss: 6.8485 - val_mae: 2.2531\n",
      "Epoch 16/100\n",
      "570/570 [==============================] - 2s 4ms/step - loss: 4.3801 - mae: 1.7823 - val_loss: 6.3953 - val_mae: 2.1601\n",
      "Epoch 17/100\n",
      "570/570 [==============================] - 2s 4ms/step - loss: 4.3798 - mae: 1.7825 - val_loss: 6.4360 - val_mae: 2.1698\n",
      "Epoch 18/100\n",
      "570/570 [==============================] - 2s 3ms/step - loss: 4.3793 - mae: 1.7829 - val_loss: 6.5275 - val_mae: 2.1902\n",
      "Epoch 19/100\n",
      "570/570 [==============================] - 2s 4ms/step - loss: 4.3794 - mae: 1.7826 - val_loss: 6.6407 - val_mae: 2.2136\n",
      "Epoch 20/100\n",
      "570/570 [==============================] - 2s 4ms/step - loss: 4.3787 - mae: 1.7828 - val_loss: 6.3496 - val_mae: 2.1486\n",
      "Epoch 21/100\n",
      "570/570 [==============================] - 2s 4ms/step - loss: 4.3781 - mae: 1.7818 - val_loss: 6.5049 - val_mae: 2.1853\n",
      "Epoch 22/100\n",
      "570/570 [==============================] - 2s 4ms/step - loss: 4.3782 - mae: 1.7821 - val_loss: 6.6305 - val_mae: 2.2116\n",
      "Epoch 23/100\n",
      "570/570 [==============================] - 2s 4ms/step - loss: 4.3766 - mae: 1.7821 - val_loss: 6.7109 - val_mae: 2.2274\n",
      "Epoch 24/100\n",
      "570/570 [==============================] - 2s 3ms/step - loss: 4.3777 - mae: 1.7821 - val_loss: 6.3789 - val_mae: 2.1561\n",
      "Epoch 25/100\n",
      "570/570 [==============================] - 2s 3ms/step - loss: 4.3778 - mae: 1.7821 - val_loss: 6.7232 - val_mae: 2.2297\n",
      "Epoch 26/100\n",
      "570/570 [==============================] - 2s 4ms/step - loss: 4.3772 - mae: 1.7820 - val_loss: 6.6686 - val_mae: 2.2191\n",
      "Epoch 27/100\n",
      "570/570 [==============================] - 2s 3ms/step - loss: 4.3760 - mae: 1.7812 - val_loss: 6.5717 - val_mae: 2.1996\n",
      "Epoch 28/100\n",
      "570/570 [==============================] - 2s 4ms/step - loss: 4.3766 - mae: 1.7821 - val_loss: 6.7556 - val_mae: 2.2358\n",
      "Epoch 29/100\n",
      "570/570 [==============================] - 2s 3ms/step - loss: 4.3761 - mae: 1.7816 - val_loss: 6.5308 - val_mae: 2.1909\n",
      "Epoch 30/100\n",
      "570/570 [==============================] - 2s 3ms/step - loss: 4.3753 - mae: 1.7815 - val_loss: 6.4126 - val_mae: 2.1643\n",
      "Epoch 31/100\n",
      "570/570 [==============================] - 2s 4ms/step - loss: 4.3754 - mae: 1.7822 - val_loss: 6.4712 - val_mae: 2.1778\n",
      "Epoch 32/100\n",
      "570/570 [==============================] - 3s 5ms/step - loss: 4.3754 - mae: 1.7815 - val_loss: 6.2428 - val_mae: 2.1177\n",
      "Epoch 33/100\n",
      "570/570 [==============================] - 2s 3ms/step - loss: 4.3748 - mae: 1.7812 - val_loss: 6.4165 - val_mae: 2.1652\n",
      "Epoch 34/100\n",
      "570/570 [==============================] - 2s 3ms/step - loss: 4.3732 - mae: 1.7811 - val_loss: 6.5340 - val_mae: 2.1916\n",
      "Epoch 35/100\n",
      "570/570 [==============================] - 2s 3ms/step - loss: 4.3750 - mae: 1.7814 - val_loss: 6.3443 - val_mae: 2.1472\n",
      "Epoch 36/100\n",
      "570/570 [==============================] - 2s 3ms/step - loss: 4.3736 - mae: 1.7808 - val_loss: 6.5304 - val_mae: 2.1908\n",
      "Epoch 37/100\n",
      "570/570 [==============================] - 2s 4ms/step - loss: 4.3737 - mae: 1.7812 - val_loss: 6.4845 - val_mae: 2.1808\n",
      "Epoch 38/100\n",
      "570/570 [==============================] - 2s 3ms/step - loss: 4.3742 - mae: 1.7815 - val_loss: 6.2311 - val_mae: 2.1137\n",
      "Epoch 39/100\n",
      "570/570 [==============================] - 2s 3ms/step - loss: 4.3740 - mae: 1.7814 - val_loss: 6.3007 - val_mae: 2.1352\n",
      "Epoch 40/100\n",
      "570/570 [==============================] - 2s 3ms/step - loss: 4.3740 - mae: 1.7809 - val_loss: 6.6234 - val_mae: 2.2101\n",
      "Epoch 41/100\n",
      "570/570 [==============================] - 2s 4ms/step - loss: 4.3741 - mae: 1.7813 - val_loss: 6.3625 - val_mae: 2.1519\n",
      "Epoch 42/100\n",
      "570/570 [==============================] - 2s 3ms/step - loss: 4.3740 - mae: 1.7811 - val_loss: 6.4582 - val_mae: 2.1749\n",
      "Epoch 43/100\n",
      "570/570 [==============================] - 2s 3ms/step - loss: 4.3730 - mae: 1.7809 - val_loss: 6.4827 - val_mae: 2.1804\n",
      "Epoch 44/100\n",
      "570/570 [==============================] - 2s 4ms/step - loss: 4.3737 - mae: 1.7811 - val_loss: 6.4875 - val_mae: 2.1815\n",
      "Epoch 45/100\n",
      "570/570 [==============================] - 2s 4ms/step - loss: 4.3727 - mae: 1.7812 - val_loss: 6.2930 - val_mae: 2.1330\n",
      "Epoch 46/100\n",
      "570/570 [==============================] - 2s 3ms/step - loss: 4.3737 - mae: 1.7811 - val_loss: 6.2354 - val_mae: 2.1152\n",
      "Epoch 47/100\n",
      "570/570 [==============================] - 2s 4ms/step - loss: 4.3721 - mae: 1.7807 - val_loss: 6.2005 - val_mae: 2.1029\n",
      "Epoch 48/100\n",
      "570/570 [==============================] - 2s 4ms/step - loss: 4.3731 - mae: 1.7809 - val_loss: 6.2756 - val_mae: 2.1279\n",
      "Epoch 49/100\n",
      "570/570 [==============================] - 2s 4ms/step - loss: 4.3720 - mae: 1.7806 - val_loss: 6.5342 - val_mae: 2.1916\n",
      "Epoch 50/100\n",
      "570/570 [==============================] - 2s 4ms/step - loss: 4.3728 - mae: 1.7809 - val_loss: 6.5665 - val_mae: 2.1984\n",
      "Epoch 51/100\n",
      "570/570 [==============================] - 2s 3ms/step - loss: 4.3714 - mae: 1.7806 - val_loss: 6.6367 - val_mae: 2.2128\n",
      "Epoch 52/100\n",
      "570/570 [==============================] - 2s 4ms/step - loss: 4.3727 - mae: 1.7811 - val_loss: 6.3313 - val_mae: 2.1437\n",
      "Epoch 53/100\n",
      "570/570 [==============================] - 2s 4ms/step - loss: 4.3711 - mae: 1.7804 - val_loss: 6.5974 - val_mae: 2.2048\n",
      "Epoch 54/100\n",
      "570/570 [==============================] - 2s 4ms/step - loss: 4.3723 - mae: 1.7808 - val_loss: 6.4921 - val_mae: 2.1825\n",
      "Epoch 55/100\n",
      "570/570 [==============================] - 2s 4ms/step - loss: 4.3714 - mae: 1.7811 - val_loss: 6.5194 - val_mae: 2.1884\n",
      "Epoch 56/100\n",
      "570/570 [==============================] - 2s 4ms/step - loss: 4.3721 - mae: 1.7809 - val_loss: 6.5193 - val_mae: 2.1884\n",
      "Epoch 57/100\n",
      "570/570 [==============================] - 2s 4ms/step - loss: 4.3705 - mae: 1.7802 - val_loss: 6.3534 - val_mae: 2.1495\n",
      "Epoch 58/100\n",
      "570/570 [==============================] - 2s 4ms/step - loss: 4.3709 - mae: 1.7809 - val_loss: 6.4277 - val_mae: 2.1678\n",
      "Epoch 59/100\n",
      "570/570 [==============================] - 2s 3ms/step - loss: 4.3716 - mae: 1.7805 - val_loss: 6.3388 - val_mae: 2.1457\n",
      "Epoch 60/100\n",
      "570/570 [==============================] - 2s 4ms/step - loss: 4.3710 - mae: 1.7804 - val_loss: 6.2112 - val_mae: 2.1068\n",
      "Epoch 61/100\n",
      "570/570 [==============================] - 2s 4ms/step - loss: 4.3713 - mae: 1.7805 - val_loss: 6.1666 - val_mae: 2.0910\n",
      "Epoch 62/100\n",
      "570/570 [==============================] - 2s 4ms/step - loss: 4.3698 - mae: 1.7793 - val_loss: 6.4293 - val_mae: 2.1682\n",
      "Epoch 63/100\n",
      "570/570 [==============================] - 2s 4ms/step - loss: 4.3699 - mae: 1.7798 - val_loss: 6.6036 - val_mae: 2.2061\n",
      "Epoch 64/100\n",
      "570/570 [==============================] - 2s 4ms/step - loss: 4.3708 - mae: 1.7804 - val_loss: 6.3441 - val_mae: 2.1471\n",
      "Epoch 65/100\n",
      "570/570 [==============================] - 2s 4ms/step - loss: 4.3705 - mae: 1.7803 - val_loss: 6.3932 - val_mae: 2.1595\n",
      "Epoch 66/100\n",
      "570/570 [==============================] - 2s 3ms/step - loss: 4.3705 - mae: 1.7801 - val_loss: 6.2094 - val_mae: 2.1062\n",
      "Epoch 67/100\n",
      "570/570 [==============================] - 2s 4ms/step - loss: 4.3706 - mae: 1.7806 - val_loss: 6.3454 - val_mae: 2.1474\n",
      "Epoch 68/100\n",
      "570/570 [==============================] - 2s 4ms/step - loss: 4.3703 - mae: 1.7802 - val_loss: 6.5515 - val_mae: 2.1953\n",
      "Epoch 69/100\n",
      "570/570 [==============================] - 2s 4ms/step - loss: 4.3703 - mae: 1.7808 - val_loss: 6.2277 - val_mae: 2.1125\n",
      "Epoch 70/100\n",
      "570/570 [==============================] - 2s 4ms/step - loss: 4.3703 - mae: 1.7802 - val_loss: 6.4614 - val_mae: 2.1756\n",
      "Epoch 71/100\n",
      "570/570 [==============================] - 2s 4ms/step - loss: 4.3698 - mae: 1.7804 - val_loss: 6.3468 - val_mae: 2.1477\n",
      "Epoch 72/100\n",
      "570/570 [==============================] - 2s 4ms/step - loss: 4.3688 - mae: 1.7798 - val_loss: 6.3523 - val_mae: 2.1492\n",
      "Epoch 73/100\n",
      "570/570 [==============================] - 2s 4ms/step - loss: 4.3705 - mae: 1.7805 - val_loss: 6.4900 - val_mae: 2.1820\n",
      "Epoch 74/100\n",
      "570/570 [==============================] - 2s 4ms/step - loss: 4.3691 - mae: 1.7798 - val_loss: 6.4391 - val_mae: 2.1705\n",
      "Epoch 75/100\n",
      "570/570 [==============================] - 2s 4ms/step - loss: 4.3705 - mae: 1.7799 - val_loss: 6.3581 - val_mae: 2.1507\n",
      "Epoch 76/100\n",
      "570/570 [==============================] - 2s 4ms/step - loss: 4.3683 - mae: 1.7794 - val_loss: 6.4709 - val_mae: 2.1777\n",
      "Epoch 77/100\n",
      "570/570 [==============================] - 2s 4ms/step - loss: 4.3675 - mae: 1.7799 - val_loss: 6.4300 - val_mae: 2.1683\n",
      "Epoch 78/100\n",
      "570/570 [==============================] - 2s 4ms/step - loss: 4.3696 - mae: 1.7803 - val_loss: 6.3638 - val_mae: 2.1522\n",
      "Epoch 79/100\n",
      "570/570 [==============================] - 2s 4ms/step - loss: 4.3692 - mae: 1.7800 - val_loss: 6.2178 - val_mae: 2.1091\n",
      "Epoch 80/100\n",
      "570/570 [==============================] - 2s 3ms/step - loss: 4.3693 - mae: 1.7801 - val_loss: 6.3163 - val_mae: 2.1395\n",
      "Epoch 81/100\n",
      "570/570 [==============================] - 2s 3ms/step - loss: 4.3700 - mae: 1.7804 - val_loss: 6.4936 - val_mae: 2.1828\n",
      "Epoch 82/100\n",
      "570/570 [==============================] - 2s 4ms/step - loss: 4.3690 - mae: 1.7797 - val_loss: 6.3419 - val_mae: 2.1465\n",
      "Epoch 83/100\n",
      "570/570 [==============================] - 2s 4ms/step - loss: 4.3692 - mae: 1.7803 - val_loss: 6.3214 - val_mae: 2.1410\n",
      "Epoch 84/100\n",
      "570/570 [==============================] - 2s 4ms/step - loss: 4.3683 - mae: 1.7802 - val_loss: 6.5684 - val_mae: 2.1988\n",
      "Epoch 85/100\n",
      "570/570 [==============================] - 2s 4ms/step - loss: 4.3692 - mae: 1.7803 - val_loss: 6.2489 - val_mae: 2.1195\n",
      "Epoch 86/100\n",
      "570/570 [==============================] - 2s 4ms/step - loss: 4.3691 - mae: 1.7796 - val_loss: 6.3881 - val_mae: 2.1583\n",
      "Epoch 87/100\n",
      "570/570 [==============================] - 2s 4ms/step - loss: 4.3687 - mae: 1.7804 - val_loss: 6.2556 - val_mae: 2.1217\n",
      "Epoch 88/100\n",
      "570/570 [==============================] - 2s 4ms/step - loss: 4.3692 - mae: 1.7797 - val_loss: 6.2988 - val_mae: 2.1347\n",
      "Epoch 89/100\n",
      "570/570 [==============================] - 2s 4ms/step - loss: 4.3683 - mae: 1.7795 - val_loss: 6.2698 - val_mae: 2.1261\n",
      "Epoch 90/100\n",
      "570/570 [==============================] - 2s 4ms/step - loss: 4.3680 - mae: 1.7796 - val_loss: 6.3093 - val_mae: 2.1376\n",
      "Epoch 91/100\n",
      "570/570 [==============================] - 3s 5ms/step - loss: 4.3686 - mae: 1.7796 - val_loss: 6.4780 - val_mae: 2.1793\n",
      "Epoch 92/100\n",
      "570/570 [==============================] - 3s 5ms/step - loss: 4.3689 - mae: 1.7805 - val_loss: 6.2414 - val_mae: 2.1171\n",
      "Epoch 93/100\n",
      "570/570 [==============================] - 2s 4ms/step - loss: 4.3678 - mae: 1.7795 - val_loss: 6.4734 - val_mae: 2.1783\n",
      "Epoch 94/100\n",
      "570/570 [==============================] - 2s 3ms/step - loss: 4.3673 - mae: 1.7795 - val_loss: 6.3641 - val_mae: 2.1522\n",
      "Epoch 95/100\n",
      "570/570 [==============================] - 2s 3ms/step - loss: 4.3665 - mae: 1.7795 - val_loss: 6.2600 - val_mae: 2.1230\n",
      "Epoch 96/100\n",
      "570/570 [==============================] - 2s 4ms/step - loss: 4.3672 - mae: 1.7791 - val_loss: 6.4341 - val_mae: 2.1693\n",
      "Epoch 97/100\n",
      "570/570 [==============================] - 2s 4ms/step - loss: 4.3676 - mae: 1.7800 - val_loss: 6.3335 - val_mae: 2.1442\n",
      "Epoch 98/100\n",
      "570/570 [==============================] - 2s 4ms/step - loss: 4.3672 - mae: 1.7796 - val_loss: 6.3225 - val_mae: 2.1412\n",
      "Epoch 99/100\n",
      "570/570 [==============================] - 2s 3ms/step - loss: 4.3669 - mae: 1.7793 - val_loss: 6.3377 - val_mae: 2.1453\n",
      "Epoch 100/100\n",
      "570/570 [==============================] - 2s 3ms/step - loss: 4.3681 - mae: 1.7798 - val_loss: 6.3423 - val_mae: 2.1466\n"
     ]
    }
   ],
   "source": [
    "n_epochs = 100\n",
    "\n",
    "run_dir = get_run_dir()\n",
    "tensorboard_cb = tf.keras.callbacks.TensorBoard(run_dir, profile_batch=(0, n_epochs))\n",
    "\n",
    "history = model.fit(data_train_qt, labels_train, epochs=n_epochs, validation_data=(data_validation, labels_validation), callbacks=[tensorboard_cb])"
   ],
   "metadata": {
    "collapsed": false
   }
  },
  {
   "cell_type": "code",
   "execution_count": 14,
   "outputs": [
    {
     "name": "stdout",
     "output_type": "stream",
     "text": [
      "215/215 [==============================] - 0s 2ms/step\n",
      "\n",
      "Values for validation set:\n",
      "MAE: 1.6895632124705573\n",
      "MSE: 4.379270255323104\n",
      "RMSE: 2.0926706036362015\n",
      "R2:  -0.10084465634301365\n"
     ]
    }
   ],
   "source": [
    "predictions = model.predict(data_validation_qt)\n",
    "\n",
    "mae, mse, r2 = get_score(labels_validation.iloc[:, 1], predictions)\n",
    "print(f'''\\nValues for validation set:\\nMAE: {mae}\\nMSE: {mse}\\nRMSE: {mse**.5}\\nR2:  {r2}''')"
   ],
   "metadata": {
    "collapsed": false
   }
  },
  {
   "cell_type": "markdown",
   "source": [
    "# Overfitting?"
   ],
   "metadata": {
    "collapsed": false
   }
  },
  {
   "cell_type": "code",
   "execution_count": 15,
   "outputs": [
    {
     "name": "stdout",
     "output_type": "stream",
     "text": [
      "Model: \"model_1\"\n",
      "_________________________________________________________________\n",
      " Layer (type)                Output Shape              Param #   \n",
      "=================================================================\n",
      " input_2 (InputLayer)        [(None, 8)]               0         \n",
      "                                                                 \n",
      " normalization_1 (Normalizat  (None, 8)                17        \n",
      " ion)                                                            \n",
      "                                                                 \n",
      " dense_4 (Dense)             (None, 1)                 9         \n",
      "                                                                 \n",
      "=================================================================\n",
      "Total params: 26\n",
      "Trainable params: 9\n",
      "Non-trainable params: 17\n",
      "_________________________________________________________________\n"
     ]
    }
   ],
   "source": [
    "tf.random.set_seed(123)\n",
    "\n",
    "norm_layer = tf.keras.layers.Normalization()\n",
    "\n",
    "input_ = tf.keras.layers.Input(shape=data_train_qt.shape[1:])\n",
    "normalized = norm_layer(input_)\n",
    "output = tf.keras.layers.Dense(1)(normalized)\n",
    "\n",
    "model = tf.keras.Model(inputs=[input_], outputs=[output])\n",
    "\n",
    "model.summary()"
   ],
   "metadata": {
    "collapsed": false
   }
  },
  {
   "cell_type": "code",
   "execution_count": 16,
   "outputs": [],
   "source": [
    "model.compile(loss='mse',\n",
    "              optimizer=tf.keras.optimizers.Adam(learning_rate=0.001),\n",
    "              metrics=['mae'])"
   ],
   "metadata": {
    "collapsed": false
   }
  },
  {
   "cell_type": "code",
   "execution_count": 17,
   "outputs": [],
   "source": [
    "norm_layer.adapt(data_train_qt)"
   ],
   "metadata": {
    "collapsed": false
   }
  },
  {
   "cell_type": "code",
   "execution_count": 18,
   "outputs": [
    {
     "name": "stdout",
     "output_type": "stream",
     "text": [
      "Epoch 1/50\n",
      "570/570 [==============================] - 2s 4ms/step - loss: 30.1346 - mae: 5.0169 - val_loss: 30.5456 - val_mae: 4.9448\n",
      "Epoch 2/50\n",
      "570/570 [==============================] - 2s 4ms/step - loss: 24.5595 - mae: 4.4737 - val_loss: 22.7860 - val_mae: 4.1177\n",
      "Epoch 3/50\n",
      "570/570 [==============================] - 2s 4ms/step - loss: 20.1063 - mae: 3.9677 - val_loss: 19.5052 - val_mae: 3.7832\n",
      "Epoch 4/50\n",
      "570/570 [==============================] - 2s 3ms/step - loss: 16.4159 - mae: 3.5166 - val_loss: 15.8962 - val_mae: 3.4003\n",
      "Epoch 5/50\n",
      "570/570 [==============================] - 2s 3ms/step - loss: 13.3604 - mae: 3.1323 - val_loss: 13.3055 - val_mae: 3.1107\n",
      "Epoch 6/50\n",
      "570/570 [==============================] - 2s 3ms/step - loss: 10.8655 - mae: 2.8094 - val_loss: 11.5084 - val_mae: 2.9008\n",
      "Epoch 7/50\n",
      "570/570 [==============================] - 2s 3ms/step - loss: 8.8733 - mae: 2.5426 - val_loss: 9.6568 - val_mae: 2.6697\n",
      "Epoch 8/50\n",
      "570/570 [==============================] - 2s 3ms/step - loss: 7.3319 - mae: 2.3251 - val_loss: 8.3434 - val_mae: 2.4894\n",
      "Epoch 9/50\n",
      "570/570 [==============================] - 2s 3ms/step - loss: 6.1905 - mae: 2.1528 - val_loss: 7.5992 - val_mae: 2.3781\n",
      "Epoch 10/50\n",
      "570/570 [==============================] - 2s 3ms/step - loss: 5.3965 - mae: 2.0232 - val_loss: 6.9288 - val_mae: 2.2675\n",
      "Epoch 11/50\n",
      "570/570 [==============================] - 2s 3ms/step - loss: 4.8880 - mae: 1.9315 - val_loss: 6.4457 - val_mae: 2.1721\n",
      "Epoch 12/50\n",
      "570/570 [==============================] - 2s 3ms/step - loss: 4.5992 - mae: 1.8695 - val_loss: 6.2436 - val_mae: 2.1182\n",
      "Epoch 13/50\n",
      "570/570 [==============================] - 2s 3ms/step - loss: 4.4612 - mae: 1.8289 - val_loss: 6.1512 - val_mae: 2.0867\n",
      "Epoch 14/50\n",
      "570/570 [==============================] - 2s 3ms/step - loss: 4.4079 - mae: 1.8058 - val_loss: 6.1240 - val_mae: 2.0800\n",
      "Epoch 15/50\n",
      "570/570 [==============================] - 2s 3ms/step - loss: 4.3933 - mae: 1.7923 - val_loss: 6.1031 - val_mae: 2.0731\n",
      "Epoch 16/50\n",
      "570/570 [==============================] - 2s 3ms/step - loss: 4.3904 - mae: 1.7881 - val_loss: 6.0939 - val_mae: 2.0634\n",
      "Epoch 17/50\n",
      "570/570 [==============================] - 2s 3ms/step - loss: 4.3903 - mae: 1.7860 - val_loss: 6.0959 - val_mae: 2.0692\n",
      "Epoch 18/50\n",
      "570/570 [==============================] - 2s 4ms/step - loss: 4.3905 - mae: 1.7862 - val_loss: 6.0994 - val_mae: 2.0713\n",
      "Epoch 19/50\n",
      "570/570 [==============================] - 3s 5ms/step - loss: 4.3903 - mae: 1.7855 - val_loss: 6.1005 - val_mae: 2.0719\n",
      "Epoch 20/50\n",
      "570/570 [==============================] - 3s 5ms/step - loss: 4.3902 - mae: 1.7853 - val_loss: 6.1036 - val_mae: 2.0733\n",
      "Epoch 21/50\n",
      "570/570 [==============================] - 2s 3ms/step - loss: 4.3903 - mae: 1.7854 - val_loss: 6.0931 - val_mae: 2.0654\n",
      "Epoch 22/50\n",
      "570/570 [==============================] - 2s 4ms/step - loss: 4.3903 - mae: 1.7844 - val_loss: 6.0954 - val_mae: 2.0688\n",
      "Epoch 23/50\n",
      "570/570 [==============================] - 2s 3ms/step - loss: 4.3902 - mae: 1.7868 - val_loss: 6.0933 - val_mae: 2.0663\n",
      "Epoch 24/50\n",
      "570/570 [==============================] - 2s 3ms/step - loss: 4.3905 - mae: 1.7846 - val_loss: 6.0932 - val_mae: 2.0653\n",
      "Epoch 25/50\n",
      "570/570 [==============================] - 2s 3ms/step - loss: 4.3904 - mae: 1.7856 - val_loss: 6.1023 - val_mae: 2.0727\n",
      "Epoch 26/50\n",
      "570/570 [==============================] - 2s 3ms/step - loss: 4.3901 - mae: 1.7856 - val_loss: 6.0962 - val_mae: 2.0695\n",
      "Epoch 27/50\n",
      "570/570 [==============================] - 2s 4ms/step - loss: 4.3902 - mae: 1.7852 - val_loss: 6.1064 - val_mae: 2.0744\n",
      "Epoch 28/50\n",
      "570/570 [==============================] - 2s 4ms/step - loss: 4.3902 - mae: 1.7848 - val_loss: 6.1153 - val_mae: 2.0774\n",
      "Epoch 29/50\n",
      "570/570 [==============================] - 3s 4ms/step - loss: 4.3902 - mae: 1.7855 - val_loss: 6.0947 - val_mae: 2.0683\n",
      "Epoch 30/50\n",
      "570/570 [==============================] - 4s 6ms/step - loss: 4.3904 - mae: 1.7856 - val_loss: 6.0932 - val_mae: 2.0656\n",
      "Epoch 31/50\n",
      "570/570 [==============================] - 4s 6ms/step - loss: 4.3901 - mae: 1.7856 - val_loss: 6.0983 - val_mae: 2.0708\n",
      "Epoch 32/50\n",
      "570/570 [==============================] - 3s 6ms/step - loss: 4.3904 - mae: 1.7856 - val_loss: 6.0942 - val_mae: 2.0676\n",
      "Epoch 33/50\n",
      "570/570 [==============================] - 2s 3ms/step - loss: 4.3903 - mae: 1.7851 - val_loss: 6.0994 - val_mae: 2.0713\n",
      "Epoch 34/50\n",
      "570/570 [==============================] - 2s 4ms/step - loss: 4.3900 - mae: 1.7856 - val_loss: 6.1051 - val_mae: 2.0739\n",
      "Epoch 35/50\n",
      "570/570 [==============================] - 2s 3ms/step - loss: 4.3906 - mae: 1.7857 - val_loss: 6.0966 - val_mae: 2.0697\n",
      "Epoch 36/50\n",
      "570/570 [==============================] - 2s 3ms/step - loss: 4.3903 - mae: 1.7855 - val_loss: 6.0976 - val_mae: 2.0704\n",
      "Epoch 37/50\n",
      "570/570 [==============================] - 2s 3ms/step - loss: 4.3905 - mae: 1.7854 - val_loss: 6.0948 - val_mae: 2.0683\n",
      "Epoch 38/50\n",
      "570/570 [==============================] - 2s 3ms/step - loss: 4.3905 - mae: 1.7858 - val_loss: 6.0938 - val_mae: 2.0636\n",
      "Epoch 39/50\n",
      "570/570 [==============================] - 2s 3ms/step - loss: 4.3901 - mae: 1.7851 - val_loss: 6.0938 - val_mae: 2.0636\n",
      "Epoch 40/50\n",
      "570/570 [==============================] - 2s 3ms/step - loss: 4.3903 - mae: 1.7859 - val_loss: 6.0933 - val_mae: 2.0661\n",
      "Epoch 41/50\n",
      "570/570 [==============================] - 2s 3ms/step - loss: 4.3902 - mae: 1.7845 - val_loss: 6.1170 - val_mae: 2.0779\n",
      "Epoch 42/50\n",
      "570/570 [==============================] - 2s 4ms/step - loss: 4.3905 - mae: 1.7858 - val_loss: 6.1003 - val_mae: 2.0718\n",
      "Epoch 43/50\n",
      "570/570 [==============================] - 2s 3ms/step - loss: 4.3903 - mae: 1.7845 - val_loss: 6.1032 - val_mae: 2.0731\n",
      "Epoch 44/50\n",
      "570/570 [==============================] - 2s 3ms/step - loss: 4.3906 - mae: 1.7858 - val_loss: 6.1036 - val_mae: 2.0733\n",
      "Epoch 45/50\n",
      "570/570 [==============================] - 2s 3ms/step - loss: 4.3900 - mae: 1.7855 - val_loss: 6.0932 - val_mae: 2.0647\n",
      "Epoch 46/50\n",
      "570/570 [==============================] - 2s 3ms/step - loss: 4.3900 - mae: 1.7857 - val_loss: 6.0936 - val_mae: 2.0669\n",
      "Epoch 47/50\n",
      "570/570 [==============================] - 2s 3ms/step - loss: 4.3902 - mae: 1.7844 - val_loss: 6.0967 - val_mae: 2.0615\n",
      "Epoch 48/50\n",
      "570/570 [==============================] - 2s 3ms/step - loss: 4.3904 - mae: 1.7857 - val_loss: 6.0980 - val_mae: 2.0706\n",
      "Epoch 49/50\n",
      "570/570 [==============================] - 2s 4ms/step - loss: 4.3904 - mae: 1.7854 - val_loss: 6.1027 - val_mae: 2.0729\n",
      "Epoch 50/50\n",
      "570/570 [==============================] - 3s 5ms/step - loss: 4.3904 - mae: 1.7851 - val_loss: 6.1009 - val_mae: 2.0721\n"
     ]
    },
    {
     "data": {
      "text/plain": "<keras.callbacks.History at 0x7f14d2cf4d30>"
     },
     "execution_count": 18,
     "metadata": {},
     "output_type": "execute_result"
    }
   ],
   "source": [
    "n_epochs = 50\n",
    "\n",
    "# run_dir = get_run_dir()\n",
    "# tensorboard_cb = tf.keras.callbacks.TensorBoard(run_dir, profile_batch=(0, n_epochs))\n",
    "\n",
    "model.fit(data_train_qt, labels_train, epochs=n_epochs, validation_data=(data_validation, labels_validation))"
   ],
   "metadata": {
    "collapsed": false
   }
  },
  {
   "cell_type": "code",
   "execution_count": 19,
   "outputs": [
    {
     "name": "stdout",
     "output_type": "stream",
     "text": [
      "215/215 [==============================] - 0s 2ms/step\n",
      "\n",
      "Values for validation set:\n",
      "MAE: 1.683327297864196\n",
      "MSE: 4.350483806243208\n",
      "RMSE: 2.0857813419060034\n",
      "R2:  -0.09360842592170626\n"
     ]
    }
   ],
   "source": [
    "predictions = model.predict(data_validation_qt)\n",
    "\n",
    "mae, mse, r2 = get_score(labels_validation.iloc[:, 1], predictions)\n",
    "print(f'''\\nValues for validation set:\\nMAE: {mae}\\nMSE: {mse}\\nRMSE: {mse**.5}\\nR2:  {r2}''')"
   ],
   "metadata": {
    "collapsed": false
   }
  },
  {
   "cell_type": "markdown",
   "source": [
    "# Check if data from all subjects works better"
   ],
   "metadata": {
    "collapsed": false
   }
  },
  {
   "cell_type": "code",
   "execution_count": 20,
   "outputs": [],
   "source": [
    "dataset = pd.read_csv('dataset_full.csv')\n",
    "dataset = dataset.loc[dataset['COND'] != '0']\n",
    "\n",
    "data = dataset.iloc[:, :8]\n",
    "labels = dataset.iloc[:, -2:]\n",
    "data_train_full, data_test, labels_train_full, labels_test = train_test_split(data, labels, test_size=0.2,\n",
    "                                                                              random_state=123)\n",
    "\n",
    "data_train, data_validation, labels_train, labels_validation = train_test_split(data_train_full, labels_train_full,\n",
    "                                                                                test_size=0.2, random_state=123)\n",
    "\n",
    "data_train = data_train.loc[labels_train['ANS_AROUSAL'] != 1]\n",
    "data_train = data_train.loc[labels_train['ANS_AROUSAL'] != 5]\n",
    "data_train = data_train.loc[labels_train['ANS_AROUSAL'] != 9]\n",
    "labels_train = labels_train.loc[labels_train['ANS_AROUSAL'] != 1]\n",
    "labels_train = labels_train.loc[labels_train['ANS_AROUSAL'] != 5]\n",
    "labels_train = labels_train.loc[labels_train['ANS_AROUSAL'] != 9]\n",
    "\n",
    "data_train = data_train.loc[labels_train['ANS_VALENCE'] != 1]\n",
    "data_train = data_train.loc[labels_train['ANS_VALENCE'] != 5]\n",
    "data_train = data_train.loc[labels_train['ANS_VALENCE'] != 9]\n",
    "labels_train = labels_train.loc[labels_train['ANS_VALENCE'] != 1]\n",
    "labels_train = labels_train.loc[labels_train['ANS_VALENCE'] != 5]\n",
    "labels_train = labels_train.loc[labels_train['ANS_VALENCE'] != 9]"
   ],
   "metadata": {
    "collapsed": false
   }
  },
  {
   "cell_type": "code",
   "execution_count": 21,
   "outputs": [],
   "source": [
    "quantile_transformer = QuantileTransformer(output_distribution='normal', random_state=0)\n",
    "data_train_qt = quantile_transformer.fit_transform(data_train)\n",
    "data_train_qt = pd.DataFrame(data_train_qt, columns=data_train.columns)\n",
    "data_validation_qt = quantile_transformer.fit_transform(data_validation)\n",
    "data_validation_qt = pd.DataFrame(data_validation_qt, columns=data_validation.columns)"
   ],
   "metadata": {
    "collapsed": false
   }
  },
  {
   "cell_type": "code",
   "execution_count": 22,
   "outputs": [
    {
     "name": "stdout",
     "output_type": "stream",
     "text": [
      "Model: \"model_2\"\n",
      "_________________________________________________________________\n",
      " Layer (type)                Output Shape              Param #   \n",
      "=================================================================\n",
      " input_3 (InputLayer)        [(None, 8)]               0         \n",
      "                                                                 \n",
      " normalization_2 (Normalizat  (None, 8)                17        \n",
      " ion)                                                            \n",
      "                                                                 \n",
      " dense_5 (Dense)             (None, 1)                 9         \n",
      "                                                                 \n",
      "=================================================================\n",
      "Total params: 26\n",
      "Trainable params: 9\n",
      "Non-trainable params: 17\n",
      "_________________________________________________________________\n"
     ]
    }
   ],
   "source": [
    "tf.random.set_seed(123)\n",
    "\n",
    "norm_layer = tf.keras.layers.Normalization()\n",
    "\n",
    "input_ = tf.keras.layers.Input(shape=data_train_qt.shape[1:])\n",
    "normalized = norm_layer(input_)\n",
    "output = tf.keras.layers.Dense(1)(normalized)\n",
    "\n",
    "model = tf.keras.Model(inputs=[input_], outputs=[output])\n",
    "\n",
    "model.summary()"
   ],
   "metadata": {
    "collapsed": false
   }
  },
  {
   "cell_type": "code",
   "execution_count": 23,
   "outputs": [],
   "source": [
    "model.compile(loss='mse',\n",
    "              optimizer=tf.keras.optimizers.Adam(learning_rate=0.001),\n",
    "              metrics=['mae'])"
   ],
   "metadata": {
    "collapsed": false
   }
  },
  {
   "cell_type": "code",
   "execution_count": 24,
   "outputs": [],
   "source": [
    "norm_layer.adapt(data_train_qt)"
   ],
   "metadata": {
    "collapsed": false
   }
  },
  {
   "cell_type": "code",
   "execution_count": 25,
   "outputs": [
    {
     "name": "stdout",
     "output_type": "stream",
     "text": [
      "Epoch 1/50\n",
      "2394/2394 [==============================] - 7s 3ms/step - loss: 22.3546 - mae: 4.1928 - val_loss: 15.0815 - val_mae: 3.3113\n",
      "Epoch 2/50\n",
      "2394/2394 [==============================] - 7s 3ms/step - loss: 9.5316 - mae: 2.6218 - val_loss: 8.2039 - val_mae: 2.4706\n",
      "Epoch 3/50\n",
      "2394/2394 [==============================] - 7s 3ms/step - loss: 5.0278 - mae: 1.9482 - val_loss: 6.3221 - val_mae: 2.1255\n",
      "Epoch 4/50\n",
      "2394/2394 [==============================] - 7s 3ms/step - loss: 4.3890 - mae: 1.7937 - val_loss: 6.1984 - val_mae: 2.0880\n",
      "Epoch 5/50\n",
      "2394/2394 [==============================] - 7s 3ms/step - loss: 4.3801 - mae: 1.7831 - val_loss: 6.2068 - val_mae: 2.0916\n",
      "Epoch 6/50\n",
      "2394/2394 [==============================] - 7s 3ms/step - loss: 4.3802 - mae: 1.7837 - val_loss: 6.2030 - val_mae: 2.0901\n",
      "Epoch 7/50\n",
      "2394/2394 [==============================] - 7s 3ms/step - loss: 4.3799 - mae: 1.7831 - val_loss: 6.2088 - val_mae: 2.0923\n",
      "Epoch 8/50\n",
      "2394/2394 [==============================] - 7s 3ms/step - loss: 4.3801 - mae: 1.7836 - val_loss: 6.2297 - val_mae: 2.0982\n",
      "Epoch 9/50\n",
      "2394/2394 [==============================] - 7s 3ms/step - loss: 4.3801 - mae: 1.7835 - val_loss: 6.1942 - val_mae: 2.0852\n",
      "Epoch 10/50\n",
      "2394/2394 [==============================] - 7s 3ms/step - loss: 4.3802 - mae: 1.7837 - val_loss: 6.1944 - val_mae: 2.0805\n",
      "Epoch 11/50\n",
      "2394/2394 [==============================] - 7s 3ms/step - loss: 4.3799 - mae: 1.7831 - val_loss: 6.2424 - val_mae: 2.1013\n",
      "Epoch 12/50\n",
      "2394/2394 [==============================] - 7s 3ms/step - loss: 4.3800 - mae: 1.7839 - val_loss: 6.1934 - val_mae: 2.0838\n",
      "Epoch 13/50\n",
      "2394/2394 [==============================] - 7s 3ms/step - loss: 4.3801 - mae: 1.7832 - val_loss: 6.2201 - val_mae: 2.0957\n",
      "Epoch 14/50\n",
      "2394/2394 [==============================] - 7s 3ms/step - loss: 4.3799 - mae: 1.7835 - val_loss: 6.2225 - val_mae: 2.0964\n",
      "Epoch 15/50\n",
      "2394/2394 [==============================] - 7s 3ms/step - loss: 4.3801 - mae: 1.7835 - val_loss: 6.2011 - val_mae: 2.0892\n",
      "Epoch 16/50\n",
      "2394/2394 [==============================] - 7s 3ms/step - loss: 4.3800 - mae: 1.7835 - val_loss: 6.1979 - val_mae: 2.0877\n",
      "Epoch 17/50\n",
      "2394/2394 [==============================] - 7s 3ms/step - loss: 4.3800 - mae: 1.7834 - val_loss: 6.2313 - val_mae: 2.0987\n",
      "Epoch 18/50\n",
      "2394/2394 [==============================] - 7s 3ms/step - loss: 4.3801 - mae: 1.7837 - val_loss: 6.1949 - val_mae: 2.0858\n",
      "Epoch 19/50\n",
      "2394/2394 [==============================] - 7s 3ms/step - loss: 4.3798 - mae: 1.7833 - val_loss: 6.1980 - val_mae: 2.0877\n",
      "Epoch 20/50\n",
      "2394/2394 [==============================] - 7s 3ms/step - loss: 4.3800 - mae: 1.7836 - val_loss: 6.2214 - val_mae: 2.0961\n",
      "Epoch 21/50\n",
      "2394/2394 [==============================] - 8s 3ms/step - loss: 4.3795 - mae: 1.7833 - val_loss: 6.2108 - val_mae: 2.0764\n",
      "Epoch 22/50\n",
      "2394/2394 [==============================] - 8s 3ms/step - loss: 4.3803 - mae: 1.7832 - val_loss: 6.1997 - val_mae: 2.0886\n",
      "Epoch 23/50\n",
      "2394/2394 [==============================] - 7s 3ms/step - loss: 4.3801 - mae: 1.7835 - val_loss: 6.2024 - val_mae: 2.0899\n",
      "Epoch 24/50\n",
      "2394/2394 [==============================] - 7s 3ms/step - loss: 4.3799 - mae: 1.7836 - val_loss: 6.1933 - val_mae: 2.0823\n",
      "Epoch 25/50\n",
      "2394/2394 [==============================] - 7s 3ms/step - loss: 4.3800 - mae: 1.7834 - val_loss: 6.1953 - val_mae: 2.0800\n",
      "Epoch 26/50\n",
      "2394/2394 [==============================] - 7s 3ms/step - loss: 4.3801 - mae: 1.7836 - val_loss: 6.1932 - val_mae: 2.0824\n",
      "Epoch 27/50\n",
      "2394/2394 [==============================] - 7s 3ms/step - loss: 4.3801 - mae: 1.7833 - val_loss: 6.1933 - val_mae: 2.0822\n",
      "Epoch 28/50\n",
      "2394/2394 [==============================] - 7s 3ms/step - loss: 4.3801 - mae: 1.7836 - val_loss: 6.2239 - val_mae: 2.0968\n",
      "Epoch 29/50\n",
      "2394/2394 [==============================] - 7s 3ms/step - loss: 4.3801 - mae: 1.7835 - val_loss: 6.2083 - val_mae: 2.0921\n",
      "Epoch 30/50\n",
      "2394/2394 [==============================] - 7s 3ms/step - loss: 4.3802 - mae: 1.7836 - val_loss: 6.2307 - val_mae: 2.0985\n",
      "Epoch 31/50\n",
      "2394/2394 [==============================] - 7s 3ms/step - loss: 4.3799 - mae: 1.7835 - val_loss: 6.2024 - val_mae: 2.0899\n",
      "Epoch 32/50\n",
      "2394/2394 [==============================] - 7s 3ms/step - loss: 4.3799 - mae: 1.7835 - val_loss: 6.1976 - val_mae: 2.0875\n",
      "Epoch 33/50\n",
      "2394/2394 [==============================] - 7s 3ms/step - loss: 4.3800 - mae: 1.7833 - val_loss: 6.1941 - val_mae: 2.0847\n",
      "Epoch 34/50\n",
      "2394/2394 [==============================] - 7s 3ms/step - loss: 4.3797 - mae: 1.7836 - val_loss: 6.2129 - val_mae: 2.0936\n",
      "Epoch 35/50\n",
      "2394/2394 [==============================] - 7s 3ms/step - loss: 4.3802 - mae: 1.7836 - val_loss: 6.2160 - val_mae: 2.0945\n",
      "Epoch 36/50\n",
      "2394/2394 [==============================] - 7s 3ms/step - loss: 4.3800 - mae: 1.7832 - val_loss: 6.2084 - val_mae: 2.0921\n",
      "Epoch 37/50\n",
      "2394/2394 [==============================] - 7s 3ms/step - loss: 4.3800 - mae: 1.7833 - val_loss: 6.2152 - val_mae: 2.0943\n",
      "Epoch 38/50\n",
      "2394/2394 [==============================] - 7s 3ms/step - loss: 4.3800 - mae: 1.7838 - val_loss: 6.2181 - val_mae: 2.0952\n",
      "Epoch 39/50\n",
      "2394/2394 [==============================] - 7s 3ms/step - loss: 4.3801 - mae: 1.7832 - val_loss: 6.1941 - val_mae: 2.0850\n",
      "Epoch 40/50\n",
      "2394/2394 [==============================] - 7s 3ms/step - loss: 4.3800 - mae: 1.7832 - val_loss: 6.2172 - val_mae: 2.0949\n",
      "Epoch 41/50\n",
      "2394/2394 [==============================] - 7s 3ms/step - loss: 4.3800 - mae: 1.7839 - val_loss: 6.1967 - val_mae: 2.0870\n",
      "Epoch 42/50\n",
      "2394/2394 [==============================] - 7s 3ms/step - loss: 4.3800 - mae: 1.7833 - val_loss: 6.2129 - val_mae: 2.0936\n",
      "Epoch 43/50\n",
      "2394/2394 [==============================] - 7s 3ms/step - loss: 4.3800 - mae: 1.7836 - val_loss: 6.2019 - val_mae: 2.0897\n",
      "Epoch 44/50\n",
      "2394/2394 [==============================] - 7s 3ms/step - loss: 4.3802 - mae: 1.7835 - val_loss: 6.1933 - val_mae: 2.0830\n",
      "Epoch 45/50\n",
      "2394/2394 [==============================] - 7s 3ms/step - loss: 4.3799 - mae: 1.7833 - val_loss: 6.1968 - val_mae: 2.0872\n",
      "Epoch 46/50\n",
      "2394/2394 [==============================] - 7s 3ms/step - loss: 4.3802 - mae: 1.7836 - val_loss: 6.1963 - val_mae: 2.0866\n",
      "Epoch 47/50\n",
      "2394/2394 [==============================] - 8s 3ms/step - loss: 4.3803 - mae: 1.7835 - val_loss: 6.2035 - val_mae: 2.0903\n",
      "Epoch 48/50\n",
      "2394/2394 [==============================] - 7s 3ms/step - loss: 4.3800 - mae: 1.7833 - val_loss: 6.1943 - val_mae: 2.0809\n",
      "Epoch 49/50\n",
      "2394/2394 [==============================] - 11s 5ms/step - loss: 4.3800 - mae: 1.7834 - val_loss: 6.1940 - val_mae: 2.0845\n",
      "Epoch 50/50\n",
      "2394/2394 [==============================] - 9s 4ms/step - loss: 4.3803 - mae: 1.7836 - val_loss: 6.1931 - val_mae: 2.0832\n"
     ]
    },
    {
     "data": {
      "text/plain": "<keras.callbacks.History at 0x7f14d2a16dd0>"
     },
     "execution_count": 25,
     "metadata": {},
     "output_type": "execute_result"
    }
   ],
   "source": [
    "n_epochs = 50\n",
    "\n",
    "model.fit(data_train_qt, labels_train, epochs=n_epochs, validation_data=(data_validation, labels_validation))"
   ],
   "metadata": {
    "collapsed": false
   }
  },
  {
   "cell_type": "code",
   "execution_count": 26,
   "outputs": [
    {
     "name": "stdout",
     "output_type": "stream",
     "text": [
      "895/895 [==============================] - 2s 2ms/step\n",
      "\n",
      "Values for validation set:\n",
      "MAE: 1.704908590704877\n",
      "MSE: 4.467483340981309\n",
      "RMSE: 2.1136421979562456\n",
      "R2:  -0.09759174512293645\n"
     ]
    }
   ],
   "source": [
    "predictions = model.predict(data_validation_qt)\n",
    "\n",
    "mae, mse, r2 = get_score(labels_validation.iloc[:, 1], predictions)\n",
    "print(f'''\\nValues for validation set:\\nMAE: {mae}\\nMSE: {mse}\\nRMSE: {mse**.5}\\nR2:  {r2}''')"
   ],
   "metadata": {
    "collapsed": false
   }
  },
  {
   "cell_type": "markdown",
   "source": [
    "Trying big model again"
   ],
   "metadata": {
    "collapsed": false
   }
  },
  {
   "cell_type": "code",
   "execution_count": 27,
   "outputs": [
    {
     "name": "stdout",
     "output_type": "stream",
     "text": [
      "Model: \"model_3\"\n",
      "_________________________________________________________________\n",
      " Layer (type)                Output Shape              Param #   \n",
      "=================================================================\n",
      " input_4 (InputLayer)        [(None, 8)]               0         \n",
      "                                                                 \n",
      " normalization_3 (Normalizat  (None, 8)                17        \n",
      " ion)                                                            \n",
      "                                                                 \n",
      " dense_6 (Dense)             (None, 64)                576       \n",
      "                                                                 \n",
      " dense_7 (Dense)             (None, 128)               8320      \n",
      "                                                                 \n",
      " dense_8 (Dense)             (None, 64)                8256      \n",
      "                                                                 \n",
      " dense_9 (Dense)             (None, 1)                 65        \n",
      "                                                                 \n",
      "=================================================================\n",
      "Total params: 17,234\n",
      "Trainable params: 17,217\n",
      "Non-trainable params: 17\n",
      "_________________________________________________________________\n"
     ]
    }
   ],
   "source": [
    "tf.random.set_seed(123)\n",
    "\n",
    "norm_layer = tf.keras.layers.Normalization()\n",
    "\n",
    "input_ = tf.keras.layers.Input(shape=data_train_qt.shape[1:])\n",
    "normalized = norm_layer(input_)\n",
    "hidden1 = tf.keras.layers.Dense(64, activation='relu')(normalized)\n",
    "hidden2 = tf.keras.layers.Dense(128, activation='relu')(hidden1)\n",
    "hidden3 = tf.keras.layers.Dense(64, activation='relu')(hidden2)\n",
    "output = tf.keras.layers.Dense(1)(hidden3)\n",
    "\n",
    "model = tf.keras.Model(inputs=[input_], outputs=[output])\n",
    "\n",
    "model.summary()"
   ],
   "metadata": {
    "collapsed": false
   }
  },
  {
   "cell_type": "code",
   "execution_count": 28,
   "outputs": [],
   "source": [
    "model.compile(loss='mse',\n",
    "              optimizer=tf.keras.optimizers.Adam(learning_rate=0.001),\n",
    "              metrics=['mae'])\n",
    "norm_layer.adapt(data_train_qt)"
   ],
   "metadata": {
    "collapsed": false
   }
  },
  {
   "cell_type": "code",
   "execution_count": 29,
   "outputs": [
    {
     "name": "stdout",
     "output_type": "stream",
     "text": [
      "Epoch 1/25\n",
      "2394/2394 [==============================] - 7s 3ms/step - loss: 4.6072 - mae: 1.8162 - val_loss: 7.0074 - val_mae: 2.2782\n",
      "Epoch 2/25\n",
      "2394/2394 [==============================] - 7s 3ms/step - loss: 4.4085 - mae: 1.7866 - val_loss: 6.7988 - val_mae: 2.2391\n",
      "Epoch 3/25\n",
      "2394/2394 [==============================] - 9s 4ms/step - loss: 4.4003 - mae: 1.7850 - val_loss: 6.8114 - val_mae: 2.2417\n",
      "Epoch 4/25\n",
      "2394/2394 [==============================] - 8s 3ms/step - loss: 4.3969 - mae: 1.7848 - val_loss: 6.4611 - val_mae: 2.1655\n",
      "Epoch 5/25\n",
      "2394/2394 [==============================] - 6s 3ms/step - loss: 4.3914 - mae: 1.7836 - val_loss: 7.5778 - val_mae: 2.3746\n",
      "Epoch 6/25\n",
      "2394/2394 [==============================] - 7s 3ms/step - loss: 4.3915 - mae: 1.7838 - val_loss: 6.8399 - val_mae: 2.2471\n",
      "Epoch 7/25\n",
      "2394/2394 [==============================] - 9s 4ms/step - loss: 4.3874 - mae: 1.7835 - val_loss: 6.8404 - val_mae: 2.2472\n",
      "Epoch 8/25\n",
      "2394/2394 [==============================] - 7s 3ms/step - loss: 4.3850 - mae: 1.7822 - val_loss: 6.7556 - val_mae: 2.2307\n",
      "Epoch 9/25\n",
      "2394/2394 [==============================] - 7s 3ms/step - loss: 4.3853 - mae: 1.7828 - val_loss: 6.4912 - val_mae: 2.1729\n",
      "Epoch 10/25\n",
      "2394/2394 [==============================] - 9s 4ms/step - loss: 4.3827 - mae: 1.7825 - val_loss: 6.3167 - val_mae: 2.1215\n",
      "Epoch 11/25\n",
      "2394/2394 [==============================] - 10s 4ms/step - loss: 4.3799 - mae: 1.7818 - val_loss: 6.5010 - val_mae: 2.1754\n",
      "Epoch 12/25\n",
      "2394/2394 [==============================] - 8s 3ms/step - loss: 4.3794 - mae: 1.7815 - val_loss: 6.2299 - val_mae: 2.0974\n",
      "Epoch 13/25\n",
      "2394/2394 [==============================] - 9s 4ms/step - loss: 4.3783 - mae: 1.7819 - val_loss: 6.3055 - val_mae: 2.1175\n",
      "Epoch 14/25\n",
      "2394/2394 [==============================] - 9s 4ms/step - loss: 4.3757 - mae: 1.7811 - val_loss: 6.5342 - val_mae: 2.1833\n",
      "Epoch 15/25\n",
      "2394/2394 [==============================] - 8s 3ms/step - loss: 4.3765 - mae: 1.7814 - val_loss: 6.2243 - val_mae: 2.0959\n",
      "Epoch 16/25\n",
      "2394/2394 [==============================] - 7s 3ms/step - loss: 4.3746 - mae: 1.7813 - val_loss: 6.3806 - val_mae: 2.1431\n",
      "Epoch 17/25\n",
      "2394/2394 [==============================] - 7s 3ms/step - loss: 4.3752 - mae: 1.7810 - val_loss: 6.3236 - val_mae: 2.1241\n",
      "Epoch 18/25\n",
      "2394/2394 [==============================] - 9s 4ms/step - loss: 4.3754 - mae: 1.7812 - val_loss: 6.2038 - val_mae: 2.0873\n",
      "Epoch 19/25\n",
      "2394/2394 [==============================] - 12s 5ms/step - loss: 4.3705 - mae: 1.7799 - val_loss: 6.2236 - val_mae: 2.0957\n",
      "Epoch 20/25\n",
      "2394/2394 [==============================] - 8s 3ms/step - loss: 4.3713 - mae: 1.7804 - val_loss: 6.2131 - val_mae: 2.0922\n",
      "Epoch 21/25\n",
      "2394/2394 [==============================] - 8s 3ms/step - loss: 4.3695 - mae: 1.7798 - val_loss: 6.2090 - val_mae: 2.0907\n",
      "Epoch 22/25\n",
      "2394/2394 [==============================] - 8s 3ms/step - loss: 4.3709 - mae: 1.7799 - val_loss: 6.2054 - val_mae: 2.0885\n",
      "Epoch 23/25\n",
      "2394/2394 [==============================] - 8s 3ms/step - loss: 4.3709 - mae: 1.7803 - val_loss: 6.2037 - val_mae: 2.0881\n",
      "Epoch 24/25\n",
      "2394/2394 [==============================] - 7s 3ms/step - loss: 4.3682 - mae: 1.7794 - val_loss: 6.2027 - val_mae: 2.0810\n",
      "Epoch 25/25\n",
      "2394/2394 [==============================] - 7s 3ms/step - loss: 4.3700 - mae: 1.7800 - val_loss: 6.4105 - val_mae: 2.0833\n"
     ]
    },
    {
     "data": {
      "text/plain": "<keras.callbacks.History at 0x7f14d2af7d00>"
     },
     "execution_count": 29,
     "metadata": {},
     "output_type": "execute_result"
    }
   ],
   "source": [
    "n_epochs = 25\n",
    "\n",
    "model.fit(data_train_qt, labels_train, epochs=n_epochs, validation_data=(data_validation, labels_validation))"
   ],
   "metadata": {
    "collapsed": false
   }
  },
  {
   "cell_type": "code",
   "execution_count": 30,
   "outputs": [
    {
     "name": "stdout",
     "output_type": "stream",
     "text": [
      "895/895 [==============================] - 1s 1ms/step\n",
      "\n",
      "Values for validation set:\n",
      "MAE: 1.6441731698019406\n",
      "MSE: 4.2095829292362845\n",
      "RMSE: 2.051726816424712\n",
      "R2:  -0.034229592118697916\n"
     ]
    }
   ],
   "source": [
    "predictions = model.predict(data_validation_qt)\n",
    "\n",
    "mae, mse, r2 = get_score(labels_validation.iloc[:, 1], predictions)\n",
    "print(f'''\\nValues for validation set:\\nMAE: {mae}\\nMSE: {mse}\\nRMSE: {mse**.5}\\nR2:  {r2}''')"
   ],
   "metadata": {
    "collapsed": false
   }
  },
  {
   "cell_type": "code",
   "execution_count": 30,
   "outputs": [],
   "source": [],
   "metadata": {
    "collapsed": false
   }
  }
 ],
 "metadata": {
  "kernelspec": {
   "display_name": "Python 3",
   "language": "python",
   "name": "python3"
  },
  "language_info": {
   "codemirror_mode": {
    "name": "ipython",
    "version": 2
   },
   "file_extension": ".py",
   "mimetype": "text/x-python",
   "name": "python",
   "nbconvert_exporter": "python",
   "pygments_lexer": "ipython2",
   "version": "2.7.6"
  }
 },
 "nbformat": 4,
 "nbformat_minor": 0
}
