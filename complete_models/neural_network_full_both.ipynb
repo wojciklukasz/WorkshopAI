{
 "cells": [
  {
   "cell_type": "code",
   "execution_count": 1,
   "metadata": {
    "collapsed": true
   },
   "outputs": [],
   "source": [
    "import pandas as pd\n",
    "from sklearn.model_selection import train_test_split\n",
    "from sklearn.metrics import mean_squared_error, mean_absolute_error, r2_score\n",
    "from sklearn.preprocessing import QuantileTransformer, MinMaxScaler\n",
    "import tensorflow as tf\n",
    "from pathlib import Path\n",
    "from time import strftime"
   ]
  },
  {
   "cell_type": "code",
   "execution_count": 2,
   "outputs": [
    {
     "data": {
      "text/plain": "Launching TensorBoard..."
     },
     "metadata": {},
     "output_type": "display_data"
    },
    {
     "name": "stdout",
     "output_type": "stream",
     "text": [
      "Tensorboard launched at localhost:6006\n"
     ]
    }
   ],
   "source": [
    "%load_ext tensorboard\n",
    "%tensorboard --logdir=./my_logs\n",
    "print('Tensorboard launched at localhost:6006')"
   ],
   "metadata": {
    "collapsed": false
   }
  },
  {
   "cell_type": "code",
   "execution_count": 3,
   "outputs": [
    {
     "name": "stdout",
     "output_type": "stream",
     "text": [
      "Num GPUs Available:  1\n"
     ]
    }
   ],
   "source": [
    "print(\"Num GPUs Available: \", len(tf.config.list_physical_devices('GPU')))"
   ],
   "metadata": {
    "collapsed": false
   }
  },
  {
   "cell_type": "code",
   "execution_count": 4,
   "outputs": [],
   "source": [
    "def get_run_dir(root='my_logs'):\n",
    "    return Path(root) / strftime('run_%Y_%m_%d_%H_%M_%S')"
   ],
   "metadata": {
    "collapsed": false
   }
  },
  {
   "cell_type": "code",
   "execution_count": 5,
   "outputs": [],
   "source": [
    "def get_score(true_values, predicted_values):\n",
    "    mae_ = mean_absolute_error(true_values, predicted_values)\n",
    "    mse_ = mean_squared_error(true_values, predicted_values)\n",
    "    r2_ = r2_score(true_values, predicted_values)\n",
    "\n",
    "    return mae_, mse_, r2_"
   ],
   "metadata": {
    "collapsed": false
   }
  },
  {
   "cell_type": "markdown",
   "source": [
    "# Loading data"
   ],
   "metadata": {
    "collapsed": false
   }
  },
  {
   "cell_type": "code",
   "execution_count": 6,
   "outputs": [],
   "source": [
    "dataset = pd.read_csv('dataset.csv')"
   ],
   "metadata": {
    "collapsed": false
   }
  },
  {
   "cell_type": "code",
   "execution_count": 7,
   "outputs": [],
   "source": [
    "dataset = dataset.loc[dataset['COND'] != '0']\n",
    "\n",
    "data = dataset.iloc[:, :-3]\n",
    "labels = dataset.iloc[:, -2:]"
   ],
   "metadata": {
    "collapsed": false
   }
  },
  {
   "cell_type": "code",
   "execution_count": 8,
   "outputs": [],
   "source": [
    "data_train_full, data_test, labels_train_full, labels_test = train_test_split(data, labels, test_size=0.2, random_state=123)\n",
    "\n",
    "data_train, data_validation, labels_train, labels_validation = train_test_split(data_train_full, labels_train_full, test_size=0.2, random_state=123)\n",
    "\n",
    "data_train = data_train.loc[labels_train['ANS_AROUSAL'] != 1]\n",
    "data_train = data_train.loc[labels_train['ANS_AROUSAL'] != 5]\n",
    "data_train = data_train.loc[labels_train['ANS_AROUSAL'] != 9]\n",
    "labels_train = labels_train.loc[labels_train['ANS_AROUSAL'] != 1]\n",
    "labels_train = labels_train.loc[labels_train['ANS_AROUSAL'] != 5]\n",
    "labels_train = labels_train.loc[labels_train['ANS_AROUSAL'] != 9]\n",
    "\n",
    "data_train = data_train.loc[labels_train['ANS_VALENCE'] != 1]\n",
    "data_train = data_train.loc[labels_train['ANS_VALENCE'] != 5]\n",
    "data_train = data_train.loc[labels_train['ANS_VALENCE'] != 9]\n",
    "labels_train = labels_train.loc[labels_train['ANS_VALENCE'] != 1]\n",
    "labels_train = labels_train.loc[labels_train['ANS_VALENCE'] != 5]\n",
    "labels_train = labels_train.loc[labels_train['ANS_VALENCE'] != 9]"
   ],
   "metadata": {
    "collapsed": false
   }
  },
  {
   "cell_type": "markdown",
   "source": [
    "# Scaling personality values to range 0 - 1"
   ],
   "metadata": {
    "collapsed": false
   }
  },
  {
   "cell_type": "code",
   "execution_count": 9,
   "outputs": [],
   "source": [
    "mms = MinMaxScaler()\n",
    "\n",
    "data_train_mms = mms.fit_transform(data_train)\n",
    "data_train_mms = pd.DataFrame(data_train_mms, columns=data_train.columns)\n",
    "data_validation_mms = mms.fit_transform(data_validation)\n",
    "data_validation_mms = pd.DataFrame(data_validation_mms, columns=data_validation.columns)"
   ],
   "metadata": {
    "collapsed": false
   }
  },
  {
   "cell_type": "markdown",
   "source": [
    "# Scaling input values to Gaussian distributions"
   ],
   "metadata": {
    "collapsed": false
   }
  },
  {
   "cell_type": "code",
   "execution_count": 10,
   "outputs": [],
   "source": [
    "quantile_transformer = QuantileTransformer(output_distribution='normal', random_state=0)\n",
    "data_train_qt = quantile_transformer.fit_transform(data_train_mms)\n",
    "data_train_qt = pd.DataFrame(data_train_qt, columns=data_train_mms.columns)\n",
    "data_validation_qt = quantile_transformer.fit_transform(data_validation_mms)\n",
    "data_validation_qt = pd.DataFrame(data_validation_qt, columns=data_validation_mms.columns)"
   ],
   "metadata": {
    "collapsed": false
   }
  },
  {
   "cell_type": "markdown",
   "source": [
    "# Training"
   ],
   "metadata": {
    "collapsed": false
   }
  },
  {
   "cell_type": "code",
   "execution_count": 11,
   "outputs": [
    {
     "name": "stdout",
     "output_type": "stream",
     "text": [
      "Model: \"model\"\n",
      "_________________________________________________________________\n",
      " Layer (type)                Output Shape              Param #   \n",
      "=================================================================\n",
      " input_1 (InputLayer)        [(None, 13)]              0         \n",
      "                                                                 \n",
      " normalization (Normalizatio  (None, 13)               27        \n",
      " n)                                                              \n",
      "                                                                 \n",
      " dense (Dense)               (None, 64)                896       \n",
      "                                                                 \n",
      " dense_1 (Dense)             (None, 128)               8320      \n",
      "                                                                 \n",
      " dense_2 (Dense)             (None, 64)                8256      \n",
      "                                                                 \n",
      " dense_3 (Dense)             (None, 2)                 130       \n",
      "                                                                 \n",
      "=================================================================\n",
      "Total params: 17,629\n",
      "Trainable params: 17,602\n",
      "Non-trainable params: 27\n",
      "_________________________________________________________________\n"
     ]
    },
    {
     "name": "stderr",
     "output_type": "stream",
     "text": [
      "2022-11-20 18:39:41.067693: I tensorflow/core/platform/cpu_feature_guard.cc:193] This TensorFlow binary is optimized with oneAPI Deep Neural Network Library (oneDNN) to use the following CPU instructions in performance-critical operations:  AVX2 FMA\n",
      "To enable them in other operations, rebuild TensorFlow with the appropriate compiler flags.\n",
      "2022-11-20 18:39:41.745404: I tensorflow/core/common_runtime/gpu/gpu_device.cc:1532] Created device /job:localhost/replica:0/task:0/device:GPU:0 with 34 MB memory:  -> device: 0, name: NVIDIA GeForce GTX 1050, pci bus id: 0000:01:00.0, compute capability: 6.1\n"
     ]
    }
   ],
   "source": [
    "tf.random.set_seed(123)\n",
    "\n",
    "norm_layer = tf.keras.layers.Normalization()\n",
    "\n",
    "input_ = tf.keras.layers.Input(shape=data_train_qt.shape[1:])\n",
    "normalized = norm_layer(input_)\n",
    "hidden1 = tf.keras.layers.Dense(64, activation='relu')(normalized)\n",
    "hidden2 = tf.keras.layers.Dense(128, activation='relu')(hidden1)\n",
    "hidden3 = tf.keras.layers.Dense(64, activation='relu')(hidden2)\n",
    "output = tf.keras.layers.Dense(2)(hidden3)\n",
    "\n",
    "model = tf.keras.Model(inputs=[input_], outputs=[output])\n",
    "\n",
    "model.summary()"
   ],
   "metadata": {
    "collapsed": false
   }
  },
  {
   "cell_type": "code",
   "execution_count": 12,
   "outputs": [],
   "source": [
    "model.compile(loss='mse',\n",
    "              optimizer=tf.keras.optimizers.SGD(learning_rate=0.001),\n",
    "              metrics=['mae'])"
   ],
   "metadata": {
    "collapsed": false
   }
  },
  {
   "cell_type": "code",
   "execution_count": 13,
   "outputs": [],
   "source": [
    "norm_layer.adapt(data_train_qt)"
   ],
   "metadata": {
    "collapsed": false
   }
  },
  {
   "cell_type": "code",
   "execution_count": 14,
   "outputs": [
    {
     "name": "stdout",
     "output_type": "stream",
     "text": [
      "Epoch 1/100\n",
      "570/570 [==============================] - 4s 5ms/step - loss: 6.8004 - mae: 2.1205 - val_loss: 6.2682 - val_mae: 2.0844\n",
      "Epoch 2/100\n",
      "570/570 [==============================] - 3s 5ms/step - loss: 4.3401 - mae: 1.7537 - val_loss: 6.0776 - val_mae: 2.0622\n",
      "Epoch 3/100\n",
      "570/570 [==============================] - 3s 5ms/step - loss: 4.1981 - mae: 1.7211 - val_loss: 5.9782 - val_mae: 2.0477\n",
      "Epoch 4/100\n",
      "570/570 [==============================] - 3s 4ms/step - loss: 4.1468 - mae: 1.7071 - val_loss: 6.0228 - val_mae: 2.0579\n",
      "Epoch 5/100\n",
      "570/570 [==============================] - 4s 6ms/step - loss: 4.1210 - mae: 1.7010 - val_loss: 6.0031 - val_mae: 2.0572\n",
      "Epoch 6/100\n",
      "570/570 [==============================] - 3s 5ms/step - loss: 4.1059 - mae: 1.6974 - val_loss: 5.9698 - val_mae: 2.0565\n",
      "Epoch 7/100\n",
      "570/570 [==============================] - 2s 4ms/step - loss: 4.0947 - mae: 1.6951 - val_loss: 5.9074 - val_mae: 2.0398\n",
      "Epoch 8/100\n",
      "570/570 [==============================] - 3s 4ms/step - loss: 4.0851 - mae: 1.6925 - val_loss: 5.9325 - val_mae: 2.0499\n",
      "Epoch 9/100\n",
      "570/570 [==============================] - 2s 4ms/step - loss: 4.0771 - mae: 1.6910 - val_loss: 5.9720 - val_mae: 2.0607\n",
      "Epoch 10/100\n",
      "570/570 [==============================] - 3s 5ms/step - loss: 4.0704 - mae: 1.6900 - val_loss: 5.9390 - val_mae: 2.0531\n",
      "Epoch 11/100\n",
      "570/570 [==============================] - 2s 4ms/step - loss: 4.0660 - mae: 1.6886 - val_loss: 5.9229 - val_mae: 2.0482\n",
      "Epoch 12/100\n",
      "570/570 [==============================] - 3s 4ms/step - loss: 4.0599 - mae: 1.6873 - val_loss: 6.0036 - val_mae: 2.0704\n",
      "Epoch 13/100\n",
      "570/570 [==============================] - 3s 5ms/step - loss: 4.0565 - mae: 1.6864 - val_loss: 6.0266 - val_mae: 2.0742\n",
      "Epoch 14/100\n",
      "570/570 [==============================] - 3s 5ms/step - loss: 4.0518 - mae: 1.6857 - val_loss: 5.9159 - val_mae: 2.0469\n",
      "Epoch 15/100\n",
      "570/570 [==============================] - 6s 10ms/step - loss: 4.0468 - mae: 1.6843 - val_loss: 6.0178 - val_mae: 2.0746\n",
      "Epoch 16/100\n",
      "570/570 [==============================] - 6s 10ms/step - loss: 4.0428 - mae: 1.6832 - val_loss: 5.9007 - val_mae: 2.0442\n",
      "Epoch 17/100\n",
      "570/570 [==============================] - 6s 11ms/step - loss: 4.0381 - mae: 1.6820 - val_loss: 5.9514 - val_mae: 2.0581\n",
      "Epoch 18/100\n",
      "570/570 [==============================] - 6s 11ms/step - loss: 4.0350 - mae: 1.6817 - val_loss: 5.9594 - val_mae: 2.0602\n",
      "Epoch 19/100\n",
      "570/570 [==============================] - 5s 9ms/step - loss: 4.0328 - mae: 1.6812 - val_loss: 5.9867 - val_mae: 2.0676\n",
      "Epoch 20/100\n",
      "570/570 [==============================] - 5s 9ms/step - loss: 4.0295 - mae: 1.6805 - val_loss: 5.9218 - val_mae: 2.0509\n",
      "Epoch 21/100\n",
      "570/570 [==============================] - 5s 9ms/step - loss: 4.0253 - mae: 1.6793 - val_loss: 5.9851 - val_mae: 2.0662\n",
      "Epoch 22/100\n",
      "570/570 [==============================] - 5s 9ms/step - loss: 4.0228 - mae: 1.6783 - val_loss: 6.0434 - val_mae: 2.0804\n",
      "Epoch 23/100\n",
      "570/570 [==============================] - 5s 9ms/step - loss: 4.0192 - mae: 1.6779 - val_loss: 6.0737 - val_mae: 2.0868\n",
      "Epoch 24/100\n",
      "570/570 [==============================] - 5s 9ms/step - loss: 4.0171 - mae: 1.6772 - val_loss: 5.9766 - val_mae: 2.0615\n",
      "Epoch 25/100\n",
      "570/570 [==============================] - 4s 7ms/step - loss: 4.0141 - mae: 1.6763 - val_loss: 6.1666 - val_mae: 2.1064\n",
      "Epoch 26/100\n",
      "570/570 [==============================] - 3s 6ms/step - loss: 4.0105 - mae: 1.6757 - val_loss: 6.1086 - val_mae: 2.0864\n",
      "Epoch 27/100\n",
      "570/570 [==============================] - 5s 8ms/step - loss: 4.0078 - mae: 1.6747 - val_loss: 6.1520 - val_mae: 2.1003\n",
      "Epoch 28/100\n",
      "570/570 [==============================] - 5s 8ms/step - loss: 4.0057 - mae: 1.6743 - val_loss: 6.2000 - val_mae: 2.1074\n",
      "Epoch 29/100\n",
      "570/570 [==============================] - 5s 8ms/step - loss: 4.0028 - mae: 1.6737 - val_loss: 6.0711 - val_mae: 2.0829\n",
      "Epoch 30/100\n",
      "570/570 [==============================] - 6s 10ms/step - loss: 4.0000 - mae: 1.6727 - val_loss: 6.0297 - val_mae: 2.0749\n",
      "Epoch 31/100\n",
      "570/570 [==============================] - 6s 10ms/step - loss: 3.9972 - mae: 1.6723 - val_loss: 6.0055 - val_mae: 2.0686\n",
      "Epoch 32/100\n",
      "570/570 [==============================] - 5s 9ms/step - loss: 3.9943 - mae: 1.6716 - val_loss: 5.9964 - val_mae: 2.0665\n",
      "Epoch 33/100\n",
      "570/570 [==============================] - 5s 9ms/step - loss: 3.9920 - mae: 1.6707 - val_loss: 6.2048 - val_mae: 2.1110\n",
      "Epoch 34/100\n",
      "570/570 [==============================] - 5s 9ms/step - loss: 3.9885 - mae: 1.6708 - val_loss: 6.1341 - val_mae: 2.0920\n",
      "Epoch 35/100\n",
      "570/570 [==============================] - 5s 10ms/step - loss: 3.9879 - mae: 1.6703 - val_loss: 6.1832 - val_mae: 2.1079\n",
      "Epoch 36/100\n",
      "570/570 [==============================] - 7s 12ms/step - loss: 3.9842 - mae: 1.6688 - val_loss: 6.1277 - val_mae: 2.0892\n",
      "Epoch 37/100\n",
      "570/570 [==============================] - 5s 9ms/step - loss: 3.9818 - mae: 1.6680 - val_loss: 6.2460 - val_mae: 2.1171\n",
      "Epoch 38/100\n",
      "570/570 [==============================] - 6s 10ms/step - loss: 3.9792 - mae: 1.6674 - val_loss: 6.0545 - val_mae: 2.0814\n",
      "Epoch 39/100\n",
      "570/570 [==============================] - 6s 10ms/step - loss: 3.9780 - mae: 1.6671 - val_loss: 6.0610 - val_mae: 2.0813\n",
      "Epoch 40/100\n",
      "570/570 [==============================] - 5s 9ms/step - loss: 3.9756 - mae: 1.6670 - val_loss: 6.2107 - val_mae: 2.1088\n",
      "Epoch 41/100\n",
      "570/570 [==============================] - 5s 9ms/step - loss: 3.9742 - mae: 1.6667 - val_loss: 6.0998 - val_mae: 2.0793\n",
      "Epoch 42/100\n",
      "570/570 [==============================] - 5s 9ms/step - loss: 3.9720 - mae: 1.6658 - val_loss: 6.2530 - val_mae: 2.1044\n",
      "Epoch 43/100\n",
      "570/570 [==============================] - 6s 10ms/step - loss: 3.9696 - mae: 1.6651 - val_loss: 6.2632 - val_mae: 2.1088\n",
      "Epoch 44/100\n",
      "570/570 [==============================] - 5s 10ms/step - loss: 3.9674 - mae: 1.6652 - val_loss: 6.2007 - val_mae: 2.0999\n",
      "Epoch 45/100\n",
      "570/570 [==============================] - 5s 9ms/step - loss: 3.9647 - mae: 1.6639 - val_loss: 6.0858 - val_mae: 2.0789\n",
      "Epoch 46/100\n",
      "570/570 [==============================] - 4s 8ms/step - loss: 3.9643 - mae: 1.6633 - val_loss: 6.1326 - val_mae: 2.0872\n",
      "Epoch 47/100\n",
      "570/570 [==============================] - 6s 10ms/step - loss: 3.9614 - mae: 1.6629 - val_loss: 6.0443 - val_mae: 2.0651\n",
      "Epoch 48/100\n",
      "570/570 [==============================] - 6s 11ms/step - loss: 3.9602 - mae: 1.6625 - val_loss: 6.2197 - val_mae: 2.1021\n",
      "Epoch 49/100\n",
      "570/570 [==============================] - 6s 11ms/step - loss: 3.9568 - mae: 1.6617 - val_loss: 6.3894 - val_mae: 2.1273\n",
      "Epoch 50/100\n",
      "570/570 [==============================] - 5s 8ms/step - loss: 3.9564 - mae: 1.6617 - val_loss: 6.4068 - val_mae: 2.1228\n",
      "Epoch 51/100\n",
      "570/570 [==============================] - 5s 9ms/step - loss: 3.9529 - mae: 1.6605 - val_loss: 6.3424 - val_mae: 2.1190\n",
      "Epoch 52/100\n",
      "570/570 [==============================] - 5s 9ms/step - loss: 3.9537 - mae: 1.6607 - val_loss: 6.2494 - val_mae: 2.1043\n",
      "Epoch 53/100\n",
      "570/570 [==============================] - 5s 8ms/step - loss: 3.9476 - mae: 1.6596 - val_loss: 6.3820 - val_mae: 2.1147\n",
      "Epoch 54/100\n",
      "570/570 [==============================] - 4s 8ms/step - loss: 3.9491 - mae: 1.6599 - val_loss: 6.3349 - val_mae: 2.1104\n",
      "Epoch 55/100\n",
      "570/570 [==============================] - 5s 9ms/step - loss: 3.9466 - mae: 1.6590 - val_loss: 6.4511 - val_mae: 2.1350\n",
      "Epoch 56/100\n",
      "570/570 [==============================] - 5s 9ms/step - loss: 3.9446 - mae: 1.6587 - val_loss: 6.5119 - val_mae: 2.1308\n",
      "Epoch 57/100\n",
      "570/570 [==============================] - 5s 9ms/step - loss: 3.9428 - mae: 1.6577 - val_loss: 6.2897 - val_mae: 2.1039\n",
      "Epoch 58/100\n",
      "570/570 [==============================] - 5s 9ms/step - loss: 3.9390 - mae: 1.6569 - val_loss: 6.2167 - val_mae: 2.0861\n",
      "Epoch 59/100\n",
      "570/570 [==============================] - 5s 8ms/step - loss: 3.9401 - mae: 1.6570 - val_loss: 6.2503 - val_mae: 2.0859\n",
      "Epoch 60/100\n",
      "570/570 [==============================] - 5s 10ms/step - loss: 3.9379 - mae: 1.6564 - val_loss: 6.0211 - val_mae: 2.0578\n",
      "Epoch 61/100\n",
      "570/570 [==============================] - 5s 10ms/step - loss: 3.9366 - mae: 1.6562 - val_loss: 6.0202 - val_mae: 2.0593\n",
      "Epoch 62/100\n",
      "570/570 [==============================] - 4s 7ms/step - loss: 3.9344 - mae: 1.6551 - val_loss: 6.3900 - val_mae: 2.1205\n",
      "Epoch 63/100\n",
      "570/570 [==============================] - 5s 10ms/step - loss: 3.9324 - mae: 1.6554 - val_loss: 6.6857 - val_mae: 2.1572\n",
      "Epoch 64/100\n",
      "570/570 [==============================] - 5s 9ms/step - loss: 3.9321 - mae: 1.6547 - val_loss: 6.4766 - val_mae: 2.1390\n",
      "Epoch 65/100\n",
      "570/570 [==============================] - 5s 9ms/step - loss: 3.9300 - mae: 1.6543 - val_loss: 6.3881 - val_mae: 2.1226\n",
      "Epoch 66/100\n",
      "570/570 [==============================] - 5s 10ms/step - loss: 3.9290 - mae: 1.6538 - val_loss: 6.2673 - val_mae: 2.0934\n",
      "Epoch 67/100\n",
      "570/570 [==============================] - 5s 10ms/step - loss: 3.9268 - mae: 1.6535 - val_loss: 6.5394 - val_mae: 2.1509\n",
      "Epoch 68/100\n",
      "570/570 [==============================] - 5s 8ms/step - loss: 3.9251 - mae: 1.6527 - val_loss: 6.6979 - val_mae: 2.1660\n",
      "Epoch 69/100\n",
      "570/570 [==============================] - 5s 9ms/step - loss: 3.9245 - mae: 1.6528 - val_loss: 6.1821 - val_mae: 2.0850\n",
      "Epoch 70/100\n",
      "570/570 [==============================] - 6s 10ms/step - loss: 3.9223 - mae: 1.6524 - val_loss: 6.4544 - val_mae: 2.1360\n",
      "Epoch 71/100\n",
      "570/570 [==============================] - 6s 10ms/step - loss: 3.9211 - mae: 1.6517 - val_loss: 6.2545 - val_mae: 2.0834\n",
      "Epoch 72/100\n",
      "570/570 [==============================] - 5s 8ms/step - loss: 3.9170 - mae: 1.6509 - val_loss: 6.5080 - val_mae: 2.1345\n",
      "Epoch 73/100\n",
      "570/570 [==============================] - 5s 8ms/step - loss: 3.9185 - mae: 1.6512 - val_loss: 6.4929 - val_mae: 2.1298\n",
      "Epoch 74/100\n",
      "570/570 [==============================] - 5s 9ms/step - loss: 3.9154 - mae: 1.6500 - val_loss: 6.4966 - val_mae: 2.1346\n",
      "Epoch 75/100\n",
      "570/570 [==============================] - 5s 9ms/step - loss: 3.9154 - mae: 1.6504 - val_loss: 6.4600 - val_mae: 2.1136\n",
      "Epoch 76/100\n",
      "570/570 [==============================] - 5s 10ms/step - loss: 3.9127 - mae: 1.6495 - val_loss: 6.6022 - val_mae: 2.1438\n",
      "Epoch 77/100\n",
      "570/570 [==============================] - 5s 9ms/step - loss: 3.9104 - mae: 1.6494 - val_loss: 6.4472 - val_mae: 2.1151\n",
      "Epoch 78/100\n",
      "570/570 [==============================] - 5s 9ms/step - loss: 3.9110 - mae: 1.6489 - val_loss: 6.4675 - val_mae: 2.1229\n",
      "Epoch 79/100\n",
      "570/570 [==============================] - 5s 10ms/step - loss: 3.9103 - mae: 1.6490 - val_loss: 6.2808 - val_mae: 2.0794\n",
      "Epoch 80/100\n",
      "570/570 [==============================] - 4s 8ms/step - loss: 3.9078 - mae: 1.6486 - val_loss: 6.2131 - val_mae: 2.0771\n",
      "Epoch 81/100\n",
      "570/570 [==============================] - 5s 9ms/step - loss: 3.9080 - mae: 1.6481 - val_loss: 6.4904 - val_mae: 2.1381\n",
      "Epoch 82/100\n",
      "570/570 [==============================] - 5s 9ms/step - loss: 3.9044 - mae: 1.6476 - val_loss: 6.3019 - val_mae: 2.0895\n",
      "Epoch 83/100\n",
      "570/570 [==============================] - 5s 10ms/step - loss: 3.9037 - mae: 1.6469 - val_loss: 6.4328 - val_mae: 2.1139\n",
      "Epoch 84/100\n",
      "570/570 [==============================] - 5s 8ms/step - loss: 3.9038 - mae: 1.6471 - val_loss: 6.6775 - val_mae: 2.1677\n",
      "Epoch 85/100\n",
      "570/570 [==============================] - 5s 10ms/step - loss: 3.9024 - mae: 1.6470 - val_loss: 6.2526 - val_mae: 2.0913\n",
      "Epoch 86/100\n",
      "570/570 [==============================] - 5s 9ms/step - loss: 3.9014 - mae: 1.6465 - val_loss: 6.4266 - val_mae: 2.1128\n",
      "Epoch 87/100\n",
      "570/570 [==============================] - 5s 9ms/step - loss: 3.9016 - mae: 1.6467 - val_loss: 6.3776 - val_mae: 2.1101\n",
      "Epoch 88/100\n",
      "570/570 [==============================] - 4s 7ms/step - loss: 3.8973 - mae: 1.6453 - val_loss: 6.4947 - val_mae: 2.1155\n",
      "Epoch 89/100\n",
      "570/570 [==============================] - 5s 9ms/step - loss: 3.8971 - mae: 1.6454 - val_loss: 6.4778 - val_mae: 2.1376\n",
      "Epoch 90/100\n",
      "570/570 [==============================] - 5s 9ms/step - loss: 3.8934 - mae: 1.6445 - val_loss: 6.5512 - val_mae: 2.1568\n",
      "Epoch 91/100\n",
      "570/570 [==============================] - 5s 9ms/step - loss: 3.8954 - mae: 1.6452 - val_loss: 6.6259 - val_mae: 2.1442\n",
      "Epoch 92/100\n",
      "570/570 [==============================] - 4s 7ms/step - loss: 3.8937 - mae: 1.6446 - val_loss: 6.2649 - val_mae: 2.0827\n",
      "Epoch 93/100\n",
      "570/570 [==============================] - 6s 11ms/step - loss: 3.8913 - mae: 1.6437 - val_loss: 6.5099 - val_mae: 2.1275\n",
      "Epoch 94/100\n",
      "570/570 [==============================] - 5s 9ms/step - loss: 3.8907 - mae: 1.6441 - val_loss: 6.5004 - val_mae: 2.1160\n",
      "Epoch 95/100\n",
      "570/570 [==============================] - 5s 8ms/step - loss: 3.8881 - mae: 1.6432 - val_loss: 6.3235 - val_mae: 2.0978\n",
      "Epoch 96/100\n",
      "570/570 [==============================] - 9s 16ms/step - loss: 3.8876 - mae: 1.6430 - val_loss: 6.8157 - val_mae: 2.1648\n",
      "Epoch 97/100\n",
      "570/570 [==============================] - 4s 8ms/step - loss: 3.8861 - mae: 1.6420 - val_loss: 6.3509 - val_mae: 2.0967\n",
      "Epoch 98/100\n",
      "570/570 [==============================] - 4s 7ms/step - loss: 3.8865 - mae: 1.6423 - val_loss: 6.4409 - val_mae: 2.1084\n",
      "Epoch 99/100\n",
      "570/570 [==============================] - 6s 11ms/step - loss: 3.8852 - mae: 1.6418 - val_loss: 6.6022 - val_mae: 2.1480\n",
      "Epoch 100/100\n",
      "570/570 [==============================] - 5s 8ms/step - loss: 3.8845 - mae: 1.6420 - val_loss: 6.4945 - val_mae: 2.1236\n"
     ]
    }
   ],
   "source": [
    "n_epochs = 100\n",
    "\n",
    "run_dir = get_run_dir()\n",
    "tensorboard_cb = tf.keras.callbacks.TensorBoard(run_dir, profile_batch=(0, n_epochs))\n",
    "\n",
    "history = model.fit(data_train_qt, labels_train, epochs=n_epochs, validation_data=(data_validation, labels_validation), callbacks=[tensorboard_cb])"
   ],
   "metadata": {
    "collapsed": false
   }
  },
  {
   "cell_type": "code",
   "execution_count": 15,
   "outputs": [
    {
     "name": "stdout",
     "output_type": "stream",
     "text": [
      "215/215 [==============================] - 1s 3ms/step\n",
      "\n",
      "Values for validation set:\n",
      "MAE: 1.9736607412070768\n",
      "MSE: 5.66496265263298\n",
      "RMSE: 2.3801182013994557\n",
      "R2:  0.012279776079626936\n"
     ]
    }
   ],
   "source": [
    "predictions = model.predict(data_validation_qt)\n",
    "\n",
    "mae, mse, r2 = get_score(labels_validation, predictions)\n",
    "print(f'''\\nValues for validation set:\\nMAE: {mae}\\nMSE: {mse}\\nRMSE: {mse**.5}\\nR2:  {r2}''')"
   ],
   "metadata": {
    "collapsed": false
   }
  },
  {
   "cell_type": "markdown",
   "source": [
    "# Overfitting?"
   ],
   "metadata": {
    "collapsed": false
   }
  },
  {
   "cell_type": "code",
   "execution_count": 16,
   "outputs": [
    {
     "name": "stdout",
     "output_type": "stream",
     "text": [
      "Model: \"model_1\"\n",
      "_________________________________________________________________\n",
      " Layer (type)                Output Shape              Param #   \n",
      "=================================================================\n",
      " input_2 (InputLayer)        [(None, 13)]              0         \n",
      "                                                                 \n",
      " normalization_1 (Normalizat  (None, 13)               27        \n",
      " ion)                                                            \n",
      "                                                                 \n",
      " dense_4 (Dense)             (None, 2)                 28        \n",
      "                                                                 \n",
      "=================================================================\n",
      "Total params: 55\n",
      "Trainable params: 28\n",
      "Non-trainable params: 27\n",
      "_________________________________________________________________\n"
     ]
    }
   ],
   "source": [
    "tf.random.set_seed(123)\n",
    "\n",
    "norm_layer = tf.keras.layers.Normalization()\n",
    "\n",
    "input_ = tf.keras.layers.Input(shape=data_train_qt.shape[1:])\n",
    "normalized = norm_layer(input_)\n",
    "output = tf.keras.layers.Dense(2)(normalized)\n",
    "\n",
    "model = tf.keras.Model(inputs=[input_], outputs=[output])\n",
    "\n",
    "model.summary()"
   ],
   "metadata": {
    "collapsed": false
   }
  },
  {
   "cell_type": "code",
   "execution_count": 17,
   "outputs": [],
   "source": [
    "model.compile(loss='mse',\n",
    "              optimizer=tf.keras.optimizers.Adam(learning_rate=0.001),\n",
    "              metrics=['mae'])"
   ],
   "metadata": {
    "collapsed": false
   }
  },
  {
   "cell_type": "code",
   "execution_count": 18,
   "outputs": [],
   "source": [
    "norm_layer.adapt(data_train_qt)"
   ],
   "metadata": {
    "collapsed": false
   }
  },
  {
   "cell_type": "code",
   "execution_count": 19,
   "outputs": [
    {
     "name": "stdout",
     "output_type": "stream",
     "text": [
      "Epoch 1/50\n",
      "570/570 [==============================] - 3s 5ms/step - loss: 30.0115 - mae: 5.0177 - val_loss: 19.0710 - val_mae: 3.7066\n",
      "Epoch 2/50\n",
      "570/570 [==============================] - 3s 6ms/step - loss: 24.5716 - mae: 4.4759 - val_loss: 18.5070 - val_mae: 3.6420\n",
      "Epoch 3/50\n",
      "570/570 [==============================] - 3s 5ms/step - loss: 20.1233 - mae: 3.9710 - val_loss: 17.4588 - val_mae: 3.5369\n",
      "Epoch 4/50\n",
      "570/570 [==============================] - 3s 4ms/step - loss: 16.4271 - mae: 3.5198 - val_loss: 14.8005 - val_mae: 3.2372\n",
      "Epoch 5/50\n",
      "570/570 [==============================] - 2s 4ms/step - loss: 13.3648 - mae: 3.1331 - val_loss: 12.3481 - val_mae: 2.9564\n",
      "Epoch 6/50\n",
      "570/570 [==============================] - 2s 4ms/step - loss: 10.8617 - mae: 2.8060 - val_loss: 10.6179 - val_mae: 2.7437\n",
      "Epoch 7/50\n",
      "570/570 [==============================] - 3s 5ms/step - loss: 8.8575 - mae: 2.5333 - val_loss: 8.7973 - val_mae: 2.5116\n",
      "Epoch 8/50\n",
      "570/570 [==============================] - 4s 6ms/step - loss: 7.2989 - mae: 2.3105 - val_loss: 7.5277 - val_mae: 2.3303\n",
      "Epoch 9/50\n",
      "570/570 [==============================] - 3s 6ms/step - loss: 6.1348 - mae: 2.1315 - val_loss: 6.8275 - val_mae: 2.2187\n",
      "Epoch 10/50\n",
      "570/570 [==============================] - 4s 7ms/step - loss: 5.3110 - mae: 1.9943 - val_loss: 6.2122 - val_mae: 2.1037\n",
      "Epoch 11/50\n",
      "570/570 [==============================] - 4s 6ms/step - loss: 4.7662 - mae: 1.8923 - val_loss: 5.8390 - val_mae: 2.0285\n",
      "Epoch 12/50\n",
      "570/570 [==============================] - 3s 5ms/step - loss: 4.4374 - mae: 1.8169 - val_loss: 5.7511 - val_mae: 2.0086\n",
      "Epoch 13/50\n",
      "570/570 [==============================] - 2s 4ms/step - loss: 4.2612 - mae: 1.7641 - val_loss: 5.7172 - val_mae: 1.9970\n",
      "Epoch 14/50\n",
      "570/570 [==============================] - 3s 4ms/step - loss: 4.1799 - mae: 1.7330 - val_loss: 5.7032 - val_mae: 1.9905\n",
      "Epoch 15/50\n",
      "570/570 [==============================] - 3s 4ms/step - loss: 4.1495 - mae: 1.7170 - val_loss: 5.7274 - val_mae: 1.9927\n",
      "Epoch 16/50\n",
      "570/570 [==============================] - 2s 4ms/step - loss: 4.1407 - mae: 1.7102 - val_loss: 5.7872 - val_mae: 2.0009\n",
      "Epoch 17/50\n",
      "570/570 [==============================] - 3s 5ms/step - loss: 4.1390 - mae: 1.7073 - val_loss: 5.7599 - val_mae: 1.9985\n",
      "Epoch 18/50\n",
      "570/570 [==============================] - 3s 6ms/step - loss: 4.1385 - mae: 1.7065 - val_loss: 5.7458 - val_mae: 1.9978\n",
      "Epoch 19/50\n",
      "570/570 [==============================] - 3s 6ms/step - loss: 4.1390 - mae: 1.7060 - val_loss: 5.7878 - val_mae: 2.0047\n",
      "Epoch 20/50\n",
      "570/570 [==============================] - 4s 7ms/step - loss: 4.1385 - mae: 1.7060 - val_loss: 5.7599 - val_mae: 2.0006\n",
      "Epoch 21/50\n",
      "570/570 [==============================] - 3s 4ms/step - loss: 4.1384 - mae: 1.7059 - val_loss: 5.7727 - val_mae: 2.0007\n",
      "Epoch 22/50\n",
      "570/570 [==============================] - 4s 6ms/step - loss: 4.1388 - mae: 1.7059 - val_loss: 5.7785 - val_mae: 2.0002\n",
      "Epoch 23/50\n",
      "570/570 [==============================] - 4s 7ms/step - loss: 4.1387 - mae: 1.7065 - val_loss: 5.7536 - val_mae: 1.9971\n",
      "Epoch 24/50\n",
      "570/570 [==============================] - 4s 7ms/step - loss: 4.1387 - mae: 1.7056 - val_loss: 5.8284 - val_mae: 2.0108\n",
      "Epoch 25/50\n",
      "570/570 [==============================] - 3s 6ms/step - loss: 4.1390 - mae: 1.7060 - val_loss: 5.7848 - val_mae: 2.0044\n",
      "Epoch 26/50\n",
      "570/570 [==============================] - 3s 6ms/step - loss: 4.1386 - mae: 1.7070 - val_loss: 5.7937 - val_mae: 2.0049\n",
      "Epoch 27/50\n",
      "570/570 [==============================] - 3s 6ms/step - loss: 4.1386 - mae: 1.7060 - val_loss: 5.7349 - val_mae: 1.9944\n",
      "Epoch 28/50\n",
      "570/570 [==============================] - 2s 4ms/step - loss: 4.1390 - mae: 1.7057 - val_loss: 5.7334 - val_mae: 1.9960\n",
      "Epoch 29/50\n",
      "570/570 [==============================] - 2s 3ms/step - loss: 4.1390 - mae: 1.7056 - val_loss: 5.7612 - val_mae: 1.9988\n",
      "Epoch 30/50\n",
      "570/570 [==============================] - 2s 3ms/step - loss: 4.1383 - mae: 1.7060 - val_loss: 5.7704 - val_mae: 1.9972\n",
      "Epoch 31/50\n",
      "570/570 [==============================] - 2s 3ms/step - loss: 4.1389 - mae: 1.7059 - val_loss: 5.7762 - val_mae: 2.0020\n",
      "Epoch 32/50\n",
      "570/570 [==============================] - 2s 3ms/step - loss: 4.1391 - mae: 1.7064 - val_loss: 5.7595 - val_mae: 1.9979\n",
      "Epoch 33/50\n",
      "570/570 [==============================] - 2s 3ms/step - loss: 4.1388 - mae: 1.7056 - val_loss: 5.7430 - val_mae: 1.9969\n",
      "Epoch 34/50\n",
      "570/570 [==============================] - 2s 3ms/step - loss: 4.1389 - mae: 1.7066 - val_loss: 5.7206 - val_mae: 1.9931\n",
      "Epoch 35/50\n",
      "570/570 [==============================] - 2s 3ms/step - loss: 4.1391 - mae: 1.7060 - val_loss: 5.7413 - val_mae: 1.9954\n",
      "Epoch 36/50\n",
      "570/570 [==============================] - 2s 3ms/step - loss: 4.1385 - mae: 1.7062 - val_loss: 5.7804 - val_mae: 2.0025\n",
      "Epoch 37/50\n",
      "570/570 [==============================] - 2s 3ms/step - loss: 4.1387 - mae: 1.7058 - val_loss: 5.7398 - val_mae: 1.9931\n",
      "Epoch 38/50\n",
      "570/570 [==============================] - 2s 3ms/step - loss: 4.1388 - mae: 1.7060 - val_loss: 5.8093 - val_mae: 2.0059\n",
      "Epoch 39/50\n",
      "570/570 [==============================] - 2s 3ms/step - loss: 4.1383 - mae: 1.7057 - val_loss: 5.8222 - val_mae: 2.0090\n",
      "Epoch 40/50\n",
      "570/570 [==============================] - 2s 3ms/step - loss: 4.1385 - mae: 1.7063 - val_loss: 5.8587 - val_mae: 2.0150\n",
      "Epoch 41/50\n",
      "570/570 [==============================] - 2s 3ms/step - loss: 4.1389 - mae: 1.7060 - val_loss: 5.7667 - val_mae: 2.0014\n",
      "Epoch 42/50\n",
      "570/570 [==============================] - 2s 3ms/step - loss: 4.1392 - mae: 1.7066 - val_loss: 5.7733 - val_mae: 2.0015\n",
      "Epoch 43/50\n",
      "570/570 [==============================] - 2s 3ms/step - loss: 4.1389 - mae: 1.7057 - val_loss: 5.7712 - val_mae: 2.0011\n",
      "Epoch 44/50\n",
      "570/570 [==============================] - 3s 5ms/step - loss: 4.1390 - mae: 1.7062 - val_loss: 5.7550 - val_mae: 1.9982\n",
      "Epoch 45/50\n",
      "570/570 [==============================] - 2s 3ms/step - loss: 4.1385 - mae: 1.7060 - val_loss: 5.7725 - val_mae: 1.9975\n",
      "Epoch 46/50\n",
      "570/570 [==============================] - 2s 3ms/step - loss: 4.1383 - mae: 1.7060 - val_loss: 5.8148 - val_mae: 2.0099\n",
      "Epoch 47/50\n",
      "570/570 [==============================] - 2s 4ms/step - loss: 4.1389 - mae: 1.7059 - val_loss: 5.8253 - val_mae: 2.0097\n",
      "Epoch 48/50\n",
      "570/570 [==============================] - 2s 3ms/step - loss: 4.1385 - mae: 1.7064 - val_loss: 5.7344 - val_mae: 1.9943\n",
      "Epoch 49/50\n",
      "570/570 [==============================] - 2s 3ms/step - loss: 4.1386 - mae: 1.7062 - val_loss: 5.7479 - val_mae: 1.9961\n",
      "Epoch 50/50\n",
      "570/570 [==============================] - 2s 3ms/step - loss: 4.1391 - mae: 1.7059 - val_loss: 5.7990 - val_mae: 2.0068\n"
     ]
    },
    {
     "data": {
      "text/plain": "<keras.callbacks.History at 0x7fba02109630>"
     },
     "execution_count": 19,
     "metadata": {},
     "output_type": "execute_result"
    }
   ],
   "source": [
    "n_epochs = 50\n",
    "\n",
    "# run_dir = get_run_dir()\n",
    "# tensorboard_cb = tf.keras.callbacks.TensorBoard(run_dir, profile_batch=(0, n_epochs))\n",
    "\n",
    "model.fit(data_train_qt, labels_train, epochs=n_epochs, validation_data=(data_validation, labels_validation))"
   ],
   "metadata": {
    "collapsed": false
   }
  },
  {
   "cell_type": "code",
   "execution_count": 20,
   "outputs": [
    {
     "name": "stdout",
     "output_type": "stream",
     "text": [
      "215/215 [==============================] - 0s 2ms/step\n",
      "\n",
      "Values for validation set:\n",
      "MAE: 1.9943835264988259\n",
      "MSE: 5.711783566684479\n",
      "RMSE: 2.3899337996447683\n",
      "R2:  -0.0016500872448512727\n"
     ]
    }
   ],
   "source": [
    "predictions = model.predict(data_validation_qt)\n",
    "\n",
    "mae, mse, r2 = get_score(labels_validation, predictions)\n",
    "print(f'''\\nValues for validation set:\\nMAE: {mae}\\nMSE: {mse}\\nRMSE: {mse**.5}\\nR2:  {r2}''')"
   ],
   "metadata": {
    "collapsed": false
   }
  },
  {
   "cell_type": "markdown",
   "source": [
    "# Check if data from all subjects works better"
   ],
   "metadata": {
    "collapsed": false
   }
  },
  {
   "cell_type": "code",
   "execution_count": 6,
   "outputs": [],
   "source": [
    "dataset = pd.read_csv('dataset_full.csv')\n",
    "dataset = dataset.loc[dataset['COND'] != '0']\n",
    "\n",
    "data = dataset.iloc[:, :-3]\n",
    "labels = dataset.iloc[:, -2:]\n",
    "data_train_full, data_test, labels_train_full, labels_test = train_test_split(data, labels, test_size=0.2,\n",
    "                                                                              random_state=123)\n",
    "\n",
    "data_train, data_validation, labels_train, labels_validation = train_test_split(data_train_full, labels_train_full,\n",
    "                                                                                test_size=0.2, random_state=123)\n",
    "\n",
    "data_train = data_train.loc[labels_train['ANS_AROUSAL'] != 1]\n",
    "data_train = data_train.loc[labels_train['ANS_AROUSAL'] != 5]\n",
    "data_train = data_train.loc[labels_train['ANS_AROUSAL'] != 9]\n",
    "labels_train = labels_train.loc[labels_train['ANS_AROUSAL'] != 1]\n",
    "labels_train = labels_train.loc[labels_train['ANS_AROUSAL'] != 5]\n",
    "labels_train = labels_train.loc[labels_train['ANS_AROUSAL'] != 9]\n",
    "\n",
    "data_train = data_train.loc[labels_train['ANS_VALENCE'] != 1]\n",
    "data_train = data_train.loc[labels_train['ANS_VALENCE'] != 5]\n",
    "data_train = data_train.loc[labels_train['ANS_VALENCE'] != 9]\n",
    "labels_train = labels_train.loc[labels_train['ANS_VALENCE'] != 1]\n",
    "labels_train = labels_train.loc[labels_train['ANS_VALENCE'] != 5]\n",
    "labels_train = labels_train.loc[labels_train['ANS_VALENCE'] != 9]"
   ],
   "metadata": {
    "collapsed": false
   }
  },
  {
   "cell_type": "code",
   "execution_count": 7,
   "outputs": [],
   "source": [
    "mms = MinMaxScaler()\n",
    "\n",
    "data_train_mms = mms.fit_transform(data_train)\n",
    "data_train_mms = pd.DataFrame(data_train_mms, columns=data_train.columns)\n",
    "data_validation_mms = mms.fit_transform(data_validation)\n",
    "data_validation_mms = pd.DataFrame(data_validation_mms, columns=data_validation.columns)"
   ],
   "metadata": {
    "collapsed": false
   }
  },
  {
   "cell_type": "code",
   "execution_count": 8,
   "outputs": [],
   "source": [
    "quantile_transformer = QuantileTransformer(output_distribution='normal', random_state=0)\n",
    "data_train_qt = quantile_transformer.fit_transform(data_train_mms)\n",
    "data_train_qt = pd.DataFrame(data_train_qt, columns=data_train_mms.columns)\n",
    "data_validation_qt = quantile_transformer.fit_transform(data_validation_mms)\n",
    "data_validation_qt = pd.DataFrame(data_validation_qt, columns=data_validation_mms.columns)"
   ],
   "metadata": {
    "collapsed": false
   }
  },
  {
   "cell_type": "code",
   "execution_count": 24,
   "outputs": [
    {
     "name": "stdout",
     "output_type": "stream",
     "text": [
      "Model: \"model_2\"\n",
      "_________________________________________________________________\n",
      " Layer (type)                Output Shape              Param #   \n",
      "=================================================================\n",
      " input_3 (InputLayer)        [(None, 13)]              0         \n",
      "                                                                 \n",
      " normalization_2 (Normalizat  (None, 13)               27        \n",
      " ion)                                                            \n",
      "                                                                 \n",
      " dense_5 (Dense)             (None, 2)                 28        \n",
      "                                                                 \n",
      "=================================================================\n",
      "Total params: 55\n",
      "Trainable params: 28\n",
      "Non-trainable params: 27\n",
      "_________________________________________________________________\n"
     ]
    }
   ],
   "source": [
    "tf.random.set_seed(123)\n",
    "\n",
    "norm_layer = tf.keras.layers.Normalization()\n",
    "\n",
    "input_ = tf.keras.layers.Input(shape=data_train_qt.shape[1:])\n",
    "normalized = norm_layer(input_)\n",
    "output = tf.keras.layers.Dense(2)(normalized)\n",
    "\n",
    "model = tf.keras.Model(inputs=[input_], outputs=[output])\n",
    "\n",
    "model.summary()"
   ],
   "metadata": {
    "collapsed": false
   }
  },
  {
   "cell_type": "code",
   "execution_count": 25,
   "outputs": [],
   "source": [
    "model.compile(loss='mse',\n",
    "              optimizer=tf.keras.optimizers.Adam(learning_rate=0.001),\n",
    "              metrics=['mae'])"
   ],
   "metadata": {
    "collapsed": false
   }
  },
  {
   "cell_type": "code",
   "execution_count": 26,
   "outputs": [],
   "source": [
    "norm_layer.adapt(data_train_qt)"
   ],
   "metadata": {
    "collapsed": false
   }
  },
  {
   "cell_type": "code",
   "execution_count": 27,
   "outputs": [
    {
     "name": "stdout",
     "output_type": "stream",
     "text": [
      "Epoch 1/50\n",
      "2394/2394 [==============================] - 7s 3ms/step - loss: 22.3434 - mae: 4.1966 - val_loss: 14.1423 - val_mae: 3.1827\n",
      "Epoch 2/50\n",
      "2394/2394 [==============================] - 7s 3ms/step - loss: 9.5151 - mae: 2.6135 - val_loss: 7.2848 - val_mae: 2.3094\n",
      "Epoch 3/50\n",
      "2394/2394 [==============================] - 6s 2ms/step - loss: 4.9067 - mae: 1.9080 - val_loss: 5.8595 - val_mae: 2.0295\n",
      "Epoch 4/50\n",
      "2394/2394 [==============================] - 6s 2ms/step - loss: 4.1575 - mae: 1.7213 - val_loss: 5.8071 - val_mae: 2.0100\n",
      "Epoch 5/50\n",
      "2394/2394 [==============================] - 6s 2ms/step - loss: 4.1372 - mae: 1.7070 - val_loss: 5.8084 - val_mae: 2.0090\n",
      "Epoch 6/50\n",
      "2394/2394 [==============================] - 6s 3ms/step - loss: 4.1374 - mae: 1.7073 - val_loss: 5.8191 - val_mae: 2.0115\n",
      "Epoch 7/50\n",
      "2394/2394 [==============================] - 7s 3ms/step - loss: 4.1369 - mae: 1.7069 - val_loss: 5.8542 - val_mae: 2.0155\n",
      "Epoch 8/50\n",
      "2394/2394 [==============================] - 7s 3ms/step - loss: 4.1371 - mae: 1.7072 - val_loss: 5.8109 - val_mae: 2.0107\n",
      "Epoch 9/50\n",
      "2394/2394 [==============================] - 6s 3ms/step - loss: 4.1371 - mae: 1.7071 - val_loss: 5.8999 - val_mae: 2.0198\n",
      "Epoch 10/50\n",
      "2394/2394 [==============================] - 6s 3ms/step - loss: 4.1373 - mae: 1.7072 - val_loss: 5.9323 - val_mae: 2.0225\n",
      "Epoch 11/50\n",
      "2394/2394 [==============================] - 7s 3ms/step - loss: 4.1365 - mae: 1.7069 - val_loss: 5.8039 - val_mae: 2.0089\n",
      "Epoch 12/50\n",
      "2394/2394 [==============================] - 7s 3ms/step - loss: 4.1368 - mae: 1.7074 - val_loss: 5.8429 - val_mae: 2.0142\n",
      "Epoch 13/50\n",
      "2394/2394 [==============================] - 6s 3ms/step - loss: 4.1376 - mae: 1.7071 - val_loss: 5.8405 - val_mae: 2.0105\n",
      "Epoch 14/50\n",
      "2394/2394 [==============================] - 7s 3ms/step - loss: 4.1368 - mae: 1.7071 - val_loss: 5.8337 - val_mae: 2.0145\n",
      "Epoch 15/50\n",
      "2394/2394 [==============================] - 7s 3ms/step - loss: 4.1372 - mae: 1.7073 - val_loss: 5.8483 - val_mae: 2.0114\n",
      "Epoch 16/50\n",
      "2394/2394 [==============================] - 6s 3ms/step - loss: 4.1372 - mae: 1.7073 - val_loss: 5.8714 - val_mae: 2.0201\n",
      "Epoch 17/50\n",
      "2394/2394 [==============================] - 7s 3ms/step - loss: 4.1369 - mae: 1.7070 - val_loss: 5.8979 - val_mae: 2.0234\n",
      "Epoch 18/50\n",
      "2394/2394 [==============================] - 7s 3ms/step - loss: 4.1374 - mae: 1.7070 - val_loss: 5.8598 - val_mae: 2.0124\n",
      "Epoch 19/50\n",
      "2394/2394 [==============================] - 7s 3ms/step - loss: 4.1367 - mae: 1.7069 - val_loss: 5.8445 - val_mae: 2.0118\n",
      "Epoch 20/50\n",
      "2394/2394 [==============================] - 6s 3ms/step - loss: 4.1375 - mae: 1.7072 - val_loss: 5.8300 - val_mae: 2.0143\n",
      "Epoch 21/50\n",
      "2394/2394 [==============================] - 7s 3ms/step - loss: 4.1369 - mae: 1.7073 - val_loss: 6.0248 - val_mae: 2.0378\n",
      "Epoch 22/50\n",
      "2394/2394 [==============================] - 7s 3ms/step - loss: 4.1369 - mae: 1.7068 - val_loss: 5.8481 - val_mae: 2.0165\n",
      "Epoch 23/50\n",
      "2394/2394 [==============================] - 7s 3ms/step - loss: 4.1372 - mae: 1.7072 - val_loss: 5.8650 - val_mae: 2.0149\n",
      "Epoch 24/50\n",
      "2394/2394 [==============================] - 8s 3ms/step - loss: 4.1370 - mae: 1.7073 - val_loss: 5.8742 - val_mae: 2.0141\n",
      "Epoch 25/50\n",
      "2394/2394 [==============================] - 7s 3ms/step - loss: 4.1373 - mae: 1.7072 - val_loss: 5.8941 - val_mae: 2.0177\n",
      "Epoch 26/50\n",
      "2394/2394 [==============================] - 6s 3ms/step - loss: 4.1367 - mae: 1.7068 - val_loss: 5.8415 - val_mae: 2.0112\n",
      "Epoch 27/50\n",
      "2394/2394 [==============================] - 6s 3ms/step - loss: 4.1374 - mae: 1.7073 - val_loss: 5.8406 - val_mae: 2.0122\n",
      "Epoch 28/50\n",
      "2394/2394 [==============================] - 7s 3ms/step - loss: 4.1368 - mae: 1.7071 - val_loss: 5.8653 - val_mae: 2.0171\n",
      "Epoch 29/50\n",
      "2394/2394 [==============================] - 8s 3ms/step - loss: 4.1371 - mae: 1.7071 - val_loss: 5.8266 - val_mae: 2.0094\n",
      "Epoch 30/50\n",
      "2394/2394 [==============================] - 7s 3ms/step - loss: 4.1376 - mae: 1.7073 - val_loss: 5.8070 - val_mae: 2.0090\n",
      "Epoch 31/50\n",
      "2394/2394 [==============================] - 7s 3ms/step - loss: 4.1367 - mae: 1.7070 - val_loss: 5.8538 - val_mae: 2.0172\n",
      "Epoch 32/50\n",
      "2394/2394 [==============================] - 6s 3ms/step - loss: 4.1370 - mae: 1.7070 - val_loss: 5.8705 - val_mae: 2.0205\n",
      "Epoch 33/50\n",
      "2394/2394 [==============================] - 6s 3ms/step - loss: 4.1367 - mae: 1.7071 - val_loss: 5.9035 - val_mae: 2.0186\n",
      "Epoch 34/50\n",
      "2394/2394 [==============================] - 7s 3ms/step - loss: 4.1366 - mae: 1.7068 - val_loss: 5.8419 - val_mae: 2.0122\n",
      "Epoch 35/50\n",
      "2394/2394 [==============================] - 7s 3ms/step - loss: 4.1370 - mae: 1.7073 - val_loss: 5.8243 - val_mae: 2.0107\n",
      "Epoch 36/50\n",
      "2394/2394 [==============================] - 6s 3ms/step - loss: 4.1371 - mae: 1.7072 - val_loss: 5.7999 - val_mae: 2.0083\n",
      "Epoch 37/50\n",
      "2394/2394 [==============================] - 7s 3ms/step - loss: 4.1369 - mae: 1.7069 - val_loss: 5.7893 - val_mae: 2.0085\n",
      "Epoch 38/50\n",
      "2394/2394 [==============================] - 7s 3ms/step - loss: 4.1372 - mae: 1.7072 - val_loss: 5.8333 - val_mae: 2.0138\n",
      "Epoch 39/50\n",
      "2394/2394 [==============================] - 6s 3ms/step - loss: 4.1372 - mae: 1.7070 - val_loss: 5.8537 - val_mae: 2.0126\n",
      "Epoch 40/50\n",
      "2394/2394 [==============================] - 7s 3ms/step - loss: 4.1370 - mae: 1.7073 - val_loss: 5.7950 - val_mae: 2.0076\n",
      "Epoch 41/50\n",
      "2394/2394 [==============================] - 6s 3ms/step - loss: 4.1370 - mae: 1.7070 - val_loss: 5.8740 - val_mae: 2.0187\n",
      "Epoch 42/50\n",
      "2394/2394 [==============================] - 7s 3ms/step - loss: 4.1368 - mae: 1.7070 - val_loss: 5.8392 - val_mae: 2.0108\n",
      "Epoch 43/50\n",
      "2394/2394 [==============================] - 7s 3ms/step - loss: 4.1371 - mae: 1.7073 - val_loss: 5.8670 - val_mae: 2.0162\n",
      "Epoch 44/50\n",
      "2394/2394 [==============================] - 7s 3ms/step - loss: 4.1371 - mae: 1.7069 - val_loss: 5.8908 - val_mae: 2.0202\n",
      "Epoch 45/50\n",
      "2394/2394 [==============================] - 6s 3ms/step - loss: 4.1373 - mae: 1.7071 - val_loss: 5.8781 - val_mae: 2.0212\n",
      "Epoch 46/50\n",
      "2394/2394 [==============================] - 8s 3ms/step - loss: 4.1372 - mae: 1.7073 - val_loss: 5.8561 - val_mae: 2.0157\n",
      "Epoch 47/50\n",
      "2394/2394 [==============================] - 11s 5ms/step - loss: 4.1374 - mae: 1.7071 - val_loss: 5.8616 - val_mae: 2.0167\n",
      "Epoch 48/50\n",
      "2394/2394 [==============================] - 11s 5ms/step - loss: 4.1371 - mae: 1.7072 - val_loss: 5.9271 - val_mae: 2.0224\n",
      "Epoch 49/50\n",
      "2394/2394 [==============================] - 7s 3ms/step - loss: 4.1370 - mae: 1.7069 - val_loss: 5.9006 - val_mae: 2.0232\n",
      "Epoch 50/50\n",
      "2394/2394 [==============================] - 7s 3ms/step - loss: 4.1370 - mae: 1.7071 - val_loss: 5.8522 - val_mae: 2.0125\n"
     ]
    },
    {
     "data": {
      "text/plain": "<keras.callbacks.History at 0x7fba022c3310>"
     },
     "execution_count": 27,
     "metadata": {},
     "output_type": "execute_result"
    }
   ],
   "source": [
    "n_epochs = 50\n",
    "\n",
    "model.fit(data_train_qt, labels_train, epochs=n_epochs, validation_data=(data_validation, labels_validation))"
   ],
   "metadata": {
    "collapsed": false
   }
  },
  {
   "cell_type": "code",
   "execution_count": 28,
   "outputs": [
    {
     "name": "stdout",
     "output_type": "stream",
     "text": [
      "895/895 [==============================] - 1s 2ms/step\n",
      "\n",
      "Values for validation set:\n",
      "MAE: 2.0102503262034563\n",
      "MSE: 5.787424790687911\n",
      "RMSE: 2.4057067133563708\n",
      "R2:  0.0008294163413137268\n"
     ]
    }
   ],
   "source": [
    "predictions = model.predict(data_validation_qt)\n",
    "\n",
    "mae, mse, r2 = get_score(labels_validation, predictions)\n",
    "print(f'''\\nValues for validation set:\\nMAE: {mae}\\nMSE: {mse}\\nRMSE: {mse**.5}\\nR2:  {r2}''')"
   ],
   "metadata": {
    "collapsed": false
   }
  },
  {
   "cell_type": "markdown",
   "source": [
    "Trying big model again"
   ],
   "metadata": {
    "collapsed": false
   }
  },
  {
   "cell_type": "code",
   "execution_count": 9,
   "outputs": [
    {
     "name": "stdout",
     "output_type": "stream",
     "text": [
      "Model: \"model\"\n",
      "_________________________________________________________________\n",
      " Layer (type)                Output Shape              Param #   \n",
      "=================================================================\n",
      " input_1 (InputLayer)        [(None, 13)]              0         \n",
      "                                                                 \n",
      " normalization (Normalizatio  (None, 13)               27        \n",
      " n)                                                              \n",
      "                                                                 \n",
      " dense (Dense)               (None, 64)                896       \n",
      "                                                                 \n",
      " dense_1 (Dense)             (None, 128)               8320      \n",
      "                                                                 \n",
      " dense_2 (Dense)             (None, 64)                8256      \n",
      "                                                                 \n",
      " dense_3 (Dense)             (None, 2)                 130       \n",
      "                                                                 \n",
      "=================================================================\n",
      "Total params: 17,629\n",
      "Trainable params: 17,602\n",
      "Non-trainable params: 27\n",
      "_________________________________________________________________\n"
     ]
    },
    {
     "name": "stderr",
     "output_type": "stream",
     "text": [
      "2022-11-20 19:01:50.495813: I tensorflow/core/platform/cpu_feature_guard.cc:193] This TensorFlow binary is optimized with oneAPI Deep Neural Network Library (oneDNN) to use the following CPU instructions in performance-critical operations:  AVX2 FMA\n",
      "To enable them in other operations, rebuild TensorFlow with the appropriate compiler flags.\n",
      "2022-11-20 19:01:51.313837: I tensorflow/core/common_runtime/gpu/gpu_device.cc:1532] Created device /job:localhost/replica:0/task:0/device:GPU:0 with 3368 MB memory:  -> device: 0, name: NVIDIA GeForce GTX 1050, pci bus id: 0000:01:00.0, compute capability: 6.1\n"
     ]
    }
   ],
   "source": [
    "tf.random.set_seed(123)\n",
    "\n",
    "norm_layer = tf.keras.layers.Normalization()\n",
    "\n",
    "input_ = tf.keras.layers.Input(shape=data_train_qt.shape[1:])\n",
    "normalized = norm_layer(input_)\n",
    "hidden1 = tf.keras.layers.Dense(64, activation='relu')(normalized)\n",
    "hidden2 = tf.keras.layers.Dense(128, activation='relu')(hidden1)\n",
    "hidden3 = tf.keras.layers.Dense(64, activation='relu')(hidden2)\n",
    "output = tf.keras.layers.Dense(2)(hidden3)\n",
    "\n",
    "model = tf.keras.Model(inputs=[input_], outputs=[output])\n",
    "\n",
    "model.summary()"
   ],
   "metadata": {
    "collapsed": false
   }
  },
  {
   "cell_type": "code",
   "execution_count": 10,
   "outputs": [],
   "source": [
    "model.compile(loss='mse',\n",
    "              optimizer=tf.keras.optimizers.Adam(learning_rate=0.001),\n",
    "              metrics=['mae'])\n",
    "norm_layer.adapt(data_train_qt)"
   ],
   "metadata": {
    "collapsed": false
   }
  },
  {
   "cell_type": "code",
   "execution_count": 11,
   "outputs": [
    {
     "name": "stdout",
     "output_type": "stream",
     "text": [
      "Epoch 1/25\n",
      "2394/2394 [==============================] - 10s 4ms/step - loss: 4.3712 - mae: 1.7388 - val_loss: 6.7053 - val_mae: 2.2076\n",
      "Epoch 2/25\n",
      "2394/2394 [==============================] - 8s 3ms/step - loss: 4.0464 - mae: 1.6801 - val_loss: 7.1344 - val_mae: 2.2978\n",
      "Epoch 3/25\n",
      "2394/2394 [==============================] - 7s 3ms/step - loss: 4.0061 - mae: 1.6700 - val_loss: 8.3944 - val_mae: 2.4962\n",
      "Epoch 4/25\n",
      "2394/2394 [==============================] - 8s 3ms/step - loss: 3.9851 - mae: 1.6642 - val_loss: 8.7805 - val_mae: 2.5423\n",
      "Epoch 5/25\n",
      "2394/2394 [==============================] - 7s 3ms/step - loss: 3.9670 - mae: 1.6596 - val_loss: 10.7882 - val_mae: 2.8243\n",
      "Epoch 6/25\n",
      "2394/2394 [==============================] - 7s 3ms/step - loss: 3.9514 - mae: 1.6553 - val_loss: 12.7395 - val_mae: 3.0759\n",
      "Epoch 7/25\n",
      "2394/2394 [==============================] - 7s 3ms/step - loss: 3.9368 - mae: 1.6525 - val_loss: 11.1440 - val_mae: 2.8839\n",
      "Epoch 8/25\n",
      "2394/2394 [==============================] - 8s 3ms/step - loss: 3.9214 - mae: 1.6482 - val_loss: 11.2125 - val_mae: 2.8896\n",
      "Epoch 9/25\n",
      "2394/2394 [==============================] - 7s 3ms/step - loss: 3.9098 - mae: 1.6452 - val_loss: 9.9606 - val_mae: 2.7264\n",
      "Epoch 10/25\n",
      "2394/2394 [==============================] - 7s 3ms/step - loss: 3.8935 - mae: 1.6412 - val_loss: 9.0745 - val_mae: 2.5818\n",
      "Epoch 11/25\n",
      "2394/2394 [==============================] - 7s 3ms/step - loss: 3.8800 - mae: 1.6369 - val_loss: 9.5115 - val_mae: 2.6602\n",
      "Epoch 12/25\n",
      "2394/2394 [==============================] - 8s 3ms/step - loss: 3.8659 - mae: 1.6334 - val_loss: 9.8292 - val_mae: 2.6711\n",
      "Epoch 13/25\n",
      "2394/2394 [==============================] - 7s 3ms/step - loss: 3.8577 - mae: 1.6310 - val_loss: 9.5037 - val_mae: 2.5631\n",
      "Epoch 14/25\n",
      "2394/2394 [==============================] - 8s 3ms/step - loss: 3.8455 - mae: 1.6287 - val_loss: 8.9969 - val_mae: 2.5258\n",
      "Epoch 15/25\n",
      "2394/2394 [==============================] - 7s 3ms/step - loss: 3.8409 - mae: 1.6261 - val_loss: 9.9645 - val_mae: 2.5853\n",
      "Epoch 16/25\n",
      "2394/2394 [==============================] - 7s 3ms/step - loss: 3.8269 - mae: 1.6236 - val_loss: 9.5041 - val_mae: 2.5376\n",
      "Epoch 17/25\n",
      "2394/2394 [==============================] - 7s 3ms/step - loss: 3.8210 - mae: 1.6212 - val_loss: 9.0300 - val_mae: 2.4973\n",
      "Epoch 18/25\n",
      "2394/2394 [==============================] - 8s 3ms/step - loss: 3.8147 - mae: 1.6189 - val_loss: 9.2921 - val_mae: 2.5164\n",
      "Epoch 19/25\n",
      "2394/2394 [==============================] - 7s 3ms/step - loss: 3.8041 - mae: 1.6162 - val_loss: 8.5800 - val_mae: 2.4520\n",
      "Epoch 20/25\n",
      "2394/2394 [==============================] - 7s 3ms/step - loss: 3.8002 - mae: 1.6147 - val_loss: 10.2904 - val_mae: 2.6888\n",
      "Epoch 21/25\n",
      "2394/2394 [==============================] - 7s 3ms/step - loss: 3.7892 - mae: 1.6112 - val_loss: 8.9009 - val_mae: 2.4609\n",
      "Epoch 22/25\n",
      "2394/2394 [==============================] - 8s 3ms/step - loss: 3.7880 - mae: 1.6115 - val_loss: 10.5811 - val_mae: 2.6302\n",
      "Epoch 23/25\n",
      "2394/2394 [==============================] - 7s 3ms/step - loss: 3.7826 - mae: 1.6094 - val_loss: 11.2088 - val_mae: 2.7141\n",
      "Epoch 24/25\n",
      "2394/2394 [==============================] - 7s 3ms/step - loss: 3.7767 - mae: 1.6084 - val_loss: 10.3244 - val_mae: 2.5960\n",
      "Epoch 25/25\n",
      "2394/2394 [==============================] - 7s 3ms/step - loss: 3.7722 - mae: 1.6071 - val_loss: 12.8017 - val_mae: 2.8391\n"
     ]
    },
    {
     "data": {
      "text/plain": "<keras.callbacks.History at 0x7fce980f2a70>"
     },
     "execution_count": 11,
     "metadata": {},
     "output_type": "execute_result"
    }
   ],
   "source": [
    "n_epochs = 25\n",
    "\n",
    "model.fit(data_train_qt, labels_train, epochs=n_epochs, validation_data=(data_validation, labels_validation))"
   ],
   "metadata": {
    "collapsed": false
   }
  },
  {
   "cell_type": "code",
   "execution_count": 12,
   "outputs": [
    {
     "name": "stdout",
     "output_type": "stream",
     "text": [
      "895/895 [==============================] - 1s 1ms/step\n",
      "\n",
      "Values for validation set:\n",
      "MAE: 1.9538390887126957\n",
      "MSE: 5.713185347909841\n",
      "RMSE: 2.3902270494473616\n",
      "R2:  0.025876856095209677\n"
     ]
    }
   ],
   "source": [
    "predictions = model.predict(data_validation_qt)\n",
    "\n",
    "mae, mse, r2 = get_score(labels_validation, predictions)\n",
    "print(f'''\\nValues for validation set:\\nMAE: {mae}\\nMSE: {mse}\\nRMSE: {mse**.5}\\nR2:  {r2}''')"
   ],
   "metadata": {
    "collapsed": false
   }
  },
  {
   "cell_type": "code",
   "execution_count": null,
   "outputs": [],
   "source": [],
   "metadata": {
    "collapsed": false,
    "pycharm": {
     "is_executing": true
    }
   }
  }
 ],
 "metadata": {
  "kernelspec": {
   "display_name": "Python 3",
   "language": "python",
   "name": "python3"
  },
  "language_info": {
   "codemirror_mode": {
    "name": "ipython",
    "version": 2
   },
   "file_extension": ".py",
   "mimetype": "text/x-python",
   "name": "python",
   "nbconvert_exporter": "python",
   "pygments_lexer": "ipython2",
   "version": "2.7.6"
  }
 },
 "nbformat": 4,
 "nbformat_minor": 0
}
