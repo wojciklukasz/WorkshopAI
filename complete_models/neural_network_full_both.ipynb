{
 "cells": [
  {
   "cell_type": "code",
   "execution_count": 1,
   "metadata": {
    "collapsed": true
   },
   "outputs": [],
   "source": [
    "import pandas as pd\n",
    "from sklearn.model_selection import train_test_split\n",
    "from sklearn.metrics import mean_squared_error, mean_absolute_error, r2_score\n",
    "from sklearn.preprocessing import QuantileTransformer, MinMaxScaler\n",
    "import tensorflow as tf\n",
    "from pathlib import Path\n",
    "from time import strftime"
   ]
  },
  {
   "cell_type": "code",
   "execution_count": 2,
   "outputs": [
    {
     "data": {
      "text/plain": "Launching TensorBoard..."
     },
     "metadata": {},
     "output_type": "display_data"
    },
    {
     "data": {
      "text/plain": "<IPython.core.display.HTML object>",
      "text/html": "\n      <iframe id=\"tensorboard-frame-edc4e993bf467946\" width=\"100%\" height=\"800\" frameborder=\"0\">\n      </iframe>\n      <script>\n        (function() {\n          const frame = document.getElementById(\"tensorboard-frame-edc4e993bf467946\");\n          const url = new URL(\"/\", window.location);\n          const port = 6006;\n          if (port) {\n            url.port = port;\n          }\n          frame.src = url;\n        })();\n      </script>\n    "
     },
     "metadata": {},
     "output_type": "display_data"
    },
    {
     "name": "stdout",
     "output_type": "stream",
     "text": [
      "Tensorboard launched at localhost:6006\n"
     ]
    }
   ],
   "source": [
    "%load_ext tensorboard\n",
    "%tensorboard --logdir=./my_logs\n",
    "print('Tensorboard launched at localhost:6006')"
   ],
   "metadata": {
    "collapsed": false
   }
  },
  {
   "cell_type": "code",
   "execution_count": 3,
   "outputs": [
    {
     "name": "stdout",
     "output_type": "stream",
     "text": [
      "Num GPUs Available:  1\n"
     ]
    }
   ],
   "source": [
    "print(\"Num GPUs Available: \", len(tf.config.list_physical_devices('GPU')))"
   ],
   "metadata": {
    "collapsed": false
   }
  },
  {
   "cell_type": "code",
   "execution_count": 4,
   "outputs": [],
   "source": [
    "def get_run_dir(root='my_logs'):\n",
    "    return Path(root) / strftime('run_%Y_%m_%d_%H_%M_%S')"
   ],
   "metadata": {
    "collapsed": false
   }
  },
  {
   "cell_type": "code",
   "execution_count": 5,
   "outputs": [],
   "source": [
    "def get_score(true_values, predicted_values):\n",
    "    mae_ = mean_absolute_error(true_values, predicted_values)\n",
    "    mse_ = mean_squared_error(true_values, predicted_values)\n",
    "    r2_ = r2_score(true_values, predicted_values)\n",
    "\n",
    "    return mae_, mse_, r2_"
   ],
   "metadata": {
    "collapsed": false
   }
  },
  {
   "cell_type": "markdown",
   "source": [
    "# Loading data"
   ],
   "metadata": {
    "collapsed": false
   }
  },
  {
   "cell_type": "code",
   "execution_count": 6,
   "outputs": [],
   "source": [
    "dataset = pd.read_csv('dataset.csv')"
   ],
   "metadata": {
    "collapsed": false
   }
  },
  {
   "cell_type": "code",
   "execution_count": 7,
   "outputs": [],
   "source": [
    "dataset = dataset.loc[dataset['COND'] != '0']\n",
    "\n",
    "data = dataset.iloc[:, :-3]\n",
    "labels = dataset.iloc[:, -2:]"
   ],
   "metadata": {
    "collapsed": false
   }
  },
  {
   "cell_type": "code",
   "execution_count": 8,
   "outputs": [],
   "source": [
    "data_train_full, data_test, labels_train_full, labels_test = train_test_split(data, labels, test_size=0.2, random_state=123)\n",
    "\n",
    "data_train, data_validation, labels_train, labels_validation = train_test_split(data_train_full, labels_train_full, test_size=0.2, random_state=123)\n",
    "\n",
    "data_train = data_train.loc[labels_train['ANS_AROUSAL'] != 1]\n",
    "data_train = data_train.loc[labels_train['ANS_AROUSAL'] != 5]\n",
    "data_train = data_train.loc[labels_train['ANS_AROUSAL'] != 9]\n",
    "labels_train = labels_train.loc[labels_train['ANS_AROUSAL'] != 1]\n",
    "labels_train = labels_train.loc[labels_train['ANS_AROUSAL'] != 5]\n",
    "labels_train = labels_train.loc[labels_train['ANS_AROUSAL'] != 9]\n",
    "\n",
    "data_train = data_train.loc[labels_train['ANS_VALENCE'] != 1]\n",
    "data_train = data_train.loc[labels_train['ANS_VALENCE'] != 5]\n",
    "data_train = data_train.loc[labels_train['ANS_VALENCE'] != 9]\n",
    "labels_train = labels_train.loc[labels_train['ANS_VALENCE'] != 1]\n",
    "labels_train = labels_train.loc[labels_train['ANS_VALENCE'] != 5]\n",
    "labels_train = labels_train.loc[labels_train['ANS_VALENCE'] != 9]"
   ],
   "metadata": {
    "collapsed": false
   }
  },
  {
   "cell_type": "markdown",
   "source": [
    "# Scaling personality values to range 0 - 1"
   ],
   "metadata": {
    "collapsed": false
   }
  },
  {
   "cell_type": "code",
   "execution_count": 9,
   "outputs": [],
   "source": [
    "mms = MinMaxScaler()\n",
    "\n",
    "data_train_mms = mms.fit_transform(data_train)\n",
    "data_train_mms = pd.DataFrame(data_train_mms, columns=data_train.columns)\n",
    "data_validation_mms = mms.fit_transform(data_validation)\n",
    "data_validation_mms = pd.DataFrame(data_validation_mms, columns=data_validation.columns)\n",
    "data_test_mms = mms.fit_transform(data_test)\n",
    "data_test_mms = pd.DataFrame(data_test_mms, columns=data_test.columns)"
   ],
   "metadata": {
    "collapsed": false
   }
  },
  {
   "cell_type": "markdown",
   "source": [
    "# Scaling input values to Gaussian distributions"
   ],
   "metadata": {
    "collapsed": false
   }
  },
  {
   "cell_type": "code",
   "execution_count": 10,
   "outputs": [],
   "source": [
    "quantile_transformer = QuantileTransformer(output_distribution='normal', random_state=0)\n",
    "\n",
    "data_train_qt = quantile_transformer.fit_transform(data_train_mms)\n",
    "data_train_qt = pd.DataFrame(data_train_qt, columns=data_train_mms.columns)\n",
    "data_validation_qt = quantile_transformer.fit_transform(data_validation_mms)\n",
    "data_validation_qt = pd.DataFrame(data_validation_qt, columns=data_validation_mms.columns)\n",
    "data_test_qt = quantile_transformer.fit_transform(data_test_mms)\n",
    "data_test_qt = pd.DataFrame(data_test_qt, columns=data_test_mms.columns)"
   ],
   "metadata": {
    "collapsed": false
   }
  },
  {
   "cell_type": "markdown",
   "source": [
    "# Training"
   ],
   "metadata": {
    "collapsed": false
   }
  },
  {
   "cell_type": "code",
   "execution_count": 11,
   "outputs": [
    {
     "name": "stdout",
     "output_type": "stream",
     "text": [
      "Model: \"model\"\n",
      "_________________________________________________________________\n",
      " Layer (type)                Output Shape              Param #   \n",
      "=================================================================\n",
      " input_1 (InputLayer)        [(None, 13)]              0         \n",
      "                                                                 \n",
      " dense (Dense)               (None, 13)                182       \n",
      "                                                                 \n",
      " dense_1 (Dense)             (None, 13)                182       \n",
      "                                                                 \n",
      " dense_2 (Dense)             (None, 13)                182       \n",
      "                                                                 \n",
      " dense_3 (Dense)             (None, 2)                 28        \n",
      "                                                                 \n",
      "=================================================================\n",
      "Total params: 574\n",
      "Trainable params: 574\n",
      "Non-trainable params: 0\n",
      "_________________________________________________________________\n"
     ]
    },
    {
     "name": "stderr",
     "output_type": "stream",
     "text": [
      "2022-12-05 12:28:29.959703: I tensorflow/core/platform/cpu_feature_guard.cc:193] This TensorFlow binary is optimized with oneAPI Deep Neural Network Library (oneDNN) to use the following CPU instructions in performance-critical operations:  AVX2 FMA\n",
      "To enable them in other operations, rebuild TensorFlow with the appropriate compiler flags.\n",
      "2022-12-05 12:28:30.843325: I tensorflow/core/common_runtime/gpu/gpu_device.cc:1532] Created device /job:localhost/replica:0/task:0/device:GPU:0 with 34 MB memory:  -> device: 0, name: NVIDIA GeForce GTX 1050, pci bus id: 0000:01:00.0, compute capability: 6.1\n"
     ]
    }
   ],
   "source": [
    "tf.random.set_seed(123)\n",
    "\n",
    "n_inputs = data_train_qt.shape[1]\n",
    "\n",
    "input_ = tf.keras.layers.Input(shape=n_inputs)\n",
    "hidden1 = tf.keras.layers.Dense(n_inputs, activation='relu')(input_)\n",
    "hidden2 = tf.keras.layers.Dense(n_inputs, activation='relu')(hidden1)\n",
    "hidden3 = tf.keras.layers.Dense(n_inputs, activation='relu')(hidden2)\n",
    "output = tf.keras.layers.Dense(2)(hidden3)\n",
    "\n",
    "model = tf.keras.Model(inputs=[input_], outputs=[output])\n",
    "\n",
    "model.summary()"
   ],
   "metadata": {
    "collapsed": false
   }
  },
  {
   "cell_type": "code",
   "execution_count": 13,
   "outputs": [],
   "source": [
    "model.compile(loss=tf.keras.losses.MeanSquaredError(),\n",
    "              optimizer=tf.keras.optimizers.SGD(learning_rate=0.001),\n",
    "              metrics=[tf.keras.metrics.MeanAbsoluteError()])"
   ],
   "metadata": {
    "collapsed": false
   }
  },
  {
   "cell_type": "code",
   "execution_count": 14,
   "outputs": [
    {
     "name": "stdout",
     "output_type": "stream",
     "text": [
      "Epoch 1/50\n",
      "570/570 [==============================] - 5s 6ms/step - loss: 5.4338 - mean_absolute_error: 1.8987 - val_loss: 6.1012 - val_mean_absolute_error: 2.0594\n",
      "Epoch 2/50\n",
      "570/570 [==============================] - 3s 5ms/step - loss: 4.4691 - mean_absolute_error: 1.7578 - val_loss: 5.9442 - val_mean_absolute_error: 2.0258\n",
      "Epoch 3/50\n",
      "570/570 [==============================] - 3s 5ms/step - loss: 4.3950 - mean_absolute_error: 1.7475 - val_loss: 5.9163 - val_mean_absolute_error: 2.0255\n",
      "Epoch 4/50\n",
      "570/570 [==============================] - 4s 7ms/step - loss: 4.3423 - mean_absolute_error: 1.7400 - val_loss: 5.9982 - val_mean_absolute_error: 2.0390\n",
      "Epoch 5/50\n",
      "570/570 [==============================] - 3s 6ms/step - loss: 4.2991 - mean_absolute_error: 1.7337 - val_loss: 5.8595 - val_mean_absolute_error: 2.0098\n",
      "Epoch 6/50\n",
      "570/570 [==============================] - 3s 6ms/step - loss: 4.2604 - mean_absolute_error: 1.7278 - val_loss: 5.8670 - val_mean_absolute_error: 2.0092\n",
      "Epoch 7/50\n",
      "570/570 [==============================] - 3s 6ms/step - loss: 4.2305 - mean_absolute_error: 1.7232 - val_loss: 5.7793 - val_mean_absolute_error: 2.0011\n",
      "Epoch 8/50\n",
      "570/570 [==============================] - 3s 5ms/step - loss: 4.2128 - mean_absolute_error: 1.7195 - val_loss: 5.7594 - val_mean_absolute_error: 1.9981\n",
      "Epoch 9/50\n",
      "570/570 [==============================] - 3s 5ms/step - loss: 4.1973 - mean_absolute_error: 1.7166 - val_loss: 5.7471 - val_mean_absolute_error: 1.9995\n",
      "Epoch 10/50\n",
      "570/570 [==============================] - 3s 5ms/step - loss: 4.1860 - mean_absolute_error: 1.7151 - val_loss: 5.7346 - val_mean_absolute_error: 1.9964\n",
      "Epoch 11/50\n",
      "570/570 [==============================] - 3s 4ms/step - loss: 4.1830 - mean_absolute_error: 1.7138 - val_loss: 5.7617 - val_mean_absolute_error: 2.0074\n",
      "Epoch 12/50\n",
      "570/570 [==============================] - 3s 5ms/step - loss: 4.1756 - mean_absolute_error: 1.7131 - val_loss: 5.7474 - val_mean_absolute_error: 2.0038\n",
      "Epoch 13/50\n",
      "570/570 [==============================] - 4s 7ms/step - loss: 4.1760 - mean_absolute_error: 1.7130 - val_loss: 5.7743 - val_mean_absolute_error: 2.0062\n",
      "Epoch 14/50\n",
      "570/570 [==============================] - 3s 6ms/step - loss: 4.1711 - mean_absolute_error: 1.7121 - val_loss: 5.7488 - val_mean_absolute_error: 2.0014\n",
      "Epoch 15/50\n",
      "570/570 [==============================] - 4s 7ms/step - loss: 4.1686 - mean_absolute_error: 1.7105 - val_loss: 5.7348 - val_mean_absolute_error: 1.9963\n",
      "Epoch 16/50\n",
      "570/570 [==============================] - 2s 4ms/step - loss: 4.1651 - mean_absolute_error: 1.7103 - val_loss: 5.7464 - val_mean_absolute_error: 1.9971\n",
      "Epoch 17/50\n",
      "570/570 [==============================] - 3s 6ms/step - loss: 4.1623 - mean_absolute_error: 1.7096 - val_loss: 5.7566 - val_mean_absolute_error: 1.9993\n",
      "Epoch 18/50\n",
      "570/570 [==============================] - 3s 5ms/step - loss: 4.1587 - mean_absolute_error: 1.7093 - val_loss: 5.7644 - val_mean_absolute_error: 1.9963\n",
      "Epoch 19/50\n",
      "570/570 [==============================] - 3s 5ms/step - loss: 4.1591 - mean_absolute_error: 1.7093 - val_loss: 5.7623 - val_mean_absolute_error: 1.9993\n",
      "Epoch 20/50\n",
      "570/570 [==============================] - 3s 6ms/step - loss: 4.1574 - mean_absolute_error: 1.7089 - val_loss: 5.7994 - val_mean_absolute_error: 1.9995\n",
      "Epoch 21/50\n",
      "570/570 [==============================] - 3s 5ms/step - loss: 4.1551 - mean_absolute_error: 1.7083 - val_loss: 5.7436 - val_mean_absolute_error: 2.0032\n",
      "Epoch 22/50\n",
      "570/570 [==============================] - 4s 6ms/step - loss: 4.1560 - mean_absolute_error: 1.7081 - val_loss: 5.7680 - val_mean_absolute_error: 2.0097\n",
      "Epoch 23/50\n",
      "570/570 [==============================] - 3s 5ms/step - loss: 4.1542 - mean_absolute_error: 1.7078 - val_loss: 5.7322 - val_mean_absolute_error: 1.9952\n",
      "Epoch 24/50\n",
      "570/570 [==============================] - 2s 4ms/step - loss: 4.1514 - mean_absolute_error: 1.7070 - val_loss: 5.7229 - val_mean_absolute_error: 1.9940\n",
      "Epoch 25/50\n",
      "570/570 [==============================] - 3s 6ms/step - loss: 4.1496 - mean_absolute_error: 1.7068 - val_loss: 5.7639 - val_mean_absolute_error: 2.0022\n",
      "Epoch 26/50\n",
      "570/570 [==============================] - 3s 5ms/step - loss: 4.1494 - mean_absolute_error: 1.7068 - val_loss: 5.7169 - val_mean_absolute_error: 1.9942\n",
      "Epoch 27/50\n",
      "570/570 [==============================] - 3s 4ms/step - loss: 4.1477 - mean_absolute_error: 1.7061 - val_loss: 5.7359 - val_mean_absolute_error: 2.0009\n",
      "Epoch 28/50\n",
      "570/570 [==============================] - 2s 4ms/step - loss: 4.1464 - mean_absolute_error: 1.7063 - val_loss: 5.7343 - val_mean_absolute_error: 1.9952\n",
      "Epoch 29/50\n",
      "570/570 [==============================] - 3s 4ms/step - loss: 4.1461 - mean_absolute_error: 1.7062 - val_loss: 5.7426 - val_mean_absolute_error: 1.9992\n",
      "Epoch 30/50\n",
      "570/570 [==============================] - 3s 5ms/step - loss: 4.1439 - mean_absolute_error: 1.7057 - val_loss: 5.7299 - val_mean_absolute_error: 1.9992\n",
      "Epoch 31/50\n",
      "570/570 [==============================] - 3s 5ms/step - loss: 4.1417 - mean_absolute_error: 1.7054 - val_loss: 5.7550 - val_mean_absolute_error: 1.9943\n",
      "Epoch 32/50\n",
      "570/570 [==============================] - 2s 4ms/step - loss: 4.1401 - mean_absolute_error: 1.7049 - val_loss: 5.7217 - val_mean_absolute_error: 1.9950\n",
      "Epoch 33/50\n",
      "570/570 [==============================] - 2s 4ms/step - loss: 4.1388 - mean_absolute_error: 1.7044 - val_loss: 5.7621 - val_mean_absolute_error: 2.0067\n",
      "Epoch 34/50\n",
      "570/570 [==============================] - 2s 4ms/step - loss: 4.1371 - mean_absolute_error: 1.7047 - val_loss: 5.7137 - val_mean_absolute_error: 1.9940\n",
      "Epoch 35/50\n",
      "570/570 [==============================] - 2s 4ms/step - loss: 4.1374 - mean_absolute_error: 1.7042 - val_loss: 5.7811 - val_mean_absolute_error: 2.0138\n",
      "Epoch 36/50\n",
      "570/570 [==============================] - 2s 4ms/step - loss: 4.1351 - mean_absolute_error: 1.7036 - val_loss: 5.7737 - val_mean_absolute_error: 2.0127\n",
      "Epoch 37/50\n",
      "570/570 [==============================] - 2s 4ms/step - loss: 4.1348 - mean_absolute_error: 1.7035 - val_loss: 5.7185 - val_mean_absolute_error: 1.9962\n",
      "Epoch 38/50\n",
      "570/570 [==============================] - 2s 4ms/step - loss: 4.1332 - mean_absolute_error: 1.7034 - val_loss: 5.7929 - val_mean_absolute_error: 2.0017\n",
      "Epoch 39/50\n",
      "570/570 [==============================] - 3s 5ms/step - loss: 4.1347 - mean_absolute_error: 1.7043 - val_loss: 5.7993 - val_mean_absolute_error: 2.0018\n",
      "Epoch 40/50\n",
      "570/570 [==============================] - 2s 4ms/step - loss: 4.1346 - mean_absolute_error: 1.7039 - val_loss: 5.7861 - val_mean_absolute_error: 2.0153\n",
      "Epoch 41/50\n",
      "570/570 [==============================] - 2s 4ms/step - loss: 4.1335 - mean_absolute_error: 1.7040 - val_loss: 5.7237 - val_mean_absolute_error: 1.9968\n",
      "Epoch 42/50\n",
      "570/570 [==============================] - 3s 5ms/step - loss: 4.1325 - mean_absolute_error: 1.7036 - val_loss: 5.7269 - val_mean_absolute_error: 2.0002\n",
      "Epoch 43/50\n",
      "570/570 [==============================] - 4s 6ms/step - loss: 4.1310 - mean_absolute_error: 1.7034 - val_loss: 5.7223 - val_mean_absolute_error: 1.9935\n",
      "Epoch 44/50\n",
      "570/570 [==============================] - 2s 4ms/step - loss: 4.1301 - mean_absolute_error: 1.7034 - val_loss: 5.7436 - val_mean_absolute_error: 2.0039\n",
      "Epoch 45/50\n",
      "570/570 [==============================] - 3s 5ms/step - loss: 4.1276 - mean_absolute_error: 1.7027 - val_loss: 5.7362 - val_mean_absolute_error: 1.9925\n",
      "Epoch 46/50\n",
      "570/570 [==============================] - 3s 5ms/step - loss: 4.1306 - mean_absolute_error: 1.7027 - val_loss: 5.7482 - val_mean_absolute_error: 1.9956\n",
      "Epoch 47/50\n",
      "570/570 [==============================] - 3s 5ms/step - loss: 4.1266 - mean_absolute_error: 1.7019 - val_loss: 5.7130 - val_mean_absolute_error: 1.9934\n",
      "Epoch 48/50\n",
      "570/570 [==============================] - 4s 7ms/step - loss: 4.1278 - mean_absolute_error: 1.7027 - val_loss: 5.7410 - val_mean_absolute_error: 2.0025\n",
      "Epoch 49/50\n",
      "570/570 [==============================] - 3s 5ms/step - loss: 4.1245 - mean_absolute_error: 1.7023 - val_loss: 5.7217 - val_mean_absolute_error: 1.9989\n",
      "Epoch 50/50\n",
      "570/570 [==============================] - 2s 4ms/step - loss: 4.1274 - mean_absolute_error: 1.7033 - val_loss: 5.7106 - val_mean_absolute_error: 1.9942\n"
     ]
    }
   ],
   "source": [
    "n_epochs = 50\n",
    "\n",
    "run_dir = get_run_dir()\n",
    "tensorboard_cb = tf.keras.callbacks.TensorBoard(run_dir, profile_batch=(0, n_epochs))\n",
    "\n",
    "history = model.fit(data_train_qt, labels_train, epochs=n_epochs, validation_data=(data_validation_qt, labels_validation), callbacks=[tensorboard_cb])"
   ],
   "metadata": {
    "collapsed": false
   }
  },
  {
   "cell_type": "code",
   "execution_count": 15,
   "outputs": [
    {
     "name": "stdout",
     "output_type": "stream",
     "text": [
      "268/268 [==============================] - 1s 2ms/step\n",
      "\n",
      "Values for validation set:\n",
      "MAE: 2.01939947648481\n",
      "MSE: 5.84793978725993\n",
      "RMSE: 2.418251390418277\n",
      "R2:  -0.00050787910436495\n"
     ]
    }
   ],
   "source": [
    "predictions = model.predict(data_test_qt)\n",
    "\n",
    "mae, mse, r2 = get_score(labels_test, predictions)\n",
    "print(f'''\\nValues for validation set:\\nMAE: {mae}\\nMSE: {mse}\\nRMSE: {mse**.5}\\nR2:  {r2}''')"
   ],
   "metadata": {
    "collapsed": false
   }
  },
  {
   "cell_type": "markdown",
   "source": [
    "# Overfitting?"
   ],
   "metadata": {
    "collapsed": false
   }
  },
  {
   "cell_type": "code",
   "execution_count": 16,
   "outputs": [
    {
     "name": "stdout",
     "output_type": "stream",
     "text": [
      "Model: \"model_1\"\n",
      "_________________________________________________________________\n",
      " Layer (type)                Output Shape              Param #   \n",
      "=================================================================\n",
      " input_2 (InputLayer)        [(None, 13)]              0         \n",
      "                                                                 \n",
      " normalization_1 (Normalizat  (None, 13)               27        \n",
      " ion)                                                            \n",
      "                                                                 \n",
      " dense_4 (Dense)             (None, 2)                 28        \n",
      "                                                                 \n",
      "=================================================================\n",
      "Total params: 55\n",
      "Trainable params: 28\n",
      "Non-trainable params: 27\n",
      "_________________________________________________________________\n"
     ]
    }
   ],
   "source": [
    "tf.random.set_seed(123)\n",
    "\n",
    "norm_layer = tf.keras.layers.Normalization()\n",
    "\n",
    "input_ = tf.keras.layers.Input(shape=data_train_qt.shape[1:])\n",
    "normalized = norm_layer(input_)\n",
    "output = tf.keras.layers.Dense(2)(normalized)\n",
    "\n",
    "model = tf.keras.Model(inputs=[input_], outputs=[output])\n",
    "\n",
    "model.summary()"
   ],
   "metadata": {
    "collapsed": false
   }
  },
  {
   "cell_type": "code",
   "execution_count": 17,
   "outputs": [],
   "source": [
    "model.compile(loss='mse',\n",
    "              optimizer=tf.keras.optimizers.Adam(learning_rate=0.001),\n",
    "              metrics=['mae'])"
   ],
   "metadata": {
    "collapsed": false
   }
  },
  {
   "cell_type": "code",
   "execution_count": 18,
   "outputs": [],
   "source": [
    "norm_layer.adapt(data_train_qt)"
   ],
   "metadata": {
    "collapsed": false
   }
  },
  {
   "cell_type": "code",
   "execution_count": 19,
   "outputs": [
    {
     "name": "stdout",
     "output_type": "stream",
     "text": [
      "Epoch 1/50\n",
      "570/570 [==============================] - 3s 5ms/step - loss: 30.0115 - mae: 5.0177 - val_loss: 19.0710 - val_mae: 3.7066\n",
      "Epoch 2/50\n",
      "570/570 [==============================] - 3s 6ms/step - loss: 24.5716 - mae: 4.4759 - val_loss: 18.5070 - val_mae: 3.6420\n",
      "Epoch 3/50\n",
      "570/570 [==============================] - 3s 5ms/step - loss: 20.1233 - mae: 3.9710 - val_loss: 17.4588 - val_mae: 3.5369\n",
      "Epoch 4/50\n",
      "570/570 [==============================] - 3s 4ms/step - loss: 16.4271 - mae: 3.5198 - val_loss: 14.8005 - val_mae: 3.2372\n",
      "Epoch 5/50\n",
      "570/570 [==============================] - 2s 4ms/step - loss: 13.3648 - mae: 3.1331 - val_loss: 12.3481 - val_mae: 2.9564\n",
      "Epoch 6/50\n",
      "570/570 [==============================] - 2s 4ms/step - loss: 10.8617 - mae: 2.8060 - val_loss: 10.6179 - val_mae: 2.7437\n",
      "Epoch 7/50\n",
      "570/570 [==============================] - 3s 5ms/step - loss: 8.8575 - mae: 2.5333 - val_loss: 8.7973 - val_mae: 2.5116\n",
      "Epoch 8/50\n",
      "570/570 [==============================] - 4s 6ms/step - loss: 7.2989 - mae: 2.3105 - val_loss: 7.5277 - val_mae: 2.3303\n",
      "Epoch 9/50\n",
      "570/570 [==============================] - 3s 6ms/step - loss: 6.1348 - mae: 2.1315 - val_loss: 6.8275 - val_mae: 2.2187\n",
      "Epoch 10/50\n",
      "570/570 [==============================] - 4s 7ms/step - loss: 5.3110 - mae: 1.9943 - val_loss: 6.2122 - val_mae: 2.1037\n",
      "Epoch 11/50\n",
      "570/570 [==============================] - 4s 6ms/step - loss: 4.7662 - mae: 1.8923 - val_loss: 5.8390 - val_mae: 2.0285\n",
      "Epoch 12/50\n",
      "570/570 [==============================] - 3s 5ms/step - loss: 4.4374 - mae: 1.8169 - val_loss: 5.7511 - val_mae: 2.0086\n",
      "Epoch 13/50\n",
      "570/570 [==============================] - 2s 4ms/step - loss: 4.2612 - mae: 1.7641 - val_loss: 5.7172 - val_mae: 1.9970\n",
      "Epoch 14/50\n",
      "570/570 [==============================] - 3s 4ms/step - loss: 4.1799 - mae: 1.7330 - val_loss: 5.7032 - val_mae: 1.9905\n",
      "Epoch 15/50\n",
      "570/570 [==============================] - 3s 4ms/step - loss: 4.1495 - mae: 1.7170 - val_loss: 5.7274 - val_mae: 1.9927\n",
      "Epoch 16/50\n",
      "570/570 [==============================] - 2s 4ms/step - loss: 4.1407 - mae: 1.7102 - val_loss: 5.7872 - val_mae: 2.0009\n",
      "Epoch 17/50\n",
      "570/570 [==============================] - 3s 5ms/step - loss: 4.1390 - mae: 1.7073 - val_loss: 5.7599 - val_mae: 1.9985\n",
      "Epoch 18/50\n",
      "570/570 [==============================] - 3s 6ms/step - loss: 4.1385 - mae: 1.7065 - val_loss: 5.7458 - val_mae: 1.9978\n",
      "Epoch 19/50\n",
      "570/570 [==============================] - 3s 6ms/step - loss: 4.1390 - mae: 1.7060 - val_loss: 5.7878 - val_mae: 2.0047\n",
      "Epoch 20/50\n",
      "570/570 [==============================] - 4s 7ms/step - loss: 4.1385 - mae: 1.7060 - val_loss: 5.7599 - val_mae: 2.0006\n",
      "Epoch 21/50\n",
      "570/570 [==============================] - 3s 4ms/step - loss: 4.1384 - mae: 1.7059 - val_loss: 5.7727 - val_mae: 2.0007\n",
      "Epoch 22/50\n",
      "570/570 [==============================] - 4s 6ms/step - loss: 4.1388 - mae: 1.7059 - val_loss: 5.7785 - val_mae: 2.0002\n",
      "Epoch 23/50\n",
      "570/570 [==============================] - 4s 7ms/step - loss: 4.1387 - mae: 1.7065 - val_loss: 5.7536 - val_mae: 1.9971\n",
      "Epoch 24/50\n",
      "570/570 [==============================] - 4s 7ms/step - loss: 4.1387 - mae: 1.7056 - val_loss: 5.8284 - val_mae: 2.0108\n",
      "Epoch 25/50\n",
      "570/570 [==============================] - 3s 6ms/step - loss: 4.1390 - mae: 1.7060 - val_loss: 5.7848 - val_mae: 2.0044\n",
      "Epoch 26/50\n",
      "570/570 [==============================] - 3s 6ms/step - loss: 4.1386 - mae: 1.7070 - val_loss: 5.7937 - val_mae: 2.0049\n",
      "Epoch 27/50\n",
      "570/570 [==============================] - 3s 6ms/step - loss: 4.1386 - mae: 1.7060 - val_loss: 5.7349 - val_mae: 1.9944\n",
      "Epoch 28/50\n",
      "570/570 [==============================] - 2s 4ms/step - loss: 4.1390 - mae: 1.7057 - val_loss: 5.7334 - val_mae: 1.9960\n",
      "Epoch 29/50\n",
      "570/570 [==============================] - 2s 3ms/step - loss: 4.1390 - mae: 1.7056 - val_loss: 5.7612 - val_mae: 1.9988\n",
      "Epoch 30/50\n",
      "570/570 [==============================] - 2s 3ms/step - loss: 4.1383 - mae: 1.7060 - val_loss: 5.7704 - val_mae: 1.9972\n",
      "Epoch 31/50\n",
      "570/570 [==============================] - 2s 3ms/step - loss: 4.1389 - mae: 1.7059 - val_loss: 5.7762 - val_mae: 2.0020\n",
      "Epoch 32/50\n",
      "570/570 [==============================] - 2s 3ms/step - loss: 4.1391 - mae: 1.7064 - val_loss: 5.7595 - val_mae: 1.9979\n",
      "Epoch 33/50\n",
      "570/570 [==============================] - 2s 3ms/step - loss: 4.1388 - mae: 1.7056 - val_loss: 5.7430 - val_mae: 1.9969\n",
      "Epoch 34/50\n",
      "570/570 [==============================] - 2s 3ms/step - loss: 4.1389 - mae: 1.7066 - val_loss: 5.7206 - val_mae: 1.9931\n",
      "Epoch 35/50\n",
      "570/570 [==============================] - 2s 3ms/step - loss: 4.1391 - mae: 1.7060 - val_loss: 5.7413 - val_mae: 1.9954\n",
      "Epoch 36/50\n",
      "570/570 [==============================] - 2s 3ms/step - loss: 4.1385 - mae: 1.7062 - val_loss: 5.7804 - val_mae: 2.0025\n",
      "Epoch 37/50\n",
      "570/570 [==============================] - 2s 3ms/step - loss: 4.1387 - mae: 1.7058 - val_loss: 5.7398 - val_mae: 1.9931\n",
      "Epoch 38/50\n",
      "570/570 [==============================] - 2s 3ms/step - loss: 4.1388 - mae: 1.7060 - val_loss: 5.8093 - val_mae: 2.0059\n",
      "Epoch 39/50\n",
      "570/570 [==============================] - 2s 3ms/step - loss: 4.1383 - mae: 1.7057 - val_loss: 5.8222 - val_mae: 2.0090\n",
      "Epoch 40/50\n",
      "570/570 [==============================] - 2s 3ms/step - loss: 4.1385 - mae: 1.7063 - val_loss: 5.8587 - val_mae: 2.0150\n",
      "Epoch 41/50\n",
      "570/570 [==============================] - 2s 3ms/step - loss: 4.1389 - mae: 1.7060 - val_loss: 5.7667 - val_mae: 2.0014\n",
      "Epoch 42/50\n",
      "570/570 [==============================] - 2s 3ms/step - loss: 4.1392 - mae: 1.7066 - val_loss: 5.7733 - val_mae: 2.0015\n",
      "Epoch 43/50\n",
      "570/570 [==============================] - 2s 3ms/step - loss: 4.1389 - mae: 1.7057 - val_loss: 5.7712 - val_mae: 2.0011\n",
      "Epoch 44/50\n",
      "570/570 [==============================] - 3s 5ms/step - loss: 4.1390 - mae: 1.7062 - val_loss: 5.7550 - val_mae: 1.9982\n",
      "Epoch 45/50\n",
      "570/570 [==============================] - 2s 3ms/step - loss: 4.1385 - mae: 1.7060 - val_loss: 5.7725 - val_mae: 1.9975\n",
      "Epoch 46/50\n",
      "570/570 [==============================] - 2s 3ms/step - loss: 4.1383 - mae: 1.7060 - val_loss: 5.8148 - val_mae: 2.0099\n",
      "Epoch 47/50\n",
      "570/570 [==============================] - 2s 4ms/step - loss: 4.1389 - mae: 1.7059 - val_loss: 5.8253 - val_mae: 2.0097\n",
      "Epoch 48/50\n",
      "570/570 [==============================] - 2s 3ms/step - loss: 4.1385 - mae: 1.7064 - val_loss: 5.7344 - val_mae: 1.9943\n",
      "Epoch 49/50\n",
      "570/570 [==============================] - 2s 3ms/step - loss: 4.1386 - mae: 1.7062 - val_loss: 5.7479 - val_mae: 1.9961\n",
      "Epoch 50/50\n",
      "570/570 [==============================] - 2s 3ms/step - loss: 4.1391 - mae: 1.7059 - val_loss: 5.7990 - val_mae: 2.0068\n"
     ]
    },
    {
     "data": {
      "text/plain": "<keras.callbacks.History at 0x7fba02109630>"
     },
     "execution_count": 19,
     "metadata": {},
     "output_type": "execute_result"
    }
   ],
   "source": [
    "n_epochs = 50\n",
    "\n",
    "# run_dir = get_run_dir()\n",
    "# tensorboard_cb = tf.keras.callbacks.TensorBoard(run_dir, profile_batch=(0, n_epochs))\n",
    "\n",
    "model.fit(data_train_qt, labels_train, epochs=n_epochs, validation_data=(data_validation, labels_validation))"
   ],
   "metadata": {
    "collapsed": false
   }
  },
  {
   "cell_type": "code",
   "execution_count": 20,
   "outputs": [
    {
     "name": "stdout",
     "output_type": "stream",
     "text": [
      "215/215 [==============================] - 0s 2ms/step\n",
      "\n",
      "Values for validation set:\n",
      "MAE: 1.9943835264988259\n",
      "MSE: 5.711783566684479\n",
      "RMSE: 2.3899337996447683\n",
      "R2:  -0.0016500872448512727\n"
     ]
    }
   ],
   "source": [
    "predictions = model.predict(data_validation_qt)\n",
    "\n",
    "mae, mse, r2 = get_score(labels_validation, predictions)\n",
    "print(f'''\\nValues for validation set:\\nMAE: {mae}\\nMSE: {mse}\\nRMSE: {mse**.5}\\nR2:  {r2}''')"
   ],
   "metadata": {
    "collapsed": false
   }
  },
  {
   "cell_type": "markdown",
   "source": [
    "# Check if data from all subjects works better"
   ],
   "metadata": {
    "collapsed": false
   }
  },
  {
   "cell_type": "code",
   "execution_count": 6,
   "outputs": [],
   "source": [
    "dataset = pd.read_csv('dataset_full.csv')\n",
    "dataset = dataset.loc[dataset['COND'] != '0']\n",
    "\n",
    "data = dataset.iloc[:, :-3]\n",
    "labels = dataset.iloc[:, -2:]\n",
    "data_train_full, data_test, labels_train_full, labels_test = train_test_split(data, labels, test_size=0.2,\n",
    "                                                                              random_state=123)\n",
    "\n",
    "data_train, data_validation, labels_train, labels_validation = train_test_split(data_train_full, labels_train_full,\n",
    "                                                                                test_size=0.2, random_state=123)\n",
    "\n",
    "data_train = data_train.loc[labels_train['ANS_AROUSAL'] != 1]\n",
    "data_train = data_train.loc[labels_train['ANS_AROUSAL'] != 5]\n",
    "data_train = data_train.loc[labels_train['ANS_AROUSAL'] != 9]\n",
    "labels_train = labels_train.loc[labels_train['ANS_AROUSAL'] != 1]\n",
    "labels_train = labels_train.loc[labels_train['ANS_AROUSAL'] != 5]\n",
    "labels_train = labels_train.loc[labels_train['ANS_AROUSAL'] != 9]\n",
    "\n",
    "data_train = data_train.loc[labels_train['ANS_VALENCE'] != 1]\n",
    "data_train = data_train.loc[labels_train['ANS_VALENCE'] != 5]\n",
    "data_train = data_train.loc[labels_train['ANS_VALENCE'] != 9]\n",
    "labels_train = labels_train.loc[labels_train['ANS_VALENCE'] != 1]\n",
    "labels_train = labels_train.loc[labels_train['ANS_VALENCE'] != 5]\n",
    "labels_train = labels_train.loc[labels_train['ANS_VALENCE'] != 9]"
   ],
   "metadata": {
    "collapsed": false
   }
  },
  {
   "cell_type": "code",
   "execution_count": 7,
   "outputs": [],
   "source": [
    "mms = MinMaxScaler()\n",
    "\n",
    "data_train_mms = mms.fit_transform(data_train)\n",
    "data_train_mms = pd.DataFrame(data_train_mms, columns=data_train.columns)\n",
    "data_validation_mms = mms.fit_transform(data_validation)\n",
    "data_validation_mms = pd.DataFrame(data_validation_mms, columns=data_validation.columns)"
   ],
   "metadata": {
    "collapsed": false
   }
  },
  {
   "cell_type": "code",
   "execution_count": 8,
   "outputs": [],
   "source": [
    "quantile_transformer = QuantileTransformer(output_distribution='normal', random_state=0)\n",
    "data_train_qt = quantile_transformer.fit_transform(data_train_mms)\n",
    "data_train_qt = pd.DataFrame(data_train_qt, columns=data_train_mms.columns)\n",
    "data_validation_qt = quantile_transformer.fit_transform(data_validation_mms)\n",
    "data_validation_qt = pd.DataFrame(data_validation_qt, columns=data_validation_mms.columns)"
   ],
   "metadata": {
    "collapsed": false
   }
  },
  {
   "cell_type": "code",
   "execution_count": 24,
   "outputs": [
    {
     "name": "stdout",
     "output_type": "stream",
     "text": [
      "Model: \"model_2\"\n",
      "_________________________________________________________________\n",
      " Layer (type)                Output Shape              Param #   \n",
      "=================================================================\n",
      " input_3 (InputLayer)        [(None, 13)]              0         \n",
      "                                                                 \n",
      " normalization_2 (Normalizat  (None, 13)               27        \n",
      " ion)                                                            \n",
      "                                                                 \n",
      " dense_5 (Dense)             (None, 2)                 28        \n",
      "                                                                 \n",
      "=================================================================\n",
      "Total params: 55\n",
      "Trainable params: 28\n",
      "Non-trainable params: 27\n",
      "_________________________________________________________________\n"
     ]
    }
   ],
   "source": [
    "tf.random.set_seed(123)\n",
    "\n",
    "norm_layer = tf.keras.layers.Normalization()\n",
    "\n",
    "input_ = tf.keras.layers.Input(shape=data_train_qt.shape[1:])\n",
    "normalized = norm_layer(input_)\n",
    "output = tf.keras.layers.Dense(2)(normalized)\n",
    "\n",
    "model = tf.keras.Model(inputs=[input_], outputs=[output])\n",
    "\n",
    "model.summary()"
   ],
   "metadata": {
    "collapsed": false
   }
  },
  {
   "cell_type": "code",
   "execution_count": 25,
   "outputs": [],
   "source": [
    "model.compile(loss='mse',\n",
    "              optimizer=tf.keras.optimizers.Adam(learning_rate=0.001),\n",
    "              metrics=['mae'])"
   ],
   "metadata": {
    "collapsed": false
   }
  },
  {
   "cell_type": "code",
   "execution_count": 26,
   "outputs": [],
   "source": [
    "norm_layer.adapt(data_train_qt)"
   ],
   "metadata": {
    "collapsed": false
   }
  },
  {
   "cell_type": "code",
   "execution_count": 27,
   "outputs": [
    {
     "name": "stdout",
     "output_type": "stream",
     "text": [
      "Epoch 1/50\n",
      "2394/2394 [==============================] - 7s 3ms/step - loss: 22.3434 - mae: 4.1966 - val_loss: 14.1423 - val_mae: 3.1827\n",
      "Epoch 2/50\n",
      "2394/2394 [==============================] - 7s 3ms/step - loss: 9.5151 - mae: 2.6135 - val_loss: 7.2848 - val_mae: 2.3094\n",
      "Epoch 3/50\n",
      "2394/2394 [==============================] - 6s 2ms/step - loss: 4.9067 - mae: 1.9080 - val_loss: 5.8595 - val_mae: 2.0295\n",
      "Epoch 4/50\n",
      "2394/2394 [==============================] - 6s 2ms/step - loss: 4.1575 - mae: 1.7213 - val_loss: 5.8071 - val_mae: 2.0100\n",
      "Epoch 5/50\n",
      "2394/2394 [==============================] - 6s 2ms/step - loss: 4.1372 - mae: 1.7070 - val_loss: 5.8084 - val_mae: 2.0090\n",
      "Epoch 6/50\n",
      "2394/2394 [==============================] - 6s 3ms/step - loss: 4.1374 - mae: 1.7073 - val_loss: 5.8191 - val_mae: 2.0115\n",
      "Epoch 7/50\n",
      "2394/2394 [==============================] - 7s 3ms/step - loss: 4.1369 - mae: 1.7069 - val_loss: 5.8542 - val_mae: 2.0155\n",
      "Epoch 8/50\n",
      "2394/2394 [==============================] - 7s 3ms/step - loss: 4.1371 - mae: 1.7072 - val_loss: 5.8109 - val_mae: 2.0107\n",
      "Epoch 9/50\n",
      "2394/2394 [==============================] - 6s 3ms/step - loss: 4.1371 - mae: 1.7071 - val_loss: 5.8999 - val_mae: 2.0198\n",
      "Epoch 10/50\n",
      "2394/2394 [==============================] - 6s 3ms/step - loss: 4.1373 - mae: 1.7072 - val_loss: 5.9323 - val_mae: 2.0225\n",
      "Epoch 11/50\n",
      "2394/2394 [==============================] - 7s 3ms/step - loss: 4.1365 - mae: 1.7069 - val_loss: 5.8039 - val_mae: 2.0089\n",
      "Epoch 12/50\n",
      "2394/2394 [==============================] - 7s 3ms/step - loss: 4.1368 - mae: 1.7074 - val_loss: 5.8429 - val_mae: 2.0142\n",
      "Epoch 13/50\n",
      "2394/2394 [==============================] - 6s 3ms/step - loss: 4.1376 - mae: 1.7071 - val_loss: 5.8405 - val_mae: 2.0105\n",
      "Epoch 14/50\n",
      "2394/2394 [==============================] - 7s 3ms/step - loss: 4.1368 - mae: 1.7071 - val_loss: 5.8337 - val_mae: 2.0145\n",
      "Epoch 15/50\n",
      "2394/2394 [==============================] - 7s 3ms/step - loss: 4.1372 - mae: 1.7073 - val_loss: 5.8483 - val_mae: 2.0114\n",
      "Epoch 16/50\n",
      "2394/2394 [==============================] - 6s 3ms/step - loss: 4.1372 - mae: 1.7073 - val_loss: 5.8714 - val_mae: 2.0201\n",
      "Epoch 17/50\n",
      "2394/2394 [==============================] - 7s 3ms/step - loss: 4.1369 - mae: 1.7070 - val_loss: 5.8979 - val_mae: 2.0234\n",
      "Epoch 18/50\n",
      "2394/2394 [==============================] - 7s 3ms/step - loss: 4.1374 - mae: 1.7070 - val_loss: 5.8598 - val_mae: 2.0124\n",
      "Epoch 19/50\n",
      "2394/2394 [==============================] - 7s 3ms/step - loss: 4.1367 - mae: 1.7069 - val_loss: 5.8445 - val_mae: 2.0118\n",
      "Epoch 20/50\n",
      "2394/2394 [==============================] - 6s 3ms/step - loss: 4.1375 - mae: 1.7072 - val_loss: 5.8300 - val_mae: 2.0143\n",
      "Epoch 21/50\n",
      "2394/2394 [==============================] - 7s 3ms/step - loss: 4.1369 - mae: 1.7073 - val_loss: 6.0248 - val_mae: 2.0378\n",
      "Epoch 22/50\n",
      "2394/2394 [==============================] - 7s 3ms/step - loss: 4.1369 - mae: 1.7068 - val_loss: 5.8481 - val_mae: 2.0165\n",
      "Epoch 23/50\n",
      "2394/2394 [==============================] - 7s 3ms/step - loss: 4.1372 - mae: 1.7072 - val_loss: 5.8650 - val_mae: 2.0149\n",
      "Epoch 24/50\n",
      "2394/2394 [==============================] - 8s 3ms/step - loss: 4.1370 - mae: 1.7073 - val_loss: 5.8742 - val_mae: 2.0141\n",
      "Epoch 25/50\n",
      "2394/2394 [==============================] - 7s 3ms/step - loss: 4.1373 - mae: 1.7072 - val_loss: 5.8941 - val_mae: 2.0177\n",
      "Epoch 26/50\n",
      "2394/2394 [==============================] - 6s 3ms/step - loss: 4.1367 - mae: 1.7068 - val_loss: 5.8415 - val_mae: 2.0112\n",
      "Epoch 27/50\n",
      "2394/2394 [==============================] - 6s 3ms/step - loss: 4.1374 - mae: 1.7073 - val_loss: 5.8406 - val_mae: 2.0122\n",
      "Epoch 28/50\n",
      "2394/2394 [==============================] - 7s 3ms/step - loss: 4.1368 - mae: 1.7071 - val_loss: 5.8653 - val_mae: 2.0171\n",
      "Epoch 29/50\n",
      "2394/2394 [==============================] - 8s 3ms/step - loss: 4.1371 - mae: 1.7071 - val_loss: 5.8266 - val_mae: 2.0094\n",
      "Epoch 30/50\n",
      "2394/2394 [==============================] - 7s 3ms/step - loss: 4.1376 - mae: 1.7073 - val_loss: 5.8070 - val_mae: 2.0090\n",
      "Epoch 31/50\n",
      "2394/2394 [==============================] - 7s 3ms/step - loss: 4.1367 - mae: 1.7070 - val_loss: 5.8538 - val_mae: 2.0172\n",
      "Epoch 32/50\n",
      "2394/2394 [==============================] - 6s 3ms/step - loss: 4.1370 - mae: 1.7070 - val_loss: 5.8705 - val_mae: 2.0205\n",
      "Epoch 33/50\n",
      "2394/2394 [==============================] - 6s 3ms/step - loss: 4.1367 - mae: 1.7071 - val_loss: 5.9035 - val_mae: 2.0186\n",
      "Epoch 34/50\n",
      "2394/2394 [==============================] - 7s 3ms/step - loss: 4.1366 - mae: 1.7068 - val_loss: 5.8419 - val_mae: 2.0122\n",
      "Epoch 35/50\n",
      "2394/2394 [==============================] - 7s 3ms/step - loss: 4.1370 - mae: 1.7073 - val_loss: 5.8243 - val_mae: 2.0107\n",
      "Epoch 36/50\n",
      "2394/2394 [==============================] - 6s 3ms/step - loss: 4.1371 - mae: 1.7072 - val_loss: 5.7999 - val_mae: 2.0083\n",
      "Epoch 37/50\n",
      "2394/2394 [==============================] - 7s 3ms/step - loss: 4.1369 - mae: 1.7069 - val_loss: 5.7893 - val_mae: 2.0085\n",
      "Epoch 38/50\n",
      "2394/2394 [==============================] - 7s 3ms/step - loss: 4.1372 - mae: 1.7072 - val_loss: 5.8333 - val_mae: 2.0138\n",
      "Epoch 39/50\n",
      "2394/2394 [==============================] - 6s 3ms/step - loss: 4.1372 - mae: 1.7070 - val_loss: 5.8537 - val_mae: 2.0126\n",
      "Epoch 40/50\n",
      "2394/2394 [==============================] - 7s 3ms/step - loss: 4.1370 - mae: 1.7073 - val_loss: 5.7950 - val_mae: 2.0076\n",
      "Epoch 41/50\n",
      "2394/2394 [==============================] - 6s 3ms/step - loss: 4.1370 - mae: 1.7070 - val_loss: 5.8740 - val_mae: 2.0187\n",
      "Epoch 42/50\n",
      "2394/2394 [==============================] - 7s 3ms/step - loss: 4.1368 - mae: 1.7070 - val_loss: 5.8392 - val_mae: 2.0108\n",
      "Epoch 43/50\n",
      "2394/2394 [==============================] - 7s 3ms/step - loss: 4.1371 - mae: 1.7073 - val_loss: 5.8670 - val_mae: 2.0162\n",
      "Epoch 44/50\n",
      "2394/2394 [==============================] - 7s 3ms/step - loss: 4.1371 - mae: 1.7069 - val_loss: 5.8908 - val_mae: 2.0202\n",
      "Epoch 45/50\n",
      "2394/2394 [==============================] - 6s 3ms/step - loss: 4.1373 - mae: 1.7071 - val_loss: 5.8781 - val_mae: 2.0212\n",
      "Epoch 46/50\n",
      "2394/2394 [==============================] - 8s 3ms/step - loss: 4.1372 - mae: 1.7073 - val_loss: 5.8561 - val_mae: 2.0157\n",
      "Epoch 47/50\n",
      "2394/2394 [==============================] - 11s 5ms/step - loss: 4.1374 - mae: 1.7071 - val_loss: 5.8616 - val_mae: 2.0167\n",
      "Epoch 48/50\n",
      "2394/2394 [==============================] - 11s 5ms/step - loss: 4.1371 - mae: 1.7072 - val_loss: 5.9271 - val_mae: 2.0224\n",
      "Epoch 49/50\n",
      "2394/2394 [==============================] - 7s 3ms/step - loss: 4.1370 - mae: 1.7069 - val_loss: 5.9006 - val_mae: 2.0232\n",
      "Epoch 50/50\n",
      "2394/2394 [==============================] - 7s 3ms/step - loss: 4.1370 - mae: 1.7071 - val_loss: 5.8522 - val_mae: 2.0125\n"
     ]
    },
    {
     "data": {
      "text/plain": "<keras.callbacks.History at 0x7fba022c3310>"
     },
     "execution_count": 27,
     "metadata": {},
     "output_type": "execute_result"
    }
   ],
   "source": [
    "n_epochs = 50\n",
    "\n",
    "model.fit(data_train_qt, labels_train, epochs=n_epochs, validation_data=(data_validation, labels_validation))"
   ],
   "metadata": {
    "collapsed": false
   }
  },
  {
   "cell_type": "code",
   "execution_count": 28,
   "outputs": [
    {
     "name": "stdout",
     "output_type": "stream",
     "text": [
      "895/895 [==============================] - 1s 2ms/step\n",
      "\n",
      "Values for validation set:\n",
      "MAE: 2.0102503262034563\n",
      "MSE: 5.787424790687911\n",
      "RMSE: 2.4057067133563708\n",
      "R2:  0.0008294163413137268\n"
     ]
    }
   ],
   "source": [
    "predictions = model.predict(data_validation_qt)\n",
    "\n",
    "mae, mse, r2 = get_score(labels_validation, predictions)\n",
    "print(f'''\\nValues for validation set:\\nMAE: {mae}\\nMSE: {mse}\\nRMSE: {mse**.5}\\nR2:  {r2}''')"
   ],
   "metadata": {
    "collapsed": false
   }
  },
  {
   "cell_type": "markdown",
   "source": [
    "Trying big model again"
   ],
   "metadata": {
    "collapsed": false
   }
  },
  {
   "cell_type": "code",
   "execution_count": 9,
   "outputs": [
    {
     "name": "stdout",
     "output_type": "stream",
     "text": [
      "Model: \"model\"\n",
      "_________________________________________________________________\n",
      " Layer (type)                Output Shape              Param #   \n",
      "=================================================================\n",
      " input_1 (InputLayer)        [(None, 13)]              0         \n",
      "                                                                 \n",
      " normalization (Normalizatio  (None, 13)               27        \n",
      " n)                                                              \n",
      "                                                                 \n",
      " dense (Dense)               (None, 64)                896       \n",
      "                                                                 \n",
      " dense_1 (Dense)             (None, 128)               8320      \n",
      "                                                                 \n",
      " dense_2 (Dense)             (None, 64)                8256      \n",
      "                                                                 \n",
      " dense_3 (Dense)             (None, 2)                 130       \n",
      "                                                                 \n",
      "=================================================================\n",
      "Total params: 17,629\n",
      "Trainable params: 17,602\n",
      "Non-trainable params: 27\n",
      "_________________________________________________________________\n"
     ]
    },
    {
     "name": "stderr",
     "output_type": "stream",
     "text": [
      "2022-11-20 19:01:50.495813: I tensorflow/core/platform/cpu_feature_guard.cc:193] This TensorFlow binary is optimized with oneAPI Deep Neural Network Library (oneDNN) to use the following CPU instructions in performance-critical operations:  AVX2 FMA\n",
      "To enable them in other operations, rebuild TensorFlow with the appropriate compiler flags.\n",
      "2022-11-20 19:01:51.313837: I tensorflow/core/common_runtime/gpu/gpu_device.cc:1532] Created device /job:localhost/replica:0/task:0/device:GPU:0 with 3368 MB memory:  -> device: 0, name: NVIDIA GeForce GTX 1050, pci bus id: 0000:01:00.0, compute capability: 6.1\n"
     ]
    }
   ],
   "source": [
    "tf.random.set_seed(123)\n",
    "\n",
    "norm_layer = tf.keras.layers.Normalization()\n",
    "\n",
    "input_ = tf.keras.layers.Input(shape=data_train_qt.shape[1:])\n",
    "normalized = norm_layer(input_)\n",
    "hidden1 = tf.keras.layers.Dense(64, activation='relu')(normalized)\n",
    "hidden2 = tf.keras.layers.Dense(128, activation='relu')(hidden1)\n",
    "hidden3 = tf.keras.layers.Dense(64, activation='relu')(hidden2)\n",
    "output = tf.keras.layers.Dense(2)(hidden3)\n",
    "\n",
    "model = tf.keras.Model(inputs=[input_], outputs=[output])\n",
    "\n",
    "model.summary()"
   ],
   "metadata": {
    "collapsed": false
   }
  },
  {
   "cell_type": "code",
   "execution_count": 10,
   "outputs": [],
   "source": [
    "model.compile(loss='mse',\n",
    "              optimizer=tf.keras.optimizers.Adam(learning_rate=0.001),\n",
    "              metrics=['mae'])\n",
    "norm_layer.adapt(data_train_qt)"
   ],
   "metadata": {
    "collapsed": false
   }
  },
  {
   "cell_type": "code",
   "execution_count": 11,
   "outputs": [
    {
     "name": "stdout",
     "output_type": "stream",
     "text": [
      "Epoch 1/25\n",
      "2394/2394 [==============================] - 10s 4ms/step - loss: 4.3712 - mae: 1.7388 - val_loss: 6.7053 - val_mae: 2.2076\n",
      "Epoch 2/25\n",
      "2394/2394 [==============================] - 8s 3ms/step - loss: 4.0464 - mae: 1.6801 - val_loss: 7.1344 - val_mae: 2.2978\n",
      "Epoch 3/25\n",
      "2394/2394 [==============================] - 7s 3ms/step - loss: 4.0061 - mae: 1.6700 - val_loss: 8.3944 - val_mae: 2.4962\n",
      "Epoch 4/25\n",
      "2394/2394 [==============================] - 8s 3ms/step - loss: 3.9851 - mae: 1.6642 - val_loss: 8.7805 - val_mae: 2.5423\n",
      "Epoch 5/25\n",
      "2394/2394 [==============================] - 7s 3ms/step - loss: 3.9670 - mae: 1.6596 - val_loss: 10.7882 - val_mae: 2.8243\n",
      "Epoch 6/25\n",
      "2394/2394 [==============================] - 7s 3ms/step - loss: 3.9514 - mae: 1.6553 - val_loss: 12.7395 - val_mae: 3.0759\n",
      "Epoch 7/25\n",
      "2394/2394 [==============================] - 7s 3ms/step - loss: 3.9368 - mae: 1.6525 - val_loss: 11.1440 - val_mae: 2.8839\n",
      "Epoch 8/25\n",
      "2394/2394 [==============================] - 8s 3ms/step - loss: 3.9214 - mae: 1.6482 - val_loss: 11.2125 - val_mae: 2.8896\n",
      "Epoch 9/25\n",
      "2394/2394 [==============================] - 7s 3ms/step - loss: 3.9098 - mae: 1.6452 - val_loss: 9.9606 - val_mae: 2.7264\n",
      "Epoch 10/25\n",
      "2394/2394 [==============================] - 7s 3ms/step - loss: 3.8935 - mae: 1.6412 - val_loss: 9.0745 - val_mae: 2.5818\n",
      "Epoch 11/25\n",
      "2394/2394 [==============================] - 7s 3ms/step - loss: 3.8800 - mae: 1.6369 - val_loss: 9.5115 - val_mae: 2.6602\n",
      "Epoch 12/25\n",
      "2394/2394 [==============================] - 8s 3ms/step - loss: 3.8659 - mae: 1.6334 - val_loss: 9.8292 - val_mae: 2.6711\n",
      "Epoch 13/25\n",
      "2394/2394 [==============================] - 7s 3ms/step - loss: 3.8577 - mae: 1.6310 - val_loss: 9.5037 - val_mae: 2.5631\n",
      "Epoch 14/25\n",
      "2394/2394 [==============================] - 8s 3ms/step - loss: 3.8455 - mae: 1.6287 - val_loss: 8.9969 - val_mae: 2.5258\n",
      "Epoch 15/25\n",
      "2394/2394 [==============================] - 7s 3ms/step - loss: 3.8409 - mae: 1.6261 - val_loss: 9.9645 - val_mae: 2.5853\n",
      "Epoch 16/25\n",
      "2394/2394 [==============================] - 7s 3ms/step - loss: 3.8269 - mae: 1.6236 - val_loss: 9.5041 - val_mae: 2.5376\n",
      "Epoch 17/25\n",
      "2394/2394 [==============================] - 7s 3ms/step - loss: 3.8210 - mae: 1.6212 - val_loss: 9.0300 - val_mae: 2.4973\n",
      "Epoch 18/25\n",
      "2394/2394 [==============================] - 8s 3ms/step - loss: 3.8147 - mae: 1.6189 - val_loss: 9.2921 - val_mae: 2.5164\n",
      "Epoch 19/25\n",
      "2394/2394 [==============================] - 7s 3ms/step - loss: 3.8041 - mae: 1.6162 - val_loss: 8.5800 - val_mae: 2.4520\n",
      "Epoch 20/25\n",
      "2394/2394 [==============================] - 7s 3ms/step - loss: 3.8002 - mae: 1.6147 - val_loss: 10.2904 - val_mae: 2.6888\n",
      "Epoch 21/25\n",
      "2394/2394 [==============================] - 7s 3ms/step - loss: 3.7892 - mae: 1.6112 - val_loss: 8.9009 - val_mae: 2.4609\n",
      "Epoch 22/25\n",
      "2394/2394 [==============================] - 8s 3ms/step - loss: 3.7880 - mae: 1.6115 - val_loss: 10.5811 - val_mae: 2.6302\n",
      "Epoch 23/25\n",
      "2394/2394 [==============================] - 7s 3ms/step - loss: 3.7826 - mae: 1.6094 - val_loss: 11.2088 - val_mae: 2.7141\n",
      "Epoch 24/25\n",
      "2394/2394 [==============================] - 7s 3ms/step - loss: 3.7767 - mae: 1.6084 - val_loss: 10.3244 - val_mae: 2.5960\n",
      "Epoch 25/25\n",
      "2394/2394 [==============================] - 7s 3ms/step - loss: 3.7722 - mae: 1.6071 - val_loss: 12.8017 - val_mae: 2.8391\n"
     ]
    },
    {
     "data": {
      "text/plain": "<keras.callbacks.History at 0x7fce980f2a70>"
     },
     "execution_count": 11,
     "metadata": {},
     "output_type": "execute_result"
    }
   ],
   "source": [
    "n_epochs = 25\n",
    "\n",
    "model.fit(data_train_qt, labels_train, epochs=n_epochs, validation_data=(data_validation, labels_validation))"
   ],
   "metadata": {
    "collapsed": false
   }
  },
  {
   "cell_type": "code",
   "execution_count": 12,
   "outputs": [
    {
     "name": "stdout",
     "output_type": "stream",
     "text": [
      "895/895 [==============================] - 1s 1ms/step\n",
      "\n",
      "Values for validation set:\n",
      "MAE: 1.9538390887126957\n",
      "MSE: 5.713185347909841\n",
      "RMSE: 2.3902270494473616\n",
      "R2:  0.025876856095209677\n"
     ]
    }
   ],
   "source": [
    "predictions = model.predict(data_validation_qt)\n",
    "\n",
    "mae, mse, r2 = get_score(labels_validation, predictions)\n",
    "print(f'''\\nValues for validation set:\\nMAE: {mae}\\nMSE: {mse}\\nRMSE: {mse**.5}\\nR2:  {r2}''')"
   ],
   "metadata": {
    "collapsed": false
   }
  },
  {
   "cell_type": "code",
   "execution_count": null,
   "outputs": [],
   "source": [],
   "metadata": {
    "collapsed": false,
    "pycharm": {
     "is_executing": true
    }
   }
  }
 ],
 "metadata": {
  "kernelspec": {
   "display_name": "Python 3",
   "language": "python",
   "name": "python3"
  },
  "language_info": {
   "codemirror_mode": {
    "name": "ipython",
    "version": 2
   },
   "file_extension": ".py",
   "mimetype": "text/x-python",
   "name": "python",
   "nbconvert_exporter": "python",
   "pygments_lexer": "ipython2",
   "version": "2.7.6"
  }
 },
 "nbformat": 4,
 "nbformat_minor": 0
}
